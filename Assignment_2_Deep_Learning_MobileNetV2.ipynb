{
  "nbformat": 4,
  "nbformat_minor": 0,
  "metadata": {
    "colab": {
      "provenance": []
    },
    "kernelspec": {
      "name": "python3",
      "display_name": "Python 3"
    },
    "language_info": {
      "name": "python"
    }
  },
  "cells": [
    {
      "cell_type": "code",
      "source": [
        "import torch\n",
        "print(torch.__version__)\n",
        "import torch.nn as nn\n",
        "import pandas as pd\n",
        "from collections import Counter\n",
        "import numpy as np\n",
        "import torchvision\n",
        "import torch.nn.functional as F\n",
        "\n",
        "## This module provides tools to transform images, such as resizing, cropping, flipping, converting to tensors, and normalizing\n",
        "import torchvision.transforms as transforms\n",
        "\n",
        "#This is a dataset class that loads images from a directory structure where each folder is treated as a separate class.\n",
        "#It automatically assigns labels based on subfolder names.\n",
        "import torchvision.datasets as datasets\n",
        "\n",
        "\n",
        "#This utility creates an iterable over the dataset, allowing for loading data in batches, shuffling, and parallel data loading with multiple workers.\n",
        "from torch.utils.data import DataLoader\n",
        "\n",
        "import torch.optim as optim\n",
        "from torch.optim.lr_scheduler import StepLR\n",
        "from PIL import Image\n",
        "import torchvision.models as models\n",
        "import copy\n",
        "import random\n",
        "\n",
        "# Import sklearn metrics for evaluation\n",
        "from sklearn.metrics import classification_report, confusion_matrix\n",
        "\n",
        "# Import visualization tools\n",
        "import matplotlib.pyplot as plt\n",
        "import seaborn as sns\n",
        "\n"
      ],
      "metadata": {
        "colab": {
          "base_uri": "https://localhost:8080/"
        },
        "id": "C7HvY1T2dARh",
        "outputId": "86fcfd71-a739-4eca-9b31-836307555ac9"
      },
      "execution_count": 8,
      "outputs": [
        {
          "output_type": "stream",
          "name": "stdout",
          "text": [
            "2.5.0+cu121\n"
          ]
        }
      ]
    },
    {
      "cell_type": "code",
      "source": [
        "!pip install optuna"
      ],
      "metadata": {
        "colab": {
          "base_uri": "https://localhost:8080/"
        },
        "id": "A-1FvPXvdAPC",
        "outputId": "92ad1eda-edba-42ac-b111-e123377cf7ca"
      },
      "execution_count": 9,
      "outputs": [
        {
          "output_type": "stream",
          "name": "stdout",
          "text": [
            "Collecting optuna\n",
            "  Downloading optuna-4.0.0-py3-none-any.whl.metadata (16 kB)\n",
            "Collecting alembic>=1.5.0 (from optuna)\n",
            "  Downloading alembic-1.14.0-py3-none-any.whl.metadata (7.4 kB)\n",
            "Collecting colorlog (from optuna)\n",
            "  Downloading colorlog-6.9.0-py3-none-any.whl.metadata (10 kB)\n",
            "Requirement already satisfied: numpy in /usr/local/lib/python3.10/dist-packages (from optuna) (1.26.4)\n",
            "Requirement already satisfied: packaging>=20.0 in /usr/local/lib/python3.10/dist-packages (from optuna) (24.1)\n",
            "Requirement already satisfied: sqlalchemy>=1.3.0 in /usr/local/lib/python3.10/dist-packages (from optuna) (2.0.36)\n",
            "Requirement already satisfied: tqdm in /usr/local/lib/python3.10/dist-packages (from optuna) (4.66.6)\n",
            "Requirement already satisfied: PyYAML in /usr/local/lib/python3.10/dist-packages (from optuna) (6.0.2)\n",
            "Collecting Mako (from alembic>=1.5.0->optuna)\n",
            "  Downloading Mako-1.3.6-py3-none-any.whl.metadata (2.9 kB)\n",
            "Requirement already satisfied: typing-extensions>=4 in /usr/local/lib/python3.10/dist-packages (from alembic>=1.5.0->optuna) (4.12.2)\n",
            "Requirement already satisfied: greenlet!=0.4.17 in /usr/local/lib/python3.10/dist-packages (from sqlalchemy>=1.3.0->optuna) (3.1.1)\n",
            "Requirement already satisfied: MarkupSafe>=0.9.2 in /usr/local/lib/python3.10/dist-packages (from Mako->alembic>=1.5.0->optuna) (3.0.2)\n",
            "Downloading optuna-4.0.0-py3-none-any.whl (362 kB)\n",
            "\u001b[2K   \u001b[90m━━━━━━━━━━━━━━━━━━━━━━━━━━━━━━━━━━━━━━━━\u001b[0m \u001b[32m362.8/362.8 kB\u001b[0m \u001b[31m25.6 MB/s\u001b[0m eta \u001b[36m0:00:00\u001b[0m\n",
            "\u001b[?25hDownloading alembic-1.14.0-py3-none-any.whl (233 kB)\n",
            "\u001b[2K   \u001b[90m━━━━━━━━━━━━━━━━━━━━━━━━━━━━━━━━━━━━━━━━\u001b[0m \u001b[32m233.5/233.5 kB\u001b[0m \u001b[31m24.1 MB/s\u001b[0m eta \u001b[36m0:00:00\u001b[0m\n",
            "\u001b[?25hDownloading colorlog-6.9.0-py3-none-any.whl (11 kB)\n",
            "Downloading Mako-1.3.6-py3-none-any.whl (78 kB)\n",
            "\u001b[2K   \u001b[90m━━━━━━━━━━━━━━━━━━━━━━━━━━━━━━━━━━━━━━━━\u001b[0m \u001b[32m78.6/78.6 kB\u001b[0m \u001b[31m9.4 MB/s\u001b[0m eta \u001b[36m0:00:00\u001b[0m\n",
            "\u001b[?25hInstalling collected packages: Mako, colorlog, alembic, optuna\n",
            "Successfully installed Mako-1.3.6 alembic-1.14.0 colorlog-6.9.0 optuna-4.0.0\n"
          ]
        }
      ]
    },
    {
      "cell_type": "code",
      "source": [
        "!pip install scikit-optimize skorch torch torchvision"
      ],
      "metadata": {
        "colab": {
          "base_uri": "https://localhost:8080/"
        },
        "id": "41Ss2OWXdAMl",
        "outputId": "bc30a8af-efdf-4f15-9e90-fcf0728f2bb4"
      },
      "execution_count": 10,
      "outputs": [
        {
          "output_type": "stream",
          "name": "stdout",
          "text": [
            "Collecting scikit-optimize\n",
            "  Downloading scikit_optimize-0.10.2-py2.py3-none-any.whl.metadata (9.7 kB)\n",
            "Collecting skorch\n",
            "  Downloading skorch-1.0.0-py3-none-any.whl.metadata (11 kB)\n",
            "Requirement already satisfied: torch in /usr/local/lib/python3.10/dist-packages (2.5.0+cu121)\n",
            "Requirement already satisfied: torchvision in /usr/local/lib/python3.10/dist-packages (0.20.0+cu121)\n",
            "Requirement already satisfied: joblib>=0.11 in /usr/local/lib/python3.10/dist-packages (from scikit-optimize) (1.4.2)\n",
            "Collecting pyaml>=16.9 (from scikit-optimize)\n",
            "  Downloading pyaml-24.9.0-py3-none-any.whl.metadata (11 kB)\n",
            "Requirement already satisfied: numpy>=1.20.3 in /usr/local/lib/python3.10/dist-packages (from scikit-optimize) (1.26.4)\n",
            "Requirement already satisfied: scipy>=1.1.0 in /usr/local/lib/python3.10/dist-packages (from scikit-optimize) (1.13.1)\n",
            "Requirement already satisfied: scikit-learn>=1.0.0 in /usr/local/lib/python3.10/dist-packages (from scikit-optimize) (1.5.2)\n",
            "Requirement already satisfied: packaging>=21.3 in /usr/local/lib/python3.10/dist-packages (from scikit-optimize) (24.1)\n",
            "Requirement already satisfied: tabulate>=0.7.7 in /usr/local/lib/python3.10/dist-packages (from skorch) (0.9.0)\n",
            "Requirement already satisfied: tqdm>=4.14.0 in /usr/local/lib/python3.10/dist-packages (from skorch) (4.66.6)\n",
            "Requirement already satisfied: filelock in /usr/local/lib/python3.10/dist-packages (from torch) (3.16.1)\n",
            "Requirement already satisfied: typing-extensions>=4.8.0 in /usr/local/lib/python3.10/dist-packages (from torch) (4.12.2)\n",
            "Requirement already satisfied: networkx in /usr/local/lib/python3.10/dist-packages (from torch) (3.4.2)\n",
            "Requirement already satisfied: jinja2 in /usr/local/lib/python3.10/dist-packages (from torch) (3.1.4)\n",
            "Requirement already satisfied: fsspec in /usr/local/lib/python3.10/dist-packages (from torch) (2024.10.0)\n",
            "Requirement already satisfied: sympy==1.13.1 in /usr/local/lib/python3.10/dist-packages (from torch) (1.13.1)\n",
            "Requirement already satisfied: mpmath<1.4,>=1.1.0 in /usr/local/lib/python3.10/dist-packages (from sympy==1.13.1->torch) (1.3.0)\n",
            "Requirement already satisfied: pillow!=8.3.*,>=5.3.0 in /usr/local/lib/python3.10/dist-packages (from torchvision) (10.4.0)\n",
            "Requirement already satisfied: PyYAML in /usr/local/lib/python3.10/dist-packages (from pyaml>=16.9->scikit-optimize) (6.0.2)\n",
            "Requirement already satisfied: threadpoolctl>=3.1.0 in /usr/local/lib/python3.10/dist-packages (from scikit-learn>=1.0.0->scikit-optimize) (3.5.0)\n",
            "Requirement already satisfied: MarkupSafe>=2.0 in /usr/local/lib/python3.10/dist-packages (from jinja2->torch) (3.0.2)\n",
            "Downloading scikit_optimize-0.10.2-py2.py3-none-any.whl (107 kB)\n",
            "\u001b[2K   \u001b[90m━━━━━━━━━━━━━━━━━━━━━━━━━━━━━━━━━━━━━━━━\u001b[0m \u001b[32m107.8/107.8 kB\u001b[0m \u001b[31m11.7 MB/s\u001b[0m eta \u001b[36m0:00:00\u001b[0m\n",
            "\u001b[?25hDownloading skorch-1.0.0-py3-none-any.whl (239 kB)\n",
            "\u001b[2K   \u001b[90m━━━━━━━━━━━━━━━━━━━━━━━━━━━━━━━━━━━━━━━━\u001b[0m \u001b[32m239.4/239.4 kB\u001b[0m \u001b[31m15.9 MB/s\u001b[0m eta \u001b[36m0:00:00\u001b[0m\n",
            "\u001b[?25hDownloading pyaml-24.9.0-py3-none-any.whl (24 kB)\n",
            "Installing collected packages: pyaml, skorch, scikit-optimize\n",
            "Successfully installed pyaml-24.9.0 scikit-optimize-0.10.2 skorch-1.0.0\n"
          ]
        }
      ]
    },
    {
      "cell_type": "code",
      "source": [
        "from torch.utils.data import DataLoader, random_split\n",
        "# Set a fixed random seed for reproducibility\n",
        "seed = 42\n",
        "torch.manual_seed(seed)\n",
        "np.random.seed(seed)\n",
        "\n",
        "# Additional settings for GPU reproducibility\n",
        "#torch.cuda.manual_seed(seed)\n",
        "#torch.cuda.manual_seed_all(seed)            # If using multiple GPUs\n",
        "#torch.backends.cudnn.deterministic = True   # Ensures deterministic behavior for some GPU operations\n",
        "#torch.backends.cudnn.benchmark = False      # Disables auto-tuning for determinism"
      ],
      "metadata": {
        "id": "WVdOaLGRdAKI"
      },
      "execution_count": 11,
      "outputs": []
    },
    {
      "cell_type": "code",
      "source": [
        "# Define Cutout transformation\n",
        "class Cutout:\n",
        "    def __init__(self, n_holes, length):\n",
        "        self.n_holes = n_holes\n",
        "        self.length = length\n",
        "\n",
        "    def __call__(self, img):\n",
        "        h, w = img.size(1), img.size(2)\n",
        "        mask = np.ones((h, w), np.float32)\n",
        "\n",
        "        for _ in range(self.n_holes):\n",
        "            y = np.random.randint(h)\n",
        "            x = np.random.randint(w)\n",
        "\n",
        "            y1 = np.clip(y - self.length // 2, 0, h)\n",
        "            y2 = np.clip(y + self.length // 2, 0, h)\n",
        "            x1 = np.clip(x - self.length // 2, 0, w)\n",
        "            x2 = np.clip(x + self.length // 2, 0, w)\n",
        "\n",
        "            mask[y1: y2, x1: x2] = 0.0\n",
        "\n",
        "        mask = torch.from_numpy(mask)\n",
        "        mask = mask.expand_as(img)\n",
        "        img *= mask\n",
        "        return img\n",
        "\n",
        "# Define transformations for training, validation, and testing data\n",
        "transform_train = transforms.Compose([\n",
        "    transforms.RandomCrop(32, padding=4),          # Random cropping with padding\n",
        "    transforms.RandomHorizontalFlip(),             # Random horizontal flip\n",
        "    transforms.ColorJitter(brightness=0.2, contrast=0.2, saturation=0.2, hue=0.1), # Color Jitter\n",
        "    transforms.ToTensor(),\n",
        "    transforms.Normalize((0.4914, 0.4822, 0.4465), (0.247, 0.243, 0.261)), # Normalize with CIFAR-10 stats\n",
        "    Cutout(n_holes=1, length=8)                    # Cutout\n",
        "])\n",
        "\n",
        "transform_test = transforms.Compose([\n",
        "    transforms.ToTensor(),\n",
        "    transforms.Normalize((0.4914, 0.4822, 0.4465), (0.247, 0.243, 0.261))\n",
        "])\n",
        "\n",
        "# Load CIFAR-10 dataset\n",
        "trainset_full = datasets.CIFAR10(root='./data', train=True, download=True, transform=transform_train)\n",
        "testset = datasets.CIFAR10(root='./data', train=False, download=True, transform=transform_test)\n",
        "\n",
        "# Split the training set into training and validation sets\n",
        "train_size = int(0.8 * len(trainset_full))\n",
        "val_size = len(trainset_full) - train_size\n",
        "trainset, valset = random_split(trainset_full, [train_size, val_size])\n",
        "\n",
        "\n",
        "\n",
        "# Create DataLoaders for training, validation, and testing\n",
        "train_loader = DataLoader(trainset, batch_size=128, shuffle=True, num_workers=4)\n",
        "val_loader = DataLoader(valset, batch_size=128, shuffle=False, num_workers=4)\n",
        "test_loader = DataLoader(testset, batch_size=128, shuffle=False, num_workers=4)\n",
        "\n",
        "\n",
        "print(f\"Number of training samples: {len(trainset)}\")\n",
        "print(f\"Number of validation samples: {len(valset)}\")\n",
        "print(f\"Number of test samples: {len(testset)}\")"
      ],
      "metadata": {
        "colab": {
          "base_uri": "https://localhost:8080/"
        },
        "id": "K-65VofidAHU",
        "outputId": "75b43524-b1da-4dfe-f387-27c7d45d7307"
      },
      "execution_count": 12,
      "outputs": [
        {
          "output_type": "stream",
          "name": "stdout",
          "text": [
            "Downloading https://www.cs.toronto.edu/~kriz/cifar-10-python.tar.gz to ./data/cifar-10-python.tar.gz\n"
          ]
        },
        {
          "output_type": "stream",
          "name": "stderr",
          "text": [
            "100%|██████████| 170M/170M [00:13<00:00, 12.9MB/s]\n"
          ]
        },
        {
          "output_type": "stream",
          "name": "stdout",
          "text": [
            "Extracting ./data/cifar-10-python.tar.gz to ./data\n",
            "Files already downloaded and verified\n",
            "Number of training samples: 40000\n",
            "Number of validation samples: 10000\n",
            "Number of test samples: 10000\n"
          ]
        }
      ]
    },
    {
      "cell_type": "code",
      "execution_count": 19,
      "metadata": {
        "id": "rAeEfsy7a-np"
      },
      "outputs": [],
      "source": [
        "# Define MobileNetV2 with configurable dropout\n",
        "class MobileNetV2WithDropout(nn.Module):\n",
        "    def __init__(self, dropout_prob=0.2):\n",
        "        super(MobileNetV2WithDropout, self).__init__()\n",
        "        self.model = mobilenet_v2(pretrained=False)\n",
        "        self.model.classifier[1] = nn.Linear(self.model.last_channel, 10)\n",
        "        self.dropout = nn.Dropout(p=dropout_prob)\n",
        "\n",
        "    def forward(self, x):\n",
        "        x = self.model.features(x)\n",
        "        x = x.mean([2, 3])  # Global average pooling\n",
        "        x = self.dropout(x)\n",
        "        x = self.model.classifier(x)\n",
        "        return x\n",
        "\n",
        "# Training function\n",
        "def train_one_epoch(model, train_loader, criterion, optimizer):\n",
        "    model.train()\n",
        "    running_loss = 0.0\n",
        "    correct = 0\n",
        "    total = 0\n",
        "\n",
        "    for inputs, labels in train_loader:\n",
        "        inputs, labels = inputs.to(device), labels.to(device)\n",
        "\n",
        "        optimizer.zero_grad()\n",
        "        outputs = model(inputs)\n",
        "        loss = criterion(outputs, labels)\n",
        "        loss.backward()\n",
        "        optimizer.step()\n",
        "\n",
        "        running_loss += loss.item() * inputs.size(0)\n",
        "        _, predicted = outputs.max(1)\n",
        "        total += labels.size(0)\n",
        "        correct += predicted.eq(labels).sum().item()\n",
        "\n",
        "    epoch_loss = running_loss / total\n",
        "    epoch_acc = 100. * correct / total\n",
        "    return epoch_loss, epoch_acc\n",
        "\n",
        "# Validation function\n",
        "def validate(model, val_loader, criterion):\n",
        "    model.eval()\n",
        "    running_loss = 0.0\n",
        "    correct = 0\n",
        "    total = 0\n",
        "\n",
        "    with torch.no_grad():\n",
        "        for inputs, labels in val_loader:\n",
        "            inputs, labels = inputs.to(device), labels.to(device)\n",
        "            outputs = model(inputs)\n",
        "            loss = criterion(outputs, labels)\n",
        "\n",
        "            running_loss += loss.item() * inputs.size(0)\n",
        "            _, predicted = outputs.max(1)\n",
        "            total += labels.size(0)\n",
        "            correct += predicted.eq(labels).sum().item()\n",
        "\n",
        "    epoch_loss = running_loss / total\n",
        "    epoch_acc = 100. * correct / total\n",
        "    return epoch_loss, epoch_acc\n",
        "\n",
        "# Testing function\n",
        "def test_model(model, test_loader, criterion):\n",
        "    model.eval()\n",
        "    running_loss = 0.0\n",
        "    correct = 0\n",
        "    total = 0\n",
        "    all_preds = []\n",
        "    all_labels = []\n",
        "\n",
        "    with torch.no_grad():\n",
        "        for inputs, labels in test_loader:\n",
        "            inputs, labels = inputs.to(device), labels.to(device)\n",
        "            outputs = model(inputs)\n",
        "            loss = criterion(outputs, labels)\n",
        "\n",
        "            running_loss += loss.item() * inputs.size(0)\n",
        "            _, predicted = outputs.max(1)\n",
        "            total += labels.size(0)\n",
        "            correct += predicted.eq(labels).sum().item()\n",
        "\n",
        "            all_preds.extend(predicted.cpu().numpy())\n",
        "            all_labels.extend(labels.cpu().numpy())\n",
        "\n",
        "    test_loss = running_loss / total\n",
        "    test_acc = 100. * correct / total\n",
        "    return test_loss, test_acc, all_preds, all_labels\n"
      ]
    },
    {
      "cell_type": "code",
      "source": [
        "# Initialize model with default dropout probability for initial training\n",
        "initial_dropout_prob = 0.2\n",
        "model = MobileNetV2WithDropout(dropout_prob=initial_dropout_prob).to(device)\n",
        "criterion = nn.CrossEntropyLoss(label_smoothing=0.1)\n",
        "optimizer = optim.SGD(model.parameters(), lr=0.01, momentum=0.9, weight_decay=5e-4)\n",
        "scheduler = StepLR(optimizer, step_size=30, gamma=0.1)\n",
        "\n",
        "# Initial Training with default batch size\n",
        "initial_epochs = 10\n",
        "for epoch in range(initial_epochs):\n",
        "    train_loss, train_acc = train_one_epoch(model, train_loader, criterion, optimizer)\n",
        "    val_loss, val_acc = validate(model, val_loader, criterion)\n",
        "    scheduler.step()\n",
        "    print(f\"Initial Epoch [{epoch+1}/{initial_epochs}], Train Loss: {train_loss:.4f}, Train Acc: {train_acc:.2f}%, \"\n",
        "          f\"Val Loss: {val_loss:.4f}, Val Acc: {val_acc:.2f}%\")\n",
        "\n",
        "# Evaluate the model on the test set with default settings\n",
        "test_loss, test_acc, all_preds, all_labels = test_model(model, test_loader, criterion)\n",
        "print(f\"Initial Test Loss: {test_loss:.4f}, Test Accuracy: {test_acc:.2f}%\")\n"
      ],
      "metadata": {
        "colab": {
          "base_uri": "https://localhost:8080/"
        },
        "id": "CFPgvim7bbQI",
        "outputId": "c02d18fc-bc18-4e7e-f7a4-e9337baa2082"
      },
      "execution_count": 20,
      "outputs": [
        {
          "output_type": "stream",
          "name": "stdout",
          "text": [
            "Initial Epoch [1/10], Train Loss: 2.2282, Train Acc: 19.96%, Val Loss: 2.0404, Val Acc: 26.03%\n",
            "Initial Epoch [2/10], Train Loss: 2.0217, Train Acc: 29.04%, Val Loss: 1.9752, Val Acc: 32.15%\n",
            "Initial Epoch [3/10], Train Loss: 1.9064, Train Acc: 34.47%, Val Loss: 1.8255, Val Acc: 37.71%\n",
            "Initial Epoch [4/10], Train Loss: 1.8260, Train Acc: 38.16%, Val Loss: 1.7477, Val Acc: 41.84%\n",
            "Initial Epoch [5/10], Train Loss: 1.7670, Train Acc: 41.41%, Val Loss: 1.7267, Val Acc: 42.66%\n",
            "Initial Epoch [6/10], Train Loss: 1.7091, Train Acc: 43.74%, Val Loss: 1.6560, Val Acc: 45.74%\n",
            "Initial Epoch [7/10], Train Loss: 1.6725, Train Acc: 45.84%, Val Loss: 1.6496, Val Acc: 46.53%\n",
            "Initial Epoch [8/10], Train Loss: 1.6308, Train Acc: 48.27%, Val Loss: 1.5849, Val Acc: 49.88%\n",
            "Initial Epoch [9/10], Train Loss: 1.5960, Train Acc: 49.62%, Val Loss: 1.5625, Val Acc: 51.31%\n",
            "Initial Epoch [10/10], Train Loss: 1.5623, Train Acc: 51.48%, Val Loss: 1.5457, Val Acc: 51.96%\n",
            "Initial Test Loss: 1.4606, Test Accuracy: 55.52%\n"
          ]
        }
      ]
    },
    {
      "cell_type": "code",
      "source": [
        "# Define hyperparameters to tune\n",
        "learning_rates = [0.1, 0.01, 0.001]\n",
        "batch_sizes = [64, 128]\n",
        "weight_decays = [1e-4, 5e-4]\n",
        "dropouts = [0.2, 0.3]\n",
        "num_epochs = 20\n",
        "results = []\n",
        "best_val_accuracy = 0\n",
        "\n",
        "# Iterate over each combination of hyperparameters\n",
        "for lr in learning_rates:\n",
        "    for batch_size in batch_sizes:\n",
        "        for weight_decay in weight_decays:\n",
        "            for dropout_prob in dropouts:\n",
        "                # Initialize model, criterion, optimizer, and scheduler\n",
        "                model = MobileNetV2WithDropout(dropout_prob=dropout_prob).to(device)\n",
        "                criterion = nn.CrossEntropyLoss(label_smoothing=0.1)\n",
        "                optimizer = optim.SGD(model.parameters(), lr=lr, momentum=0.9, weight_decay=weight_decay)\n",
        "                scheduler = StepLR(optimizer, step_size=30, gamma=0.1)\n",
        "\n",
        "                # Data loaders with current batch size\n",
        "                train_loader = DataLoader(trainset, batch_size=batch_size, shuffle=True, num_workers=4)\n",
        "                val_loader = DataLoader(valset, batch_size=batch_size, shuffle=False, num_workers=4)\n",
        "\n",
        "                for epoch in range(num_epochs):\n",
        "                    train_loss, train_acc = train_one_epoch(model, train_loader, criterion, optimizer)\n",
        "                    val_loss, val_acc = validate(model, val_loader, criterion)\n",
        "                    scheduler.step()\n",
        "\n",
        "                    # Update best validation accuracy and hyperparameters\n",
        "                    if val_acc > best_val_accuracy:\n",
        "                        best_val_accuracy = val_acc\n",
        "                        best_model = copy.deepcopy(model.state_dict())\n",
        "                        best_hyperparams = {\n",
        "                            'learning_rate': lr,\n",
        "                            'batch_size': batch_size,\n",
        "                            'weight_decay': weight_decay,\n",
        "                            'dropout_prob': dropout_prob,\n",
        "                        }\n",
        "\n",
        "                # Record results\n",
        "                results.append({\n",
        "                    'learning_rate': lr,\n",
        "                    'batch_size': batch_size,\n",
        "                    'weight_decay': weight_decay,\n",
        "                    'dropout_prob': dropout_prob,\n",
        "                    'val_accuracy': val_acc,\n",
        "                })\n",
        "                print(f\"LR: {lr}, Batch: {batch_size}, WD: {weight_decay}, Dropout: {dropout_prob}, Val Acc: {val_acc:.2f}%\")\n",
        "\n",
        "# Print best hyperparameters\n",
        "print(\"Best Hyperparameters:\")\n",
        "print(best_hyperparams)\n",
        "print(f\"Best Validation Accuracy: {best_val_accuracy:.2f}%\")\n"
      ],
      "metadata": {
        "colab": {
          "base_uri": "https://localhost:8080/"
        },
        "id": "VvK26g25bire",
        "outputId": "5d0ee506-4fc4-4aa5-d6b7-01f3f248d9a1"
      },
      "execution_count": 21,
      "outputs": [
        {
          "output_type": "stream",
          "name": "stdout",
          "text": [
            "LR: 0.1, Batch: 64, WD: 0.0001, Dropout: 0.2, Val Acc: 49.59%\n",
            "LR: 0.1, Batch: 64, WD: 0.0001, Dropout: 0.3, Val Acc: 35.78%\n",
            "LR: 0.1, Batch: 64, WD: 0.0005, Dropout: 0.2, Val Acc: 44.79%\n",
            "LR: 0.1, Batch: 64, WD: 0.0005, Dropout: 0.3, Val Acc: 41.50%\n",
            "LR: 0.1, Batch: 128, WD: 0.0001, Dropout: 0.2, Val Acc: 44.72%\n",
            "LR: 0.1, Batch: 128, WD: 0.0001, Dropout: 0.3, Val Acc: 34.35%\n",
            "LR: 0.1, Batch: 128, WD: 0.0005, Dropout: 0.2, Val Acc: 43.73%\n",
            "LR: 0.1, Batch: 128, WD: 0.0005, Dropout: 0.3, Val Acc: 50.69%\n",
            "LR: 0.01, Batch: 64, WD: 0.0001, Dropout: 0.2, Val Acc: 54.77%\n",
            "LR: 0.01, Batch: 64, WD: 0.0001, Dropout: 0.3, Val Acc: 49.00%\n",
            "LR: 0.01, Batch: 64, WD: 0.0005, Dropout: 0.2, Val Acc: 62.93%\n",
            "LR: 0.01, Batch: 64, WD: 0.0005, Dropout: 0.3, Val Acc: 47.61%\n",
            "LR: 0.01, Batch: 128, WD: 0.0001, Dropout: 0.2, Val Acc: 58.84%\n",
            "LR: 0.01, Batch: 128, WD: 0.0001, Dropout: 0.3, Val Acc: 58.05%\n",
            "LR: 0.01, Batch: 128, WD: 0.0005, Dropout: 0.2, Val Acc: 61.43%\n",
            "LR: 0.01, Batch: 128, WD: 0.0005, Dropout: 0.3, Val Acc: 59.33%\n",
            "LR: 0.001, Batch: 64, WD: 0.0001, Dropout: 0.2, Val Acc: 51.01%\n",
            "LR: 0.001, Batch: 64, WD: 0.0001, Dropout: 0.3, Val Acc: 51.30%\n",
            "LR: 0.001, Batch: 64, WD: 0.0005, Dropout: 0.2, Val Acc: 49.20%\n",
            "LR: 0.001, Batch: 64, WD: 0.0005, Dropout: 0.3, Val Acc: 51.51%\n",
            "LR: 0.001, Batch: 128, WD: 0.0001, Dropout: 0.2, Val Acc: 48.56%\n",
            "LR: 0.001, Batch: 128, WD: 0.0001, Dropout: 0.3, Val Acc: 48.97%\n",
            "LR: 0.001, Batch: 128, WD: 0.0005, Dropout: 0.2, Val Acc: 47.49%\n",
            "LR: 0.001, Batch: 128, WD: 0.0005, Dropout: 0.3, Val Acc: 46.68%\n",
            "Best Hyperparameters:\n",
            "{'learning_rate': 0.01, 'batch_size': 64, 'weight_decay': 0.0005, 'dropout_prob': 0.2}\n",
            "Best Validation Accuracy: 63.94%\n"
          ]
        }
      ]
    },
    {
      "cell_type": "code",
      "source": [
        "# Load the best model with optimized hyperparameters\n",
        "model.load_state_dict(best_model)\n",
        "\n",
        "# Prepare test loader with best batch size\n",
        "test_loader = DataLoader(testset, batch_size=best_hyperparams['batch_size'], shuffle=False, num_workers=4)\n",
        "\n",
        "# Evaluate the model on the test set\n",
        "test_loss, test_acc, all_preds, all_labels = test_model(model, test_loader, criterion)\n",
        "print(f\"Test Loss with Optimized Hyperparameters: {test_loss:.4f}, Test Accuracy: {test_acc:.2f}%\")\n",
        "\n",
        "# Classification report and confusion matrix\n",
        "print(\"Classification Report (Optimized):\")\n",
        "print(classification_report(all_labels, all_preds, target_names=testset.classes))\n",
        "\n",
        "print(\"Confusion Matrix (Optimized):\")\n",
        "cm = confusion_matrix(all_labels, all_preds)\n",
        "plt.figure(figsize=(10, 8))\n",
        "sns.heatmap(cm, annot=True, fmt='d', cmap='Blues', xticklabels=testset.classes, yticklabels=testset.classes)\n",
        "plt.xlabel('Predicted')\n",
        "plt.ylabel('True')\n",
        "plt.show()\n"
      ],
      "metadata": {
        "colab": {
          "base_uri": "https://localhost:8080/",
          "height": 1000
        },
        "id": "-wMkE8mTb3Do",
        "outputId": "8f01975d-e123-413c-9091-5c45f66a0d1c"
      },
      "execution_count": 22,
      "outputs": [
        {
          "output_type": "stream",
          "name": "stdout",
          "text": [
            "Test Loss with Optimized Hyperparameters: 1.2265, Test Accuracy: 67.04%\n",
            "Classification Report (Optimized):\n",
            "              precision    recall  f1-score   support\n",
            "\n",
            "    airplane       0.66      0.74      0.70      1000\n",
            "  automobile       0.80      0.86      0.83      1000\n",
            "        bird       0.51      0.60      0.55      1000\n",
            "         cat       0.48      0.45      0.46      1000\n",
            "        deer       0.68      0.50      0.57      1000\n",
            "         dog       0.59      0.54      0.57      1000\n",
            "        frog       0.68      0.79      0.73      1000\n",
            "       horse       0.72      0.73      0.72      1000\n",
            "        ship       0.84      0.75      0.79      1000\n",
            "       truck       0.77      0.75      0.76      1000\n",
            "\n",
            "    accuracy                           0.67     10000\n",
            "   macro avg       0.67      0.67      0.67     10000\n",
            "weighted avg       0.67      0.67      0.67     10000\n",
            "\n",
            "Confusion Matrix (Optimized):\n"
          ]
        },
        {
          "output_type": "display_data",
          "data": {
            "text/plain": [
              "<Figure size 1000x800 with 2 Axes>"
            ],
            "image/png": "[encoded data removed]"
          },
          "metadata": {}
        }
      ]
    }
  ]
}