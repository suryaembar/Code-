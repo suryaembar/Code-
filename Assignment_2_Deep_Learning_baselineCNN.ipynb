{
  "nbformat": 4,
  "nbformat_minor": 0,
  "metadata": {
    "colab": {
      "provenance": []
    },
    "kernelspec": {
      "name": "python3",
      "display_name": "Python 3"
    },
    "language_info": {
      "name": "python"
    }
  },
  "cells": [
    {
      "cell_type": "markdown",
      "source": [
        "**Imports**"
      ],
      "metadata": {
        "id": "xRWkssrBMo-B"
      }
    },
    {
      "cell_type": "code",
      "execution_count": 3,
      "metadata": {
        "colab": {
          "base_uri": "https://localhost:8080/"
        },
        "id": "CmOCjTiNMeKD",
        "outputId": "7c0ea2c6-e678-44f8-dbc4-842ee0966173"
      },
      "outputs": [
        {
          "output_type": "stream",
          "name": "stdout",
          "text": [
            "2.5.0+cu121\n"
          ]
        }
      ],
      "source": [
        "import torch\n",
        "print(torch.__version__)\n",
        "import torch.nn as nn\n",
        "import pandas as pd\n",
        "from collections import Counter\n",
        "import numpy as np\n",
        "import torchvision\n",
        "import torch.nn.functional as F\n",
        "\n",
        "## This module provides tools to transform images, such as resizing, cropping, flipping, converting to tensors, and normalizing\n",
        "import torchvision.transforms as transforms\n",
        "\n",
        "#This is a dataset class that loads images from a directory structure where each folder is treated as a separate class.\n",
        "#It automatically assigns labels based on subfolder names.\n",
        "import torchvision.datasets as datasets\n",
        "\n",
        "\n",
        "#This utility creates an iterable over the dataset, allowing for loading data in batches, shuffling, and parallel data loading with multiple workers.\n",
        "from torch.utils.data import DataLoader\n",
        "\n",
        "import torch.optim as optim\n",
        "from torch.optim.lr_scheduler import StepLR\n",
        "from PIL import Image\n",
        "import torchvision.models as models\n",
        "import copy\n",
        "import random\n",
        "\n",
        "# Import sklearn metrics for evaluation\n",
        "from sklearn.metrics import classification_report, confusion_matrix\n",
        "\n",
        "# Import visualization tools\n",
        "import matplotlib.pyplot as plt\n",
        "import seaborn as sns\n",
        "\n"
      ]
    },
    {
      "cell_type": "code",
      "source": [
        "from torch.utils.data import DataLoader, random_split\n",
        "# Set a fixed random seed for reproducibility\n",
        "seed = 42\n",
        "torch.manual_seed(seed)\n",
        "np.random.seed(seed)\n",
        "\n",
        "# Additional settings for GPU reproducibility\n",
        "torch.cuda.manual_seed(seed)\n",
        "torch.cuda.manual_seed_all(seed)            # If using multiple GPUs\n",
        "torch.backends.cudnn.deterministic = True   # Ensures deterministic behavior for some GPU operations\n",
        "torch.backends.cudnn.benchmark = False      # Disables auto-tuning for determinism"
      ],
      "metadata": {
        "id": "DpU3shroRm5v"
      },
      "execution_count": 4,
      "outputs": []
    },
    {
      "cell_type": "markdown",
      "source": [
        "**Data Preprocessing and Load CIFAR-10 Dataset**"
      ],
      "metadata": {
        "id": "9lLBntpLRvD0"
      }
    },
    {
      "cell_type": "code",
      "source": [
        "# Define Cutout transformation\n",
        "class Cutout:\n",
        "    def __init__(self, n_holes, length):\n",
        "        self.n_holes = n_holes\n",
        "        self.length = length\n",
        "\n",
        "    def __call__(self, img):\n",
        "        h, w = img.size(1), img.size(2)\n",
        "        mask = np.ones((h, w), np.float32)\n",
        "\n",
        "        for _ in range(self.n_holes):\n",
        "            y = np.random.randint(h)\n",
        "            x = np.random.randint(w)\n",
        "\n",
        "            y1 = np.clip(y - self.length // 2, 0, h)\n",
        "            y2 = np.clip(y + self.length // 2, 0, h)\n",
        "            x1 = np.clip(x - self.length // 2, 0, w)\n",
        "            x2 = np.clip(x + self.length // 2, 0, w)\n",
        "\n",
        "            mask[y1: y2, x1: x2] = 0.0\n",
        "\n",
        "        mask = torch.from_numpy(mask)\n",
        "        mask = mask.expand_as(img)\n",
        "        img *= mask\n",
        "        return img\n",
        "\n",
        "# Define transformations for training, validation, and testing data\n",
        "transform_train = transforms.Compose([\n",
        "    transforms.RandomCrop(32, padding=4),          # Random cropping with padding\n",
        "    transforms.RandomHorizontalFlip(),             # Random horizontal flip\n",
        "    transforms.ColorJitter(brightness=0.2, contrast=0.2, saturation=0.2, hue=0.1), # Color Jitter\n",
        "    transforms.ToTensor(),\n",
        "    transforms.Normalize((0.4914, 0.4822, 0.4465), (0.247, 0.243, 0.261)), # Normalize with CIFAR-10 stats\n",
        "    Cutout(n_holes=1, length=8)                    # Cutout\n",
        "])\n",
        "\n",
        "transform_test = transforms.Compose([\n",
        "    transforms.ToTensor(),\n",
        "    transforms.Normalize((0.4914, 0.4822, 0.4465), (0.247, 0.243, 0.261))\n",
        "])\n",
        "\n",
        "# Load CIFAR-10 dataset\n",
        "trainset_full = datasets.CIFAR10(root='./data', train=True, download=True, transform=transform_train)\n",
        "testset = datasets.CIFAR10(root='./data', train=False, download=True, transform=transform_test)\n",
        "\n",
        "# Split the training set into training and validation sets\n",
        "train_size = int(0.8 * len(trainset_full))\n",
        "val_size = len(trainset_full) - train_size\n",
        "trainset, valset = random_split(trainset_full, [train_size, val_size])\n",
        "\n",
        "\n",
        "\n",
        "# Create DataLoaders for training, validation, and testing\n",
        "train_loader = DataLoader(trainset, batch_size=128, shuffle=True, num_workers=4)\n",
        "val_loader = DataLoader(valset, batch_size=128, shuffle=False, num_workers=4)\n",
        "test_loader = DataLoader(testset, batch_size=128, shuffle=False, num_workers=4)\n",
        "\n",
        "\n",
        "print(f\"Number of training samples: {len(trainset)}\")\n",
        "print(f\"Number of validation samples: {len(valset)}\")\n",
        "print(f\"Number of test samples: {len(testset)}\")"
      ],
      "metadata": {
        "colab": {
          "base_uri": "https://localhost:8080/"
        },
        "id": "1nYDcO7CRyKA",
        "outputId": "bf5c35a1-c355-4544-c616-78f81bf08cc1"
      },
      "execution_count": 5,
      "outputs": [
        {
          "output_type": "stream",
          "name": "stdout",
          "text": [
            "Downloading https://www.cs.toronto.edu/~kriz/cifar-10-python.tar.gz to ./data/cifar-10-python.tar.gz\n"
          ]
        },
        {
          "output_type": "stream",
          "name": "stderr",
          "text": [
            "100%|██████████| 170M/170M [00:13<00:00, 12.5MB/s]\n"
          ]
        },
        {
          "output_type": "stream",
          "name": "stdout",
          "text": [
            "Extracting ./data/cifar-10-python.tar.gz to ./data\n",
            "Files already downloaded and verified\n",
            "Number of training samples: 40000\n",
            "Number of validation samples: 10000\n",
            "Number of test samples: 10000\n"
          ]
        }
      ]
    },
    {
      "cell_type": "markdown",
      "source": [
        "**Baseline CNN Architecture**"
      ],
      "metadata": {
        "id": "aKpbtbP6TirE"
      }
    },
    {
      "cell_type": "code",
      "source": [
        "\n",
        "\n",
        "class BaselineCNN(nn.Module):\n",
        "    def __init__(self, dropout_rate=0.5):\n",
        "        super(BaselineCNN, self).__init__()\n",
        "\n",
        "        # Convolutional layers\n",
        "        self.conv1 = nn.Conv2d(3, 32, kernel_size=3, padding=1)\n",
        "        self.conv2 = nn.Conv2d(32, 64, kernel_size=3, padding=1)\n",
        "        self.conv3 = nn.Conv2d(64, 128, kernel_size=3, padding=1)\n",
        "\n",
        "        # Pooling layer\n",
        "        self.pool = nn.MaxPool2d(2, 2)\n",
        "\n",
        "        # Fully connected layers\n",
        "        self.fc1 = nn.Linear(128 * 4 * 4, 256)  # Input size calculated after pooling\n",
        "        self.fc2 = nn.Linear(256, 128)\n",
        "        self.fc3 = nn.Linear(128, 10)  # Output layer for 10 classes (CIFAR-10)\n",
        "\n",
        "        # Dropout for regularization\n",
        "        self.dropout = nn.Dropout(dropout_rate)\n",
        "\n",
        "    def forward(self, x):\n",
        "        # Forward pass through convolutional layers + pooling\n",
        "        x = self.pool(F.relu(self.conv1(x)))\n",
        "        x = self.pool(F.relu(self.conv2(x)))\n",
        "        x = self.pool(F.relu(self.conv3(x)))\n",
        "\n",
        "        # Flatten the output for fully connected layers\n",
        "        x = x.view(-1, 128 * 4 * 4)\n",
        "\n",
        "        # Fully connected layers with dropout\n",
        "        x = F.relu(self.fc1(x))\n",
        "        x = self.dropout(x)\n",
        "        x = F.relu(self.fc2(x))\n",
        "        x = self.fc3(x)  # No activation in the output layer; CrossEntropyLoss handles softmax\n",
        "\n",
        "        return x\n",
        "\n",
        "# Initialize the model and print its structure\n",
        "model = BaselineCNN()\n",
        "print(model)\n"
      ],
      "metadata": {
        "colab": {
          "base_uri": "https://localhost:8080/"
        },
        "id": "nxktr85iTibF",
        "outputId": "b0d50070-9e60-41f8-bc26-aa9144db4bd4"
      },
      "execution_count": 6,
      "outputs": [
        {
          "output_type": "stream",
          "name": "stdout",
          "text": [
            "BaselineCNN(\n",
            "  (conv1): Conv2d(3, 32, kernel_size=(3, 3), stride=(1, 1), padding=(1, 1))\n",
            "  (conv2): Conv2d(32, 64, kernel_size=(3, 3), stride=(1, 1), padding=(1, 1))\n",
            "  (conv3): Conv2d(64, 128, kernel_size=(3, 3), stride=(1, 1), padding=(1, 1))\n",
            "  (pool): MaxPool2d(kernel_size=2, stride=2, padding=0, dilation=1, ceil_mode=False)\n",
            "  (fc1): Linear(in_features=2048, out_features=256, bias=True)\n",
            "  (fc2): Linear(in_features=256, out_features=128, bias=True)\n",
            "  (fc3): Linear(in_features=128, out_features=10, bias=True)\n",
            "  (dropout): Dropout(p=0.5, inplace=False)\n",
            ")\n"
          ]
        }
      ]
    },
    {
      "cell_type": "markdown",
      "source": [
        "**Loss Function, Optimizer, and Scheduler**"
      ],
      "metadata": {
        "id": "7Z0wKZ4vH3UG"
      }
    },
    {
      "cell_type": "code",
      "source": [
        "\n",
        "\n",
        "# Set device to GPU if available, otherwise CPU\n",
        "device = torch.device(\"cuda\" if torch.cuda.is_available() else \"cpu\")\n",
        "model = model.to(device)\n",
        "\n",
        "# Cross-Entropy Loss with optional label smoothing\n",
        "criterion = torch.nn.CrossEntropyLoss(label_smoothing=0.1)\n",
        "\n",
        "# Optimizer: SGD with momentum and weight decay\n",
        "optimizer = optim.SGD(model.parameters(), lr=0.01, momentum=0.9, weight_decay=5e-4)\n",
        "\n",
        "# Scheduler: StepLR to decrease learning rate every 30 epochs by a factor of 0.1\n",
        "scheduler = StepLR(optimizer, step_size=30, gamma=0.1)\n"
      ],
      "metadata": {
        "id": "UcRiIkKpH3EX"
      },
      "execution_count": 7,
      "outputs": []
    },
    {
      "cell_type": "markdown",
      "source": [
        "**Training and Validation Functions with Early Stopping**"
      ],
      "metadata": {
        "id": "RuZk2c6YLS8C"
      }
    },
    {
      "cell_type": "code",
      "source": [
        "def train_model(model, train_loader, val_loader, criterion, optimizer, scheduler, device, num_epochs=50, patience=5):\n",
        "    # Track best validation loss\n",
        "    best_val_loss = float('inf')\n",
        "    patience_counter = 0\n",
        "\n",
        "    # History for tracking losses and accuracy\n",
        "    history = {'train_loss': [], 'val_loss': [], 'val_accuracy': []}\n",
        "\n",
        "    for epoch in range(num_epochs):\n",
        "        # Training phase\n",
        "        model.train()\n",
        "        running_train_loss = 0.0\n",
        "        for inputs, labels in train_loader:\n",
        "            inputs, labels = inputs.to(device), labels.to(device)\n",
        "            optimizer.zero_grad()\n",
        "            outputs = model(inputs)\n",
        "            loss = criterion(outputs, labels)\n",
        "            loss.backward()\n",
        "            optimizer.step()\n",
        "            running_train_loss += loss.item()\n",
        "        avg_train_loss = running_train_loss / len(train_loader)\n",
        "        history['train_loss'].append(avg_train_loss)\n",
        "\n",
        "        # Validation phase\n",
        "        model.eval()\n",
        "        running_val_loss = 0.0\n",
        "        correct = 0\n",
        "        total = 0\n",
        "        with torch.no_grad():\n",
        "            for inputs, labels in val_loader:\n",
        "                inputs, labels = inputs.to(device), labels.to(device)\n",
        "                outputs = model(inputs)\n",
        "                loss = criterion(outputs, labels)\n",
        "                running_val_loss += loss.item()\n",
        "                _, predicted = torch.max(outputs, 1)\n",
        "                total += labels.size(0)\n",
        "                correct += (predicted == labels).sum().item()\n",
        "\n",
        "        avg_val_loss = running_val_loss / len(val_loader)\n",
        "        val_accuracy = 100 * correct / total\n",
        "        history['val_loss'].append(avg_val_loss)\n",
        "        history['val_accuracy'].append(val_accuracy)\n",
        "\n",
        "        print(f\"Epoch [{epoch+1}/{num_epochs}], Train Loss: {avg_train_loss:.4f}, \"\n",
        "              f\"Val Loss: {avg_val_loss:.4f}, Val Accuracy: {val_accuracy:.2f}%\")\n",
        "\n",
        "        # Check if validation loss improved\n",
        "        if avg_val_loss < best_val_loss:\n",
        "            best_val_loss = avg_val_loss\n",
        "            patience_counter = 0  # Reset patience counter if there is improvement\n",
        "            best_model_state = model.state_dict()  # Save the best model state\n",
        "        else:\n",
        "            patience_counter += 1\n",
        "            if patience_counter >= patience:\n",
        "                print(\"Early stopping triggered.\")\n",
        "                model.load_state_dict(best_model_state)  # Restore best model state\n",
        "                break\n",
        "\n",
        "        # Step the scheduler once per epoch\n",
        "        if scheduler:\n",
        "            scheduler.step()\n",
        "\n",
        "    return model, history\n"
      ],
      "metadata": {
        "id": "sdUBsYGvLUSA"
      },
      "execution_count": 8,
      "outputs": []
    },
    {
      "cell_type": "markdown",
      "source": [
        "**Training the Baseline Model and Evaluating Initial Performance**"
      ],
      "metadata": {
        "id": "WL_zAF8QXt0F"
      }
    },
    {
      "cell_type": "code",
      "source": [
        "# Initialize the Baseline CNN model\n",
        "model = BaselineCNN()\n",
        "model = model.to(device)\n",
        "\n",
        "# Train the model and track metrics\n",
        "num_epochs = 50\n",
        "patience = 5\n",
        "\n",
        "trained_model, history = train_model(\n",
        "    model=model,\n",
        "    train_loader=train_loader,\n",
        "    val_loader=val_loader,\n",
        "    criterion=criterion,\n",
        "    optimizer=optimizer,\n",
        "    scheduler=scheduler,\n",
        "    device=device,\n",
        "    num_epochs=num_epochs,\n",
        "    patience=patience\n",
        ")\n",
        "\n",
        "# Display training history\n",
        "print(\"\\nTraining Complete. History of training:\")\n",
        "for epoch, (train_loss, val_loss, val_acc) in enumerate(zip(history['train_loss'], history['val_loss'], history['val_accuracy']), 1):\n",
        "    print(f\"Epoch {epoch} - Train Loss: {train_loss:.4f}, Val Loss: {val_loss:.4f}, Val Accuracy: {val_acc:.2f}%\")\n"
      ],
      "metadata": {
        "id": "SqRgk0kIXvrP",
        "colab": {
          "base_uri": "https://localhost:8080/"
        },
        "outputId": "2d6d5124-8e08-4b7c-9c0c-374c9cca02aa"
      },
      "execution_count": 9,
      "outputs": [
        {
          "output_type": "stream",
          "name": "stdout",
          "text": [
            "Epoch [1/50], Train Loss: 2.3038, Val Loss: 2.3036, Val Accuracy: 9.65%\n",
            "Epoch [2/50], Train Loss: 2.3038, Val Loss: 2.3036, Val Accuracy: 9.71%\n",
            "Epoch [3/50], Train Loss: 2.3038, Val Loss: 2.3036, Val Accuracy: 9.84%\n",
            "Epoch [4/50], Train Loss: 2.3037, Val Loss: 2.3036, Val Accuracy: 9.78%\n",
            "Epoch [5/50], Train Loss: 2.3037, Val Loss: 2.3036, Val Accuracy: 9.56%\n",
            "Epoch [6/50], Train Loss: 2.3037, Val Loss: 2.3036, Val Accuracy: 9.77%\n",
            "Epoch [7/50], Train Loss: 2.3037, Val Loss: 2.3036, Val Accuracy: 9.89%\n",
            "Epoch [8/50], Train Loss: 2.3038, Val Loss: 2.3035, Val Accuracy: 9.86%\n",
            "Epoch [9/50], Train Loss: 2.3037, Val Loss: 2.3036, Val Accuracy: 9.83%\n",
            "Epoch [10/50], Train Loss: 2.3038, Val Loss: 2.3036, Val Accuracy: 9.89%\n",
            "Epoch [11/50], Train Loss: 2.3038, Val Loss: 2.3037, Val Accuracy: 9.81%\n",
            "Epoch [12/50], Train Loss: 2.3037, Val Loss: 2.3037, Val Accuracy: 9.83%\n",
            "Epoch [13/50], Train Loss: 2.3037, Val Loss: 2.3036, Val Accuracy: 9.92%\n",
            "Early stopping triggered.\n",
            "\n",
            "Training Complete. History of training:\n",
            "Epoch 1 - Train Loss: 2.3038, Val Loss: 2.3036, Val Accuracy: 9.65%\n",
            "Epoch 2 - Train Loss: 2.3038, Val Loss: 2.3036, Val Accuracy: 9.71%\n",
            "Epoch 3 - Train Loss: 2.3038, Val Loss: 2.3036, Val Accuracy: 9.84%\n",
            "Epoch 4 - Train Loss: 2.3037, Val Loss: 2.3036, Val Accuracy: 9.78%\n",
            "Epoch 5 - Train Loss: 2.3037, Val Loss: 2.3036, Val Accuracy: 9.56%\n",
            "Epoch 6 - Train Loss: 2.3037, Val Loss: 2.3036, Val Accuracy: 9.77%\n",
            "Epoch 7 - Train Loss: 2.3037, Val Loss: 2.3036, Val Accuracy: 9.89%\n",
            "Epoch 8 - Train Loss: 2.3038, Val Loss: 2.3035, Val Accuracy: 9.86%\n",
            "Epoch 9 - Train Loss: 2.3037, Val Loss: 2.3036, Val Accuracy: 9.83%\n",
            "Epoch 10 - Train Loss: 2.3038, Val Loss: 2.3036, Val Accuracy: 9.89%\n",
            "Epoch 11 - Train Loss: 2.3038, Val Loss: 2.3037, Val Accuracy: 9.81%\n",
            "Epoch 12 - Train Loss: 2.3037, Val Loss: 2.3037, Val Accuracy: 9.83%\n",
            "Epoch 13 - Train Loss: 2.3037, Val Loss: 2.3036, Val Accuracy: 9.92%\n"
          ]
        }
      ]
    },
    {
      "cell_type": "markdown",
      "source": [
        "**Plotting Training and Validation Curves**"
      ],
      "metadata": {
        "id": "-EqUMPlhX4_e"
      }
    },
    {
      "cell_type": "code",
      "source": [
        "\n",
        "\n",
        "def plot_training_history(history):\n",
        "    epochs = range(1, len(history['train_loss']) + 1)\n",
        "\n",
        "    # Plot Training and Validation Loss\n",
        "    plt.figure(figsize=(12, 5))\n",
        "    plt.subplot(1, 2, 1)\n",
        "    plt.plot(epochs, history['train_loss'], label='Training Loss')\n",
        "    plt.plot(epochs, history['val_loss'], label='Validation Loss')\n",
        "    plt.xlabel('Epochs')\n",
        "    plt.ylabel('Loss')\n",
        "    plt.title('Training and Validation Loss')\n",
        "    plt.legend()\n",
        "\n",
        "    # Plot Validation Accuracy\n",
        "    plt.subplot(1, 2, 2)\n",
        "    plt.plot(epochs, history['val_accuracy'], label='Validation Accuracy')\n",
        "    plt.xlabel('Epochs')\n",
        "    plt.ylabel('Accuracy')\n",
        "    plt.title('Validation Accuracy')\n",
        "    plt.legend()\n",
        "\n",
        "    plt.tight_layout()\n",
        "    plt.show()\n",
        "\n",
        "# Call the plotting function\n",
        "plot_training_history(history)\n"
      ],
      "metadata": {
        "id": "jsYgzur6X4yG",
        "colab": {
          "base_uri": "https://localhost:8080/",
          "height": 507
        },
        "outputId": "4fde81ae-e20d-4ee5-902b-05ad7947eba3"
      },
      "execution_count": 10,
      "outputs": [
        {
          "output_type": "display_data",
          "data": {
            "text/plain": [
              "<Figure size 1200x500 with 2 Axes>"
            ],
            "image/png": "[encoded data removed]"
          },
          "metadata": {}
        }
      ]
    },
    {
      "cell_type": "markdown",
      "source": [
        "**Hyperparameter Optimization with Optuna**"
      ],
      "metadata": {
        "id": "JNgSbL4PYFBe"
      }
    },
    {
      "cell_type": "code",
      "source": [
        "!pip install optuna"
      ],
      "metadata": {
        "colab": {
          "base_uri": "https://localhost:8080/"
        },
        "id": "zyBKyNP4aCqB",
        "outputId": "7ffcf1bc-6daa-435a-f9e0-017f0a6869e3"
      },
      "execution_count": 12,
      "outputs": [
        {
          "output_type": "stream",
          "name": "stdout",
          "text": [
            "Collecting optuna\n",
            "  Downloading optuna-4.0.0-py3-none-any.whl.metadata (16 kB)\n",
            "Collecting alembic>=1.5.0 (from optuna)\n",
            "  Downloading alembic-1.14.0-py3-none-any.whl.metadata (7.4 kB)\n",
            "Collecting colorlog (from optuna)\n",
            "  Downloading colorlog-6.9.0-py3-none-any.whl.metadata (10 kB)\n",
            "Requirement already satisfied: numpy in /usr/local/lib/python3.10/dist-packages (from optuna) (1.26.4)\n",
            "Requirement already satisfied: packaging>=20.0 in /usr/local/lib/python3.10/dist-packages (from optuna) (24.1)\n",
            "Requirement already satisfied: sqlalchemy>=1.3.0 in /usr/local/lib/python3.10/dist-packages (from optuna) (2.0.36)\n",
            "Requirement already satisfied: tqdm in /usr/local/lib/python3.10/dist-packages (from optuna) (4.66.6)\n",
            "Requirement already satisfied: PyYAML in /usr/local/lib/python3.10/dist-packages (from optuna) (6.0.2)\n",
            "Collecting Mako (from alembic>=1.5.0->optuna)\n",
            "  Downloading Mako-1.3.6-py3-none-any.whl.metadata (2.9 kB)\n",
            "Requirement already satisfied: typing-extensions>=4 in /usr/local/lib/python3.10/dist-packages (from alembic>=1.5.0->optuna) (4.12.2)\n",
            "Requirement already satisfied: greenlet!=0.4.17 in /usr/local/lib/python3.10/dist-packages (from sqlalchemy>=1.3.0->optuna) (3.1.1)\n",
            "Requirement already satisfied: MarkupSafe>=0.9.2 in /usr/local/lib/python3.10/dist-packages (from Mako->alembic>=1.5.0->optuna) (3.0.2)\n",
            "Downloading optuna-4.0.0-py3-none-any.whl (362 kB)\n",
            "\u001b[2K   \u001b[90m━━━━━━━━━━━━━━━━━━━━━━━━━━━━━━━━━━━━━━━━\u001b[0m \u001b[32m362.8/362.8 kB\u001b[0m \u001b[31m35.6 MB/s\u001b[0m eta \u001b[36m0:00:00\u001b[0m\n",
            "\u001b[?25hDownloading alembic-1.14.0-py3-none-any.whl (233 kB)\n",
            "\u001b[2K   \u001b[90m━━━━━━━━━━━━━━━━━━━━━━━━━━━━━━━━━━━━━━━━\u001b[0m \u001b[32m233.5/233.5 kB\u001b[0m \u001b[31m20.8 MB/s\u001b[0m eta \u001b[36m0:00:00\u001b[0m\n",
            "\u001b[?25hDownloading colorlog-6.9.0-py3-none-any.whl (11 kB)\n",
            "Downloading Mako-1.3.6-py3-none-any.whl (78 kB)\n",
            "\u001b[2K   \u001b[90m━━━━━━━━━━━━━━━━━━━━━━━━━━━━━━━━━━━━━━━━\u001b[0m \u001b[32m78.6/78.6 kB\u001b[0m \u001b[31m7.7 MB/s\u001b[0m eta \u001b[36m0:00:00\u001b[0m\n",
            "\u001b[?25hInstalling collected packages: Mako, colorlog, alembic, optuna\n",
            "Successfully installed Mako-1.3.6 alembic-1.14.0 colorlog-6.9.0 optuna-4.0.0\n"
          ]
        }
      ]
    },
    {
      "cell_type": "code",
      "source": [
        "import optuna\n",
        "from torch.utils.data import DataLoader\n",
        "\n",
        "def objective(trial):\n",
        "    # Suggest hyperparameters to optimize\n",
        "    lr = trial.suggest_float('lr', 1e-4, 1e-1, log=True)  # Log scale for learning rate\n",
        "    momentum = trial.suggest_float('momentum', 0.5, 0.99)\n",
        "    dropout_rate = trial.suggest_float('dropout_rate', 0.2, 0.5)\n",
        "\n",
        "    # Initialize the model with suggested dropout rate\n",
        "    model = BaselineCNN(dropout_rate=dropout_rate).to(device)\n",
        "\n",
        "    # Set up optimizer and loss function\n",
        "    optimizer = torch.optim.SGD(model.parameters(), lr=lr, momentum=momentum, weight_decay=5e-4)\n",
        "    criterion = torch.nn.CrossEntropyLoss(label_smoothing=0.1)\n",
        "\n",
        "    # Learning rate scheduler\n",
        "    scheduler = StepLR(optimizer, step_size=30, gamma=0.1)\n",
        "\n",
        "    # Train and validate the model\n",
        "    _, history = train_model(model, train_loader, val_loader, criterion, optimizer, scheduler, device, num_epochs=10, patience=3)\n",
        "\n",
        "    # Use validation loss of the last epoch as the objective to minimize\n",
        "    val_loss = history['val_loss'][-1]\n",
        "\n",
        "    return val_loss\n",
        "\n",
        "# Run the Optuna study for hyperparameter tuning\n",
        "study = optuna.create_study(direction='minimize')\n",
        "study.optimize(objective, n_trials=50)  # Adjust n_trials based on resources and needs\n",
        "\n",
        "# Print and use the best hyperparameters found\n",
        "best_params = study.best_params\n",
        "print(\"Best hyperparameters:\", best_params)\n"
      ],
      "metadata": {
        "id": "-v0dMFYeYE4_",
        "colab": {
          "base_uri": "https://localhost:8080/"
        },
        "outputId": "833d45e6-27a3-4d15-9e08-84824a07cb41"
      },
      "execution_count": 13,
      "outputs": [
        {
          "metadata": {
            "tags": null
          },
          "name": "stderr",
          "output_type": "stream",
          "text": [
            "[I 2024-11-09 19:31:14,635] A new study created in memory with name: no-name-359eaa41-1105-44fc-8977-1e9109bf0494\n"
          ]
        },
        {
          "metadata": {
            "tags": null
          },
          "name": "stdout",
          "output_type": "stream",
          "text": [
            "Epoch [1/10], Train Loss: 2.3027, Val Loss: 2.3010, Val Accuracy: 12.81%\n",
            "Epoch [2/10], Train Loss: 2.2998, Val Loss: 2.2975, Val Accuracy: 15.13%\n",
            "Epoch [3/10], Train Loss: 2.2960, Val Loss: 2.2919, Val Accuracy: 19.63%\n",
            "Epoch [4/10], Train Loss: 2.2871, Val Loss: 2.2761, Val Accuracy: 21.60%\n",
            "Epoch [5/10], Train Loss: 2.2579, Val Loss: 2.2171, Val Accuracy: 21.93%\n",
            "Epoch [6/10], Train Loss: 2.1833, Val Loss: 2.1331, Val Accuracy: 22.85%\n",
            "Epoch [7/10], Train Loss: 2.1212, Val Loss: 2.0900, Val Accuracy: 25.22%\n",
            "Epoch [8/10], Train Loss: 2.0871, Val Loss: 2.0594, Val Accuracy: 26.57%\n",
            "Epoch [9/10], Train Loss: 2.0586, Val Loss: 2.0307, Val Accuracy: 28.86%\n"
          ]
        },
        {
          "metadata": {
            "tags": null
          },
          "name": "stderr",
          "output_type": "stream",
          "text": [
            "[I 2024-11-09 19:33:47,149] Trial 0 finished with value: 1.9970834768271144 and parameters: {'lr': 0.00030139689383287734, 'momentum': 0.9578904002852277, 'dropout_rate': 0.39442090186830014}. Best is trial 0 with value: 1.9970834768271144.\n"
          ]
        },
        {
          "metadata": {
            "tags": null
          },
          "name": "stdout",
          "output_type": "stream",
          "text": [
            "Epoch [10/10], Train Loss: 2.0315, Val Loss: 1.9971, Val Accuracy: 30.05%\n",
            "Epoch [1/10], Train Loss: 2.3034, Val Loss: 2.3034, Val Accuracy: 9.86%\n",
            "Epoch [2/10], Train Loss: 2.3030, Val Loss: 2.3028, Val Accuracy: 9.98%\n",
            "Epoch [3/10], Train Loss: 2.3024, Val Loss: 2.3023, Val Accuracy: 9.99%\n",
            "Epoch [4/10], Train Loss: 2.3020, Val Loss: 2.3018, Val Accuracy: 10.03%\n",
            "Epoch [5/10], Train Loss: 2.3016, Val Loss: 2.3013, Val Accuracy: 10.03%\n",
            "Epoch [6/10], Train Loss: 2.3011, Val Loss: 2.3008, Val Accuracy: 10.07%\n",
            "Epoch [7/10], Train Loss: 2.3006, Val Loss: 2.3003, Val Accuracy: 10.07%\n",
            "Epoch [8/10], Train Loss: 2.3002, Val Loss: 2.2997, Val Accuracy: 10.15%\n",
            "Epoch [9/10], Train Loss: 2.2997, Val Loss: 2.2992, Val Accuracy: 10.28%\n"
          ]
        },
        {
          "metadata": {
            "tags": null
          },
          "name": "stderr",
          "output_type": "stream",
          "text": [
            "[I 2024-11-09 19:36:16,245] Trial 1 finished with value: 2.2986347886580454 and parameters: {'lr': 0.0004961926115975427, 'momentum': 0.672316831959904, 'dropout_rate': 0.40984268157502135}. Best is trial 0 with value: 1.9970834768271144.\n"
          ]
        },
        {
          "metadata": {
            "tags": null
          },
          "name": "stdout",
          "output_type": "stream",
          "text": [
            "Epoch [10/10], Train Loss: 2.2992, Val Loss: 2.2986, Val Accuracy: 10.69%\n",
            "Epoch [1/10], Train Loss: 2.3032, Val Loss: 2.3029, Val Accuracy: 9.67%\n",
            "Epoch [2/10], Train Loss: 2.3026, Val Loss: 2.3022, Val Accuracy: 9.98%\n",
            "Epoch [3/10], Train Loss: 2.3019, Val Loss: 2.3016, Val Accuracy: 11.50%\n",
            "Epoch [4/10], Train Loss: 2.3015, Val Loss: 2.3010, Val Accuracy: 13.03%\n",
            "Epoch [5/10], Train Loss: 2.3008, Val Loss: 2.3004, Val Accuracy: 14.33%\n",
            "Epoch [6/10], Train Loss: 2.3003, Val Loss: 2.2996, Val Accuracy: 14.67%\n",
            "Epoch [7/10], Train Loss: 2.2996, Val Loss: 2.2988, Val Accuracy: 14.41%\n",
            "Epoch [8/10], Train Loss: 2.2988, Val Loss: 2.2980, Val Accuracy: 15.12%\n",
            "Epoch [9/10], Train Loss: 2.2981, Val Loss: 2.2970, Val Accuracy: 15.09%\n"
          ]
        },
        {
          "metadata": {
            "tags": null
          },
          "name": "stderr",
          "output_type": "stream",
          "text": [
            "[I 2024-11-09 19:38:46,584] Trial 2 finished with value: 2.295985810364349 and parameters: {'lr': 0.0005078196481447928, 'momentum': 0.6067914575589316, 'dropout_rate': 0.2950469883915454}. Best is trial 0 with value: 1.9970834768271144.\n"
          ]
        },
        {
          "metadata": {
            "tags": null
          },
          "name": "stdout",
          "output_type": "stream",
          "text": [
            "Epoch [10/10], Train Loss: 2.2970, Val Loss: 2.2960, Val Accuracy: 15.60%\n",
            "Epoch [1/10], Train Loss: 2.3028, Val Loss: 2.3016, Val Accuracy: 10.10%\n",
            "Epoch [2/10], Train Loss: 2.3015, Val Loss: 2.3002, Val Accuracy: 10.10%\n",
            "Epoch [3/10], Train Loss: 2.3000, Val Loss: 2.2984, Val Accuracy: 10.30%\n",
            "Epoch [4/10], Train Loss: 2.2979, Val Loss: 2.2960, Val Accuracy: 11.40%\n",
            "Epoch [5/10], Train Loss: 2.2951, Val Loss: 2.2918, Val Accuracy: 13.04%\n",
            "Epoch [6/10], Train Loss: 2.2903, Val Loss: 2.2846, Val Accuracy: 14.99%\n",
            "Epoch [7/10], Train Loss: 2.2811, Val Loss: 2.2704, Val Accuracy: 17.81%\n",
            "Epoch [8/10], Train Loss: 2.2625, Val Loss: 2.2410, Val Accuracy: 19.24%\n",
            "Epoch [9/10], Train Loss: 2.2256, Val Loss: 2.1952, Val Accuracy: 21.74%\n"
          ]
        },
        {
          "metadata": {
            "tags": null
          },
          "name": "stderr",
          "output_type": "stream",
          "text": [
            "[I 2024-11-09 19:41:14,586] Trial 3 finished with value: 2.1632037011882925 and parameters: {'lr': 0.00034464929569961067, 'momentum': 0.9180036205465356, 'dropout_rate': 0.32070503182709703}. Best is trial 0 with value: 1.9970834768271144.\n"
          ]
        },
        {
          "metadata": {
            "tags": null
          },
          "name": "stdout",
          "output_type": "stream",
          "text": [
            "Epoch [10/10], Train Loss: 2.1897, Val Loss: 2.1632, Val Accuracy: 23.25%\n",
            "Epoch [1/10], Train Loss: 2.2154, Val Loss: 2.0570, Val Accuracy: 26.32%\n",
            "Epoch [2/10], Train Loss: 2.0054, Val Loss: 1.9087, Val Accuracy: 32.52%\n",
            "Epoch [3/10], Train Loss: 1.8766, Val Loss: 1.8086, Val Accuracy: 39.94%\n",
            "Epoch [4/10], Train Loss: 1.7929, Val Loss: 1.7309, Val Accuracy: 43.91%\n",
            "Epoch [5/10], Train Loss: 1.7219, Val Loss: 1.6618, Val Accuracy: 47.17%\n",
            "Epoch [6/10], Train Loss: 1.6706, Val Loss: 1.6682, Val Accuracy: 46.02%\n",
            "Epoch [7/10], Train Loss: 1.6141, Val Loss: 1.5574, Val Accuracy: 51.84%\n",
            "Epoch [8/10], Train Loss: 1.5614, Val Loss: 1.5129, Val Accuracy: 54.27%\n",
            "Epoch [9/10], Train Loss: 1.5178, Val Loss: 1.4672, Val Accuracy: 56.46%\n"
          ]
        },
        {
          "metadata": {
            "tags": null
          },
          "name": "stderr",
          "output_type": "stream",
          "text": [
            "[I 2024-11-09 19:43:44,154] Trial 4 finished with value: 1.424857652640041 and parameters: {'lr': 0.025439895891979977, 'momentum': 0.6199707799457247, 'dropout_rate': 0.4896461050465301}. Best is trial 4 with value: 1.424857652640041.\n"
          ]
        },
        {
          "metadata": {
            "tags": null
          },
          "name": "stdout",
          "output_type": "stream",
          "text": [
            "Epoch [10/10], Train Loss: 1.4764, Val Loss: 1.4249, Val Accuracy: 57.96%\n",
            "Epoch [1/10], Train Loss: 2.3022, Val Loss: 2.3006, Val Accuracy: 10.10%\n",
            "Epoch [2/10], Train Loss: 2.3001, Val Loss: 2.2981, Val Accuracy: 10.10%\n",
            "Epoch [3/10], Train Loss: 2.2973, Val Loss: 2.2948, Val Accuracy: 10.99%\n",
            "Epoch [4/10], Train Loss: 2.2935, Val Loss: 2.2896, Val Accuracy: 13.12%\n",
            "Epoch [5/10], Train Loss: 2.2878, Val Loss: 2.2813, Val Accuracy: 15.98%\n",
            "Epoch [6/10], Train Loss: 2.2778, Val Loss: 2.2693, Val Accuracy: 16.57%\n",
            "Epoch [7/10], Train Loss: 2.2644, Val Loss: 2.2516, Val Accuracy: 17.05%\n",
            "Epoch [8/10], Train Loss: 2.2451, Val Loss: 2.2308, Val Accuracy: 18.29%\n",
            "Epoch [9/10], Train Loss: 2.2228, Val Loss: 2.2021, Val Accuracy: 20.14%\n"
          ]
        },
        {
          "metadata": {
            "tags": null
          },
          "name": "stderr",
          "output_type": "stream",
          "text": [
            "[I 2024-11-09 19:46:13,126] Trial 5 finished with value: 2.168937372255929 and parameters: {'lr': 0.0015993516815877894, 'momentum': 0.5074400348658173, 'dropout_rate': 0.42408428546851645}. Best is trial 4 with value: 1.424857652640041.\n"
          ]
        },
        {
          "output_type": "stream",
          "name": "stdout",
          "text": [
            "Epoch [10/10], Train Loss: 2.1962, Val Loss: 2.1689, Val Accuracy: 21.92%\n",
            "Epoch [1/10], Train Loss: 2.1557, Val Loss: 1.9907, Val Accuracy: 29.54%\n",
            "Epoch [2/10], Train Loss: 1.8971, Val Loss: 1.8449, Val Accuracy: 37.97%\n",
            "Epoch [3/10], Train Loss: 1.7602, Val Loss: 1.6838, Val Accuracy: 44.78%\n",
            "Epoch [4/10], Train Loss: 1.6694, Val Loss: 1.6227, Val Accuracy: 47.58%\n",
            "Epoch [5/10], Train Loss: 1.5987, Val Loss: 1.5004, Val Accuracy: 53.72%\n",
            "Epoch [6/10], Train Loss: 1.5122, Val Loss: 1.4943, Val Accuracy: 55.26%\n",
            "Epoch [7/10], Train Loss: 1.4585, Val Loss: 1.4533, Val Accuracy: 57.01%\n",
            "Epoch [8/10], Train Loss: 1.4048, Val Loss: 1.4063, Val Accuracy: 59.67%\n",
            "Epoch [9/10], Train Loss: 1.3655, Val Loss: 1.3730, Val Accuracy: 61.03%\n"
          ]
        },
        {
          "output_type": "stream",
          "name": "stderr",
          "text": [
            "[I 2024-11-09 19:48:40,594] Trial 6 finished with value: 1.2828398143188864 and parameters: {'lr': 0.050913087911942996, 'momentum': 0.5148102978930678, 'dropout_rate': 0.3270882136666331}. Best is trial 6 with value: 1.2828398143188864.\n"
          ]
        },
        {
          "output_type": "stream",
          "name": "stdout",
          "text": [
            "Epoch [10/10], Train Loss: 1.3267, Val Loss: 1.2828, Val Accuracy: 65.31%\n",
            "Epoch [1/10], Train Loss: 2.3044, Val Loss: 2.3034, Val Accuracy: 9.63%\n",
            "Epoch [2/10], Train Loss: 2.3025, Val Loss: 2.3016, Val Accuracy: 9.63%\n",
            "Epoch [3/10], Train Loss: 2.3012, Val Loss: 2.3000, Val Accuracy: 11.04%\n",
            "Epoch [4/10], Train Loss: 2.2998, Val Loss: 2.2985, Val Accuracy: 14.39%\n",
            "Epoch [5/10], Train Loss: 2.2978, Val Loss: 2.2962, Val Accuracy: 15.63%\n",
            "Epoch [6/10], Train Loss: 2.2956, Val Loss: 2.2931, Val Accuracy: 17.39%\n",
            "Epoch [7/10], Train Loss: 2.2920, Val Loss: 2.2886, Val Accuracy: 18.94%\n",
            "Epoch [8/10], Train Loss: 2.2866, Val Loss: 2.2804, Val Accuracy: 19.69%\n",
            "Epoch [9/10], Train Loss: 2.2769, Val Loss: 2.2672, Val Accuracy: 19.45%\n"
          ]
        },
        {
          "output_type": "stream",
          "name": "stderr",
          "text": [
            "[I 2024-11-09 19:51:08,150] Trial 7 finished with value: 2.2456510640397855 and parameters: {'lr': 0.0012944446799648508, 'momentum': 0.608933920111618, 'dropout_rate': 0.4445020065111811}. Best is trial 6 with value: 1.2828398143188864.\n"
          ]
        },
        {
          "output_type": "stream",
          "name": "stdout",
          "text": [
            "Epoch [10/10], Train Loss: 2.2609, Val Loss: 2.2457, Val Accuracy: 20.76%\n",
            "Epoch [1/10], Train Loss: 2.0407, Val Loss: 1.8035, Val Accuracy: 38.03%\n",
            "Epoch [2/10], Train Loss: 1.7524, Val Loss: 1.6523, Val Accuracy: 46.92%\n",
            "Epoch [3/10], Train Loss: 1.5953, Val Loss: 1.5187, Val Accuracy: 54.64%\n",
            "Epoch [4/10], Train Loss: 1.4851, Val Loss: 1.4244, Val Accuracy: 58.48%\n",
            "Epoch [5/10], Train Loss: 1.4038, Val Loss: 1.3336, Val Accuracy: 63.13%\n",
            "Epoch [6/10], Train Loss: 1.3365, Val Loss: 1.3120, Val Accuracy: 63.97%\n",
            "Epoch [7/10], Train Loss: 1.3009, Val Loss: 1.3135, Val Accuracy: 63.73%\n",
            "Epoch [8/10], Train Loss: 1.2585, Val Loss: 1.2290, Val Accuracy: 67.31%\n",
            "Epoch [9/10], Train Loss: 1.2416, Val Loss: 1.2176, Val Accuracy: 67.90%\n"
          ]
        },
        {
          "output_type": "stream",
          "name": "stderr",
          "text": [
            "[I 2024-11-09 19:53:37,267] Trial 8 finished with value: 1.1870458299600626 and parameters: {'lr': 0.043534753081609506, 'momentum': 0.8426002324827179, 'dropout_rate': 0.3827548197400593}. Best is trial 8 with value: 1.1870458299600626.\n"
          ]
        },
        {
          "output_type": "stream",
          "name": "stdout",
          "text": [
            "Epoch [10/10], Train Loss: 1.2104, Val Loss: 1.1870, Val Accuracy: 69.12%\n",
            "Epoch [1/10], Train Loss: 2.0541, Val Loss: 1.8390, Val Accuracy: 36.38%\n",
            "Epoch [2/10], Train Loss: 1.7815, Val Loss: 1.6241, Val Accuracy: 47.64%\n",
            "Epoch [3/10], Train Loss: 1.6215, Val Loss: 1.5103, Val Accuracy: 54.29%\n",
            "Epoch [4/10], Train Loss: 1.4978, Val Loss: 1.4184, Val Accuracy: 58.62%\n",
            "Epoch [5/10], Train Loss: 1.4267, Val Loss: 1.3682, Val Accuracy: 61.13%\n",
            "Epoch [6/10], Train Loss: 1.3683, Val Loss: 1.3960, Val Accuracy: 60.02%\n",
            "Epoch [7/10], Train Loss: 1.3187, Val Loss: 1.2940, Val Accuracy: 64.42%\n",
            "Epoch [8/10], Train Loss: 1.2840, Val Loss: 1.2664, Val Accuracy: 66.42%\n",
            "Epoch [9/10], Train Loss: 1.2611, Val Loss: 1.2090, Val Accuracy: 68.90%\n"
          ]
        },
        {
          "output_type": "stream",
          "name": "stderr",
          "text": [
            "[I 2024-11-09 19:56:06,476] Trial 9 finished with value: 1.16698174235187 and parameters: {'lr': 0.027264305771265665, 'momentum': 0.907606332629421, 'dropout_rate': 0.4402153564262413}. Best is trial 9 with value: 1.16698174235187.\n"
          ]
        },
        {
          "output_type": "stream",
          "name": "stdout",
          "text": [
            "Epoch [10/10], Train Loss: 1.2374, Val Loss: 1.1670, Val Accuracy: 70.08%\n",
            "Epoch [1/10], Train Loss: 2.2501, Val Loss: 2.1073, Val Accuracy: 24.84%\n",
            "Epoch [2/10], Train Loss: 2.0361, Val Loss: 1.9431, Val Accuracy: 32.56%\n",
            "Epoch [3/10], Train Loss: 1.9031, Val Loss: 1.8482, Val Accuracy: 36.74%\n",
            "Epoch [4/10], Train Loss: 1.8119, Val Loss: 1.7488, Val Accuracy: 42.11%\n",
            "Epoch [5/10], Train Loss: 1.7518, Val Loss: 1.7164, Val Accuracy: 43.50%\n",
            "Epoch [6/10], Train Loss: 1.7032, Val Loss: 1.6557, Val Accuracy: 46.59%\n",
            "Epoch [7/10], Train Loss: 1.6551, Val Loss: 1.6205, Val Accuracy: 48.49%\n",
            "Epoch [8/10], Train Loss: 1.6064, Val Loss: 1.5647, Val Accuracy: 51.03%\n",
            "Epoch [9/10], Train Loss: 1.5649, Val Loss: 1.5248, Val Accuracy: 52.91%\n"
          ]
        },
        {
          "output_type": "stream",
          "name": "stderr",
          "text": [
            "[I 2024-11-09 19:58:35,210] Trial 10 finished with value: 1.4845054738129242 and parameters: {'lr': 0.008474836240793123, 'momentum': 0.7981820146588795, 'dropout_rate': 0.21625527638718364}. Best is trial 9 with value: 1.16698174235187.\n"
          ]
        },
        {
          "output_type": "stream",
          "name": "stdout",
          "text": [
            "Epoch [10/10], Train Loss: 1.5219, Val Loss: 1.4845, Val Accuracy: 55.35%\n",
            "Epoch [1/10], Train Loss: 2.0019, Val Loss: 1.8375, Val Accuracy: 36.10%\n",
            "Epoch [2/10], Train Loss: 1.7260, Val Loss: 1.5523, Val Accuracy: 51.00%\n",
            "Epoch [3/10], Train Loss: 1.5688, Val Loss: 1.4619, Val Accuracy: 57.12%\n",
            "Epoch [4/10], Train Loss: 1.4775, Val Loss: 1.4142, Val Accuracy: 58.82%\n",
            "Epoch [5/10], Train Loss: 1.4096, Val Loss: 1.3212, Val Accuracy: 63.49%\n",
            "Epoch [6/10], Train Loss: 1.3668, Val Loss: 1.3190, Val Accuracy: 62.76%\n",
            "Epoch [7/10], Train Loss: 1.3353, Val Loss: 1.2868, Val Accuracy: 64.54%\n",
            "Epoch [8/10], Train Loss: 1.3134, Val Loss: 1.2728, Val Accuracy: 65.26%\n",
            "Epoch [9/10], Train Loss: 1.2823, Val Loss: 1.2447, Val Accuracy: 66.78%\n"
          ]
        },
        {
          "output_type": "stream",
          "name": "stderr",
          "text": [
            "[I 2024-11-09 20:01:02,662] Trial 11 finished with value: 1.2478792456131946 and parameters: {'lr': 0.08963803389753554, 'momentum': 0.8425776725139287, 'dropout_rate': 0.4938142334516479}. Best is trial 9 with value: 1.16698174235187.\n"
          ]
        },
        {
          "output_type": "stream",
          "name": "stdout",
          "text": [
            "Epoch [10/10], Train Loss: 1.2675, Val Loss: 1.2479, Val Accuracy: 66.93%\n",
            "Epoch [1/10], Train Loss: 2.1759, Val Loss: 1.9803, Val Accuracy: 29.91%\n",
            "Epoch [2/10], Train Loss: 1.8797, Val Loss: 1.7850, Val Accuracy: 40.12%\n",
            "Epoch [3/10], Train Loss: 1.7532, Val Loss: 1.6613, Val Accuracy: 45.57%\n",
            "Epoch [4/10], Train Loss: 1.6532, Val Loss: 1.5734, Val Accuracy: 50.53%\n",
            "Epoch [5/10], Train Loss: 1.5535, Val Loss: 1.4910, Val Accuracy: 55.05%\n",
            "Epoch [6/10], Train Loss: 1.4851, Val Loss: 1.4063, Val Accuracy: 58.90%\n",
            "Epoch [7/10], Train Loss: 1.4317, Val Loss: 1.3632, Val Accuracy: 61.30%\n",
            "Epoch [8/10], Train Loss: 1.3850, Val Loss: 1.3312, Val Accuracy: 62.86%\n",
            "Epoch [9/10], Train Loss: 1.3388, Val Loss: 1.3367, Val Accuracy: 62.88%\n"
          ]
        },
        {
          "output_type": "stream",
          "name": "stderr",
          "text": [
            "[I 2024-11-09 20:03:30,496] Trial 12 finished with value: 1.2848350066172927 and parameters: {'lr': 0.013692953622562641, 'momentum': 0.8756270695707854, 'dropout_rate': 0.3688096613120253}. Best is trial 9 with value: 1.16698174235187.\n"
          ]
        },
        {
          "output_type": "stream",
          "name": "stdout",
          "text": [
            "Epoch [10/10], Train Loss: 1.3093, Val Loss: 1.2848, Val Accuracy: 64.90%\n",
            "Epoch [1/10], Train Loss: 2.1278, Val Loss: 1.9136, Val Accuracy: 33.28%\n",
            "Epoch [2/10], Train Loss: 1.8571, Val Loss: 1.7358, Val Accuracy: 42.11%\n",
            "Epoch [3/10], Train Loss: 1.7518, Val Loss: 1.6169, Val Accuracy: 47.90%\n",
            "Epoch [4/10], Train Loss: 1.6552, Val Loss: 1.5582, Val Accuracy: 51.03%\n",
            "Epoch [5/10], Train Loss: 1.5850, Val Loss: 1.5094, Val Accuracy: 53.97%\n",
            "Epoch [6/10], Train Loss: 1.5365, Val Loss: 1.4729, Val Accuracy: 56.48%\n",
            "Epoch [7/10], Train Loss: 1.5113, Val Loss: 1.4421, Val Accuracy: 57.54%\n",
            "Epoch [8/10], Train Loss: 1.4674, Val Loss: 1.4382, Val Accuracy: 57.94%\n",
            "Epoch [9/10], Train Loss: 1.4483, Val Loss: 1.4062, Val Accuracy: 60.06%\n"
          ]
        },
        {
          "output_type": "stream",
          "name": "stderr",
          "text": [
            "[I 2024-11-09 20:05:58,345] Trial 13 finished with value: 1.3803569168984136 and parameters: {'lr': 0.00788339514999592, 'momentum': 0.9899380215508746, 'dropout_rate': 0.45820735389568673}. Best is trial 9 with value: 1.16698174235187.\n"
          ]
        },
        {
          "output_type": "stream",
          "name": "stdout",
          "text": [
            "Epoch [10/10], Train Loss: 1.4348, Val Loss: 1.3804, Val Accuracy: 60.86%\n",
            "Epoch [1/10], Train Loss: 2.0766, Val Loss: 1.8796, Val Accuracy: 34.16%\n",
            "Epoch [2/10], Train Loss: 1.7958, Val Loss: 1.7021, Val Accuracy: 42.92%\n",
            "Epoch [3/10], Train Loss: 1.6630, Val Loss: 1.6223, Val Accuracy: 49.43%\n",
            "Epoch [4/10], Train Loss: 1.5502, Val Loss: 1.4945, Val Accuracy: 55.24%\n",
            "Epoch [5/10], Train Loss: 1.4622, Val Loss: 1.3869, Val Accuracy: 60.64%\n",
            "Epoch [6/10], Train Loss: 1.3949, Val Loss: 1.3399, Val Accuracy: 62.82%\n",
            "Epoch [7/10], Train Loss: 1.3390, Val Loss: 1.2841, Val Accuracy: 64.77%\n",
            "Epoch [8/10], Train Loss: 1.3019, Val Loss: 1.2652, Val Accuracy: 66.40%\n",
            "Epoch [9/10], Train Loss: 1.2719, Val Loss: 1.2334, Val Accuracy: 67.61%\n"
          ]
        },
        {
          "output_type": "stream",
          "name": "stderr",
          "text": [
            "[I 2024-11-09 20:08:26,805] Trial 14 finished with value: 1.2547031007235563 and parameters: {'lr': 0.04030394224843066, 'momentum': 0.7875242492729505, 'dropout_rate': 0.3704272061799722}. Best is trial 9 with value: 1.16698174235187.\n"
          ]
        },
        {
          "output_type": "stream",
          "name": "stdout",
          "text": [
            "Epoch [10/10], Train Loss: 1.2379, Val Loss: 1.2547, Val Accuracy: 66.69%\n",
            "Epoch [1/10], Train Loss: 2.3021, Val Loss: 2.3003, Val Accuracy: 10.57%\n",
            "Epoch [2/10], Train Loss: 2.2990, Val Loss: 2.2960, Val Accuracy: 16.60%\n",
            "Epoch [3/10], Train Loss: 2.2914, Val Loss: 2.2808, Val Accuracy: 17.08%\n",
            "Epoch [4/10], Train Loss: 2.2497, Val Loss: 2.1798, Val Accuracy: 22.96%\n",
            "Epoch [5/10], Train Loss: 2.1173, Val Loss: 2.0641, Val Accuracy: 25.93%\n",
            "Epoch [6/10], Train Loss: 2.0511, Val Loss: 2.0227, Val Accuracy: 28.09%\n",
            "Epoch [7/10], Train Loss: 2.0106, Val Loss: 1.9780, Val Accuracy: 30.67%\n",
            "Epoch [8/10], Train Loss: 1.9614, Val Loss: 1.9209, Val Accuracy: 33.54%\n",
            "Epoch [9/10], Train Loss: 1.9160, Val Loss: 1.8735, Val Accuracy: 34.90%\n"
          ]
        },
        {
          "output_type": "stream",
          "name": "stderr",
          "text": [
            "[I 2024-11-09 20:10:53,619] Trial 15 finished with value: 1.8358878666841532 and parameters: {'lr': 0.002973144766696083, 'momentum': 0.7444340914210056, 'dropout_rate': 0.26496151818263486}. Best is trial 9 with value: 1.16698174235187.\n"
          ]
        },
        {
          "output_type": "stream",
          "name": "stdout",
          "text": [
            "Epoch [10/10], Train Loss: 1.8781, Val Loss: 1.8359, Val Accuracy: 36.96%\n",
            "Epoch [1/10], Train Loss: 2.0174, Val Loss: 1.8125, Val Accuracy: 38.25%\n",
            "Epoch [2/10], Train Loss: 1.7518, Val Loss: 1.6035, Val Accuracy: 48.92%\n",
            "Epoch [3/10], Train Loss: 1.6374, Val Loss: 1.5929, Val Accuracy: 49.88%\n",
            "Epoch [4/10], Train Loss: 1.5511, Val Loss: 1.4513, Val Accuracy: 57.01%\n",
            "Epoch [5/10], Train Loss: 1.4921, Val Loss: 1.4630, Val Accuracy: 58.03%\n",
            "Epoch [6/10], Train Loss: 1.4710, Val Loss: 1.5262, Val Accuracy: 55.74%\n",
            "Epoch [7/10], Train Loss: 1.4298, Val Loss: 1.3838, Val Accuracy: 61.35%\n",
            "Epoch [8/10], Train Loss: 1.4134, Val Loss: 1.3696, Val Accuracy: 62.30%\n",
            "Epoch [9/10], Train Loss: 1.4015, Val Loss: 1.3418, Val Accuracy: 63.33%\n"
          ]
        },
        {
          "output_type": "stream",
          "name": "stderr",
          "text": [
            "[I 2024-11-09 20:13:19,194] Trial 16 finished with value: 1.3368480431882641 and parameters: {'lr': 0.09944802067394372, 'momentum': 0.8887597423850607, 'dropout_rate': 0.4541138171617652}. Best is trial 9 with value: 1.16698174235187.\n"
          ]
        },
        {
          "output_type": "stream",
          "name": "stdout",
          "text": [
            "Epoch [10/10], Train Loss: 1.3759, Val Loss: 1.3368, Val Accuracy: 63.47%\n",
            "Epoch [1/10], Train Loss: 2.2072, Val Loss: 2.0567, Val Accuracy: 27.30%\n",
            "Epoch [2/10], Train Loss: 1.9765, Val Loss: 1.8995, Val Accuracy: 33.93%\n",
            "Epoch [3/10], Train Loss: 1.8467, Val Loss: 1.8547, Val Accuracy: 38.66%\n",
            "Epoch [4/10], Train Loss: 1.7659, Val Loss: 1.6868, Val Accuracy: 45.31%\n",
            "Epoch [5/10], Train Loss: 1.7122, Val Loss: 1.6613, Val Accuracy: 46.02%\n",
            "Epoch [6/10], Train Loss: 1.6483, Val Loss: 1.5868, Val Accuracy: 50.76%\n",
            "Epoch [7/10], Train Loss: 1.5999, Val Loss: 1.5357, Val Accuracy: 52.31%\n",
            "Epoch [8/10], Train Loss: 1.5427, Val Loss: 1.5030, Val Accuracy: 54.61%\n",
            "Epoch [9/10], Train Loss: 1.5044, Val Loss: 1.4963, Val Accuracy: 54.31%\n"
          ]
        },
        {
          "output_type": "stream",
          "name": "stderr",
          "text": [
            "[I 2024-11-09 20:15:49,090] Trial 17 finished with value: 1.4205865965613835 and parameters: {'lr': 0.01782194684199024, 'momentum': 0.720636271522457, 'dropout_rate': 0.38614208802784683}. Best is trial 9 with value: 1.16698174235187.\n"
          ]
        },
        {
          "output_type": "stream",
          "name": "stdout",
          "text": [
            "Epoch [10/10], Train Loss: 1.4623, Val Loss: 1.4206, Val Accuracy: 58.77%\n",
            "Epoch [1/10], Train Loss: 2.2757, Val Loss: 2.2170, Val Accuracy: 19.54%\n",
            "Epoch [2/10], Train Loss: 2.1203, Val Loss: 2.0385, Val Accuracy: 27.74%\n",
            "Epoch [3/10], Train Loss: 1.9935, Val Loss: 1.9427, Val Accuracy: 32.81%\n",
            "Epoch [4/10], Train Loss: 1.9036, Val Loss: 1.8372, Val Accuracy: 37.31%\n",
            "Epoch [5/10], Train Loss: 1.8319, Val Loss: 1.7674, Val Accuracy: 40.91%\n",
            "Epoch [6/10], Train Loss: 1.7851, Val Loss: 1.7264, Val Accuracy: 43.35%\n",
            "Epoch [7/10], Train Loss: 1.7419, Val Loss: 1.7201, Val Accuracy: 43.53%\n",
            "Epoch [8/10], Train Loss: 1.7043, Val Loss: 1.6504, Val Accuracy: 46.75%\n",
            "Epoch [9/10], Train Loss: 1.6700, Val Loss: 1.6119, Val Accuracy: 48.98%\n"
          ]
        },
        {
          "output_type": "stream",
          "name": "stderr",
          "text": [
            "[I 2024-11-09 20:18:17,402] Trial 18 finished with value: 1.6047280046004284 and parameters: {'lr': 0.0058283431887368575, 'momentum': 0.8173481800706591, 'dropout_rate': 0.33894128919254163}. Best is trial 9 with value: 1.16698174235187.\n"
          ]
        },
        {
          "output_type": "stream",
          "name": "stdout",
          "text": [
            "Epoch [10/10], Train Loss: 1.6327, Val Loss: 1.6047, Val Accuracy: 49.21%\n",
            "Epoch [1/10], Train Loss: 2.3035, Val Loss: 2.3029, Val Accuracy: 10.10%\n",
            "Epoch [2/10], Train Loss: 2.3028, Val Loss: 2.3021, Val Accuracy: 10.10%\n",
            "Epoch [3/10], Train Loss: 2.3021, Val Loss: 2.3013, Val Accuracy: 10.10%\n",
            "Epoch [4/10], Train Loss: 2.3014, Val Loss: 2.3005, Val Accuracy: 10.10%\n",
            "Epoch [5/10], Train Loss: 2.3004, Val Loss: 2.2996, Val Accuracy: 10.10%\n",
            "Epoch [6/10], Train Loss: 2.2997, Val Loss: 2.2986, Val Accuracy: 10.10%\n",
            "Epoch [7/10], Train Loss: 2.2987, Val Loss: 2.2973, Val Accuracy: 10.11%\n",
            "Epoch [8/10], Train Loss: 2.2977, Val Loss: 2.2962, Val Accuracy: 10.43%\n",
            "Epoch [9/10], Train Loss: 2.2962, Val Loss: 2.2946, Val Accuracy: 11.96%\n"
          ]
        },
        {
          "output_type": "stream",
          "name": "stderr",
          "text": [
            "[I 2024-11-09 20:20:47,214] Trial 19 finished with value: 2.292340981809399 and parameters: {'lr': 0.00012970032142678483, 'momentum': 0.9285684025795897, 'dropout_rate': 0.4278851237647052}. Best is trial 9 with value: 1.16698174235187.\n"
          ]
        },
        {
          "output_type": "stream",
          "name": "stdout",
          "text": [
            "Epoch [10/10], Train Loss: 2.2945, Val Loss: 2.2923, Val Accuracy: 13.32%\n",
            "Epoch [1/10], Train Loss: 2.0475, Val Loss: 1.8477, Val Accuracy: 36.14%\n",
            "Epoch [2/10], Train Loss: 1.7506, Val Loss: 1.6397, Val Accuracy: 47.18%\n",
            "Epoch [3/10], Train Loss: 1.5932, Val Loss: 1.5321, Val Accuracy: 52.09%\n",
            "Epoch [4/10], Train Loss: 1.4754, Val Loss: 1.3968, Val Accuracy: 59.69%\n",
            "Epoch [5/10], Train Loss: 1.3894, Val Loss: 1.3183, Val Accuracy: 62.82%\n",
            "Epoch [6/10], Train Loss: 1.3347, Val Loss: 1.3357, Val Accuracy: 62.85%\n",
            "Epoch [7/10], Train Loss: 1.2828, Val Loss: 1.2483, Val Accuracy: 66.92%\n",
            "Epoch [8/10], Train Loss: 1.2487, Val Loss: 1.2263, Val Accuracy: 68.10%\n",
            "Epoch [9/10], Train Loss: 1.2180, Val Loss: 1.1960, Val Accuracy: 69.22%\n"
          ]
        },
        {
          "output_type": "stream",
          "name": "stderr",
          "text": [
            "[I 2024-11-09 20:23:14,764] Trial 20 finished with value: 1.1888792243184922 and parameters: {'lr': 0.03649052285238152, 'momentum': 0.8570370468677909, 'dropout_rate': 0.29400971277551324}. Best is trial 9 with value: 1.16698174235187.\n"
          ]
        },
        {
          "output_type": "stream",
          "name": "stdout",
          "text": [
            "Epoch [10/10], Train Loss: 1.1958, Val Loss: 1.1889, Val Accuracy: 69.67%\n",
            "Epoch [1/10], Train Loss: 2.0236, Val Loss: 1.7843, Val Accuracy: 39.76%\n",
            "Epoch [2/10], Train Loss: 1.7482, Val Loss: 1.6592, Val Accuracy: 47.10%\n",
            "Epoch [3/10], Train Loss: 1.5997, Val Loss: 1.4660, Val Accuracy: 56.15%\n",
            "Epoch [4/10], Train Loss: 1.4844, Val Loss: 1.4393, Val Accuracy: 57.56%\n",
            "Epoch [5/10], Train Loss: 1.3928, Val Loss: 1.3127, Val Accuracy: 63.94%\n",
            "Epoch [6/10], Train Loss: 1.3406, Val Loss: 1.2782, Val Accuracy: 65.05%\n",
            "Epoch [7/10], Train Loss: 1.2930, Val Loss: 1.2834, Val Accuracy: 64.56%\n",
            "Epoch [8/10], Train Loss: 1.2525, Val Loss: 1.1986, Val Accuracy: 68.68%\n",
            "Epoch [9/10], Train Loss: 1.2246, Val Loss: 1.1873, Val Accuracy: 68.84%\n"
          ]
        },
        {
          "output_type": "stream",
          "name": "stderr",
          "text": [
            "[I 2024-11-09 20:25:41,763] Trial 21 finished with value: 1.1693682142450839 and parameters: {'lr': 0.03697407585046834, 'momentum': 0.8573144516418297, 'dropout_rate': 0.2647877226968681}. Best is trial 9 with value: 1.16698174235187.\n"
          ]
        },
        {
          "output_type": "stream",
          "name": "stdout",
          "text": [
            "Epoch [10/10], Train Loss: 1.2010, Val Loss: 1.1694, Val Accuracy: 70.17%\n",
            "Epoch [1/10], Train Loss: 1.9835, Val Loss: 1.8707, Val Accuracy: 36.22%\n",
            "Epoch [2/10], Train Loss: 1.6916, Val Loss: 1.5841, Val Accuracy: 49.76%\n",
            "Epoch [3/10], Train Loss: 1.5251, Val Loss: 1.4337, Val Accuracy: 57.90%\n",
            "Epoch [4/10], Train Loss: 1.4414, Val Loss: 1.4518, Val Accuracy: 57.11%\n",
            "Epoch [5/10], Train Loss: 1.3840, Val Loss: 1.3230, Val Accuracy: 63.30%\n",
            "Epoch [6/10], Train Loss: 1.3454, Val Loss: 1.3485, Val Accuracy: 62.39%\n",
            "Epoch [7/10], Train Loss: 1.3085, Val Loss: 1.2976, Val Accuracy: 64.83%\n",
            "Epoch [8/10], Train Loss: 1.2904, Val Loss: 1.2388, Val Accuracy: 67.25%\n",
            "Epoch [9/10], Train Loss: 1.2729, Val Loss: 1.3093, Val Accuracy: 63.84%\n"
          ]
        },
        {
          "output_type": "stream",
          "name": "stderr",
          "text": [
            "[I 2024-11-09 20:28:08,435] Trial 22 finished with value: 1.252516802353195 and parameters: {'lr': 0.06178246605239777, 'momentum': 0.909556090151987, 'dropout_rate': 0.24405919272723367}. Best is trial 9 with value: 1.16698174235187.\n"
          ]
        },
        {
          "output_type": "stream",
          "name": "stdout",
          "text": [
            "Epoch [10/10], Train Loss: 1.2499, Val Loss: 1.2525, Val Accuracy: 66.72%\n",
            "Epoch [1/10], Train Loss: 2.1597, Val Loss: 2.0058, Val Accuracy: 29.72%\n",
            "Epoch [2/10], Train Loss: 1.9004, Val Loss: 1.7834, Val Accuracy: 40.06%\n",
            "Epoch [3/10], Train Loss: 1.7583, Val Loss: 1.6848, Val Accuracy: 44.60%\n",
            "Epoch [4/10], Train Loss: 1.6651, Val Loss: 1.6245, Val Accuracy: 47.48%\n",
            "Epoch [5/10], Train Loss: 1.5907, Val Loss: 1.5259, Val Accuracy: 52.98%\n",
            "Epoch [6/10], Train Loss: 1.5198, Val Loss: 1.4498, Val Accuracy: 56.72%\n",
            "Epoch [7/10], Train Loss: 1.4524, Val Loss: 1.4017, Val Accuracy: 58.98%\n",
            "Epoch [8/10], Train Loss: 1.4077, Val Loss: 1.3752, Val Accuracy: 60.48%\n",
            "Epoch [9/10], Train Loss: 1.3598, Val Loss: 1.3190, Val Accuracy: 64.12%\n"
          ]
        },
        {
          "output_type": "stream",
          "name": "stderr",
          "text": [
            "[I 2024-11-09 20:30:34,144] Trial 23 finished with value: 1.3278553712217114 and parameters: {'lr': 0.019658966638786683, 'momentum': 0.7789143881900824, 'dropout_rate': 0.20875625385911323}. Best is trial 9 with value: 1.16698174235187.\n"
          ]
        },
        {
          "output_type": "stream",
          "name": "stdout",
          "text": [
            "Epoch [10/10], Train Loss: 1.3177, Val Loss: 1.3279, Val Accuracy: 62.81%\n",
            "Epoch [1/10], Train Loss: 2.2252, Val Loss: 2.0405, Val Accuracy: 27.94%\n",
            "Epoch [2/10], Train Loss: 1.9508, Val Loss: 1.8515, Val Accuracy: 37.70%\n",
            "Epoch [3/10], Train Loss: 1.8065, Val Loss: 1.7286, Val Accuracy: 42.53%\n",
            "Epoch [4/10], Train Loss: 1.7276, Val Loss: 1.6580, Val Accuracy: 46.58%\n",
            "Epoch [5/10], Train Loss: 1.6561, Val Loss: 1.5844, Val Accuracy: 50.15%\n",
            "Epoch [6/10], Train Loss: 1.5964, Val Loss: 1.5341, Val Accuracy: 53.07%\n",
            "Epoch [7/10], Train Loss: 1.5307, Val Loss: 1.4679, Val Accuracy: 56.58%\n",
            "Epoch [8/10], Train Loss: 1.4753, Val Loss: 1.4019, Val Accuracy: 59.02%\n",
            "Epoch [9/10], Train Loss: 1.4234, Val Loss: 1.3415, Val Accuracy: 62.32%\n"
          ]
        },
        {
          "output_type": "stream",
          "name": "stderr",
          "text": [
            "[I 2024-11-09 20:32:58,774] Trial 24 finished with value: 1.328961643991591 and parameters: {'lr': 0.01244517061435096, 'momentum': 0.8375799776994068, 'dropout_rate': 0.366058057967232}. Best is trial 9 with value: 1.16698174235187.\n"
          ]
        },
        {
          "output_type": "stream",
          "name": "stdout",
          "text": [
            "Epoch [10/10], Train Loss: 1.3784, Val Loss: 1.3290, Val Accuracy: 62.92%\n",
            "Epoch [1/10], Train Loss: 2.0294, Val Loss: 1.8153, Val Accuracy: 38.51%\n",
            "Epoch [2/10], Train Loss: 1.7565, Val Loss: 1.6048, Val Accuracy: 48.12%\n",
            "Epoch [3/10], Train Loss: 1.5736, Val Loss: 1.4924, Val Accuracy: 54.98%\n",
            "Epoch [4/10], Train Loss: 1.4703, Val Loss: 1.4316, Val Accuracy: 58.58%\n",
            "Epoch [5/10], Train Loss: 1.4004, Val Loss: 1.3210, Val Accuracy: 63.11%\n",
            "Epoch [6/10], Train Loss: 1.3547, Val Loss: 1.3340, Val Accuracy: 62.94%\n",
            "Epoch [7/10], Train Loss: 1.3282, Val Loss: 1.2664, Val Accuracy: 65.64%\n",
            "Epoch [8/10], Train Loss: 1.2946, Val Loss: 1.2366, Val Accuracy: 67.36%\n",
            "Epoch [9/10], Train Loss: 1.2646, Val Loss: 1.2478, Val Accuracy: 66.61%\n"
          ]
        },
        {
          "output_type": "stream",
          "name": "stderr",
          "text": [
            "[I 2024-11-09 20:35:24,068] Trial 25 finished with value: 1.2457547972473917 and parameters: {'lr': 0.02990278764925513, 'momentum': 0.9524062893357704, 'dropout_rate': 0.3052438346616828}. Best is trial 9 with value: 1.16698174235187.\n"
          ]
        },
        {
          "output_type": "stream",
          "name": "stdout",
          "text": [
            "Epoch [10/10], Train Loss: 1.2661, Val Loss: 1.2458, Val Accuracy: 66.59%\n",
            "Epoch [1/10], Train Loss: 2.2930, Val Loss: 2.2511, Val Accuracy: 20.36%\n",
            "Epoch [2/10], Train Loss: 2.1167, Val Loss: 2.0309, Val Accuracy: 28.11%\n",
            "Epoch [3/10], Train Loss: 1.9821, Val Loss: 1.9110, Val Accuracy: 34.24%\n",
            "Epoch [4/10], Train Loss: 1.8731, Val Loss: 1.8108, Val Accuracy: 38.31%\n",
            "Epoch [5/10], Train Loss: 1.8053, Val Loss: 1.7551, Val Accuracy: 41.74%\n",
            "Epoch [6/10], Train Loss: 1.7574, Val Loss: 1.7247, Val Accuracy: 43.30%\n",
            "Epoch [7/10], Train Loss: 1.7138, Val Loss: 1.6616, Val Accuracy: 45.80%\n",
            "Epoch [8/10], Train Loss: 1.6759, Val Loss: 1.6416, Val Accuracy: 47.88%\n",
            "Epoch [9/10], Train Loss: 1.6384, Val Loss: 1.6000, Val Accuracy: 48.71%\n"
          ]
        },
        {
          "output_type": "stream",
          "name": "stderr",
          "text": [
            "[I 2024-11-09 20:37:49,458] Trial 26 finished with value: 1.5500203069252303 and parameters: {'lr': 0.004144817925050489, 'momentum': 0.8788873046697854, 'dropout_rate': 0.2684465377500479}. Best is trial 9 with value: 1.16698174235187.\n"
          ]
        },
        {
          "output_type": "stream",
          "name": "stdout",
          "text": [
            "Epoch [10/10], Train Loss: 1.6022, Val Loss: 1.5500, Val Accuracy: 52.12%\n",
            "Epoch [1/10], Train Loss: 2.1197, Val Loss: 2.0104, Val Accuracy: 30.11%\n",
            "Epoch [2/10], Train Loss: 1.8354, Val Loss: 1.7351, Val Accuracy: 42.19%\n",
            "Epoch [3/10], Train Loss: 1.6943, Val Loss: 1.5635, Val Accuracy: 51.00%\n",
            "Epoch [4/10], Train Loss: 1.5824, Val Loss: 1.4965, Val Accuracy: 55.94%\n",
            "Epoch [5/10], Train Loss: 1.4922, Val Loss: 1.3851, Val Accuracy: 60.20%\n",
            "Epoch [6/10], Train Loss: 1.4158, Val Loss: 1.3774, Val Accuracy: 60.16%\n",
            "Epoch [7/10], Train Loss: 1.3698, Val Loss: 1.3239, Val Accuracy: 62.93%\n",
            "Epoch [8/10], Train Loss: 1.3237, Val Loss: 1.2989, Val Accuracy: 64.24%\n",
            "Epoch [9/10], Train Loss: 1.2858, Val Loss: 1.2175, Val Accuracy: 68.21%\n"
          ]
        },
        {
          "output_type": "stream",
          "name": "stderr",
          "text": [
            "[I 2024-11-09 20:40:14,860] Trial 27 finished with value: 1.200988540166541 and parameters: {'lr': 0.04892400770099514, 'momentum': 0.7561260246886299, 'dropout_rate': 0.47024653554333684}. Best is trial 9 with value: 1.16698174235187.\n"
          ]
        },
        {
          "output_type": "stream",
          "name": "stdout",
          "text": [
            "Epoch [10/10], Train Loss: 1.2605, Val Loss: 1.2010, Val Accuracy: 69.44%\n",
            "Epoch [1/10], Train Loss: 2.0058, Val Loss: 1.8562, Val Accuracy: 36.38%\n",
            "Epoch [2/10], Train Loss: 1.7220, Val Loss: 1.6707, Val Accuracy: 46.12%\n",
            "Epoch [3/10], Train Loss: 1.5674, Val Loss: 1.5162, Val Accuracy: 54.19%\n",
            "Epoch [4/10], Train Loss: 1.4594, Val Loss: 1.3979, Val Accuracy: 59.51%\n",
            "Epoch [5/10], Train Loss: 1.3849, Val Loss: 1.3533, Val Accuracy: 61.56%\n",
            "Epoch [6/10], Train Loss: 1.3264, Val Loss: 1.3077, Val Accuracy: 64.03%\n",
            "Epoch [7/10], Train Loss: 1.2837, Val Loss: 1.2591, Val Accuracy: 65.74%\n",
            "Epoch [8/10], Train Loss: 1.2591, Val Loss: 1.2489, Val Accuracy: 67.11%\n",
            "Epoch [9/10], Train Loss: 1.2236, Val Loss: 1.2015, Val Accuracy: 68.92%\n"
          ]
        },
        {
          "output_type": "stream",
          "name": "stderr",
          "text": [
            "[I 2024-11-09 20:42:40,943] Trial 28 finished with value: 1.181805882272841 and parameters: {'lr': 0.06826831915547345, 'momentum': 0.8156121153079714, 'dropout_rate': 0.35324647481169114}. Best is trial 9 with value: 1.16698174235187.\n"
          ]
        },
        {
          "output_type": "stream",
          "name": "stdout",
          "text": [
            "Epoch [10/10], Train Loss: 1.2081, Val Loss: 1.1818, Val Accuracy: 69.12%\n",
            "Epoch [1/10], Train Loss: 2.0667, Val Loss: 1.9133, Val Accuracy: 34.05%\n",
            "Epoch [2/10], Train Loss: 1.8750, Val Loss: 1.8335, Val Accuracy: 37.79%\n",
            "Epoch [3/10], Train Loss: 1.8064, Val Loss: 1.7078, Val Accuracy: 44.41%\n",
            "Epoch [4/10], Train Loss: 1.7877, Val Loss: 1.7342, Val Accuracy: 43.38%\n",
            "Epoch [5/10], Train Loss: 1.7957, Val Loss: 1.7070, Val Accuracy: 44.56%\n",
            "Epoch [6/10], Train Loss: 1.7540, Val Loss: 1.7244, Val Accuracy: 44.68%\n",
            "Epoch [7/10], Train Loss: 1.7545, Val Loss: 1.7138, Val Accuracy: 44.15%\n",
            "Epoch [8/10], Train Loss: 1.7258, Val Loss: 1.6951, Val Accuracy: 45.69%\n",
            "Epoch [9/10], Train Loss: 1.7250, Val Loss: 1.6691, Val Accuracy: 48.03%\n"
          ]
        },
        {
          "output_type": "stream",
          "name": "stderr",
          "text": [
            "[I 2024-11-09 20:45:07,486] Trial 29 finished with value: 1.700876210309282 and parameters: {'lr': 0.0662769527412062, 'momentum': 0.9556582278751754, 'dropout_rate': 0.4051083304431705}. Best is trial 9 with value: 1.16698174235187.\n"
          ]
        },
        {
          "output_type": "stream",
          "name": "stdout",
          "text": [
            "Epoch [10/10], Train Loss: 1.7070, Val Loss: 1.7009, Val Accuracy: 45.46%\n",
            "Epoch [1/10], Train Loss: 2.0695, Val Loss: 1.9483, Val Accuracy: 30.77%\n",
            "Epoch [2/10], Train Loss: 1.8796, Val Loss: 1.7987, Val Accuracy: 38.63%\n",
            "Epoch [3/10], Train Loss: 1.8293, Val Loss: 1.7572, Val Accuracy: 41.21%\n",
            "Epoch [4/10], Train Loss: 1.8134, Val Loss: 1.7582, Val Accuracy: 41.55%\n",
            "Epoch [5/10], Train Loss: 1.8083, Val Loss: 1.7582, Val Accuracy: 40.99%\n",
            "Epoch [6/10], Train Loss: 1.7920, Val Loss: 1.7069, Val Accuracy: 44.89%\n",
            "Epoch [7/10], Train Loss: 1.8132, Val Loss: 1.7952, Val Accuracy: 40.26%\n",
            "Epoch [8/10], Train Loss: 1.8245, Val Loss: 1.7483, Val Accuracy: 42.27%\n"
          ]
        },
        {
          "output_type": "stream",
          "name": "stderr",
          "text": [
            "[I 2024-11-09 20:47:17,791] Trial 30 finished with value: 1.743337540686885 and parameters: {'lr': 0.025383258149712706, 'momentum': 0.9844053285936181, 'dropout_rate': 0.34701822949278543}. Best is trial 9 with value: 1.16698174235187.\n"
          ]
        },
        {
          "output_type": "stream",
          "name": "stdout",
          "text": [
            "Epoch [9/10], Train Loss: 1.8184, Val Loss: 1.7433, Val Accuracy: 43.08%\n",
            "Early stopping triggered.\n",
            "Epoch [1/10], Train Loss: 2.0141, Val Loss: 1.8229, Val Accuracy: 37.55%\n",
            "Epoch [2/10], Train Loss: 1.7229, Val Loss: 1.5616, Val Accuracy: 52.05%\n",
            "Epoch [3/10], Train Loss: 1.5545, Val Loss: 1.4447, Val Accuracy: 56.78%\n",
            "Epoch [4/10], Train Loss: 1.4487, Val Loss: 1.4011, Val Accuracy: 59.26%\n",
            "Epoch [5/10], Train Loss: 1.3815, Val Loss: 1.3318, Val Accuracy: 63.32%\n",
            "Epoch [6/10], Train Loss: 1.3320, Val Loss: 1.3020, Val Accuracy: 64.64%\n",
            "Epoch [7/10], Train Loss: 1.2998, Val Loss: 1.2478, Val Accuracy: 66.73%\n",
            "Epoch [8/10], Train Loss: 1.2633, Val Loss: 1.2184, Val Accuracy: 68.18%\n",
            "Epoch [9/10], Train Loss: 1.2348, Val Loss: 1.2159, Val Accuracy: 68.29%\n"
          ]
        },
        {
          "output_type": "stream",
          "name": "stderr",
          "text": [
            "[I 2024-11-09 20:49:46,666] Trial 31 finished with value: 1.2159296575980851 and parameters: {'lr': 0.07437490806501232, 'momentum': 0.8255793062285092, 'dropout_rate': 0.3889949983772378}. Best is trial 9 with value: 1.16698174235187.\n"
          ]
        },
        {
          "output_type": "stream",
          "name": "stdout",
          "text": [
            "Epoch [10/10], Train Loss: 1.2218, Val Loss: 1.2159, Val Accuracy: 68.20%\n",
            "Epoch [1/10], Train Loss: 2.1022, Val Loss: 1.9056, Val Accuracy: 33.15%\n",
            "Epoch [2/10], Train Loss: 1.8513, Val Loss: 1.7312, Val Accuracy: 42.27%\n",
            "Epoch [3/10], Train Loss: 1.7175, Val Loss: 1.6544, Val Accuracy: 45.72%\n",
            "Epoch [4/10], Train Loss: 1.6190, Val Loss: 1.5365, Val Accuracy: 52.76%\n",
            "Epoch [5/10], Train Loss: 1.5296, Val Loss: 1.4281, Val Accuracy: 57.91%\n",
            "Epoch [6/10], Train Loss: 1.4627, Val Loss: 1.3885, Val Accuracy: 59.97%\n",
            "Epoch [7/10], Train Loss: 1.4082, Val Loss: 1.3871, Val Accuracy: 60.52%\n",
            "Epoch [8/10], Train Loss: 1.3625, Val Loss: 1.4426, Val Accuracy: 57.92%\n",
            "Epoch [9/10], Train Loss: 1.3303, Val Loss: 1.3103, Val Accuracy: 63.28%\n"
          ]
        },
        {
          "output_type": "stream",
          "name": "stderr",
          "text": [
            "[I 2024-11-09 20:52:12,830] Trial 32 finished with value: 1.2295584859727304 and parameters: {'lr': 0.037595872209744606, 'momentum': 0.7049899636835725, 'dropout_rate': 0.42337942310938764}. Best is trial 9 with value: 1.16698174235187.\n"
          ]
        },
        {
          "output_type": "stream",
          "name": "stdout",
          "text": [
            "Epoch [10/10], Train Loss: 1.2923, Val Loss: 1.2296, Val Accuracy: 67.48%\n",
            "Epoch [1/10], Train Loss: 2.1877, Val Loss: 2.0131, Val Accuracy: 28.85%\n",
            "Epoch [2/10], Train Loss: 1.9168, Val Loss: 1.8037, Val Accuracy: 40.05%\n",
            "Epoch [3/10], Train Loss: 1.7847, Val Loss: 1.7005, Val Accuracy: 44.52%\n",
            "Epoch [4/10], Train Loss: 1.6983, Val Loss: 1.6128, Val Accuracy: 48.89%\n",
            "Epoch [5/10], Train Loss: 1.6231, Val Loss: 1.5874, Val Accuracy: 49.86%\n",
            "Epoch [6/10], Train Loss: 1.5495, Val Loss: 1.4913, Val Accuracy: 55.60%\n",
            "Epoch [7/10], Train Loss: 1.4907, Val Loss: 1.4119, Val Accuracy: 58.94%\n",
            "Epoch [8/10], Train Loss: 1.4320, Val Loss: 1.3569, Val Accuracy: 61.62%\n",
            "Epoch [9/10], Train Loss: 1.3887, Val Loss: 1.3294, Val Accuracy: 62.65%\n"
          ]
        },
        {
          "output_type": "stream",
          "name": "stderr",
          "text": [
            "[I 2024-11-09 20:54:36,874] Trial 33 finished with value: 1.2984581959398487 and parameters: {'lr': 0.012186733881962434, 'momentum': 0.8652787739512254, 'dropout_rate': 0.3510151068670522}. Best is trial 9 with value: 1.16698174235187.\n"
          ]
        },
        {
          "output_type": "stream",
          "name": "stdout",
          "text": [
            "Epoch [10/10], Train Loss: 1.3501, Val Loss: 1.2985, Val Accuracy: 64.15%\n",
            "Epoch [1/10], Train Loss: 2.1855, Val Loss: 1.9923, Val Accuracy: 30.35%\n",
            "Epoch [2/10], Train Loss: 1.9075, Val Loss: 1.8052, Val Accuracy: 38.60%\n",
            "Epoch [3/10], Train Loss: 1.7677, Val Loss: 1.7098, Val Accuracy: 43.01%\n",
            "Epoch [4/10], Train Loss: 1.6713, Val Loss: 1.5910, Val Accuracy: 49.53%\n",
            "Epoch [5/10], Train Loss: 1.5852, Val Loss: 1.5067, Val Accuracy: 54.83%\n",
            "Epoch [6/10], Train Loss: 1.5025, Val Loss: 1.4657, Val Accuracy: 56.15%\n",
            "Epoch [7/10], Train Loss: 1.4431, Val Loss: 1.3819, Val Accuracy: 60.56%\n",
            "Epoch [8/10], Train Loss: 1.3960, Val Loss: 1.3456, Val Accuracy: 61.98%\n",
            "Epoch [9/10], Train Loss: 1.3481, Val Loss: 1.3032, Val Accuracy: 64.04%\n"
          ]
        },
        {
          "output_type": "stream",
          "name": "stderr",
          "text": [
            "[I 2024-11-09 20:57:01,946] Trial 34 finished with value: 1.3015773718870138 and parameters: {'lr': 0.0203166165506753, 'momentum': 0.8090228725847717, 'dropout_rate': 0.3999073661409306}. Best is trial 9 with value: 1.16698174235187.\n"
          ]
        },
        {
          "output_type": "stream",
          "name": "stdout",
          "text": [
            "Epoch [10/10], Train Loss: 1.3155, Val Loss: 1.3016, Val Accuracy: 64.01%\n",
            "Epoch [1/10], Train Loss: 2.0049, Val Loss: 1.7933, Val Accuracy: 38.30%\n",
            "Epoch [2/10], Train Loss: 1.7522, Val Loss: 1.7213, Val Accuracy: 43.17%\n",
            "Epoch [3/10], Train Loss: 1.6479, Val Loss: 1.5096, Val Accuracy: 54.06%\n",
            "Epoch [4/10], Train Loss: 1.5793, Val Loss: 1.5186, Val Accuracy: 53.26%\n",
            "Epoch [5/10], Train Loss: 1.5526, Val Loss: 1.4740, Val Accuracy: 56.52%\n",
            "Epoch [6/10], Train Loss: 1.5038, Val Loss: 1.4184, Val Accuracy: 59.34%\n",
            "Epoch [7/10], Train Loss: 1.4661, Val Loss: 1.4554, Val Accuracy: 57.50%\n",
            "Epoch [8/10], Train Loss: 1.4699, Val Loss: 1.4472, Val Accuracy: 57.95%\n"
          ]
        },
        {
          "output_type": "stream",
          "name": "stderr",
          "text": [
            "[I 2024-11-09 20:59:12,984] Trial 35 finished with value: 1.4782484860359868 and parameters: {'lr': 0.09970205111320223, 'momentum': 0.9101617985325514, 'dropout_rate': 0.38184381229731207}. Best is trial 9 with value: 1.16698174235187.\n"
          ]
        },
        {
          "output_type": "stream",
          "name": "stdout",
          "text": [
            "Epoch [9/10], Train Loss: 1.4388, Val Loss: 1.4782, Val Accuracy: 56.81%\n",
            "Early stopping triggered.\n",
            "Epoch [1/10], Train Loss: 2.0836, Val Loss: 1.8867, Val Accuracy: 34.50%\n",
            "Epoch [2/10], Train Loss: 1.8164, Val Loss: 1.7248, Val Accuracy: 43.63%\n",
            "Epoch [3/10], Train Loss: 1.6884, Val Loss: 1.6089, Val Accuracy: 49.86%\n",
            "Epoch [4/10], Train Loss: 1.5906, Val Loss: 1.5179, Val Accuracy: 54.56%\n",
            "Epoch [5/10], Train Loss: 1.4926, Val Loss: 1.4021, Val Accuracy: 59.57%\n",
            "Epoch [6/10], Train Loss: 1.4106, Val Loss: 1.3531, Val Accuracy: 61.85%\n",
            "Epoch [7/10], Train Loss: 1.3534, Val Loss: 1.3113, Val Accuracy: 63.87%\n",
            "Epoch [8/10], Train Loss: 1.3109, Val Loss: 1.2661, Val Accuracy: 66.58%\n",
            "Epoch [9/10], Train Loss: 1.2716, Val Loss: 1.2501, Val Accuracy: 66.71%\n"
          ]
        },
        {
          "output_type": "stream",
          "name": "stderr",
          "text": [
            "[I 2024-11-09 21:01:37,961] Trial 36 finished with value: 1.2250828742980957 and parameters: {'lr': 0.05580103062083896, 'momentum': 0.67395941834029, 'dropout_rate': 0.27914330583026414}. Best is trial 9 with value: 1.16698174235187.\n"
          ]
        },
        {
          "output_type": "stream",
          "name": "stdout",
          "text": [
            "Epoch [10/10], Train Loss: 1.2432, Val Loss: 1.2251, Val Accuracy: 68.53%\n",
            "Epoch [1/10], Train Loss: 2.1373, Val Loss: 1.9525, Val Accuracy: 30.75%\n",
            "Epoch [2/10], Train Loss: 1.8617, Val Loss: 1.7615, Val Accuracy: 41.78%\n",
            "Epoch [3/10], Train Loss: 1.7267, Val Loss: 1.6169, Val Accuracy: 48.28%\n",
            "Epoch [4/10], Train Loss: 1.6287, Val Loss: 1.5678, Val Accuracy: 51.08%\n",
            "Epoch [5/10], Train Loss: 1.5368, Val Loss: 1.5496, Val Accuracy: 52.43%\n",
            "Epoch [6/10], Train Loss: 1.4628, Val Loss: 1.4568, Val Accuracy: 55.90%\n",
            "Epoch [7/10], Train Loss: 1.4079, Val Loss: 1.3967, Val Accuracy: 59.74%\n",
            "Epoch [8/10], Train Loss: 1.3593, Val Loss: 1.3594, Val Accuracy: 61.88%\n",
            "Epoch [9/10], Train Loss: 1.3214, Val Loss: 1.2785, Val Accuracy: 65.36%\n"
          ]
        },
        {
          "output_type": "stream",
          "name": "stderr",
          "text": [
            "[I 2024-11-09 21:04:02,098] Trial 37 finished with value: 1.265279519407055 and parameters: {'lr': 0.02812591984257865, 'momentum': 0.7617705787466305, 'dropout_rate': 0.3149002984521745}. Best is trial 9 with value: 1.16698174235187.\n"
          ]
        },
        {
          "output_type": "stream",
          "name": "stdout",
          "text": [
            "Epoch [10/10], Train Loss: 1.2905, Val Loss: 1.2653, Val Accuracy: 66.34%\n",
            "Epoch [1/10], Train Loss: 2.3017, Val Loss: 2.2994, Val Accuracy: 12.39%\n",
            "Epoch [2/10], Train Loss: 2.2969, Val Loss: 2.2925, Val Accuracy: 19.27%\n",
            "Epoch [3/10], Train Loss: 2.2864, Val Loss: 2.2726, Val Accuracy: 21.24%\n",
            "Epoch [4/10], Train Loss: 2.2451, Val Loss: 2.1984, Val Accuracy: 21.67%\n",
            "Epoch [5/10], Train Loss: 2.1605, Val Loss: 2.1084, Val Accuracy: 24.69%\n",
            "Epoch [6/10], Train Loss: 2.0964, Val Loss: 2.0670, Val Accuracy: 26.02%\n",
            "Epoch [7/10], Train Loss: 2.0649, Val Loss: 2.0412, Val Accuracy: 27.39%\n",
            "Epoch [8/10], Train Loss: 2.0342, Val Loss: 2.0046, Val Accuracy: 29.66%\n",
            "Epoch [9/10], Train Loss: 2.0068, Val Loss: 1.9815, Val Accuracy: 30.77%\n"
          ]
        },
        {
          "output_type": "stream",
          "name": "stderr",
          "text": [
            "[I 2024-11-09 21:06:27,745] Trial 38 finished with value: 1.942029046106942 and parameters: {'lr': 0.0005961291012655828, 'momentum': 0.9231573794994842, 'dropout_rate': 0.3297310705351573}. Best is trial 9 with value: 1.16698174235187.\n"
          ]
        },
        {
          "output_type": "stream",
          "name": "stdout",
          "text": [
            "Epoch [10/10], Train Loss: 1.9760, Val Loss: 1.9420, Val Accuracy: 33.08%\n",
            "Epoch [1/10], Train Loss: 2.1479, Val Loss: 1.9740, Val Accuracy: 29.32%\n",
            "Epoch [2/10], Train Loss: 1.8835, Val Loss: 1.8393, Val Accuracy: 38.21%\n",
            "Epoch [3/10], Train Loss: 1.7573, Val Loss: 1.6650, Val Accuracy: 45.47%\n",
            "Epoch [4/10], Train Loss: 1.6655, Val Loss: 1.6897, Val Accuracy: 44.91%\n",
            "Epoch [5/10], Train Loss: 1.5850, Val Loss: 1.5279, Val Accuracy: 52.78%\n",
            "Epoch [6/10], Train Loss: 1.5093, Val Loss: 1.4852, Val Accuracy: 55.44%\n",
            "Epoch [7/10], Train Loss: 1.4521, Val Loss: 1.4407, Val Accuracy: 57.47%\n",
            "Epoch [8/10], Train Loss: 1.4005, Val Loss: 1.3848, Val Accuracy: 60.42%\n",
            "Epoch [9/10], Train Loss: 1.3580, Val Loss: 1.3229, Val Accuracy: 63.20%\n"
          ]
        },
        {
          "output_type": "stream",
          "name": "stderr",
          "text": [
            "[I 2024-11-09 21:08:52,192] Trial 39 finished with value: 1.322375394121001 and parameters: {'lr': 0.04409895357661086, 'momentum': 0.5574922465685062, 'dropout_rate': 0.23626873675355292}. Best is trial 9 with value: 1.16698174235187.\n"
          ]
        },
        {
          "output_type": "stream",
          "name": "stdout",
          "text": [
            "Epoch [10/10], Train Loss: 1.3245, Val Loss: 1.3224, Val Accuracy: 63.06%\n",
            "Epoch [1/10], Train Loss: 2.3018, Val Loss: 2.2982, Val Accuracy: 17.90%\n",
            "Epoch [2/10], Train Loss: 2.2921, Val Loss: 2.2769, Val Accuracy: 20.18%\n",
            "Epoch [3/10], Train Loss: 2.2262, Val Loss: 2.1387, Val Accuracy: 22.85%\n",
            "Epoch [4/10], Train Loss: 2.1045, Val Loss: 2.0630, Val Accuracy: 26.84%\n",
            "Epoch [5/10], Train Loss: 2.0469, Val Loss: 1.9991, Val Accuracy: 29.44%\n",
            "Epoch [6/10], Train Loss: 1.9906, Val Loss: 1.9551, Val Accuracy: 31.99%\n",
            "Epoch [7/10], Train Loss: 1.9390, Val Loss: 1.8961, Val Accuracy: 34.34%\n",
            "Epoch [8/10], Train Loss: 1.8917, Val Loss: 1.8366, Val Accuracy: 36.92%\n",
            "Epoch [9/10], Train Loss: 1.8467, Val Loss: 1.7967, Val Accuracy: 39.21%\n"
          ]
        },
        {
          "output_type": "stream",
          "name": "stderr",
          "text": [
            "[I 2024-11-09 21:11:17,029] Trial 40 finished with value: 1.7797935280618788 and parameters: {'lr': 0.0022662101563823336, 'momentum': 0.8411985763491353, 'dropout_rate': 0.3553155470255579}. Best is trial 9 with value: 1.16698174235187.\n"
          ]
        },
        {
          "output_type": "stream",
          "name": "stdout",
          "text": [
            "Epoch [10/10], Train Loss: 1.8179, Val Loss: 1.7798, Val Accuracy: 40.11%\n",
            "Epoch [1/10], Train Loss: 2.0564, Val Loss: 1.8553, Val Accuracy: 35.10%\n",
            "Epoch [2/10], Train Loss: 1.7666, Val Loss: 1.6904, Val Accuracy: 45.11%\n",
            "Epoch [3/10], Train Loss: 1.6131, Val Loss: 1.5253, Val Accuracy: 52.99%\n",
            "Epoch [4/10], Train Loss: 1.4911, Val Loss: 1.4192, Val Accuracy: 58.80%\n",
            "Epoch [5/10], Train Loss: 1.4122, Val Loss: 1.3687, Val Accuracy: 61.27%\n",
            "Epoch [6/10], Train Loss: 1.3475, Val Loss: 1.3246, Val Accuracy: 63.58%\n",
            "Epoch [7/10], Train Loss: 1.2976, Val Loss: 1.2683, Val Accuracy: 65.97%\n",
            "Epoch [8/10], Train Loss: 1.2648, Val Loss: 1.2450, Val Accuracy: 67.63%\n",
            "Epoch [9/10], Train Loss: 1.2323, Val Loss: 1.1961, Val Accuracy: 69.36%\n"
          ]
        },
        {
          "output_type": "stream",
          "name": "stderr",
          "text": [
            "[I 2024-11-09 21:13:40,972] Trial 41 finished with value: 1.1944260604773895 and parameters: {'lr': 0.032593494741049424, 'momentum': 0.8603609942744344, 'dropout_rate': 0.29002440386906125}. Best is trial 9 with value: 1.16698174235187.\n"
          ]
        },
        {
          "output_type": "stream",
          "name": "stdout",
          "text": [
            "Epoch [10/10], Train Loss: 1.2005, Val Loss: 1.1944, Val Accuracy: 69.54%\n",
            "Epoch [1/10], Train Loss: 1.9852, Val Loss: 1.7643, Val Accuracy: 40.56%\n",
            "Epoch [2/10], Train Loss: 1.6888, Val Loss: 1.5709, Val Accuracy: 50.41%\n",
            "Epoch [3/10], Train Loss: 1.5299, Val Loss: 1.4436, Val Accuracy: 57.37%\n",
            "Epoch [4/10], Train Loss: 1.4404, Val Loss: 1.3788, Val Accuracy: 60.26%\n",
            "Epoch [5/10], Train Loss: 1.3803, Val Loss: 1.3442, Val Accuracy: 61.72%\n",
            "Epoch [6/10], Train Loss: 1.3291, Val Loss: 1.2879, Val Accuracy: 65.28%\n",
            "Epoch [7/10], Train Loss: 1.3063, Val Loss: 1.2620, Val Accuracy: 66.08%\n",
            "Epoch [8/10], Train Loss: 1.2784, Val Loss: 1.2336, Val Accuracy: 67.92%\n",
            "Epoch [9/10], Train Loss: 1.2523, Val Loss: 1.2562, Val Accuracy: 66.62%\n"
          ]
        },
        {
          "output_type": "stream",
          "name": "stderr",
          "text": [
            "[I 2024-11-09 21:16:05,678] Trial 42 finished with value: 1.2799821805350389 and parameters: {'lr': 0.06766463202274717, 'momentum': 0.8998632370325598, 'dropout_rate': 0.2441501767345658}. Best is trial 9 with value: 1.16698174235187.\n"
          ]
        },
        {
          "output_type": "stream",
          "name": "stdout",
          "text": [
            "Epoch [10/10], Train Loss: 1.2368, Val Loss: 1.2800, Val Accuracy: 65.88%\n",
            "Epoch [1/10], Train Loss: 2.2466, Val Loss: 2.1142, Val Accuracy: 22.76%\n",
            "Epoch [2/10], Train Loss: 2.0027, Val Loss: 1.8855, Val Accuracy: 34.39%\n",
            "Epoch [3/10], Train Loss: 1.8633, Val Loss: 1.7844, Val Accuracy: 41.03%\n",
            "Epoch [4/10], Train Loss: 1.7745, Val Loss: 1.7085, Val Accuracy: 43.53%\n",
            "Epoch [5/10], Train Loss: 1.7089, Val Loss: 1.6438, Val Accuracy: 46.95%\n",
            "Epoch [6/10], Train Loss: 1.6573, Val Loss: 1.6308, Val Accuracy: 48.08%\n",
            "Epoch [7/10], Train Loss: 1.6089, Val Loss: 1.5635, Val Accuracy: 50.82%\n",
            "Epoch [8/10], Train Loss: 1.5622, Val Loss: 1.4943, Val Accuracy: 54.59%\n",
            "Epoch [9/10], Train Loss: 1.5093, Val Loss: 1.4767, Val Accuracy: 54.88%\n"
          ]
        },
        {
          "output_type": "stream",
          "name": "stderr",
          "text": [
            "[I 2024-11-09 21:18:30,630] Trial 43 finished with value: 1.4232289911825446 and parameters: {'lr': 0.00847922094916627, 'momentum': 0.8504426379705248, 'dropout_rate': 0.29890987454897894}. Best is trial 9 with value: 1.16698174235187.\n"
          ]
        },
        {
          "output_type": "stream",
          "name": "stdout",
          "text": [
            "Epoch [10/10], Train Loss: 1.4688, Val Loss: 1.4232, Val Accuracy: 57.87%\n",
            "Epoch [1/10], Train Loss: 2.2374, Val Loss: 2.0632, Val Accuracy: 24.48%\n",
            "Epoch [2/10], Train Loss: 1.9832, Val Loss: 1.8897, Val Accuracy: 34.61%\n",
            "Epoch [3/10], Train Loss: 1.8435, Val Loss: 1.7570, Val Accuracy: 41.14%\n",
            "Epoch [4/10], Train Loss: 1.7584, Val Loss: 1.6604, Val Accuracy: 46.23%\n",
            "Epoch [5/10], Train Loss: 1.6896, Val Loss: 1.6117, Val Accuracy: 48.66%\n",
            "Epoch [6/10], Train Loss: 1.6237, Val Loss: 1.5782, Val Accuracy: 50.41%\n",
            "Epoch [7/10], Train Loss: 1.5727, Val Loss: 1.4900, Val Accuracy: 54.47%\n",
            "Epoch [8/10], Train Loss: 1.5104, Val Loss: 1.4385, Val Accuracy: 57.05%\n",
            "Epoch [9/10], Train Loss: 1.4629, Val Loss: 1.3951, Val Accuracy: 60.51%\n"
          ]
        },
        {
          "output_type": "stream",
          "name": "stderr",
          "text": [
            "[I 2024-11-09 21:20:56,589] Trial 44 finished with value: 1.3409772130507458 and parameters: {'lr': 0.015682134868335536, 'momentum': 0.7984706927298434, 'dropout_rate': 0.47901623009841343}. Best is trial 9 with value: 1.16698174235187.\n"
          ]
        },
        {
          "output_type": "stream",
          "name": "stdout",
          "text": [
            "Epoch [10/10], Train Loss: 1.4209, Val Loss: 1.3410, Val Accuracy: 62.33%\n",
            "Epoch [1/10], Train Loss: 2.0399, Val Loss: 1.7789, Val Accuracy: 40.02%\n",
            "Epoch [2/10], Train Loss: 1.7534, Val Loss: 1.6311, Val Accuracy: 47.11%\n",
            "Epoch [3/10], Train Loss: 1.5979, Val Loss: 1.4976, Val Accuracy: 54.35%\n",
            "Epoch [4/10], Train Loss: 1.4905, Val Loss: 1.4054, Val Accuracy: 59.30%\n",
            "Epoch [5/10], Train Loss: 1.4139, Val Loss: 1.3698, Val Accuracy: 60.72%\n",
            "Epoch [6/10], Train Loss: 1.3587, Val Loss: 1.2970, Val Accuracy: 64.20%\n",
            "Epoch [7/10], Train Loss: 1.3142, Val Loss: 1.2602, Val Accuracy: 66.02%\n",
            "Epoch [8/10], Train Loss: 1.2748, Val Loss: 1.2225, Val Accuracy: 67.47%\n",
            "Epoch [9/10], Train Loss: 1.2406, Val Loss: 1.2127, Val Accuracy: 68.97%\n"
          ]
        },
        {
          "output_type": "stream",
          "name": "stderr",
          "text": [
            "[I 2024-11-09 21:23:22,799] Trial 45 finished with value: 1.1887770227239103 and parameters: {'lr': 0.04061401863664256, 'momentum': 0.8794955630151114, 'dropout_rate': 0.43592840619418116}. Best is trial 9 with value: 1.16698174235187.\n"
          ]
        },
        {
          "output_type": "stream",
          "name": "stdout",
          "text": [
            "Epoch [10/10], Train Loss: 1.2240, Val Loss: 1.1888, Val Accuracy: 69.22%\n",
            "Epoch [1/10], Train Loss: 2.0500, Val Loss: 1.8060, Val Accuracy: 38.50%\n",
            "Epoch [2/10], Train Loss: 1.7545, Val Loss: 1.6315, Val Accuracy: 47.17%\n",
            "Epoch [3/10], Train Loss: 1.6006, Val Loss: 1.4837, Val Accuracy: 55.46%\n",
            "Epoch [4/10], Train Loss: 1.4929, Val Loss: 1.4110, Val Accuracy: 58.76%\n",
            "Epoch [5/10], Train Loss: 1.4298, Val Loss: 1.3773, Val Accuracy: 60.02%\n",
            "Epoch [6/10], Train Loss: 1.3621, Val Loss: 1.3144, Val Accuracy: 62.99%\n",
            "Epoch [7/10], Train Loss: 1.3299, Val Loss: 1.2580, Val Accuracy: 66.29%\n",
            "Epoch [8/10], Train Loss: 1.2883, Val Loss: 1.2756, Val Accuracy: 65.10%\n",
            "Epoch [9/10], Train Loss: 1.2662, Val Loss: 1.1906, Val Accuracy: 69.26%\n"
          ]
        },
        {
          "output_type": "stream",
          "name": "stderr",
          "text": [
            "[I 2024-11-09 21:25:49,118] Trial 46 finished with value: 1.226438040974774 and parameters: {'lr': 0.02758055006427774, 'momentum': 0.9335948847927334, 'dropout_rate': 0.434286936669302}. Best is trial 9 with value: 1.16698174235187.\n"
          ]
        },
        {
          "output_type": "stream",
          "name": "stdout",
          "text": [
            "Epoch [10/10], Train Loss: 1.2520, Val Loss: 1.2264, Val Accuracy: 67.85%\n",
            "Epoch [1/10], Train Loss: 2.0278, Val Loss: 1.7837, Val Accuracy: 40.06%\n",
            "Epoch [2/10], Train Loss: 1.7364, Val Loss: 1.5906, Val Accuracy: 49.70%\n",
            "Epoch [3/10], Train Loss: 1.5850, Val Loss: 1.4907, Val Accuracy: 55.17%\n",
            "Epoch [4/10], Train Loss: 1.4727, Val Loss: 1.3914, Val Accuracy: 60.04%\n",
            "Epoch [5/10], Train Loss: 1.4069, Val Loss: 1.3316, Val Accuracy: 62.82%\n",
            "Epoch [6/10], Train Loss: 1.3485, Val Loss: 1.2848, Val Accuracy: 64.63%\n",
            "Epoch [7/10], Train Loss: 1.3053, Val Loss: 1.2664, Val Accuracy: 66.03%\n",
            "Epoch [8/10], Train Loss: 1.2680, Val Loss: 1.2456, Val Accuracy: 66.99%\n",
            "Epoch [9/10], Train Loss: 1.2506, Val Loss: 1.2397, Val Accuracy: 67.25%\n"
          ]
        },
        {
          "output_type": "stream",
          "name": "stderr",
          "text": [
            "[I 2024-11-09 21:28:15,109] Trial 47 finished with value: 1.2058816061744206 and parameters: {'lr': 0.04718934686873549, 'momentum': 0.8824177580568235, 'dropout_rate': 0.43818323340691634}. Best is trial 9 with value: 1.16698174235187.\n"
          ]
        },
        {
          "output_type": "stream",
          "name": "stdout",
          "text": [
            "Epoch [10/10], Train Loss: 1.2343, Val Loss: 1.2059, Val Accuracy: 68.81%\n",
            "Epoch [1/10], Train Loss: 2.2263, Val Loss: 2.0703, Val Accuracy: 27.04%\n",
            "Epoch [2/10], Train Loss: 1.9871, Val Loss: 1.8967, Val Accuracy: 33.96%\n",
            "Epoch [3/10], Train Loss: 1.8606, Val Loss: 1.7820, Val Accuracy: 40.47%\n",
            "Epoch [4/10], Train Loss: 1.7867, Val Loss: 1.7201, Val Accuracy: 43.01%\n",
            "Epoch [5/10], Train Loss: 1.7149, Val Loss: 1.6436, Val Accuracy: 47.28%\n",
            "Epoch [6/10], Train Loss: 1.6565, Val Loss: 1.5833, Val Accuracy: 49.33%\n",
            "Epoch [7/10], Train Loss: 1.6081, Val Loss: 1.5385, Val Accuracy: 52.27%\n",
            "Epoch [8/10], Train Loss: 1.5533, Val Loss: 1.5102, Val Accuracy: 53.90%\n",
            "Epoch [9/10], Train Loss: 1.5151, Val Loss: 1.4834, Val Accuracy: 55.57%\n"
          ]
        },
        {
          "output_type": "stream",
          "name": "stderr",
          "text": [
            "[I 2024-11-09 21:30:40,883] Trial 48 finished with value: 1.4167156476008742 and parameters: {'lr': 0.010245761980110978, 'momentum': 0.8277159064859703, 'dropout_rate': 0.40865502605721915}. Best is trial 9 with value: 1.16698174235187.\n"
          ]
        },
        {
          "output_type": "stream",
          "name": "stdout",
          "text": [
            "Epoch [10/10], Train Loss: 1.4744, Val Loss: 1.4167, Val Accuracy: 58.48%\n",
            "Epoch [1/10], Train Loss: 1.9965, Val Loss: 1.7721, Val Accuracy: 39.55%\n",
            "Epoch [2/10], Train Loss: 1.7105, Val Loss: 1.5946, Val Accuracy: 49.85%\n",
            "Epoch [3/10], Train Loss: 1.5824, Val Loss: 1.4661, Val Accuracy: 56.54%\n",
            "Epoch [4/10], Train Loss: 1.4961, Val Loss: 1.3919, Val Accuracy: 59.92%\n",
            "Epoch [5/10], Train Loss: 1.4310, Val Loss: 1.3380, Val Accuracy: 61.98%\n",
            "Epoch [6/10], Train Loss: 1.3956, Val Loss: 1.3575, Val Accuracy: 62.93%\n",
            "Epoch [7/10], Train Loss: 1.3591, Val Loss: 1.2823, Val Accuracy: 65.30%\n",
            "Epoch [8/10], Train Loss: 1.3413, Val Loss: 1.3199, Val Accuracy: 63.18%\n",
            "Epoch [9/10], Train Loss: 1.3108, Val Loss: 1.2607, Val Accuracy: 65.79%\n"
          ]
        },
        {
          "output_type": "stream",
          "name": "stderr",
          "text": [
            "[I 2024-11-09 21:33:05,146] Trial 49 finished with value: 1.2754171588752843 and parameters: {'lr': 0.07718146054402725, 'momentum': 0.8816267054003644, 'dropout_rate': 0.45358887378463714}. Best is trial 9 with value: 1.16698174235187.\n"
          ]
        },
        {
          "output_type": "stream",
          "name": "stdout",
          "text": [
            "Epoch [10/10], Train Loss: 1.2954, Val Loss: 1.2754, Val Accuracy: 66.26%\n",
            "Best hyperparameters: {'lr': 0.027264305771265665, 'momentum': 0.907606332629421, 'dropout_rate': 0.4402153564262413}\n"
          ]
        }
      ]
    },
    {
      "cell_type": "markdown",
      "source": [
        "**Retrain with Optimized Hyperparameters and Evaluate on Test Set**"
      ],
      "metadata": {
        "id": "CEPUKMCSYIcP"
      }
    },
    {
      "cell_type": "code",
      "source": [
        "from sklearn.metrics import classification_report, confusion_matrix\n",
        "import numpy as np\n",
        "\n",
        "# Retrieve best hyperparameters from the Optuna study\n",
        "best_lr = best_params['lr']\n",
        "best_momentum = best_params['momentum']\n",
        "best_dropout_rate = best_params['dropout_rate']\n",
        "\n",
        "# Reinitialize the model with the optimized dropout rate\n",
        "model = BaselineCNN(dropout_rate=best_dropout_rate).to(device)\n",
        "\n",
        "# Set up optimizer with the optimized learning rate and momentum\n",
        "optimizer = torch.optim.SGD(model.parameters(), lr=best_lr, momentum=best_momentum, weight_decay=5e-4)\n",
        "criterion = torch.nn.CrossEntropyLoss(label_smoothing=0.1)\n",
        "scheduler = StepLR(optimizer, step_size=30, gamma=0.1)\n",
        "\n",
        "# Retrain the model on the training set (Optionally, use combined training + validation set)\n",
        "trained_model, history = train_model(\n",
        "    model=model,\n",
        "    train_loader=train_loader,  # Optionally, use combined set for final training\n",
        "    val_loader=val_loader,      # Keep validation set for tracking or omit if using combined set\n",
        "    criterion=criterion,\n",
        "    optimizer=optimizer,\n",
        "    scheduler=scheduler,\n",
        "    device=device,\n",
        "    num_epochs=50,\n",
        "    patience=5\n",
        ")\n",
        "\n",
        "# Evaluate the trained model on the test set\n",
        "model.eval()  # Set model to evaluation mode\n",
        "\n",
        "all_preds = []\n",
        "all_labels = []\n",
        "\n",
        "# Disable gradient calculations for faster performance during testing\n",
        "with torch.no_grad():\n",
        "    for inputs, labels in test_loader:\n",
        "        inputs, labels = inputs.to(device), labels.to(device)\n",
        "        outputs = model(inputs)\n",
        "        _, predicted = torch.max(outputs, 1)\n",
        "        all_preds.extend(predicted.cpu().numpy())\n",
        "        all_labels.extend(labels.cpu().numpy())\n",
        "\n",
        "# Calculate test accuracy\n",
        "test_accuracy = 100 * np.sum(np.array(all_preds) == np.array(all_labels)) / len(all_labels)\n",
        "print(f\"Final Test Accuracy after Optimization: {test_accuracy:.2f}%\")\n",
        "\n",
        "# Generate a classification report\n",
        "print(\"\\nClassification Report:\\n\", classification_report(all_labels, all_preds))\n",
        "\n",
        "# Generate a confusion matrix\n",
        "conf_matrix = confusion_matrix(all_labels, all_preds)\n",
        "print(\"\\nConfusion Matrix:\\n\", conf_matrix)\n"
      ],
      "metadata": {
        "id": "zV0nnCBKYIwi",
        "colab": {
          "base_uri": "https://localhost:8080/"
        },
        "outputId": "525eb87c-c6b5-4179-807a-e95098a289ac"
      },
      "execution_count": 14,
      "outputs": [
        {
          "output_type": "stream",
          "name": "stdout",
          "text": [
            "Epoch [1/50], Train Loss: 2.0426, Val Loss: 1.7995, Val Accuracy: 37.99%\n",
            "Epoch [2/50], Train Loss: 1.7534, Val Loss: 1.6153, Val Accuracy: 48.26%\n",
            "Epoch [3/50], Train Loss: 1.6033, Val Loss: 1.5061, Val Accuracy: 53.97%\n",
            "Epoch [4/50], Train Loss: 1.4943, Val Loss: 1.3994, Val Accuracy: 59.90%\n",
            "Epoch [5/50], Train Loss: 1.4132, Val Loss: 1.3188, Val Accuracy: 63.39%\n",
            "Epoch [6/50], Train Loss: 1.3517, Val Loss: 1.3054, Val Accuracy: 63.36%\n",
            "Epoch [7/50], Train Loss: 1.3090, Val Loss: 1.2705, Val Accuracy: 66.02%\n",
            "Epoch [8/50], Train Loss: 1.2848, Val Loss: 1.2629, Val Accuracy: 66.16%\n",
            "Epoch [9/50], Train Loss: 1.2557, Val Loss: 1.2191, Val Accuracy: 68.19%\n",
            "Epoch [10/50], Train Loss: 1.2252, Val Loss: 1.2099, Val Accuracy: 68.55%\n",
            "Epoch [11/50], Train Loss: 1.2038, Val Loss: 1.1878, Val Accuracy: 69.51%\n",
            "Epoch [12/50], Train Loss: 1.1896, Val Loss: 1.1906, Val Accuracy: 69.52%\n",
            "Epoch [13/50], Train Loss: 1.1791, Val Loss: 1.1858, Val Accuracy: 68.91%\n",
            "Epoch [14/50], Train Loss: 1.1677, Val Loss: 1.1847, Val Accuracy: 69.12%\n",
            "Epoch [15/50], Train Loss: 1.1446, Val Loss: 1.1548, Val Accuracy: 70.70%\n",
            "Epoch [16/50], Train Loss: 1.1460, Val Loss: 1.1291, Val Accuracy: 72.29%\n",
            "Epoch [17/50], Train Loss: 1.1313, Val Loss: 1.0863, Val Accuracy: 74.16%\n",
            "Epoch [18/50], Train Loss: 1.1210, Val Loss: 1.1198, Val Accuracy: 72.71%\n",
            "Epoch [19/50], Train Loss: 1.1184, Val Loss: 1.1203, Val Accuracy: 72.30%\n",
            "Epoch [20/50], Train Loss: 1.1050, Val Loss: 1.0909, Val Accuracy: 74.04%\n",
            "Epoch [21/50], Train Loss: 1.0959, Val Loss: 1.1136, Val Accuracy: 72.61%\n",
            "Epoch [22/50], Train Loss: 1.0872, Val Loss: 1.0869, Val Accuracy: 74.11%\n",
            "Early stopping triggered.\n",
            "Final Test Accuracy after Optimization: 79.26%\n",
            "\n",
            "Classification Report:\n",
            "               precision    recall  f1-score   support\n",
            "\n",
            "           0       0.83      0.76      0.80      1000\n",
            "           1       0.90      0.92      0.91      1000\n",
            "           2       0.77      0.62      0.69      1000\n",
            "           3       0.64      0.61      0.63      1000\n",
            "           4       0.75      0.78      0.77      1000\n",
            "           5       0.71      0.74      0.73      1000\n",
            "           6       0.76      0.90      0.82      1000\n",
            "           7       0.90      0.80      0.84      1000\n",
            "           8       0.82      0.93      0.87      1000\n",
            "           9       0.85      0.87      0.86      1000\n",
            "\n",
            "    accuracy                           0.79     10000\n",
            "   macro avg       0.79      0.79      0.79     10000\n",
            "weighted avg       0.79      0.79      0.79     10000\n",
            "\n",
            "\n",
            "Confusion Matrix:\n",
            " [[762  12  19  16  16   4   7   6 109  49]\n",
            " [  9 917   0   3   0   3   5   1  15  47]\n",
            " [ 66   3 619  50  88  60  79  11  14  10]\n",
            " [ 17   2  43 612  44 151  79  16  22  14]\n",
            " [  9   2  26  74 783  17  52  27  10   0]\n",
            " [  6   2  42 114  42 740  23  18   5   8]\n",
            " [  5   1  28  27  21  10 895   4   8   1]\n",
            " [ 11   4  21  46  39  46  19 799   6   9]\n",
            " [ 20  14   3   3   5   4   3   2 928  18]\n",
            " [ 10  62   4  11   2   3   8   8  21 871]]\n"
          ]
        }
      ]
    }
  ]
}