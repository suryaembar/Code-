{
  "nbformat": 4,
  "nbformat_minor": 0,
  "metadata": {
    "colab": {
      "provenance": []
    },
    "kernelspec": {
      "name": "python3",
      "display_name": "Python 3"
    },
    "language_info": {
      "name": "python"
    }
  },
  "cells": [
    {
      "cell_type": "code",
      "execution_count": null,
      "metadata": {
        "id": "y7YVPY9Y7-ko"
      },
      "outputs": [],
      "source": []
    },
    {
      "cell_type": "code",
      "source": [
        "!pip install optuna"
      ],
      "metadata": {
        "colab": {
          "base_uri": "https://localhost:8080/"
        },
        "id": "0TpEVLvx58Lc",
        "outputId": "864dee89-c526-44d1-980e-ad48ff7197af"
      },
      "execution_count": null,
      "outputs": [
        {
          "output_type": "stream",
          "name": "stdout",
          "text": [
            "Requirement already satisfied: optuna in /usr/local/lib/python3.10/dist-packages (4.1.0)\n",
            "Requirement already satisfied: alembic>=1.5.0 in /usr/local/lib/python3.10/dist-packages (from optuna) (1.14.0)\n",
            "Requirement already satisfied: colorlog in /usr/local/lib/python3.10/dist-packages (from optuna) (6.9.0)\n",
            "Requirement already satisfied: numpy in /usr/local/lib/python3.10/dist-packages (from optuna) (1.26.4)\n",
            "Requirement already satisfied: packaging>=20.0 in /usr/local/lib/python3.10/dist-packages (from optuna) (24.2)\n",
            "Requirement already satisfied: sqlalchemy>=1.4.2 in /usr/local/lib/python3.10/dist-packages (from optuna) (2.0.36)\n",
            "Requirement already satisfied: tqdm in /usr/local/lib/python3.10/dist-packages (from optuna) (4.66.6)\n",
            "Requirement already satisfied: PyYAML in /usr/local/lib/python3.10/dist-packages (from optuna) (6.0.2)\n",
            "Requirement already satisfied: Mako in /usr/local/lib/python3.10/dist-packages (from alembic>=1.5.0->optuna) (1.3.7)\n",
            "Requirement already satisfied: typing-extensions>=4 in /usr/local/lib/python3.10/dist-packages (from alembic>=1.5.0->optuna) (4.12.2)\n",
            "Requirement already satisfied: greenlet!=0.4.17 in /usr/local/lib/python3.10/dist-packages (from sqlalchemy>=1.4.2->optuna) (3.1.1)\n",
            "Requirement already satisfied: MarkupSafe>=0.9.2 in /usr/local/lib/python3.10/dist-packages (from Mako->alembic>=1.5.0->optuna) (3.0.2)\n"
          ]
        }
      ]
    },
    {
      "cell_type": "code",
      "source": [
        "import pandas as pd\n",
        "import numpy as np\n",
        "import torch\n",
        "from torch import nn\n",
        "from torch.utils.data import Dataset, DataLoader\n",
        "from sklearn.preprocessing import MinMaxScaler\n",
        "import matplotlib.pyplot as plt\n",
        "import seaborn as sns\n",
        "import optuna\n",
        "from sklearn.metrics import mean_squared_error, mean_absolute_error\n",
        "\n",
        "device = torch.device(\"cuda\" if torch.cuda.is_available() else \"cpu\")"
      ],
      "metadata": {
        "id": "LLwtyBDB5bI5"
      },
      "execution_count": null,
      "outputs": []
    },
    {
      "cell_type": "code",
      "source": [
        "# ---------------------------------------\n",
        "# 1. Data Loading and Inspection\n",
        "# ---------------------------------------\n",
        "train_data = pd.read_csv('/content/Google_Stock_Price_Train.csv')\n",
        "test_data = pd.read_csv('/content/Google_Stock_Price_Test.csv')\n",
        "\n",
        "print(\"Training Data Sample:\\n\", train_data.head())\n",
        "print(\"Test Data Sample:\\n\", test_data.head())\n",
        "print(\"Missing values in training data:\\n\", train_data.isnull().sum())"
      ],
      "metadata": {
        "colab": {
          "base_uri": "https://localhost:8080/"
        },
        "id": "Y-K5v_7M5bGz",
        "outputId": "e5acc6e9-dc88-48eb-bb73-7b020102b1e8"
      },
      "execution_count": null,
      "outputs": [
        {
          "output_type": "stream",
          "name": "stdout",
          "text": [
            "Training Data Sample:\n",
            "        Date    Open    High     Low   Close      Volume\n",
            "0  1/3/2012  325.25  332.83  324.97  663.59   7,380,500\n",
            "1  1/4/2012  331.27  333.87  329.08  666.45   5,749,400\n",
            "2  1/5/2012  329.83  330.75  326.89  657.21   6,590,300\n",
            "3  1/6/2012  328.34  328.77  323.68  648.24   5,405,900\n",
            "4  1/9/2012  322.04  322.29  309.46  620.76  11,688,800\n",
            "Test Data Sample:\n",
            "        Date    Open    High     Low   Close     Volume\n",
            "0  1/3/2017  778.81  789.63  775.80  786.14  1,657,300\n",
            "1  1/4/2017  788.36  791.34  783.16  786.90  1,073,000\n",
            "2  1/5/2017  786.08  794.48  785.02  794.02  1,335,200\n",
            "3  1/6/2017  795.26  807.90  792.20  806.15  1,640,200\n",
            "4  1/9/2017  806.40  809.97  802.83  806.65  1,272,400\n",
            "Missing values in training data:\n",
            " Date      0\n",
            "Open      0\n",
            "High      0\n",
            "Low       0\n",
            "Close     0\n",
            "Volume    0\n",
            "dtype: int64\n"
          ]
        }
      ]
    },
    {
      "cell_type": "code",
      "source": [
        "# ---------------------------------------\n",
        "# 2. Data Cleaning and Preprocessing\n",
        "# ---------------------------------------\n",
        "features = ['Open', 'High', 'Low', 'Close']\n",
        "\n",
        "# Convert columns that are object type with commas into float\n",
        "for feature in features:\n",
        "    if train_data[feature].dtype == 'object':\n",
        "        train_data[feature] = train_data[feature].str.replace(',', '', regex=True).astype(float)\n",
        "    if test_data[feature].dtype == 'object':\n",
        "        test_data[feature] = test_data[feature].str.replace(',', '', regex=True).astype(float)\n",
        "\n",
        "training_set = train_data[features].values\n",
        "test_set = test_data[features].values\n",
        "\n",
        "# Scale features\n",
        "scaler = MinMaxScaler(feature_range=(0, 1))\n",
        "training_set_scaled = scaler.fit_transform(training_set)"
      ],
      "metadata": {
        "id": "9atM0TlG5bD_"
      },
      "execution_count": null,
      "outputs": []
    },
    {
      "cell_type": "code",
      "source": [
        "# ---------------------------------------\n",
        "# 3. Fixed-length Sequence Creation (Sliding Window)\n",
        "# ---------------------------------------\n",
        "N = 30  # number of past days to use as input\n",
        "M = 1   # number of future days to predict\n",
        "\n",
        "X, y = [], []\n",
        "for i in range(N, len(training_set_scaled) - M + 1):\n",
        "    X.append(training_set_scaled[i-N:i, :])\n",
        "    y.append(training_set_scaled[i:i+M, :])\n",
        "\n",
        "X, y = np.array(X), np.array(y)\n",
        "\n",
        "# Split into training and validation sets (time-aware)\n",
        "split = int(len(X) * 0.8)\n",
        "X_train, X_val = X[:split], X[split:]\n",
        "y_train, y_val = y[:split], y[split:]"
      ],
      "metadata": {
        "id": "yKgfqHn25bBN"
      },
      "execution_count": null,
      "outputs": []
    },
    {
      "cell_type": "code",
      "source": [
        "# ---------------------------------------\n",
        "# 4. Dataset and DataLoader\n",
        "# ---------------------------------------\n",
        "class StockDataset(Dataset):\n",
        "    def __init__(self, X, y):\n",
        "        self.X = torch.tensor(X, dtype=torch.float32)\n",
        "        self.y = torch.tensor(y, dtype=torch.float32)\n",
        "\n",
        "    def __len__(self):\n",
        "        return len(self.X)\n",
        "\n",
        "    def __getitem__(self, idx):\n",
        "        return self.X[idx], self.y[idx]\n",
        "\n",
        "train_dataset = StockDataset(X_train, y_train)\n",
        "val_dataset = StockDataset(X_val, y_val)\n",
        "\n",
        "train_loader = DataLoader(train_dataset, batch_size=32, shuffle=False)\n",
        "val_loader = DataLoader(val_dataset, batch_size=32, shuffle=False)"
      ],
      "metadata": {
        "id": "Xo6w5Vp15a-X"
      },
      "execution_count": null,
      "outputs": []
    },
    {
      "cell_type": "code",
      "source": [
        "# ---------------------------------------\n",
        "# 5. LSTM with Attention Model Definition\n",
        "# ---------------------------------------\n",
        "class LSTMModel(nn.Module):#Attention\n",
        "    def __init__(self, input_dim, hidden_dim, output_dim, num_layers=1):\n",
        "        super(LSTMModel, self).__init__()\n",
        "        self.lstm = nn.LSTM(input_dim, hidden_dim, num_layers=num_layers, batch_first=True)\n",
        "        self.attention = nn.Linear(hidden_dim, 1)  # Compute attention scores\n",
        "        self.fc = nn.Linear(hidden_dim, output_dim)\n",
        "\n",
        "    def forward(self, x):\n",
        "        # x: [B, T, input_dim]\n",
        "        lstm_out, _ = self.lstm(x)  # lstm_out: [B, T, hidden_dim]\n",
        "\n",
        "        # Compute attention scores\n",
        "        attn_scores = self.attention(lstm_out)  # attn_scores: [B, T, 1]\n",
        "        attn_weights = torch.softmax(attn_scores, dim=1)  # Normalize scores: [B, T, 1]\n",
        "\n",
        "        # Compute context vector as weighted sum of LSTM outputs\n",
        "        context_vector = torch.sum(attn_weights * lstm_out, dim=1)  # context_vector: [B, hidden_dim]\n",
        "\n",
        "        # Pass the context vector through the fully connected layer\n",
        "        out = self.fc(context_vector)  # out: [B, output_dim]\n",
        "        return out"
      ],
      "metadata": {
        "id": "ZJpDEj2F5a7O"
      },
      "execution_count": null,
      "outputs": []
    },
    {
      "cell_type": "code",
      "source": [
        "# ---------------------------------------\n",
        "# 6. Custom Asymmetric Loss Function\n",
        "# ---------------------------------------\n",
        "class AsymmetricLoss(nn.Module):\n",
        "    def __init__(self, ratio=2.0):\n",
        "        super(AsymmetricLoss, self).__init__()\n",
        "        self.ratio = ratio\n",
        "\n",
        "    def forward(self, pred, target):\n",
        "        diff = target - pred\n",
        "        loss = torch.mean(torch.where(diff > 0, self.ratio * diff**2, diff**2))\n",
        "        return loss"
      ],
      "metadata": {
        "id": "7Ktt5uUj5a4h"
      },
      "execution_count": null,
      "outputs": []
    },
    {
      "cell_type": "code",
      "source": [
        "# ---------------------------------------\n",
        "# 7. Training Function with Metric Logging\n",
        "# ---------------------------------------\n",
        "def train_and_validate(model, criterion, optimizer, scheduler, train_loader, val_loader, epochs=30):\n",
        "    train_losses = []\n",
        "    val_losses = []\n",
        "    best_val_loss = float('inf')\n",
        "    best_state = None\n",
        "\n",
        "    for epoch in range(epochs):\n",
        "        # Training\n",
        "        model.train()\n",
        "        running_train_loss = 0.0\n",
        "        for X_batch, y_batch in train_loader:\n",
        "            X_batch, y_batch = X_batch.to(device), y_batch.to(device)\n",
        "            optimizer.zero_grad()\n",
        "            outputs = model(X_batch)\n",
        "            loss = criterion(outputs, y_batch.view(outputs.shape))\n",
        "            loss.backward()\n",
        "            optimizer.step()\n",
        "            running_train_loss += loss.item()\n",
        "\n",
        "        train_loss = running_train_loss / len(train_loader)\n",
        "        train_losses.append(train_loss)\n",
        "\n",
        "        # Validation\n",
        "        model.eval()\n",
        "        running_val_loss = 0.0\n",
        "        with torch.no_grad():\n",
        "            for X_batch, y_batch in val_loader:\n",
        "                X_batch, y_batch = X_batch.to(device), y_batch.to(device)\n",
        "                outputs = model(X_batch)\n",
        "                loss = criterion(outputs, y_batch.view(outputs.shape))\n",
        "                running_val_loss += loss.item()\n",
        "\n",
        "        val_loss = running_val_loss / len(val_loader)\n",
        "        val_losses.append(val_loss)\n",
        "\n",
        "        scheduler.step(val_loss)\n",
        "\n",
        "        if val_loss < best_val_loss:\n",
        "            best_val_loss = val_loss\n",
        "            best_state = model.state_dict()\n",
        "\n",
        "        print(f\"Epoch {epoch+1}/{epochs}, Train Loss: {train_loss:.4f}, Val Loss: {val_loss:.4f}\")\n",
        "\n",
        "    return best_state, best_val_loss, train_losses, val_losses"
      ],
      "metadata": {
        "id": "UDOj5nCm5ooD"
      },
      "execution_count": null,
      "outputs": []
    },
    {
      "cell_type": "code",
      "source": [
        "# ---------------------------------------\n",
        "# 8. Hyperparameter Tuning with Optuna\n",
        "# ---------------------------------------\n",
        "def objective(trial):\n",
        "    hidden_dim = trial.suggest_int('hidden_dim', 20, 100)\n",
        "    lr = trial.suggest_float('lr', 1e-4, 1e-2, log=True)\n",
        "    weight_decay = trial.suggest_float('weight_decay', 1e-6, 1e-3, log=True)\n",
        "    ratio = trial.suggest_float('asymmetric_ratio', 1.0, 5.0)\n",
        "\n",
        "    model = LSTMModel(input_dim=len(features), hidden_dim=hidden_dim, output_dim=len(features)).to(device)\n",
        "    criterion = AsymmetricLoss(ratio=ratio)\n",
        "    optimizer = torch.optim.Adam(model.parameters(), lr=lr, weight_decay=weight_decay)\n",
        "    scheduler = torch.optim.lr_scheduler.ReduceLROnPlateau(optimizer, 'min', factor=0.1, patience=3)\n",
        "\n",
        "    # Shorter training for tuning\n",
        "    best_state, best_val_loss, _, _ = train_and_validate(model, criterion, optimizer, scheduler, train_loader, val_loader, epochs=30)\n",
        "    return best_val_loss\n",
        "\n",
        "study = optuna.create_study(direction='minimize')\n",
        "study.optimize(objective, n_trials=20)\n",
        "print(\"Best hyperparameters:\", study.best_params)"
      ],
      "metadata": {
        "colab": {
          "base_uri": "https://localhost:8080/"
        },
        "id": "3oc6vUE15qlN",
        "outputId": "14391709-5770-40b8-9140-37ec11815300"
      },
      "execution_count": null,
      "outputs": [
        {
          "output_type": "stream",
          "name": "stderr",
          "text": [
            "[I 2024-12-06 21:57:58,387] A new study created in memory with name: no-name-54fa3cda-5a4f-4b0b-a088-6471c2e91202\n"
          ]
        },
        {
          "output_type": "stream",
          "name": "stdout",
          "text": [
            "Epoch 1/30, Train Loss: 0.0479, Val Loss: 0.0641\n",
            "Epoch 2/30, Train Loss: 0.1176, Val Loss: 0.0414\n",
            "Epoch 3/30, Train Loss: 0.0822, Val Loss: 0.0246\n",
            "Epoch 4/30, Train Loss: 0.0596, Val Loss: 0.0192\n",
            "Epoch 5/30, Train Loss: 0.0461, Val Loss: 0.0165\n",
            "Epoch 6/30, Train Loss: 0.0338, Val Loss: 0.0091\n",
            "Epoch 7/30, Train Loss: 0.0259, Val Loss: 0.0116\n",
            "Epoch 8/30, Train Loss: 0.0151, Val Loss: 0.0049\n",
            "Epoch 9/30, Train Loss: 0.0504, Val Loss: 0.0538\n",
            "Epoch 10/30, Train Loss: 0.0237, Val Loss: 0.0161\n",
            "Epoch 11/30, Train Loss: 0.0287, Val Loss: 0.0475\n",
            "Epoch 12/30, Train Loss: 0.0130, Val Loss: 0.0046\n",
            "Epoch 13/30, Train Loss: 0.0141, Val Loss: 0.0074\n",
            "Epoch 14/30, Train Loss: 0.0222, Val Loss: 0.0298\n",
            "Epoch 15/30, Train Loss: 0.0098, Val Loss: 0.0035\n",
            "Epoch 16/30, Train Loss: 0.0096, Val Loss: 0.0035\n",
            "Epoch 17/30, Train Loss: 0.0161, Val Loss: 0.0138\n",
            "Epoch 18/30, Train Loss: 0.0089, Val Loss: 0.0038\n",
            "Epoch 19/30, Train Loss: 0.0075, Val Loss: 0.0038\n",
            "Epoch 20/30, Train Loss: 0.0095, Val Loss: 0.0037\n",
            "Epoch 21/30, Train Loss: 0.0073, Val Loss: 0.0040\n",
            "Epoch 22/30, Train Loss: 0.0058, Val Loss: 0.0047\n",
            "Epoch 23/30, Train Loss: 0.0056, Val Loss: 0.0045\n",
            "Epoch 24/30, Train Loss: 0.0055, Val Loss: 0.0044\n",
            "Epoch 25/30, Train Loss: 0.0053, Val Loss: 0.0044\n",
            "Epoch 26/30, Train Loss: 0.0053, Val Loss: 0.0044\n",
            "Epoch 27/30, Train Loss: 0.0053, Val Loss: 0.0044\n",
            "Epoch 28/30, Train Loss: 0.0053, Val Loss: 0.0044\n",
            "Epoch 29/30, Train Loss: 0.0053, Val Loss: 0.0044\n"
          ]
        },
        {
          "output_type": "stream",
          "name": "stderr",
          "text": [
            "[I 2024-12-06 21:58:25,682] Trial 0 finished with value: 0.003456990481936373 and parameters: {'hidden_dim': 76, 'lr': 0.005002926089694958, 'weight_decay': 0.0002481140682782569, 'asymmetric_ratio': 3.163660506438878}. Best is trial 0 with value: 0.003456990481936373.\n"
          ]
        },
        {
          "output_type": "stream",
          "name": "stdout",
          "text": [
            "Epoch 30/30, Train Loss: 0.0053, Val Loss: 0.0044\n",
            "Epoch 1/30, Train Loss: 0.3962, Val Loss: 0.9506\n",
            "Epoch 2/30, Train Loss: 0.0646, Val Loss: 0.0856\n",
            "Epoch 3/30, Train Loss: 0.0654, Val Loss: 0.0457\n",
            "Epoch 4/30, Train Loss: 0.0610, Val Loss: 0.0439\n",
            "Epoch 5/30, Train Loss: 0.0501, Val Loss: 0.0353\n",
            "Epoch 6/30, Train Loss: 0.0438, Val Loss: 0.0289\n",
            "Epoch 7/30, Train Loss: 0.0406, Val Loss: 0.0262\n",
            "Epoch 8/30, Train Loss: 0.0391, Val Loss: 0.0247\n",
            "Epoch 9/30, Train Loss: 0.0385, Val Loss: 0.0224\n",
            "Epoch 10/30, Train Loss: 0.0373, Val Loss: 0.0197\n",
            "Epoch 11/30, Train Loss: 0.0348, Val Loss: 0.0154\n",
            "Epoch 12/30, Train Loss: 0.0304, Val Loss: 0.0093\n",
            "Epoch 13/30, Train Loss: 0.0245, Val Loss: 0.0133\n",
            "Epoch 14/30, Train Loss: 0.0177, Val Loss: 0.0337\n",
            "Epoch 15/30, Train Loss: 0.0134, Val Loss: 0.0237\n",
            "Epoch 16/30, Train Loss: 0.0166, Val Loss: 0.0090\n",
            "Epoch 17/30, Train Loss: 0.0142, Val Loss: 0.0139\n",
            "Epoch 18/30, Train Loss: 0.0125, Val Loss: 0.0084\n",
            "Epoch 19/30, Train Loss: 0.0151, Val Loss: 0.0056\n",
            "Epoch 20/30, Train Loss: 0.0139, Val Loss: 0.0126\n",
            "Epoch 21/30, Train Loss: 0.0125, Val Loss: 0.0062\n",
            "Epoch 22/30, Train Loss: 0.0111, Val Loss: 0.0081\n",
            "Epoch 23/30, Train Loss: 0.0099, Val Loss: 0.0064\n",
            "Epoch 24/30, Train Loss: 0.0092, Val Loss: 0.0067\n",
            "Epoch 25/30, Train Loss: 0.0082, Val Loss: 0.0073\n",
            "Epoch 26/30, Train Loss: 0.0080, Val Loss: 0.0074\n",
            "Epoch 27/30, Train Loss: 0.0079, Val Loss: 0.0073\n",
            "Epoch 28/30, Train Loss: 0.0078, Val Loss: 0.0072\n",
            "Epoch 29/30, Train Loss: 0.0078, Val Loss: 0.0072\n"
          ]
        },
        {
          "output_type": "stream",
          "name": "stderr",
          "text": [
            "[I 2024-12-06 21:58:38,402] Trial 1 finished with value: 0.005624490062473342 and parameters: {'hidden_dim': 67, 'lr': 0.0004280270310743036, 'weight_decay': 6.886242721291888e-05, 'asymmetric_ratio': 2.629193776235757}. Best is trial 0 with value: 0.003456990481936373.\n"
          ]
        },
        {
          "output_type": "stream",
          "name": "stdout",
          "text": [
            "Epoch 30/30, Train Loss: 0.0078, Val Loss: 0.0072\n",
            "Epoch 1/30, Train Loss: 0.1454, Val Loss: 0.2118\n",
            "Epoch 2/30, Train Loss: 0.1261, Val Loss: 0.1135\n",
            "Epoch 3/30, Train Loss: 0.0882, Val Loss: 0.0755\n",
            "Epoch 4/30, Train Loss: 0.0717, Val Loss: 0.0494\n",
            "Epoch 5/30, Train Loss: 0.0577, Val Loss: 0.0625\n",
            "Epoch 6/30, Train Loss: 0.0535, Val Loss: 0.0443\n",
            "Epoch 7/30, Train Loss: 0.0573, Val Loss: 0.0331\n",
            "Epoch 8/30, Train Loss: 0.0603, Val Loss: 0.0374\n",
            "Epoch 9/30, Train Loss: 0.0510, Val Loss: 0.0151\n",
            "Epoch 10/30, Train Loss: 0.0225, Val Loss: 0.0110\n",
            "Epoch 11/30, Train Loss: 0.0324, Val Loss: 0.0113\n",
            "Epoch 12/30, Train Loss: 0.0353, Val Loss: 0.0142\n",
            "Epoch 13/30, Train Loss: 0.0123, Val Loss: 0.0090\n",
            "Epoch 14/30, Train Loss: 0.0127, Val Loss: 0.0098\n",
            "Epoch 15/30, Train Loss: 0.0170, Val Loss: 0.0038\n",
            "Epoch 16/30, Train Loss: 0.0098, Val Loss: 0.0060\n",
            "Epoch 17/30, Train Loss: 0.0128, Val Loss: 0.0074\n",
            "Epoch 18/30, Train Loss: 0.0153, Val Loss: 0.0040\n",
            "Epoch 19/30, Train Loss: 0.0102, Val Loss: 0.0048\n",
            "Epoch 20/30, Train Loss: 0.0104, Val Loss: 0.0043\n",
            "Epoch 21/30, Train Loss: 0.0095, Val Loss: 0.0040\n",
            "Epoch 22/30, Train Loss: 0.0088, Val Loss: 0.0040\n",
            "Epoch 23/30, Train Loss: 0.0084, Val Loss: 0.0043\n",
            "Epoch 24/30, Train Loss: 0.0081, Val Loss: 0.0043\n",
            "Epoch 25/30, Train Loss: 0.0080, Val Loss: 0.0044\n",
            "Epoch 26/30, Train Loss: 0.0080, Val Loss: 0.0044\n",
            "Epoch 27/30, Train Loss: 0.0080, Val Loss: 0.0044\n",
            "Epoch 28/30, Train Loss: 0.0080, Val Loss: 0.0044\n",
            "Epoch 29/30, Train Loss: 0.0080, Val Loss: 0.0044\n"
          ]
        },
        {
          "output_type": "stream",
          "name": "stderr",
          "text": [
            "[I 2024-12-06 21:58:52,544] Trial 2 finished with value: 0.0038407302054110914 and parameters: {'hidden_dim': 81, 'lr': 0.0014735728101582548, 'weight_decay': 4.3003240320982855e-05, 'asymmetric_ratio': 4.766467285287922}. Best is trial 0 with value: 0.003456990481936373.\n"
          ]
        },
        {
          "output_type": "stream",
          "name": "stdout",
          "text": [
            "Epoch 30/30, Train Loss: 0.0080, Val Loss: 0.0044\n",
            "Epoch 1/30, Train Loss: 0.6214, Val Loss: 0.9598\n",
            "Epoch 2/30, Train Loss: 0.0831, Val Loss: 0.2363\n",
            "Epoch 3/30, Train Loss: 0.0712, Val Loss: 0.1198\n",
            "Epoch 4/30, Train Loss: 0.0672, Val Loss: 0.0997\n",
            "Epoch 5/30, Train Loss: 0.0610, Val Loss: 0.0807\n",
            "Epoch 6/30, Train Loss: 0.0562, Val Loss: 0.0629\n",
            "Epoch 7/30, Train Loss: 0.0537, Val Loss: 0.0512\n",
            "Epoch 8/30, Train Loss: 0.0533, Val Loss: 0.0452\n",
            "Epoch 9/30, Train Loss: 0.0536, Val Loss: 0.0431\n",
            "Epoch 10/30, Train Loss: 0.0521, Val Loss: 0.0395\n",
            "Epoch 11/30, Train Loss: 0.0424, Val Loss: 0.0273\n",
            "Epoch 12/30, Train Loss: 0.0238, Val Loss: 0.0093\n",
            "Epoch 13/30, Train Loss: 0.0137, Val Loss: 0.0063\n",
            "Epoch 14/30, Train Loss: 0.0125, Val Loss: 0.0079\n",
            "Epoch 15/30, Train Loss: 0.0129, Val Loss: 0.0057\n",
            "Epoch 16/30, Train Loss: 0.0118, Val Loss: 0.0068\n",
            "Epoch 17/30, Train Loss: 0.0108, Val Loss: 0.0085\n",
            "Epoch 18/30, Train Loss: 0.0111, Val Loss: 0.0077\n",
            "Epoch 19/30, Train Loss: 0.0111, Val Loss: 0.0071\n",
            "Epoch 20/30, Train Loss: 0.0089, Val Loss: 0.0088\n",
            "Epoch 21/30, Train Loss: 0.0087, Val Loss: 0.0090\n",
            "Epoch 22/30, Train Loss: 0.0086, Val Loss: 0.0088\n",
            "Epoch 23/30, Train Loss: 0.0086, Val Loss: 0.0087\n",
            "Epoch 24/30, Train Loss: 0.0084, Val Loss: 0.0087\n",
            "Epoch 25/30, Train Loss: 0.0084, Val Loss: 0.0087\n",
            "Epoch 26/30, Train Loss: 0.0084, Val Loss: 0.0086\n",
            "Epoch 27/30, Train Loss: 0.0084, Val Loss: 0.0086\n",
            "Epoch 28/30, Train Loss: 0.0084, Val Loss: 0.0086\n",
            "Epoch 29/30, Train Loss: 0.0084, Val Loss: 0.0086\n"
          ]
        },
        {
          "output_type": "stream",
          "name": "stderr",
          "text": [
            "[I 2024-12-06 21:59:07,293] Trial 3 finished with value: 0.005720030778320506 and parameters: {'hidden_dim': 77, 'lr': 0.00048494820527535956, 'weight_decay': 8.914842957654767e-05, 'asymmetric_ratio': 4.047793089561095}. Best is trial 0 with value: 0.003456990481936373.\n"
          ]
        },
        {
          "output_type": "stream",
          "name": "stdout",
          "text": [
            "Epoch 30/30, Train Loss: 0.0084, Val Loss: 0.0086\n",
            "Epoch 1/30, Train Loss: 0.0429, Val Loss: 0.0560\n",
            "Epoch 2/30, Train Loss: 0.1349, Val Loss: 0.0646\n",
            "Epoch 3/30, Train Loss: 0.0799, Val Loss: 0.0397\n",
            "Epoch 4/30, Train Loss: 0.0523, Val Loss: 0.0285\n",
            "Epoch 5/30, Train Loss: 0.0397, Val Loss: 0.0207\n",
            "Epoch 6/30, Train Loss: 0.0312, Val Loss: 0.0082\n",
            "Epoch 7/30, Train Loss: 0.0300, Val Loss: 0.0155\n",
            "Epoch 8/30, Train Loss: 0.0185, Val Loss: 0.0110\n",
            "Epoch 9/30, Train Loss: 0.0158, Val Loss: 0.0109\n",
            "Epoch 10/30, Train Loss: 0.0408, Val Loss: 0.0131\n",
            "Epoch 11/30, Train Loss: 0.0190, Val Loss: 0.0119\n",
            "Epoch 12/30, Train Loss: 0.0135, Val Loss: 0.0051\n",
            "Epoch 13/30, Train Loss: 0.0115, Val Loss: 0.0041\n",
            "Epoch 14/30, Train Loss: 0.0102, Val Loss: 0.0036\n",
            "Epoch 15/30, Train Loss: 0.0092, Val Loss: 0.0033\n",
            "Epoch 16/30, Train Loss: 0.0084, Val Loss: 0.0032\n",
            "Epoch 17/30, Train Loss: 0.0078, Val Loss: 0.0035\n",
            "Epoch 18/30, Train Loss: 0.0074, Val Loss: 0.0040\n",
            "Epoch 19/30, Train Loss: 0.0072, Val Loss: 0.0043\n",
            "Epoch 20/30, Train Loss: 0.0070, Val Loss: 0.0045\n",
            "Epoch 21/30, Train Loss: 0.0067, Val Loss: 0.0045\n",
            "Epoch 22/30, Train Loss: 0.0067, Val Loss: 0.0045\n",
            "Epoch 23/30, Train Loss: 0.0067, Val Loss: 0.0045\n",
            "Epoch 24/30, Train Loss: 0.0067, Val Loss: 0.0045\n",
            "Epoch 25/30, Train Loss: 0.0066, Val Loss: 0.0045\n",
            "Epoch 26/30, Train Loss: 0.0066, Val Loss: 0.0045\n",
            "Epoch 27/30, Train Loss: 0.0066, Val Loss: 0.0045\n",
            "Epoch 28/30, Train Loss: 0.0066, Val Loss: 0.0045\n",
            "Epoch 29/30, Train Loss: 0.0066, Val Loss: 0.0045\n"
          ]
        },
        {
          "output_type": "stream",
          "name": "stderr",
          "text": [
            "[I 2024-12-06 21:59:24,516] Trial 4 finished with value: 0.003245542808144819 and parameters: {'hidden_dim': 92, 'lr': 0.003500151251691248, 'weight_decay': 2.7192848827412046e-06, 'asymmetric_ratio': 3.631476419564072}. Best is trial 4 with value: 0.003245542808144819.\n"
          ]
        },
        {
          "output_type": "stream",
          "name": "stdout",
          "text": [
            "Epoch 30/30, Train Loss: 0.0066, Val Loss: 0.0045\n",
            "Epoch 1/30, Train Loss: 0.0342, Val Loss: 0.0559\n",
            "Epoch 2/30, Train Loss: 0.0849, Val Loss: 0.0035\n",
            "Epoch 3/30, Train Loss: 0.0644, Val Loss: 0.0113\n",
            "Epoch 4/30, Train Loss: 0.0405, Val Loss: 0.0088\n",
            "Epoch 5/30, Train Loss: 0.0272, Val Loss: 0.0074\n",
            "Epoch 6/30, Train Loss: 0.0230, Val Loss: 0.0091\n",
            "Epoch 7/30, Train Loss: 0.0121, Val Loss: 0.0081\n",
            "Epoch 8/30, Train Loss: 0.0086, Val Loss: 0.0069\n",
            "Epoch 9/30, Train Loss: 0.0076, Val Loss: 0.0063\n",
            "Epoch 10/30, Train Loss: 0.0069, Val Loss: 0.0060\n",
            "Epoch 11/30, Train Loss: 0.0062, Val Loss: 0.0059\n",
            "Epoch 12/30, Train Loss: 0.0061, Val Loss: 0.0058\n",
            "Epoch 13/30, Train Loss: 0.0061, Val Loss: 0.0058\n",
            "Epoch 14/30, Train Loss: 0.0060, Val Loss: 0.0057\n",
            "Epoch 15/30, Train Loss: 0.0060, Val Loss: 0.0057\n",
            "Epoch 16/30, Train Loss: 0.0060, Val Loss: 0.0057\n",
            "Epoch 17/30, Train Loss: 0.0060, Val Loss: 0.0057\n",
            "Epoch 18/30, Train Loss: 0.0060, Val Loss: 0.0057\n",
            "Epoch 19/30, Train Loss: 0.0060, Val Loss: 0.0056\n",
            "Epoch 20/30, Train Loss: 0.0060, Val Loss: 0.0056\n",
            "Epoch 21/30, Train Loss: 0.0060, Val Loss: 0.0056\n",
            "Epoch 22/30, Train Loss: 0.0060, Val Loss: 0.0056\n",
            "Epoch 23/30, Train Loss: 0.0060, Val Loss: 0.0056\n",
            "Epoch 24/30, Train Loss: 0.0060, Val Loss: 0.0056\n",
            "Epoch 25/30, Train Loss: 0.0060, Val Loss: 0.0056\n",
            "Epoch 26/30, Train Loss: 0.0060, Val Loss: 0.0056\n",
            "Epoch 27/30, Train Loss: 0.0060, Val Loss: 0.0056\n",
            "Epoch 28/30, Train Loss: 0.0060, Val Loss: 0.0056\n",
            "Epoch 29/30, Train Loss: 0.0060, Val Loss: 0.0056\n"
          ]
        },
        {
          "output_type": "stream",
          "name": "stderr",
          "text": [
            "[I 2024-12-06 21:59:37,815] Trial 5 finished with value: 0.0035366901283850893 and parameters: {'hidden_dim': 63, 'lr': 0.006067693772499839, 'weight_decay': 0.0004887536935759211, 'asymmetric_ratio': 1.5755618302373935}. Best is trial 4 with value: 0.003245542808144819.\n"
          ]
        },
        {
          "output_type": "stream",
          "name": "stdout",
          "text": [
            "Epoch 30/30, Train Loss: 0.0060, Val Loss: 0.0056\n",
            "Epoch 1/30, Train Loss: 0.3778, Val Loss: 1.2508\n",
            "Epoch 2/30, Train Loss: 0.3411, Val Loss: 1.1544\n",
            "Epoch 3/30, Train Loss: 0.3046, Val Loss: 1.0478\n",
            "Epoch 4/30, Train Loss: 0.2634, Val Loss: 0.9183\n",
            "Epoch 5/30, Train Loss: 0.2139, Val Loss: 0.7501\n",
            "Epoch 6/30, Train Loss: 0.1529, Val Loss: 0.5249\n",
            "Epoch 7/30, Train Loss: 0.0866, Val Loss: 0.2728\n",
            "Epoch 8/30, Train Loss: 0.0541, Val Loss: 0.1502\n",
            "Epoch 9/30, Train Loss: 0.0501, Val Loss: 0.1187\n",
            "Epoch 10/30, Train Loss: 0.0470, Val Loss: 0.0997\n",
            "Epoch 11/30, Train Loss: 0.0449, Val Loss: 0.0851\n",
            "Epoch 12/30, Train Loss: 0.0431, Val Loss: 0.0740\n",
            "Epoch 13/30, Train Loss: 0.0415, Val Loss: 0.0647\n",
            "Epoch 14/30, Train Loss: 0.0399, Val Loss: 0.0569\n",
            "Epoch 15/30, Train Loss: 0.0383, Val Loss: 0.0502\n",
            "Epoch 16/30, Train Loss: 0.0369, Val Loss: 0.0443\n",
            "Epoch 17/30, Train Loss: 0.0355, Val Loss: 0.0393\n",
            "Epoch 18/30, Train Loss: 0.0342, Val Loss: 0.0349\n",
            "Epoch 19/30, Train Loss: 0.0329, Val Loss: 0.0310\n",
            "Epoch 20/30, Train Loss: 0.0317, Val Loss: 0.0275\n",
            "Epoch 21/30, Train Loss: 0.0304, Val Loss: 0.0243\n",
            "Epoch 22/30, Train Loss: 0.0291, Val Loss: 0.0211\n",
            "Epoch 23/30, Train Loss: 0.0277, Val Loss: 0.0178\n",
            "Epoch 24/30, Train Loss: 0.0260, Val Loss: 0.0142\n",
            "Epoch 25/30, Train Loss: 0.0240, Val Loss: 0.0105\n",
            "Epoch 26/30, Train Loss: 0.0215, Val Loss: 0.0069\n",
            "Epoch 27/30, Train Loss: 0.0186, Val Loss: 0.0047\n",
            "Epoch 28/30, Train Loss: 0.0157, Val Loss: 0.0055\n",
            "Epoch 29/30, Train Loss: 0.0137, Val Loss: 0.0092\n"
          ]
        },
        {
          "output_type": "stream",
          "name": "stderr",
          "text": [
            "[I 2024-12-06 21:59:48,421] Trial 6 finished with value: 0.004663215950131416 and parameters: {'hidden_dim': 45, 'lr': 0.00012331507835248797, 'weight_decay': 2.332828944188365e-05, 'asymmetric_ratio': 2.5915841717918013}. Best is trial 4 with value: 0.003245542808144819.\n"
          ]
        },
        {
          "output_type": "stream",
          "name": "stdout",
          "text": [
            "Epoch 30/30, Train Loss: 0.0127, Val Loss: 0.0117\n",
            "Epoch 1/30, Train Loss: 0.1396, Val Loss: 0.0615\n",
            "Epoch 2/30, Train Loss: 0.0849, Val Loss: 0.0435\n",
            "Epoch 3/30, Train Loss: 0.0658, Val Loss: 0.0559\n",
            "Epoch 4/30, Train Loss: 0.0494, Val Loss: 0.0389\n",
            "Epoch 5/30, Train Loss: 0.0426, Val Loss: 0.0261\n",
            "Epoch 6/30, Train Loss: 0.0396, Val Loss: 0.0191\n",
            "Epoch 7/30, Train Loss: 0.0366, Val Loss: 0.0074\n",
            "Epoch 8/30, Train Loss: 0.0283, Val Loss: 0.0200\n",
            "Epoch 9/30, Train Loss: 0.0167, Val Loss: 0.0181\n",
            "Epoch 10/30, Train Loss: 0.0187, Val Loss: 0.0041\n",
            "Epoch 11/30, Train Loss: 0.0123, Val Loss: 0.0128\n",
            "Epoch 12/30, Train Loss: 0.0114, Val Loss: 0.0093\n",
            "Epoch 13/30, Train Loss: 0.0147, Val Loss: 0.0075\n",
            "Epoch 14/30, Train Loss: 0.0107, Val Loss: 0.0109\n",
            "Epoch 15/30, Train Loss: 0.0106, Val Loss: 0.0068\n",
            "Epoch 16/30, Train Loss: 0.0093, Val Loss: 0.0059\n",
            "Epoch 17/30, Train Loss: 0.0086, Val Loss: 0.0058\n",
            "Epoch 18/30, Train Loss: 0.0082, Val Loss: 0.0061\n",
            "Epoch 19/30, Train Loss: 0.0080, Val Loss: 0.0062\n",
            "Epoch 20/30, Train Loss: 0.0079, Val Loss: 0.0062\n",
            "Epoch 21/30, Train Loss: 0.0079, Val Loss: 0.0062\n",
            "Epoch 22/30, Train Loss: 0.0079, Val Loss: 0.0063\n",
            "Epoch 23/30, Train Loss: 0.0079, Val Loss: 0.0063\n",
            "Epoch 24/30, Train Loss: 0.0079, Val Loss: 0.0063\n",
            "Epoch 25/30, Train Loss: 0.0079, Val Loss: 0.0063\n",
            "Epoch 26/30, Train Loss: 0.0079, Val Loss: 0.0063\n",
            "Epoch 27/30, Train Loss: 0.0079, Val Loss: 0.0063\n",
            "Epoch 28/30, Train Loss: 0.0079, Val Loss: 0.0063\n",
            "Epoch 29/30, Train Loss: 0.0079, Val Loss: 0.0063\n"
          ]
        },
        {
          "output_type": "stream",
          "name": "stderr",
          "text": [
            "[I 2024-12-06 22:00:00,625] Trial 7 finished with value: 0.004109473884454928 and parameters: {'hidden_dim': 53, 'lr': 0.001064485587462481, 'weight_decay': 0.0008496191138931609, 'asymmetric_ratio': 2.799470902269615}. Best is trial 4 with value: 0.003245542808144819.\n"
          ]
        },
        {
          "output_type": "stream",
          "name": "stdout",
          "text": [
            "Epoch 30/30, Train Loss: 0.0079, Val Loss: 0.0063\n",
            "Epoch 1/30, Train Loss: 0.0790, Val Loss: 0.0435\n",
            "Epoch 2/30, Train Loss: 0.1010, Val Loss: 0.0425\n",
            "Epoch 3/30, Train Loss: 0.0607, Val Loss: 0.0420\n",
            "Epoch 4/30, Train Loss: 0.0450, Val Loss: 0.0307\n",
            "Epoch 5/30, Train Loss: 0.0380, Val Loss: 0.0288\n",
            "Epoch 6/30, Train Loss: 0.0353, Val Loss: 0.0218\n",
            "Epoch 7/30, Train Loss: 0.0338, Val Loss: 0.0092\n",
            "Epoch 8/30, Train Loss: 0.0345, Val Loss: 0.0196\n",
            "Epoch 9/30, Train Loss: 0.0178, Val Loss: 0.0144\n",
            "Epoch 10/30, Train Loss: 0.0154, Val Loss: 0.0081\n",
            "Epoch 11/30, Train Loss: 0.0145, Val Loss: 0.0067\n",
            "Epoch 12/30, Train Loss: 0.0100, Val Loss: 0.0070\n",
            "Epoch 13/30, Train Loss: 0.0085, Val Loss: 0.0067\n",
            "Epoch 14/30, Train Loss: 0.0109, Val Loss: 0.0084\n",
            "Epoch 15/30, Train Loss: 0.0084, Val Loss: 0.0050\n",
            "Epoch 16/30, Train Loss: 0.0072, Val Loss: 0.0058\n",
            "Epoch 17/30, Train Loss: 0.0071, Val Loss: 0.0046\n",
            "Epoch 18/30, Train Loss: 0.0078, Val Loss: 0.0037\n",
            "Epoch 19/30, Train Loss: 0.0075, Val Loss: 0.0035\n",
            "Epoch 20/30, Train Loss: 0.0066, Val Loss: 0.0044\n",
            "Epoch 21/30, Train Loss: 0.0065, Val Loss: 0.0045\n",
            "Epoch 22/30, Train Loss: 0.0069, Val Loss: 0.0038\n",
            "Epoch 23/30, Train Loss: 0.0070, Val Loss: 0.0033\n",
            "Epoch 24/30, Train Loss: 0.0065, Val Loss: 0.0044\n",
            "Epoch 25/30, Train Loss: 0.0068, Val Loss: 0.0054\n",
            "Epoch 26/30, Train Loss: 0.0072, Val Loss: 0.0048\n",
            "Epoch 27/30, Train Loss: 0.0073, Val Loss: 0.0043\n",
            "Epoch 28/30, Train Loss: 0.0108, Val Loss: 0.0057\n",
            "Epoch 29/30, Train Loss: 0.0074, Val Loss: 0.0059\n"
          ]
        },
        {
          "output_type": "stream",
          "name": "stderr",
          "text": [
            "[I 2024-12-06 22:00:12,704] Trial 8 finished with value: 0.003332401654915884 and parameters: {'hidden_dim': 65, 'lr': 0.0017359197761134158, 'weight_decay': 2.6244509823472965e-06, 'asymmetric_ratio': 2.168097621072296}. Best is trial 4 with value: 0.003245542808144819.\n"
          ]
        },
        {
          "output_type": "stream",
          "name": "stdout",
          "text": [
            "Epoch 30/30, Train Loss: 0.0061, Val Loss: 0.0055\n",
            "Epoch 1/30, Train Loss: 0.0339, Val Loss: 0.0168\n",
            "Epoch 2/30, Train Loss: 0.0826, Val Loss: 0.0279\n",
            "Epoch 3/30, Train Loss: 0.0658, Val Loss: 0.0058\n",
            "Epoch 4/30, Train Loss: 0.0453, Val Loss: 0.0044\n",
            "Epoch 5/30, Train Loss: 0.0335, Val Loss: 0.0067\n",
            "Epoch 6/30, Train Loss: 0.0289, Val Loss: 0.0047\n",
            "Epoch 7/30, Train Loss: 0.0230, Val Loss: 0.0084\n",
            "Epoch 8/30, Train Loss: 0.0228, Val Loss: 0.0027\n",
            "Epoch 9/30, Train Loss: 0.0245, Val Loss: 0.0213\n",
            "Epoch 10/30, Train Loss: 0.0148, Val Loss: 0.0137\n",
            "Epoch 11/30, Train Loss: 0.0215, Val Loss: 0.0237\n",
            "Epoch 12/30, Train Loss: 0.0155, Val Loss: 0.0100\n",
            "Epoch 13/30, Train Loss: 0.0122, Val Loss: 0.0192\n",
            "Epoch 14/30, Train Loss: 0.0064, Val Loss: 0.0128\n",
            "Epoch 15/30, Train Loss: 0.0056, Val Loss: 0.0092\n",
            "Epoch 16/30, Train Loss: 0.0051, Val Loss: 0.0074\n",
            "Epoch 17/30, Train Loss: 0.0048, Val Loss: 0.0073\n",
            "Epoch 18/30, Train Loss: 0.0047, Val Loss: 0.0072\n",
            "Epoch 19/30, Train Loss: 0.0047, Val Loss: 0.0070\n",
            "Epoch 20/30, Train Loss: 0.0047, Val Loss: 0.0069\n",
            "Epoch 21/30, Train Loss: 0.0047, Val Loss: 0.0069\n",
            "Epoch 22/30, Train Loss: 0.0047, Val Loss: 0.0069\n",
            "Epoch 23/30, Train Loss: 0.0047, Val Loss: 0.0069\n",
            "Epoch 24/30, Train Loss: 0.0047, Val Loss: 0.0069\n",
            "Epoch 25/30, Train Loss: 0.0047, Val Loss: 0.0069\n",
            "Epoch 26/30, Train Loss: 0.0047, Val Loss: 0.0069\n",
            "Epoch 27/30, Train Loss: 0.0047, Val Loss: 0.0069\n",
            "Epoch 28/30, Train Loss: 0.0047, Val Loss: 0.0069\n",
            "Epoch 29/30, Train Loss: 0.0047, Val Loss: 0.0069\n"
          ]
        },
        {
          "output_type": "stream",
          "name": "stderr",
          "text": [
            "[I 2024-12-06 22:00:30,144] Trial 9 finished with value: 0.0027061208747909404 and parameters: {'hidden_dim': 92, 'lr': 0.009550615316976587, 'weight_decay': 2.9520109441098638e-05, 'asymmetric_ratio': 1.9431864498736195}. Best is trial 9 with value: 0.0027061208747909404.\n"
          ]
        },
        {
          "output_type": "stream",
          "name": "stdout",
          "text": [
            "Epoch 30/30, Train Loss: 0.0047, Val Loss: 0.0069\n",
            "Epoch 1/30, Train Loss: 0.0301, Val Loss: 0.0578\n",
            "Epoch 2/30, Train Loss: 0.0812, Val Loss: 0.0041\n",
            "Epoch 3/30, Train Loss: 0.0489, Val Loss: 0.0039\n",
            "Epoch 4/30, Train Loss: 0.0275, Val Loss: 0.0080\n",
            "Epoch 5/30, Train Loss: 0.0220, Val Loss: 0.0034\n",
            "Epoch 6/30, Train Loss: 0.0204, Val Loss: 0.0161\n",
            "Epoch 7/30, Train Loss: 0.0250, Val Loss: 0.0296\n",
            "Epoch 8/30, Train Loss: 0.0178, Val Loss: 0.0155\n",
            "Epoch 9/30, Train Loss: 0.0092, Val Loss: 0.0067\n",
            "Epoch 10/30, Train Loss: 0.0119, Val Loss: 0.0056\n",
            "Epoch 11/30, Train Loss: 0.0070, Val Loss: 0.0030\n",
            "Epoch 12/30, Train Loss: 0.0054, Val Loss: 0.0025\n",
            "Epoch 13/30, Train Loss: 0.0046, Val Loss: 0.0023\n",
            "Epoch 14/30, Train Loss: 0.0043, Val Loss: 0.0023\n",
            "Epoch 15/30, Train Loss: 0.0041, Val Loss: 0.0024\n",
            "Epoch 16/30, Train Loss: 0.0041, Val Loss: 0.0024\n",
            "Epoch 17/30, Train Loss: 0.0040, Val Loss: 0.0024\n",
            "Epoch 18/30, Train Loss: 0.0039, Val Loss: 0.0024\n",
            "Epoch 19/30, Train Loss: 0.0039, Val Loss: 0.0024\n",
            "Epoch 20/30, Train Loss: 0.0039, Val Loss: 0.0024\n",
            "Epoch 21/30, Train Loss: 0.0039, Val Loss: 0.0024\n",
            "Epoch 22/30, Train Loss: 0.0039, Val Loss: 0.0024\n",
            "Epoch 23/30, Train Loss: 0.0039, Val Loss: 0.0024\n",
            "Epoch 24/30, Train Loss: 0.0039, Val Loss: 0.0024\n",
            "Epoch 25/30, Train Loss: 0.0039, Val Loss: 0.0024\n",
            "Epoch 26/30, Train Loss: 0.0039, Val Loss: 0.0024\n",
            "Epoch 27/30, Train Loss: 0.0039, Val Loss: 0.0024\n",
            "Epoch 28/30, Train Loss: 0.0039, Val Loss: 0.0024\n",
            "Epoch 29/30, Train Loss: 0.0039, Val Loss: 0.0024\n"
          ]
        },
        {
          "output_type": "stream",
          "name": "stderr",
          "text": [
            "[I 2024-12-06 22:00:37,600] Trial 10 finished with value: 0.0023021293454803526 and parameters: {'hidden_dim': 32, 'lr': 0.00995706276372913, 'weight_decay': 6.644269087539292e-06, 'asymmetric_ratio': 1.0433892743384692}. Best is trial 10 with value: 0.0023021293454803526.\n"
          ]
        },
        {
          "output_type": "stream",
          "name": "stdout",
          "text": [
            "Epoch 30/30, Train Loss: 0.0039, Val Loss: 0.0024\n",
            "Epoch 1/30, Train Loss: 0.0318, Val Loss: 0.0566\n",
            "Epoch 2/30, Train Loss: 0.0794, Val Loss: 0.0158\n",
            "Epoch 3/30, Train Loss: 0.0377, Val Loss: 0.0073\n",
            "Epoch 4/30, Train Loss: 0.0211, Val Loss: 0.0058\n",
            "Epoch 5/30, Train Loss: 0.0235, Val Loss: 0.0095\n",
            "Epoch 6/30, Train Loss: 0.0266, Val Loss: 0.0304\n",
            "Epoch 7/30, Train Loss: 0.0237, Val Loss: 0.0559\n",
            "Epoch 8/30, Train Loss: 0.0091, Val Loss: 0.0050\n",
            "Epoch 9/30, Train Loss: 0.0094, Val Loss: 0.0164\n",
            "Epoch 10/30, Train Loss: 0.0141, Val Loss: 0.0233\n",
            "Epoch 11/30, Train Loss: 0.0082, Val Loss: 0.0088\n",
            "Epoch 12/30, Train Loss: 0.0050, Val Loss: 0.0047\n",
            "Epoch 13/30, Train Loss: 0.0080, Val Loss: 0.0101\n",
            "Epoch 14/30, Train Loss: 0.0076, Val Loss: 0.0071\n",
            "Epoch 15/30, Train Loss: 0.0055, Val Loss: 0.0021\n",
            "Epoch 16/30, Train Loss: 0.0045, Val Loss: 0.0054\n",
            "Epoch 17/30, Train Loss: 0.0058, Val Loss: 0.0033\n",
            "Epoch 18/30, Train Loss: 0.0038, Val Loss: 0.0038\n",
            "Epoch 19/30, Train Loss: 0.0047, Val Loss: 0.0025\n",
            "Epoch 20/30, Train Loss: 0.0032, Val Loss: 0.0027\n",
            "Epoch 21/30, Train Loss: 0.0030, Val Loss: 0.0030\n",
            "Epoch 22/30, Train Loss: 0.0030, Val Loss: 0.0032\n",
            "Epoch 23/30, Train Loss: 0.0029, Val Loss: 0.0033\n",
            "Epoch 24/30, Train Loss: 0.0029, Val Loss: 0.0033\n",
            "Epoch 25/30, Train Loss: 0.0029, Val Loss: 0.0033\n",
            "Epoch 26/30, Train Loss: 0.0029, Val Loss: 0.0033\n",
            "Epoch 27/30, Train Loss: 0.0029, Val Loss: 0.0033\n",
            "Epoch 28/30, Train Loss: 0.0029, Val Loss: 0.0033\n",
            "Epoch 29/30, Train Loss: 0.0029, Val Loss: 0.0033\n"
          ]
        },
        {
          "output_type": "stream",
          "name": "stderr",
          "text": [
            "[I 2024-12-06 22:00:45,146] Trial 11 finished with value: 0.0021388626337284222 and parameters: {'hidden_dim': 20, 'lr': 0.00995961921242751, 'weight_decay': 8.869753030094646e-06, 'asymmetric_ratio': 1.0652981200763143}. Best is trial 11 with value: 0.0021388626337284222.\n"
          ]
        },
        {
          "output_type": "stream",
          "name": "stdout",
          "text": [
            "Epoch 30/30, Train Loss: 0.0029, Val Loss: 0.0033\n",
            "Epoch 1/30, Train Loss: 0.0297, Val Loss: 0.0606\n",
            "Epoch 2/30, Train Loss: 0.0690, Val Loss: 0.0204\n",
            "Epoch 3/30, Train Loss: 0.0408, Val Loss: 0.0071\n",
            "Epoch 4/30, Train Loss: 0.0221, Val Loss: 0.0046\n",
            "Epoch 5/30, Train Loss: 0.0171, Val Loss: 0.0088\n",
            "Epoch 6/30, Train Loss: 0.0271, Val Loss: 0.0492\n",
            "Epoch 7/30, Train Loss: 0.0102, Val Loss: 0.0070\n",
            "Epoch 8/30, Train Loss: 0.0093, Val Loss: 0.0028\n",
            "Epoch 9/30, Train Loss: 0.0149, Val Loss: 0.0233\n",
            "Epoch 10/30, Train Loss: 0.0060, Val Loss: 0.0025\n",
            "Epoch 11/30, Train Loss: 0.0081, Val Loss: 0.0058\n",
            "Epoch 12/30, Train Loss: 0.0100, Val Loss: 0.0138\n",
            "Epoch 13/30, Train Loss: 0.0050, Val Loss: 0.0026\n",
            "Epoch 14/30, Train Loss: 0.0065, Val Loss: 0.0035\n",
            "Epoch 15/30, Train Loss: 0.0076, Val Loss: 0.0034\n",
            "Epoch 16/30, Train Loss: 0.0036, Val Loss: 0.0035\n",
            "Epoch 17/30, Train Loss: 0.0032, Val Loss: 0.0031\n",
            "Epoch 18/30, Train Loss: 0.0031, Val Loss: 0.0029\n",
            "Epoch 19/30, Train Loss: 0.0031, Val Loss: 0.0029\n",
            "Epoch 20/30, Train Loss: 0.0031, Val Loss: 0.0029\n",
            "Epoch 21/30, Train Loss: 0.0030, Val Loss: 0.0029\n",
            "Epoch 22/30, Train Loss: 0.0030, Val Loss: 0.0029\n",
            "Epoch 23/30, Train Loss: 0.0030, Val Loss: 0.0029\n",
            "Epoch 24/30, Train Loss: 0.0030, Val Loss: 0.0029\n",
            "Epoch 25/30, Train Loss: 0.0030, Val Loss: 0.0029\n",
            "Epoch 26/30, Train Loss: 0.0030, Val Loss: 0.0029\n",
            "Epoch 27/30, Train Loss: 0.0030, Val Loss: 0.0029\n",
            "Epoch 28/30, Train Loss: 0.0030, Val Loss: 0.0029\n",
            "Epoch 29/30, Train Loss: 0.0030, Val Loss: 0.0029\n"
          ]
        },
        {
          "output_type": "stream",
          "name": "stderr",
          "text": [
            "[I 2024-12-06 22:00:52,826] Trial 12 finished with value: 0.002509220255888067 and parameters: {'hidden_dim': 20, 'lr': 0.009965809526235853, 'weight_decay': 1.169261727461991e-05, 'asymmetric_ratio': 1.0353632984932433}. Best is trial 11 with value: 0.0021388626337284222.\n"
          ]
        },
        {
          "output_type": "stream",
          "name": "stdout",
          "text": [
            "Epoch 30/30, Train Loss: 0.0030, Val Loss: 0.0029\n",
            "Epoch 1/30, Train Loss: 0.0780, Val Loss: 0.0199\n",
            "Epoch 2/30, Train Loss: 0.0794, Val Loss: 0.0546\n",
            "Epoch 3/30, Train Loss: 0.0395, Val Loss: 0.0210\n",
            "Epoch 4/30, Train Loss: 0.0271, Val Loss: 0.0124\n",
            "Epoch 5/30, Train Loss: 0.0190, Val Loss: 0.0183\n",
            "Epoch 6/30, Train Loss: 0.0121, Val Loss: 0.0163\n",
            "Epoch 7/30, Train Loss: 0.0121, Val Loss: 0.0157\n",
            "Epoch 8/30, Train Loss: 0.0085, Val Loss: 0.0082\n",
            "Epoch 9/30, Train Loss: 0.0074, Val Loss: 0.0107\n",
            "Epoch 10/30, Train Loss: 0.0080, Val Loss: 0.0095\n",
            "Epoch 11/30, Train Loss: 0.0075, Val Loss: 0.0045\n",
            "Epoch 12/30, Train Loss: 0.0082, Val Loss: 0.0052\n",
            "Epoch 13/30, Train Loss: 0.0086, Val Loss: 0.0065\n",
            "Epoch 14/30, Train Loss: 0.0072, Val Loss: 0.0056\n",
            "Epoch 15/30, Train Loss: 0.0064, Val Loss: 0.0032\n",
            "Epoch 16/30, Train Loss: 0.0056, Val Loss: 0.0026\n",
            "Epoch 17/30, Train Loss: 0.0056, Val Loss: 0.0054\n",
            "Epoch 18/30, Train Loss: 0.0058, Val Loss: 0.0041\n",
            "Epoch 19/30, Train Loss: 0.0056, Val Loss: 0.0023\n",
            "Epoch 20/30, Train Loss: 0.0056, Val Loss: 0.0025\n",
            "Epoch 21/30, Train Loss: 0.0058, Val Loss: 0.0025\n",
            "Epoch 22/30, Train Loss: 0.0063, Val Loss: 0.0027\n",
            "Epoch 23/30, Train Loss: 0.0061, Val Loss: 0.0024\n",
            "Epoch 24/30, Train Loss: 0.0044, Val Loss: 0.0033\n",
            "Epoch 25/30, Train Loss: 0.0040, Val Loss: 0.0040\n",
            "Epoch 26/30, Train Loss: 0.0040, Val Loss: 0.0040\n",
            "Epoch 27/30, Train Loss: 0.0039, Val Loss: 0.0040\n",
            "Epoch 28/30, Train Loss: 0.0039, Val Loss: 0.0040\n",
            "Epoch 29/30, Train Loss: 0.0039, Val Loss: 0.0040\n"
          ]
        },
        {
          "output_type": "stream",
          "name": "stderr",
          "text": [
            "[I 2024-12-06 22:01:01,504] Trial 13 finished with value: 0.0022886590304551646 and parameters: {'hidden_dim': 23, 'lr': 0.00312313999099651, 'weight_decay': 7.501374253280174e-06, 'asymmetric_ratio': 1.2089883859849384}. Best is trial 11 with value: 0.0021388626337284222.\n"
          ]
        },
        {
          "output_type": "stream",
          "name": "stdout",
          "text": [
            "Epoch 30/30, Train Loss: 0.0039, Val Loss: 0.0040\n",
            "Epoch 1/30, Train Loss: 0.1205, Val Loss: 0.0071\n",
            "Epoch 2/30, Train Loss: 0.0830, Val Loss: 0.0514\n",
            "Epoch 3/30, Train Loss: 0.0452, Val Loss: 0.0228\n",
            "Epoch 4/30, Train Loss: 0.0294, Val Loss: 0.0084\n",
            "Epoch 5/30, Train Loss: 0.0224, Val Loss: 0.0193\n",
            "Epoch 6/30, Train Loss: 0.0127, Val Loss: 0.0170\n",
            "Epoch 7/30, Train Loss: 0.0096, Val Loss: 0.0129\n",
            "Epoch 8/30, Train Loss: 0.0088, Val Loss: 0.0110\n",
            "Epoch 9/30, Train Loss: 0.0083, Val Loss: 0.0100\n",
            "Epoch 10/30, Train Loss: 0.0078, Val Loss: 0.0100\n",
            "Epoch 11/30, Train Loss: 0.0078, Val Loss: 0.0099\n",
            "Epoch 12/30, Train Loss: 0.0078, Val Loss: 0.0098\n",
            "Epoch 13/30, Train Loss: 0.0078, Val Loss: 0.0098\n",
            "Epoch 14/30, Train Loss: 0.0077, Val Loss: 0.0098\n",
            "Epoch 15/30, Train Loss: 0.0077, Val Loss: 0.0098\n",
            "Epoch 16/30, Train Loss: 0.0077, Val Loss: 0.0098\n",
            "Epoch 17/30, Train Loss: 0.0077, Val Loss: 0.0097\n",
            "Epoch 18/30, Train Loss: 0.0077, Val Loss: 0.0097\n",
            "Epoch 19/30, Train Loss: 0.0077, Val Loss: 0.0097\n",
            "Epoch 20/30, Train Loss: 0.0077, Val Loss: 0.0097\n",
            "Epoch 21/30, Train Loss: 0.0077, Val Loss: 0.0097\n",
            "Epoch 22/30, Train Loss: 0.0077, Val Loss: 0.0097\n",
            "Epoch 23/30, Train Loss: 0.0077, Val Loss: 0.0097\n",
            "Epoch 24/30, Train Loss: 0.0077, Val Loss: 0.0097\n",
            "Epoch 25/30, Train Loss: 0.0077, Val Loss: 0.0097\n",
            "Epoch 26/30, Train Loss: 0.0077, Val Loss: 0.0097\n",
            "Epoch 27/30, Train Loss: 0.0077, Val Loss: 0.0097\n",
            "Epoch 28/30, Train Loss: 0.0077, Val Loss: 0.0097\n",
            "Epoch 29/30, Train Loss: 0.0077, Val Loss: 0.0097\n"
          ]
        },
        {
          "output_type": "stream",
          "name": "stderr",
          "text": [
            "[I 2024-12-06 22:01:08,662] Trial 14 finished with value: 0.007125244592316449 and parameters: {'hidden_dim': 20, 'lr': 0.00266168169022966, 'weight_decay': 1.2392834790260023e-06, 'asymmetric_ratio': 1.5940267703203466}. Best is trial 11 with value: 0.0021388626337284222.\n"
          ]
        },
        {
          "output_type": "stream",
          "name": "stdout",
          "text": [
            "Epoch 30/30, Train Loss: 0.0077, Val Loss: 0.0097\n",
            "Epoch 1/30, Train Loss: 0.0474, Val Loss: 0.0622\n",
            "Epoch 2/30, Train Loss: 0.0879, Val Loss: 0.0307\n",
            "Epoch 3/30, Train Loss: 0.0474, Val Loss: 0.0175\n",
            "Epoch 4/30, Train Loss: 0.0311, Val Loss: 0.0071\n",
            "Epoch 5/30, Train Loss: 0.0263, Val Loss: 0.0054\n",
            "Epoch 6/30, Train Loss: 0.0248, Val Loss: 0.0146\n",
            "Epoch 7/30, Train Loss: 0.0242, Val Loss: 0.0369\n",
            "Epoch 8/30, Train Loss: 0.0107, Val Loss: 0.0080\n",
            "Epoch 9/30, Train Loss: 0.0105, Val Loss: 0.0051\n",
            "Epoch 10/30, Train Loss: 0.0114, Val Loss: 0.0104\n",
            "Epoch 11/30, Train Loss: 0.0090, Val Loss: 0.0081\n",
            "Epoch 12/30, Train Loss: 0.0088, Val Loss: 0.0061\n",
            "Epoch 13/30, Train Loss: 0.0070, Val Loss: 0.0053\n",
            "Epoch 14/30, Train Loss: 0.0052, Val Loss: 0.0051\n",
            "Epoch 15/30, Train Loss: 0.0050, Val Loss: 0.0057\n",
            "Epoch 16/30, Train Loss: 0.0049, Val Loss: 0.0057\n",
            "Epoch 17/30, Train Loss: 0.0049, Val Loss: 0.0056\n",
            "Epoch 18/30, Train Loss: 0.0048, Val Loss: 0.0056\n",
            "Epoch 19/30, Train Loss: 0.0048, Val Loss: 0.0056\n",
            "Epoch 20/30, Train Loss: 0.0048, Val Loss: 0.0056\n",
            "Epoch 21/30, Train Loss: 0.0048, Val Loss: 0.0055\n",
            "Epoch 22/30, Train Loss: 0.0048, Val Loss: 0.0055\n",
            "Epoch 23/30, Train Loss: 0.0048, Val Loss: 0.0055\n",
            "Epoch 24/30, Train Loss: 0.0048, Val Loss: 0.0055\n",
            "Epoch 25/30, Train Loss: 0.0048, Val Loss: 0.0055\n",
            "Epoch 26/30, Train Loss: 0.0048, Val Loss: 0.0055\n",
            "Epoch 27/30, Train Loss: 0.0048, Val Loss: 0.0055\n",
            "Epoch 28/30, Train Loss: 0.0048, Val Loss: 0.0055\n",
            "Epoch 29/30, Train Loss: 0.0048, Val Loss: 0.0055\n"
          ]
        },
        {
          "output_type": "stream",
          "name": "stderr",
          "text": [
            "[I 2024-12-06 22:01:19,779] Trial 15 finished with value: 0.005133966420544311 and parameters: {'hidden_dim': 34, 'lr': 0.0030497245030990457, 'weight_decay': 7.042395116686215e-06, 'asymmetric_ratio': 1.5678768384975217}. Best is trial 11 with value: 0.0021388626337284222.\n"
          ]
        },
        {
          "output_type": "stream",
          "name": "stdout",
          "text": [
            "Epoch 30/30, Train Loss: 0.0048, Val Loss: 0.0055\n",
            "Epoch 1/30, Train Loss: 0.0510, Val Loss: 0.0739\n",
            "Epoch 2/30, Train Loss: 0.1011, Val Loss: 0.0389\n",
            "Epoch 3/30, Train Loss: 0.0584, Val Loss: 0.0172\n",
            "Epoch 4/30, Train Loss: 0.0377, Val Loss: 0.0067\n",
            "Epoch 5/30, Train Loss: 0.0142, Val Loss: 0.0041\n",
            "Epoch 6/30, Train Loss: 0.0207, Val Loss: 0.0079\n",
            "Epoch 7/30, Train Loss: 0.0269, Val Loss: 0.0098\n",
            "Epoch 8/30, Train Loss: 0.0164, Val Loss: 0.0129\n",
            "Epoch 9/30, Train Loss: 0.0174, Val Loss: 0.0037\n",
            "Epoch 10/30, Train Loss: 0.0207, Val Loss: 0.0179\n",
            "Epoch 11/30, Train Loss: 0.0297, Val Loss: 0.0583\n",
            "Epoch 12/30, Train Loss: 0.0101, Val Loss: 0.0055\n",
            "Epoch 13/30, Train Loss: 0.0111, Val Loss: 0.0036\n",
            "Epoch 14/30, Train Loss: 0.0104, Val Loss: 0.0079\n",
            "Epoch 15/30, Train Loss: 0.0120, Val Loss: 0.0067\n",
            "Epoch 16/30, Train Loss: 0.0066, Val Loss: 0.0041\n",
            "Epoch 17/30, Train Loss: 0.0059, Val Loss: 0.0049\n",
            "Epoch 18/30, Train Loss: 0.0057, Val Loss: 0.0060\n",
            "Epoch 19/30, Train Loss: 0.0050, Val Loss: 0.0051\n",
            "Epoch 20/30, Train Loss: 0.0048, Val Loss: 0.0046\n",
            "Epoch 21/30, Train Loss: 0.0047, Val Loss: 0.0043\n",
            "Epoch 22/30, Train Loss: 0.0046, Val Loss: 0.0043\n",
            "Epoch 23/30, Train Loss: 0.0046, Val Loss: 0.0043\n",
            "Epoch 24/30, Train Loss: 0.0046, Val Loss: 0.0042\n",
            "Epoch 25/30, Train Loss: 0.0046, Val Loss: 0.0042\n",
            "Epoch 26/30, Train Loss: 0.0046, Val Loss: 0.0042\n",
            "Epoch 27/30, Train Loss: 0.0046, Val Loss: 0.0042\n",
            "Epoch 28/30, Train Loss: 0.0046, Val Loss: 0.0042\n",
            "Epoch 29/30, Train Loss: 0.0046, Val Loss: 0.0042\n"
          ]
        },
        {
          "output_type": "stream",
          "name": "stderr",
          "text": [
            "[I 2024-12-06 22:01:30,340] Trial 16 finished with value: 0.0036148204089840874 and parameters: {'hidden_dim': 33, 'lr': 0.004857703618995152, 'weight_decay': 1.3083254193173692e-05, 'asymmetric_ratio': 2.035433116017763}. Best is trial 11 with value: 0.0021388626337284222.\n"
          ]
        },
        {
          "output_type": "stream",
          "name": "stdout",
          "text": [
            "Epoch 30/30, Train Loss: 0.0046, Val Loss: 0.0042\n",
            "Epoch 1/30, Train Loss: 0.1398, Val Loss: 0.3603\n",
            "Epoch 2/30, Train Loss: 0.0474, Val Loss: 0.0637\n",
            "Epoch 3/30, Train Loss: 0.0523, Val Loss: 0.0740\n",
            "Epoch 4/30, Train Loss: 0.0392, Val Loss: 0.0478\n",
            "Epoch 5/30, Train Loss: 0.0339, Val Loss: 0.0271\n",
            "Epoch 6/30, Train Loss: 0.0275, Val Loss: 0.0113\n",
            "Epoch 7/30, Train Loss: 0.0221, Val Loss: 0.0134\n",
            "Epoch 8/30, Train Loss: 0.0203, Val Loss: 0.0265\n",
            "Epoch 9/30, Train Loss: 0.0119, Val Loss: 0.0180\n",
            "Epoch 10/30, Train Loss: 0.0103, Val Loss: 0.0131\n",
            "Epoch 11/30, Train Loss: 0.0085, Val Loss: 0.0118\n",
            "Epoch 12/30, Train Loss: 0.0082, Val Loss: 0.0107\n",
            "Epoch 13/30, Train Loss: 0.0080, Val Loss: 0.0101\n",
            "Epoch 14/30, Train Loss: 0.0080, Val Loss: 0.0098\n",
            "Epoch 15/30, Train Loss: 0.0079, Val Loss: 0.0095\n",
            "Epoch 16/30, Train Loss: 0.0078, Val Loss: 0.0093\n",
            "Epoch 17/30, Train Loss: 0.0077, Val Loss: 0.0091\n",
            "Epoch 18/30, Train Loss: 0.0076, Val Loss: 0.0089\n",
            "Epoch 19/30, Train Loss: 0.0076, Val Loss: 0.0088\n",
            "Epoch 20/30, Train Loss: 0.0075, Val Loss: 0.0086\n",
            "Epoch 21/30, Train Loss: 0.0074, Val Loss: 0.0084\n",
            "Epoch 22/30, Train Loss: 0.0074, Val Loss: 0.0082\n",
            "Epoch 23/30, Train Loss: 0.0073, Val Loss: 0.0080\n",
            "Epoch 24/30, Train Loss: 0.0072, Val Loss: 0.0078\n",
            "Epoch 25/30, Train Loss: 0.0072, Val Loss: 0.0076\n",
            "Epoch 26/30, Train Loss: 0.0071, Val Loss: 0.0074\n",
            "Epoch 27/30, Train Loss: 0.0071, Val Loss: 0.0072\n",
            "Epoch 28/30, Train Loss: 0.0070, Val Loss: 0.0070\n",
            "Epoch 29/30, Train Loss: 0.0070, Val Loss: 0.0069\n"
          ]
        },
        {
          "output_type": "stream",
          "name": "stderr",
          "text": [
            "[I 2024-12-06 22:01:39,975] Trial 17 finished with value: 0.006679181649815291 and parameters: {'hidden_dim': 43, 'lr': 0.0005711882995133013, 'weight_decay': 3.368573998641849e-06, 'asymmetric_ratio': 1.2299074757382074}. Best is trial 11 with value: 0.0021388626337284222.\n"
          ]
        },
        {
          "output_type": "stream",
          "name": "stdout",
          "text": [
            "Epoch 30/30, Train Loss: 0.0069, Val Loss: 0.0067\n",
            "Epoch 1/30, Train Loss: 0.1399, Val Loss: 0.1266\n",
            "Epoch 2/30, Train Loss: 0.0704, Val Loss: 0.0695\n",
            "Epoch 3/30, Train Loss: 0.0480, Val Loss: 0.0453\n",
            "Epoch 4/30, Train Loss: 0.0370, Val Loss: 0.0238\n",
            "Epoch 5/30, Train Loss: 0.0352, Val Loss: 0.0146\n",
            "Epoch 6/30, Train Loss: 0.0356, Val Loss: 0.0136\n",
            "Epoch 7/30, Train Loss: 0.0236, Val Loss: 0.0036\n",
            "Epoch 8/30, Train Loss: 0.0121, Val Loss: 0.0072\n",
            "Epoch 9/30, Train Loss: 0.0140, Val Loss: 0.0042\n",
            "Epoch 10/30, Train Loss: 0.0105, Val Loss: 0.0040\n",
            "Epoch 11/30, Train Loss: 0.0088, Val Loss: 0.0054\n",
            "Epoch 12/30, Train Loss: 0.0091, Val Loss: 0.0062\n",
            "Epoch 13/30, Train Loss: 0.0078, Val Loss: 0.0055\n",
            "Epoch 14/30, Train Loss: 0.0071, Val Loss: 0.0050\n",
            "Epoch 15/30, Train Loss: 0.0067, Val Loss: 0.0048\n",
            "Epoch 16/30, Train Loss: 0.0065, Val Loss: 0.0048\n",
            "Epoch 17/30, Train Loss: 0.0064, Val Loss: 0.0047\n",
            "Epoch 18/30, Train Loss: 0.0064, Val Loss: 0.0047\n",
            "Epoch 19/30, Train Loss: 0.0064, Val Loss: 0.0047\n",
            "Epoch 20/30, Train Loss: 0.0064, Val Loss: 0.0047\n",
            "Epoch 21/30, Train Loss: 0.0064, Val Loss: 0.0047\n",
            "Epoch 22/30, Train Loss: 0.0064, Val Loss: 0.0047\n",
            "Epoch 23/30, Train Loss: 0.0064, Val Loss: 0.0047\n",
            "Epoch 24/30, Train Loss: 0.0064, Val Loss: 0.0047\n",
            "Epoch 25/30, Train Loss: 0.0064, Val Loss: 0.0047\n",
            "Epoch 26/30, Train Loss: 0.0064, Val Loss: 0.0047\n",
            "Epoch 27/30, Train Loss: 0.0064, Val Loss: 0.0047\n",
            "Epoch 28/30, Train Loss: 0.0064, Val Loss: 0.0047\n",
            "Epoch 29/30, Train Loss: 0.0064, Val Loss: 0.0047\n"
          ]
        },
        {
          "output_type": "stream",
          "name": "stderr",
          "text": [
            "[I 2024-12-06 22:01:48,116] Trial 18 finished with value: 0.0035638098925119266 and parameters: {'hidden_dim': 27, 'lr': 0.002068113641684344, 'weight_decay': 1.1177841610348655e-06, 'asymmetric_ratio': 2.2434105080653017}. Best is trial 11 with value: 0.0021388626337284222.\n"
          ]
        },
        {
          "output_type": "stream",
          "name": "stdout",
          "text": [
            "Epoch 30/30, Train Loss: 0.0064, Val Loss: 0.0047\n",
            "Epoch 1/30, Train Loss: 0.6226, Val Loss: 1.8966\n",
            "Epoch 2/30, Train Loss: 0.5542, Val Loss: 1.7383\n",
            "Epoch 3/30, Train Loss: 0.4889, Val Loss: 1.5726\n",
            "Epoch 4/30, Train Loss: 0.4192, Val Loss: 1.3837\n",
            "Epoch 5/30, Train Loss: 0.3398, Val Loss: 1.1530\n",
            "Epoch 6/30, Train Loss: 0.2464, Val Loss: 0.8639\n",
            "Epoch 7/30, Train Loss: 0.1456, Val Loss: 0.5504\n",
            "Epoch 8/30, Train Loss: 0.0799, Val Loss: 0.3389\n",
            "Epoch 9/30, Train Loss: 0.0705, Val Loss: 0.2680\n",
            "Epoch 10/30, Train Loss: 0.0701, Val Loss: 0.2446\n",
            "Epoch 11/30, Train Loss: 0.0676, Val Loss: 0.2265\n",
            "Epoch 12/30, Train Loss: 0.0653, Val Loss: 0.2099\n",
            "Epoch 13/30, Train Loss: 0.0632, Val Loss: 0.1951\n",
            "Epoch 14/30, Train Loss: 0.0612, Val Loss: 0.1818\n",
            "Epoch 15/30, Train Loss: 0.0593, Val Loss: 0.1695\n",
            "Epoch 16/30, Train Loss: 0.0575, Val Loss: 0.1582\n",
            "Epoch 17/30, Train Loss: 0.0557, Val Loss: 0.1477\n",
            "Epoch 18/30, Train Loss: 0.0540, Val Loss: 0.1379\n",
            "Epoch 19/30, Train Loss: 0.0524, Val Loss: 0.1288\n",
            "Epoch 20/30, Train Loss: 0.0508, Val Loss: 0.1204\n",
            "Epoch 21/30, Train Loss: 0.0493, Val Loss: 0.1125\n",
            "Epoch 22/30, Train Loss: 0.0479, Val Loss: 0.1053\n",
            "Epoch 23/30, Train Loss: 0.0466, Val Loss: 0.0986\n",
            "Epoch 24/30, Train Loss: 0.0453, Val Loss: 0.0924\n",
            "Epoch 25/30, Train Loss: 0.0441, Val Loss: 0.0867\n",
            "Epoch 26/30, Train Loss: 0.0430, Val Loss: 0.0814\n",
            "Epoch 27/30, Train Loss: 0.0420, Val Loss: 0.0765\n",
            "Epoch 28/30, Train Loss: 0.0410, Val Loss: 0.0720\n",
            "Epoch 29/30, Train Loss: 0.0401, Val Loss: 0.0677\n"
          ]
        },
        {
          "output_type": "stream",
          "name": "stderr",
          "text": [
            "[I 2024-12-06 22:01:57,888] Trial 19 finished with value: 0.06373010901734233 and parameters: {'hidden_dim': 43, 'lr': 0.00010825022191290525, 'weight_decay': 6.167775072661098e-06, 'asymmetric_ratio': 3.474367080568789}. Best is trial 11 with value: 0.0021388626337284222.\n"
          ]
        },
        {
          "output_type": "stream",
          "name": "stdout",
          "text": [
            "Epoch 30/30, Train Loss: 0.0392, Val Loss: 0.0637\n",
            "Best hyperparameters: {'hidden_dim': 20, 'lr': 0.00995961921242751, 'weight_decay': 8.869753030094646e-06, 'asymmetric_ratio': 1.0652981200763143}\n"
          ]
        }
      ]
    },
    {
      "cell_type": "code",
      "source": [
        "# ---------------------------------------\n",
        "# 9. Retrain Final Model with Best Hyperparams\n",
        "# ---------------------------------------\n",
        "best_params = study.best_params\n",
        "model = LSTMModel(input_dim=len(features), hidden_dim=best_params['hidden_dim'], output_dim=len(features)).to(device)\n",
        "criterion = AsymmetricLoss(ratio=best_params['asymmetric_ratio'])\n",
        "optimizer = torch.optim.Adam(model.parameters(), lr=best_params['lr'], weight_decay=best_params['weight_decay'])\n",
        "scheduler = torch.optim.lr_scheduler.ReduceLROnPlateau(optimizer, 'min', factor=0.1, patience=3)\n",
        "\n",
        "best_state, _, train_losses, val_losses = train_and_validate(model, criterion, optimizer, scheduler, train_loader, val_loader, epochs=30)\n",
        "model.load_state_dict(best_state)\n",
        "\n",
        "# Plot training vs validation loss to check for overfitting\n",
        "plt.figure(figsize=(10,6))\n",
        "plt.plot(train_losses, label='Train Loss')\n",
        "plt.plot(val_losses, label='Val Loss')\n",
        "plt.title('Training and Validation Loss Over Epochs (LSTM)')\n",
        "plt.xlabel('Epoch')\n",
        "plt.ylabel('Loss')\n",
        "plt.legend()\n",
        "plt.show()"
      ],
      "metadata": {
        "colab": {
          "base_uri": "https://localhost:8080/",
          "height": 1000
        },
        "id": "7bbnBnV15sUP",
        "outputId": "d5ce5367-5f5d-41d1-c7a3-0c16271b664e"
      },
      "execution_count": null,
      "outputs": [
        {
          "output_type": "stream",
          "name": "stdout",
          "text": [
            "Epoch 1/30, Train Loss: 0.0433, Val Loss: 0.0603\n",
            "Epoch 2/30, Train Loss: 0.0832, Val Loss: 0.0370\n",
            "Epoch 3/30, Train Loss: 0.0444, Val Loss: 0.0106\n",
            "Epoch 4/30, Train Loss: 0.0213, Val Loss: 0.0084\n",
            "Epoch 5/30, Train Loss: 0.0225, Val Loss: 0.0161\n",
            "Epoch 6/30, Train Loss: 0.0171, Val Loss: 0.0144\n",
            "Epoch 7/30, Train Loss: 0.0152, Val Loss: 0.0231\n",
            "Epoch 8/30, Train Loss: 0.0125, Val Loss: 0.0139\n",
            "Epoch 9/30, Train Loss: 0.0080, Val Loss: 0.0079\n",
            "Epoch 10/30, Train Loss: 0.0065, Val Loss: 0.0053\n",
            "Epoch 11/30, Train Loss: 0.0055, Val Loss: 0.0041\n",
            "Epoch 12/30, Train Loss: 0.0048, Val Loss: 0.0032\n",
            "Epoch 13/30, Train Loss: 0.0043, Val Loss: 0.0026\n",
            "Epoch 14/30, Train Loss: 0.0041, Val Loss: 0.0023\n",
            "Epoch 15/30, Train Loss: 0.0039, Val Loss: 0.0022\n",
            "Epoch 16/30, Train Loss: 0.0039, Val Loss: 0.0022\n",
            "Epoch 17/30, Train Loss: 0.0038, Val Loss: 0.0021\n",
            "Epoch 18/30, Train Loss: 0.0038, Val Loss: 0.0021\n",
            "Epoch 19/30, Train Loss: 0.0037, Val Loss: 0.0021\n",
            "Epoch 20/30, Train Loss: 0.0037, Val Loss: 0.0021\n",
            "Epoch 21/30, Train Loss: 0.0037, Val Loss: 0.0021\n",
            "Epoch 22/30, Train Loss: 0.0037, Val Loss: 0.0021\n",
            "Epoch 23/30, Train Loss: 0.0037, Val Loss: 0.0021\n",
            "Epoch 24/30, Train Loss: 0.0036, Val Loss: 0.0021\n",
            "Epoch 25/30, Train Loss: 0.0036, Val Loss: 0.0021\n",
            "Epoch 26/30, Train Loss: 0.0036, Val Loss: 0.0021\n",
            "Epoch 27/30, Train Loss: 0.0036, Val Loss: 0.0021\n",
            "Epoch 28/30, Train Loss: 0.0036, Val Loss: 0.0021\n",
            "Epoch 29/30, Train Loss: 0.0036, Val Loss: 0.0021\n",
            "Epoch 30/30, Train Loss: 0.0036, Val Loss: 0.0021\n"
          ]
        },
        {
          "output_type": "display_data",
          "data": {
            "text/plain": [
              "<Figure size 1000x600 with 1 Axes>"
            ],
            "image/png": "[encoded data removed]"
          },
          "metadata": {}
        }
      ]
    },
    {
      "cell_type": "code",
      "source": [
        "# ---------------------------------------\n",
        "# 10. Evaluate on Test Set\n",
        "# ---------------------------------------\n",
        "# Ensure proper alignment by taking last N days of training plus test data\n",
        "test_input = np.concatenate((training_set[-N:], test_set), axis=0)\n",
        "test_input_scaled = scaler.transform(test_input)\n",
        "\n",
        "X_test = []\n",
        "for i in range(N, len(test_input_scaled)):\n",
        "    X_test.append(test_input_scaled[i-N:i, :])\n",
        "X_test = np.array(X_test)\n",
        "X_test_torch = torch.tensor(X_test, dtype=torch.float32).to(device)\n",
        "\n",
        "model.eval()\n",
        "with torch.no_grad():\n",
        "    predicted_scaled = model(X_test_torch).cpu().numpy()\n",
        "\n",
        "predicted_stock_price = scaler.inverse_transform(predicted_scaled.reshape(-1, len(features)))\n",
        "real_prices = test_data[features].values\n",
        "\n",
        "print(\"Predicted (first 5):\\n\", predicted_stock_price[:5])\n",
        "print(\"Actual (first 5):\\n\", real_prices[:5])\n",
        "\n",
        "# Compute Evaluation Metrics\n",
        "mse = mean_squared_error(real_prices[:len(predicted_stock_price), :], predicted_stock_price)\n",
        "rmse = np.sqrt(mse)\n",
        "mae = mean_absolute_error(real_prices[:len(predicted_stock_price), :], predicted_stock_price)\n",
        "print(f\"Test MSE: {mse:.4f}, RMSE: {rmse:.4f}, MAE: {mae:.4f}\")\n",
        "\n",
        "# Focus on 'Open' price for visualization\n",
        "real_open_price = real_prices[:len(predicted_stock_price), 0]\n",
        "predicted_open_price = predicted_stock_price[:, 0]\n",
        "\n",
        "# Plot predicted vs real prices\n",
        "plt.figure(figsize=(10,6))\n",
        "plt.plot(real_open_price, color='red', label='Real Google Stock Open Price')\n",
        "plt.plot(predicted_open_price, color='blue', label='Predicted Google Stock Open Price')\n",
        "plt.title('Google Stock Price Prediction (LSTM)')\n",
        "plt.xlabel('Time Steps')\n",
        "plt.ylabel('Stock Price')\n",
        "plt.legend()\n",
        "plt.show()"
      ],
      "metadata": {
        "colab": {
          "base_uri": "https://localhost:8080/",
          "height": 785
        },
        "id": "CPb2LQdL5u4r",
        "outputId": "862eba3c-1759-4780-ed07-937eb0a5bb33"
      },
      "execution_count": null,
      "outputs": [
        {
          "output_type": "stream",
          "name": "stdout",
          "text": [
            "Predicted (first 5):\n",
            " [[786.1205  782.8806  770.7568  768.1862 ]\n",
            " [786.4515  783.2189  771.09064 768.50916]\n",
            " [786.9379  783.6923  771.5765  769.1367 ]\n",
            " [787.50146 784.2551  772.1487  769.6621 ]\n",
            " [788.0746  784.8255  772.73816 770.4396 ]]\n",
            "Actual (first 5):\n",
            " [[778.81 789.63 775.8  786.14]\n",
            " [788.36 791.34 783.16 786.9 ]\n",
            " [786.08 794.48 785.02 794.02]\n",
            " [795.26 807.9  792.2  806.15]\n",
            " [806.4  809.97 802.83 806.65]]\n",
            "Test MSE: 643.7073, RMSE: 25.3714, MAE: 22.4846\n"
          ]
        },
        {
          "output_type": "display_data",
          "data": {
            "text/plain": [
              "<Figure size 1000x600 with 1 Axes>"
            ],
            "image/png": "[encoded data removed]"
          },
          "metadata": {}
        }
      ]
    },
    {
      "cell_type": "code",
      "execution_count": null,
      "metadata": {
        "colab": {
          "base_uri": "https://localhost:8080/",
          "height": 1000
        },
        "id": "zQzs0rDL5veJ",
        "outputId": "4b1ff31d-edb1-45aa-b59d-4c0a35630d47"
      },
      "outputs": [
        {
          "output_type": "display_data",
          "data": {
            "text/plain": [
              "<Figure size 1000x600 with 1 Axes>"
            ],
            "image/png": "[encoded data removed]"
          },
          "metadata": {}
        },
        {
          "output_type": "display_data",
          "data": {
            "text/plain": [
              "<Figure size 1000x600 with 1 Axes>"
            ],
            "image/png": "[encoded data removed]"
          },
          "metadata": {}
        }
      ],
      "source": [
        "# ---------------------------------------\n",
        "# 11. Residual Analysis (Check for Systematic Bias)\n",
        "# ---------------------------------------\n",
        "residuals = real_open_price - predicted_open_price\n",
        "\n",
        "# Plot residuals over time\n",
        "plt.figure(figsize=(10,6))\n",
        "plt.plot(residuals, label='Residuals (Real - Predicted)')\n",
        "plt.title('Residuals Over Time')\n",
        "plt.xlabel('Time Steps')\n",
        "plt.ylabel('Residual')\n",
        "plt.axhline(y=0, color='r', linestyle='--')\n",
        "plt.legend()\n",
        "plt.show()\n",
        "\n",
        "# Distribution of residuals\n",
        "plt.figure(figsize=(10,6))\n",
        "sns.histplot(residuals, kde=True)\n",
        "plt.title('Distribution of Residuals')\n",
        "plt.xlabel('Residual')\n",
        "plt.ylabel('Frequency')\n",
        "plt.show()\n",
        "\n"
      ]
    }
  ]
}