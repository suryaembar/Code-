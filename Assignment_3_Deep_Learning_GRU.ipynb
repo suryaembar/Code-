{
  "nbformat": 4,
  "nbformat_minor": 0,
  "metadata": {
    "colab": {
      "provenance": []
    },
    "kernelspec": {
      "name": "python3",
      "display_name": "Python 3"
    },
    "language_info": {
      "name": "python"
    }
  },
  "cells": [
    {
      "cell_type": "code",
      "source": [
        "!pip install optuna"
      ],
      "metadata": {
        "colab": {
          "base_uri": "https://localhost:8080/"
        },
        "id": "DplpQEXEXChs",
        "outputId": "8a7a7577-e974-4731-ac67-b6360e2e23cd"
      },
      "execution_count": null,
      "outputs": [
        {
          "output_type": "stream",
          "name": "stdout",
          "text": [
            "Requirement already satisfied: optuna in /usr/local/lib/python3.10/dist-packages (4.1.0)\n",
            "Requirement already satisfied: alembic>=1.5.0 in /usr/local/lib/python3.10/dist-packages (from optuna) (1.14.0)\n",
            "Requirement already satisfied: colorlog in /usr/local/lib/python3.10/dist-packages (from optuna) (6.9.0)\n",
            "Requirement already satisfied: numpy in /usr/local/lib/python3.10/dist-packages (from optuna) (1.26.4)\n",
            "Requirement already satisfied: packaging>=20.0 in /usr/local/lib/python3.10/dist-packages (from optuna) (24.2)\n",
            "Requirement already satisfied: sqlalchemy>=1.4.2 in /usr/local/lib/python3.10/dist-packages (from optuna) (2.0.36)\n",
            "Requirement already satisfied: tqdm in /usr/local/lib/python3.10/dist-packages (from optuna) (4.66.6)\n",
            "Requirement already satisfied: PyYAML in /usr/local/lib/python3.10/dist-packages (from optuna) (6.0.2)\n",
            "Requirement already satisfied: Mako in /usr/local/lib/python3.10/dist-packages (from alembic>=1.5.0->optuna) (1.3.7)\n",
            "Requirement already satisfied: typing-extensions>=4 in /usr/local/lib/python3.10/dist-packages (from alembic>=1.5.0->optuna) (4.12.2)\n",
            "Requirement already satisfied: greenlet!=0.4.17 in /usr/local/lib/python3.10/dist-packages (from sqlalchemy>=1.4.2->optuna) (3.1.1)\n",
            "Requirement already satisfied: MarkupSafe>=0.9.2 in /usr/local/lib/python3.10/dist-packages (from Mako->alembic>=1.5.0->optuna) (3.0.2)\n"
          ]
        }
      ]
    },
    {
      "cell_type": "code",
      "source": [
        "import pandas as pd\n",
        "import numpy as np\n",
        "import torch\n",
        "from torch import nn\n",
        "from torch.utils.data import Dataset, DataLoader\n",
        "from sklearn.preprocessing import MinMaxScaler\n",
        "import matplotlib.pyplot as plt\n",
        "import seaborn as sns\n",
        "import optuna\n",
        "from sklearn.metrics import mean_squared_error, mean_absolute_error\n",
        "\n",
        "device = torch.device(\"cuda\" if torch.cuda.is_available() else \"cpu\")"
      ],
      "metadata": {
        "id": "WKycWYGC4_KU"
      },
      "execution_count": null,
      "outputs": []
    },
    {
      "cell_type": "code",
      "source": [
        "# ---------------------------------------\n",
        "# 1. Data Loading and Inspection\n",
        "# ---------------------------------------\n",
        "train_data = pd.read_csv('/content/Google_Stock_Price_Train.csv')\n",
        "test_data = pd.read_csv('/content/Google_Stock_Price_Test.csv')\n",
        "\n",
        "print(\"Training Data Sample:\\n\", train_data.head())\n",
        "print(\"Test Data Sample:\\n\", test_data.head())\n",
        "print(\"Missing values in training data:\\n\", train_data.isnull().sum())"
      ],
      "metadata": {
        "colab": {
          "base_uri": "https://localhost:8080/"
        },
        "id": "6POD5bFf4_IK",
        "outputId": "ab1cddda-1bed-4ab7-9cef-71940cec04e7"
      },
      "execution_count": null,
      "outputs": [
        {
          "output_type": "stream",
          "name": "stdout",
          "text": [
            "Training Data Sample:\n",
            "        Date    Open    High     Low   Close      Volume\n",
            "0  1/3/2012  325.25  332.83  324.97  663.59   7,380,500\n",
            "1  1/4/2012  331.27  333.87  329.08  666.45   5,749,400\n",
            "2  1/5/2012  329.83  330.75  326.89  657.21   6,590,300\n",
            "3  1/6/2012  328.34  328.77  323.68  648.24   5,405,900\n",
            "4  1/9/2012  322.04  322.29  309.46  620.76  11,688,800\n",
            "Test Data Sample:\n",
            "        Date    Open    High     Low   Close     Volume\n",
            "0  1/3/2017  778.81  789.63  775.80  786.14  1,657,300\n",
            "1  1/4/2017  788.36  791.34  783.16  786.90  1,073,000\n",
            "2  1/5/2017  786.08  794.48  785.02  794.02  1,335,200\n",
            "3  1/6/2017  795.26  807.90  792.20  806.15  1,640,200\n",
            "4  1/9/2017  806.40  809.97  802.83  806.65  1,272,400\n",
            "Missing values in training data:\n",
            " Date      0\n",
            "Open      0\n",
            "High      0\n",
            "Low       0\n",
            "Close     0\n",
            "Volume    0\n",
            "dtype: int64\n"
          ]
        }
      ]
    },
    {
      "cell_type": "code",
      "source": [
        "# ---------------------------------------\n",
        "# 2. Data Cleaning and Preprocessing\n",
        "# ---------------------------------------\n",
        "features = ['Open', 'High', 'Low', 'Close']\n",
        "\n",
        "# Convert columns that are object type with commas into float\n",
        "for feature in features:\n",
        "    if train_data[feature].dtype == 'object':\n",
        "        train_data[feature] = train_data[feature].str.replace(',', '', regex=True).astype(float)\n",
        "    if test_data[feature].dtype == 'object':\n",
        "        test_data[feature] = test_data[feature].str.replace(',', '', regex=True).astype(float)\n",
        "\n",
        "training_set = train_data[features].values\n",
        "test_set = test_data[features].values\n",
        "\n",
        "# Scale features\n",
        "scaler = MinMaxScaler(feature_range=(0, 1))\n",
        "training_set_scaled = scaler.fit_transform(training_set)"
      ],
      "metadata": {
        "id": "NelO15w34_FY"
      },
      "execution_count": null,
      "outputs": []
    },
    {
      "cell_type": "code",
      "source": [
        "# ---------------------------------------\n",
        "# 3. Fixed-length Sequence Creation (Sliding Window)\n",
        "# ---------------------------------------\n",
        "N = 30  # number of past days used as input\n",
        "M = 1   # number of future days to predict\n",
        "\n",
        "X, y = [], []\n",
        "for i in range(N, len(training_set_scaled) - M + 1):\n",
        "    X.append(training_set_scaled[i-N:i, :])\n",
        "    y.append(training_set_scaled[i:i+M, :])\n",
        "\n",
        "X, y = np.array(X), np.array(y)\n",
        "\n",
        "# Split into training and validation sets (time-aware)\n",
        "split = int(len(X) * 0.8)\n",
        "X_train, X_val = X[:split], X[split:]\n",
        "y_train, y_val = y[:split], y[split:]"
      ],
      "metadata": {
        "id": "_5ODbtQ84_Cq"
      },
      "execution_count": null,
      "outputs": []
    },
    {
      "cell_type": "code",
      "source": [
        "# ---------------------------------------\n",
        "# 4. Dataset and DataLoader\n",
        "# ---------------------------------------\n",
        "class StockDataset(Dataset):\n",
        "    def __init__(self, X, y):\n",
        "        self.X = torch.tensor(X, dtype=torch.float32)\n",
        "        self.y = torch.tensor(y, dtype=torch.float32)\n",
        "\n",
        "    def __len__(self):\n",
        "        return len(self.X)\n",
        "\n",
        "    def __getitem__(self, idx):\n",
        "        return self.X[idx], self.y[idx]\n",
        "\n",
        "train_dataset = StockDataset(X_train, y_train)\n",
        "val_dataset = StockDataset(X_val, y_val)\n",
        "\n",
        "train_loader = DataLoader(train_dataset, batch_size=32, shuffle=False)\n",
        "val_loader = DataLoader(val_dataset, batch_size=32, shuffle=False)"
      ],
      "metadata": {
        "id": "rAelYyk14-_9"
      },
      "execution_count": null,
      "outputs": []
    },
    {
      "cell_type": "code",
      "source": [
        "# ---------------------------------------\n",
        "# 5. GRU Model Definition\n",
        "# ---------------------------------------\n",
        "class GRUModel(nn.Module):\n",
        "    def __init__(self, input_dim, hidden_dim, output_dim, num_layers=1):\n",
        "        super(GRUModel, self).__init__()\n",
        "        self.gru = nn.GRU(input_dim, hidden_dim, num_layers=num_layers, batch_first=True)\n",
        "        self.fc = nn.Linear(hidden_dim, output_dim)\n",
        "\n",
        "    def forward(self, x):\n",
        "        # x: [B, T, input_dim]\n",
        "        out, _ = self.gru(x)  # out: [B, T, hidden_dim]\n",
        "        out = out[:, -1, :]    # Take the last time step\n",
        "        out = self.fc(out)     # Map to output_dim\n",
        "        return out"
      ],
      "metadata": {
        "id": "lm6anHWc4-82"
      },
      "execution_count": null,
      "outputs": []
    },
    {
      "cell_type": "code",
      "source": [
        "# ---------------------------------------\n",
        "# 6. Custom Asymmetric Loss Function\n",
        "# ---------------------------------------\n",
        "class AsymmetricLoss(nn.Module):\n",
        "    def __init__(self, ratio=2.0):\n",
        "        super(AsymmetricLoss, self).__init__()\n",
        "        self.ratio = ratio\n",
        "\n",
        "    def forward(self, pred, target):\n",
        "        diff = target - pred\n",
        "        loss = torch.mean(torch.where(diff > 0, self.ratio * diff**2, diff**2))\n",
        "        return loss"
      ],
      "metadata": {
        "id": "h1B-aAHi5JVK"
      },
      "execution_count": null,
      "outputs": []
    },
    {
      "cell_type": "code",
      "source": [
        "# ---------------------------------------\n",
        "# 7. Training Function with Metric Logging\n",
        "# ---------------------------------------\n",
        "def train_and_validate(model, criterion, optimizer, scheduler, train_loader, val_loader, epochs=30):\n",
        "    train_losses = []\n",
        "    val_losses = []\n",
        "    best_val_loss = float('inf')\n",
        "    best_state = None\n",
        "\n",
        "    for epoch in range(epochs):\n",
        "        # Training\n",
        "        model.train()\n",
        "        running_train_loss = 0.0\n",
        "        for X_batch, y_batch in train_loader:\n",
        "            X_batch, y_batch = X_batch.to(device), y_batch.to(device)\n",
        "            optimizer.zero_grad()\n",
        "            outputs = model(X_batch)\n",
        "            loss = criterion(outputs, y_batch.view(outputs.shape))\n",
        "            loss.backward()\n",
        "            optimizer.step()\n",
        "            running_train_loss += loss.item()\n",
        "\n",
        "        train_loss = running_train_loss / len(train_loader)\n",
        "        train_losses.append(train_loss)\n",
        "\n",
        "        # Validation\n",
        "        model.eval()\n",
        "        running_val_loss = 0.0\n",
        "        with torch.no_grad():\n",
        "            for X_batch, y_batch in val_loader:\n",
        "                X_batch, y_batch = X_batch.to(device), y_batch.to(device)\n",
        "                outputs = model(X_batch)\n",
        "                loss = criterion(outputs, y_batch.view(outputs.shape))\n",
        "                running_val_loss += loss.item()\n",
        "\n",
        "        val_loss = running_val_loss / len(val_loader)\n",
        "        val_losses.append(val_loss)\n",
        "\n",
        "        scheduler.step(val_loss)\n",
        "\n",
        "        if val_loss < best_val_loss:\n",
        "            best_val_loss = val_loss\n",
        "            best_state = model.state_dict()\n",
        "\n",
        "        print(f\"Epoch {epoch+1}/{epochs}, Train Loss: {train_loss:.4f}, Val Loss: {val_loss:.4f}\")\n",
        "\n",
        "    return best_state, best_val_loss, train_losses, val_losses"
      ],
      "metadata": {
        "id": "4Y0pI5xz5Lxf"
      },
      "execution_count": null,
      "outputs": []
    },
    {
      "cell_type": "code",
      "source": [
        "# ---------------------------------------\n",
        "# 8. Hyperparameter Tuning with Optuna\n",
        "# ---------------------------------------\n",
        "def objective(trial):\n",
        "    hidden_dim = trial.suggest_int('hidden_dim', 20, 100)\n",
        "    lr = trial.suggest_float('lr', 1e-4, 1e-2, log=True)\n",
        "    weight_decay = trial.suggest_float('weight_decay', 1e-6, 1e-3, log=True)\n",
        "    ratio = trial.suggest_float('asymmetric_ratio', 1.0, 5.0)\n",
        "\n",
        "    model = GRUModel(input_dim=len(features), hidden_dim=hidden_dim, output_dim=len(features)).to(device)\n",
        "    criterion = AsymmetricLoss(ratio=ratio)\n",
        "    optimizer = torch.optim.Adam(model.parameters(), lr=lr, weight_decay=weight_decay)\n",
        "    scheduler = torch.optim.lr_scheduler.ReduceLROnPlateau(optimizer, 'min', factor=0.1, patience=3)\n",
        "\n",
        "    # Shorter training for tuning\n",
        "    best_state, best_val_loss, _, _ = train_and_validate(model, criterion, optimizer, scheduler, train_loader, val_loader, epochs=30)\n",
        "    return best_val_loss\n",
        "\n",
        "study = optuna.create_study(direction='minimize')\n",
        "study.optimize(objective, n_trials=20)\n",
        "print(\"Best hyperparameters:\", study.best_params)"
      ],
      "metadata": {
        "colab": {
          "base_uri": "https://localhost:8080/"
        },
        "id": "F1PKvLKm5Nyp",
        "outputId": "52d61640-7d9f-4dcc-b99d-e85001ebef37"
      },
      "execution_count": null,
      "outputs": [
        {
          "output_type": "stream",
          "name": "stderr",
          "text": [
            "[I 2024-12-06 21:53:27,881] A new study created in memory with name: no-name-6fc4b867-5934-49f8-8d9d-cecce17b4385\n"
          ]
        },
        {
          "output_type": "stream",
          "name": "stdout",
          "text": [
            "Epoch 1/30, Train Loss: 0.0292, Val Loss: 0.0585\n",
            "Epoch 2/30, Train Loss: 0.0754, Val Loss: 0.0089\n",
            "Epoch 3/30, Train Loss: 0.0573, Val Loss: 0.0181\n",
            "Epoch 4/30, Train Loss: 0.0257, Val Loss: 0.0050\n",
            "Epoch 5/30, Train Loss: 0.0169, Val Loss: 0.0073\n",
            "Epoch 6/30, Train Loss: 0.0113, Val Loss: 0.0087\n",
            "Epoch 7/30, Train Loss: 0.0029, Val Loss: 0.0012\n",
            "Epoch 8/30, Train Loss: 0.0029, Val Loss: 0.0014\n",
            "Epoch 9/30, Train Loss: 0.0010, Val Loss: 0.0008\n",
            "Epoch 10/30, Train Loss: 0.0015, Val Loss: 0.0006\n",
            "Epoch 11/30, Train Loss: 0.0021, Val Loss: 0.0012\n",
            "Epoch 12/30, Train Loss: 0.0047, Val Loss: 0.0047\n",
            "Epoch 13/30, Train Loss: 0.0068, Val Loss: 0.0030\n",
            "Epoch 14/30, Train Loss: 0.0115, Val Loss: 0.0041\n",
            "Epoch 15/30, Train Loss: 0.0122, Val Loss: 0.0140\n",
            "Epoch 16/30, Train Loss: 0.0015, Val Loss: 0.0028\n",
            "Epoch 17/30, Train Loss: 0.0009, Val Loss: 0.0013\n",
            "Epoch 18/30, Train Loss: 0.0007, Val Loss: 0.0009\n",
            "Epoch 19/30, Train Loss: 0.0006, Val Loss: 0.0008\n",
            "Epoch 20/30, Train Loss: 0.0006, Val Loss: 0.0008\n",
            "Epoch 21/30, Train Loss: 0.0006, Val Loss: 0.0008\n",
            "Epoch 22/30, Train Loss: 0.0006, Val Loss: 0.0008\n",
            "Epoch 23/30, Train Loss: 0.0006, Val Loss: 0.0008\n",
            "Epoch 24/30, Train Loss: 0.0006, Val Loss: 0.0008\n",
            "Epoch 25/30, Train Loss: 0.0006, Val Loss: 0.0008\n",
            "Epoch 26/30, Train Loss: 0.0006, Val Loss: 0.0008\n",
            "Epoch 27/30, Train Loss: 0.0006, Val Loss: 0.0008\n",
            "Epoch 28/30, Train Loss: 0.0006, Val Loss: 0.0008\n",
            "Epoch 29/30, Train Loss: 0.0006, Val Loss: 0.0008\n"
          ]
        },
        {
          "output_type": "stream",
          "name": "stderr",
          "text": [
            "[I 2024-12-06 21:53:58,646] Trial 0 finished with value: 0.0006294366794463713 and parameters: {'hidden_dim': 68, 'lr': 0.003345478222762629, 'weight_decay': 2.2322873487072344e-06, 'asymmetric_ratio': 2.199319361712599}. Best is trial 0 with value: 0.0006294366794463713.\n"
          ]
        },
        {
          "output_type": "stream",
          "name": "stdout",
          "text": [
            "Epoch 30/30, Train Loss: 0.0006, Val Loss: 0.0008\n",
            "Epoch 1/30, Train Loss: 0.3463, Val Loss: 0.9436\n",
            "Epoch 2/30, Train Loss: 0.0868, Val Loss: 0.2719\n",
            "Epoch 3/30, Train Loss: 0.0704, Val Loss: 0.1668\n",
            "Epoch 4/30, Train Loss: 0.0692, Val Loss: 0.1670\n",
            "Epoch 5/30, Train Loss: 0.0629, Val Loss: 0.1493\n",
            "Epoch 6/30, Train Loss: 0.0579, Val Loss: 0.1320\n",
            "Epoch 7/30, Train Loss: 0.0529, Val Loss: 0.1152\n",
            "Epoch 8/30, Train Loss: 0.0479, Val Loss: 0.0993\n",
            "Epoch 9/30, Train Loss: 0.0430, Val Loss: 0.0845\n",
            "Epoch 10/30, Train Loss: 0.0384, Val Loss: 0.0713\n",
            "Epoch 11/30, Train Loss: 0.0342, Val Loss: 0.0603\n",
            "Epoch 12/30, Train Loss: 0.0307, Val Loss: 0.0514\n",
            "Epoch 13/30, Train Loss: 0.0279, Val Loss: 0.0440\n",
            "Epoch 14/30, Train Loss: 0.0253, Val Loss: 0.0375\n",
            "Epoch 15/30, Train Loss: 0.0226, Val Loss: 0.0313\n",
            "Epoch 16/30, Train Loss: 0.0197, Val Loss: 0.0249\n",
            "Epoch 17/30, Train Loss: 0.0163, Val Loss: 0.0179\n",
            "Epoch 18/30, Train Loss: 0.0123, Val Loss: 0.0102\n",
            "Epoch 19/30, Train Loss: 0.0077, Val Loss: 0.0033\n",
            "Epoch 20/30, Train Loss: 0.0035, Val Loss: 0.0014\n",
            "Epoch 21/30, Train Loss: 0.0017, Val Loss: 0.0013\n",
            "Epoch 22/30, Train Loss: 0.0017, Val Loss: 0.0017\n",
            "Epoch 23/30, Train Loss: 0.0015, Val Loss: 0.0013\n",
            "Epoch 24/30, Train Loss: 0.0014, Val Loss: 0.0012\n",
            "Epoch 25/30, Train Loss: 0.0014, Val Loss: 0.0013\n",
            "Epoch 26/30, Train Loss: 0.0014, Val Loss: 0.0011\n",
            "Epoch 27/30, Train Loss: 0.0013, Val Loss: 0.0011\n",
            "Epoch 28/30, Train Loss: 0.0013, Val Loss: 0.0011\n",
            "Epoch 29/30, Train Loss: 0.0013, Val Loss: 0.0010\n"
          ]
        },
        {
          "output_type": "stream",
          "name": "stderr",
          "text": [
            "[I 2024-12-06 21:54:11,895] Trial 1 finished with value: 0.0009885558756650425 and parameters: {'hidden_dim': 22, 'lr': 0.0008427054578291351, 'weight_decay': 6.170889635199587e-05, 'asymmetric_ratio': 4.412229034819468}. Best is trial 0 with value: 0.0006294366794463713.\n"
          ]
        },
        {
          "output_type": "stream",
          "name": "stdout",
          "text": [
            "Epoch 30/30, Train Loss: 0.0013, Val Loss: 0.0010\n",
            "Epoch 1/30, Train Loss: 0.2231, Val Loss: 0.6813\n",
            "Epoch 2/30, Train Loss: 0.1886, Val Loss: 0.5980\n",
            "Epoch 3/30, Train Loss: 0.1597, Val Loss: 0.5205\n",
            "Epoch 4/30, Train Loss: 0.1333, Val Loss: 0.4446\n",
            "Epoch 5/30, Train Loss: 0.1087, Val Loss: 0.3690\n",
            "Epoch 6/30, Train Loss: 0.0863, Val Loss: 0.2948\n",
            "Epoch 7/30, Train Loss: 0.0674, Val Loss: 0.2264\n",
            "Epoch 8/30, Train Loss: 0.0535, Val Loss: 0.1698\n",
            "Epoch 9/30, Train Loss: 0.0456, Val Loss: 0.1298\n",
            "Epoch 10/30, Train Loss: 0.0422, Val Loss: 0.1057\n",
            "Epoch 11/30, Train Loss: 0.0407, Val Loss: 0.0923\n",
            "Epoch 12/30, Train Loss: 0.0397, Val Loss: 0.0843\n",
            "Epoch 13/30, Train Loss: 0.0386, Val Loss: 0.0788\n",
            "Epoch 14/30, Train Loss: 0.0374, Val Loss: 0.0742\n",
            "Epoch 15/30, Train Loss: 0.0362, Val Loss: 0.0700\n",
            "Epoch 16/30, Train Loss: 0.0350, Val Loss: 0.0660\n",
            "Epoch 17/30, Train Loss: 0.0339, Val Loss: 0.0622\n",
            "Epoch 18/30, Train Loss: 0.0327, Val Loss: 0.0585\n",
            "Epoch 19/30, Train Loss: 0.0315, Val Loss: 0.0548\n",
            "Epoch 20/30, Train Loss: 0.0303, Val Loss: 0.0512\n",
            "Epoch 21/30, Train Loss: 0.0292, Val Loss: 0.0477\n",
            "Epoch 22/30, Train Loss: 0.0280, Val Loss: 0.0442\n",
            "Epoch 23/30, Train Loss: 0.0268, Val Loss: 0.0408\n",
            "Epoch 24/30, Train Loss: 0.0256, Val Loss: 0.0374\n",
            "Epoch 25/30, Train Loss: 0.0245, Val Loss: 0.0341\n",
            "Epoch 26/30, Train Loss: 0.0233, Val Loss: 0.0309\n",
            "Epoch 27/30, Train Loss: 0.0221, Val Loss: 0.0277\n",
            "Epoch 28/30, Train Loss: 0.0210, Val Loss: 0.0247\n",
            "Epoch 29/30, Train Loss: 0.0198, Val Loss: 0.0218\n"
          ]
        },
        {
          "output_type": "stream",
          "name": "stderr",
          "text": [
            "[I 2024-12-06 21:54:26,954] Trial 2 finished with value: 0.01896424894221127 and parameters: {'hidden_dim': 42, 'lr': 0.00011591253315713278, 'weight_decay': 2.6900705256756998e-06, 'asymmetric_ratio': 1.441192657002342}. Best is trial 0 with value: 0.0006294366794463713.\n"
          ]
        },
        {
          "output_type": "stream",
          "name": "stdout",
          "text": [
            "Epoch 30/30, Train Loss: 0.0187, Val Loss: 0.0190\n",
            "Epoch 1/30, Train Loss: 0.0390, Val Loss: 0.0356\n",
            "Epoch 2/30, Train Loss: 0.0555, Val Loss: 0.0207\n",
            "Epoch 3/30, Train Loss: 0.0626, Val Loss: 0.0095\n",
            "Epoch 4/30, Train Loss: 0.0635, Val Loss: 0.0159\n",
            "Epoch 5/30, Train Loss: 0.0333, Val Loss: 0.0119\n",
            "Epoch 6/30, Train Loss: 0.0263, Val Loss: 0.0174\n",
            "Epoch 7/30, Train Loss: 0.0174, Val Loss: 0.0143\n",
            "Epoch 8/30, Train Loss: 0.0149, Val Loss: 0.0152\n",
            "Epoch 9/30, Train Loss: 0.0052, Val Loss: 0.0057\n",
            "Epoch 10/30, Train Loss: 0.0026, Val Loss: 0.0028\n",
            "Epoch 11/30, Train Loss: 0.0016, Val Loss: 0.0020\n",
            "Epoch 12/30, Train Loss: 0.0012, Val Loss: 0.0019\n",
            "Epoch 13/30, Train Loss: 0.0011, Val Loss: 0.0018\n",
            "Epoch 14/30, Train Loss: 0.0010, Val Loss: 0.0016\n",
            "Epoch 15/30, Train Loss: 0.0010, Val Loss: 0.0015\n",
            "Epoch 16/30, Train Loss: 0.0010, Val Loss: 0.0014\n",
            "Epoch 17/30, Train Loss: 0.0009, Val Loss: 0.0013\n",
            "Epoch 18/30, Train Loss: 0.0009, Val Loss: 0.0012\n",
            "Epoch 19/30, Train Loss: 0.0009, Val Loss: 0.0012\n",
            "Epoch 20/30, Train Loss: 0.0009, Val Loss: 0.0011\n",
            "Epoch 21/30, Train Loss: 0.0009, Val Loss: 0.0011\n",
            "Epoch 22/30, Train Loss: 0.0009, Val Loss: 0.0011\n",
            "Epoch 23/30, Train Loss: 0.0009, Val Loss: 0.0011\n",
            "Epoch 24/30, Train Loss: 0.0009, Val Loss: 0.0010\n",
            "Epoch 25/30, Train Loss: 0.0009, Val Loss: 0.0010\n",
            "Epoch 26/30, Train Loss: 0.0009, Val Loss: 0.0010\n",
            "Epoch 27/30, Train Loss: 0.0009, Val Loss: 0.0010\n",
            "Epoch 28/30, Train Loss: 0.0009, Val Loss: 0.0009\n",
            "Epoch 29/30, Train Loss: 0.0009, Val Loss: 0.0009\n"
          ]
        },
        {
          "output_type": "stream",
          "name": "stderr",
          "text": [
            "[I 2024-12-06 21:54:49,234] Trial 3 finished with value: 0.000913049476366723 and parameters: {'hidden_dim': 65, 'lr': 0.004982847014607971, 'weight_decay': 5.0712927136195065e-05, 'asymmetric_ratio': 4.371374001803243}. Best is trial 0 with value: 0.0006294366794463713.\n"
          ]
        },
        {
          "output_type": "stream",
          "name": "stdout",
          "text": [
            "Epoch 30/30, Train Loss: 0.0009, Val Loss: 0.0009\n",
            "Epoch 1/30, Train Loss: 0.0348, Val Loss: 0.0459\n",
            "Epoch 2/30, Train Loss: 0.0676, Val Loss: 0.0115\n",
            "Epoch 3/30, Train Loss: 0.0690, Val Loss: 0.0050\n",
            "Epoch 4/30, Train Loss: 0.0465, Val Loss: 0.0053\n",
            "Epoch 5/30, Train Loss: 0.0322, Val Loss: 0.0091\n",
            "Epoch 6/30, Train Loss: 0.0251, Val Loss: 0.0213\n",
            "Epoch 7/30, Train Loss: 0.0078, Val Loss: 0.0033\n",
            "Epoch 8/30, Train Loss: 0.0145, Val Loss: 0.0068\n",
            "Epoch 9/30, Train Loss: 0.0028, Val Loss: 0.0014\n",
            "Epoch 10/30, Train Loss: 0.0123, Val Loss: 0.0066\n",
            "Epoch 11/30, Train Loss: 0.0016, Val Loss: 0.0020\n",
            "Epoch 12/30, Train Loss: 0.0035, Val Loss: 0.0016\n",
            "Epoch 13/30, Train Loss: 0.0032, Val Loss: 0.0025\n",
            "Epoch 14/30, Train Loss: 0.0053, Val Loss: 0.0046\n",
            "Epoch 15/30, Train Loss: 0.0031, Val Loss: 0.0074\n",
            "Epoch 16/30, Train Loss: 0.0020, Val Loss: 0.0052\n",
            "Epoch 17/30, Train Loss: 0.0016, Val Loss: 0.0037\n",
            "Epoch 18/30, Train Loss: 0.0013, Val Loss: 0.0036\n",
            "Epoch 19/30, Train Loss: 0.0013, Val Loss: 0.0035\n",
            "Epoch 20/30, Train Loss: 0.0012, Val Loss: 0.0034\n",
            "Epoch 21/30, Train Loss: 0.0012, Val Loss: 0.0033\n",
            "Epoch 22/30, Train Loss: 0.0012, Val Loss: 0.0033\n",
            "Epoch 23/30, Train Loss: 0.0012, Val Loss: 0.0033\n",
            "Epoch 24/30, Train Loss: 0.0012, Val Loss: 0.0033\n",
            "Epoch 25/30, Train Loss: 0.0012, Val Loss: 0.0033\n",
            "Epoch 26/30, Train Loss: 0.0012, Val Loss: 0.0033\n",
            "Epoch 27/30, Train Loss: 0.0012, Val Loss: 0.0033\n",
            "Epoch 28/30, Train Loss: 0.0012, Val Loss: 0.0033\n",
            "Epoch 29/30, Train Loss: 0.0012, Val Loss: 0.0033\n"
          ]
        },
        {
          "output_type": "stream",
          "name": "stderr",
          "text": [
            "[I 2024-12-06 21:55:05,411] Trial 4 finished with value: 0.001354374791844748 and parameters: {'hidden_dim': 57, 'lr': 0.005082409941105347, 'weight_decay': 0.0002762100296067968, 'asymmetric_ratio': 2.980294443847058}. Best is trial 0 with value: 0.0006294366794463713.\n"
          ]
        },
        {
          "output_type": "stream",
          "name": "stdout",
          "text": [
            "Epoch 30/30, Train Loss: 0.0012, Val Loss: 0.0033\n",
            "Epoch 1/30, Train Loss: 0.1399, Val Loss: 0.0376\n",
            "Epoch 2/30, Train Loss: 0.1017, Val Loss: 0.0734\n",
            "Epoch 3/30, Train Loss: 0.0627, Val Loss: 0.0566\n",
            "Epoch 4/30, Train Loss: 0.0459, Val Loss: 0.0413\n",
            "Epoch 5/30, Train Loss: 0.0313, Val Loss: 0.0218\n",
            "Epoch 6/30, Train Loss: 0.0207, Val Loss: 0.0088\n",
            "Epoch 7/30, Train Loss: 0.0118, Val Loss: 0.0010\n",
            "Epoch 8/30, Train Loss: 0.0049, Val Loss: 0.0018\n",
            "Epoch 9/30, Train Loss: 0.0063, Val Loss: 0.0064\n",
            "Epoch 10/30, Train Loss: 0.0027, Val Loss: 0.0019\n",
            "Epoch 11/30, Train Loss: 0.0025, Val Loss: 0.0015\n",
            "Epoch 12/30, Train Loss: 0.0017, Val Loss: 0.0011\n",
            "Epoch 13/30, Train Loss: 0.0013, Val Loss: 0.0010\n",
            "Epoch 14/30, Train Loss: 0.0013, Val Loss: 0.0010\n",
            "Epoch 15/30, Train Loss: 0.0012, Val Loss: 0.0010\n",
            "Epoch 16/30, Train Loss: 0.0012, Val Loss: 0.0010\n",
            "Epoch 17/30, Train Loss: 0.0012, Val Loss: 0.0010\n",
            "Epoch 18/30, Train Loss: 0.0012, Val Loss: 0.0010\n",
            "Epoch 19/30, Train Loss: 0.0012, Val Loss: 0.0010\n",
            "Epoch 20/30, Train Loss: 0.0012, Val Loss: 0.0010\n",
            "Epoch 21/30, Train Loss: 0.0012, Val Loss: 0.0010\n",
            "Epoch 22/30, Train Loss: 0.0012, Val Loss: 0.0010\n",
            "Epoch 23/30, Train Loss: 0.0012, Val Loss: 0.0009\n",
            "Epoch 24/30, Train Loss: 0.0012, Val Loss: 0.0009\n",
            "Epoch 25/30, Train Loss: 0.0012, Val Loss: 0.0009\n",
            "Epoch 26/30, Train Loss: 0.0012, Val Loss: 0.0009\n",
            "Epoch 27/30, Train Loss: 0.0012, Val Loss: 0.0009\n",
            "Epoch 28/30, Train Loss: 0.0012, Val Loss: 0.0009\n",
            "Epoch 29/30, Train Loss: 0.0011, Val Loss: 0.0009\n"
          ]
        },
        {
          "output_type": "stream",
          "name": "stderr",
          "text": [
            "[I 2024-12-06 21:55:26,078] Trial 5 finished with value: 0.0009175584782497026 and parameters: {'hidden_dim': 82, 'lr': 0.0008976925069013959, 'weight_decay': 7.81615029070899e-06, 'asymmetric_ratio': 3.5591576300447447}. Best is trial 0 with value: 0.0006294366794463713.\n"
          ]
        },
        {
          "output_type": "stream",
          "name": "stdout",
          "text": [
            "Epoch 30/30, Train Loss: 0.0011, Val Loss: 0.0009\n",
            "Epoch 1/30, Train Loss: 0.6324, Val Loss: 1.8438\n",
            "Epoch 2/30, Train Loss: 0.5179, Val Loss: 1.5703\n",
            "Epoch 3/30, Train Loss: 0.4256, Val Loss: 1.3285\n",
            "Epoch 4/30, Train Loss: 0.3439, Val Loss: 1.1031\n",
            "Epoch 5/30, Train Loss: 0.2696, Val Loss: 0.8883\n",
            "Epoch 6/30, Train Loss: 0.2028, Val Loss: 0.6853\n",
            "Epoch 7/30, Train Loss: 0.1459, Val Loss: 0.5014\n",
            "Epoch 8/30, Train Loss: 0.1028, Val Loss: 0.3493\n",
            "Epoch 9/30, Train Loss: 0.0760, Val Loss: 0.2415\n",
            "Epoch 10/30, Train Loss: 0.0628, Val Loss: 0.1763\n",
            "Epoch 11/30, Train Loss: 0.0573, Val Loss: 0.1418\n",
            "Epoch 12/30, Train Loss: 0.0548, Val Loss: 0.1244\n",
            "Epoch 13/30, Train Loss: 0.0532, Val Loss: 0.1151\n",
            "Epoch 14/30, Train Loss: 0.0520, Val Loss: 0.1092\n",
            "Epoch 15/30, Train Loss: 0.0508, Val Loss: 0.1050\n",
            "Epoch 16/30, Train Loss: 0.0497, Val Loss: 0.1016\n",
            "Epoch 17/30, Train Loss: 0.0487, Val Loss: 0.0985\n",
            "Epoch 18/30, Train Loss: 0.0476, Val Loss: 0.0957\n",
            "Epoch 19/30, Train Loss: 0.0466, Val Loss: 0.0930\n",
            "Epoch 20/30, Train Loss: 0.0456, Val Loss: 0.0903\n",
            "Epoch 21/30, Train Loss: 0.0446, Val Loss: 0.0877\n",
            "Epoch 22/30, Train Loss: 0.0436, Val Loss: 0.0850\n",
            "Epoch 23/30, Train Loss: 0.0427, Val Loss: 0.0824\n",
            "Epoch 24/30, Train Loss: 0.0417, Val Loss: 0.0797\n",
            "Epoch 25/30, Train Loss: 0.0407, Val Loss: 0.0772\n",
            "Epoch 26/30, Train Loss: 0.0398, Val Loss: 0.0746\n",
            "Epoch 27/30, Train Loss: 0.0388, Val Loss: 0.0720\n",
            "Epoch 28/30, Train Loss: 0.0379, Val Loss: 0.0695\n",
            "Epoch 29/30, Train Loss: 0.0370, Val Loss: 0.0671\n"
          ]
        },
        {
          "output_type": "stream",
          "name": "stderr",
          "text": [
            "[I 2024-12-06 21:55:41,436] Trial 6 finished with value: 0.06465097330510616 and parameters: {'hidden_dim': 51, 'lr': 0.00010045327155806452, 'weight_decay': 0.0002978421628551044, 'asymmetric_ratio': 3.2179421962630737}. Best is trial 0 with value: 0.0006294366794463713.\n"
          ]
        },
        {
          "output_type": "stream",
          "name": "stdout",
          "text": [
            "Epoch 30/30, Train Loss: 0.0360, Val Loss: 0.0647\n",
            "Epoch 1/30, Train Loss: 0.7006, Val Loss: 2.2205\n",
            "Epoch 2/30, Train Loss: 0.5170, Val Loss: 1.7592\n",
            "Epoch 3/30, Train Loss: 0.3705, Val Loss: 1.3325\n",
            "Epoch 4/30, Train Loss: 0.2407, Val Loss: 0.9161\n",
            "Epoch 5/30, Train Loss: 0.1365, Val Loss: 0.5434\n",
            "Epoch 6/30, Train Loss: 0.0792, Val Loss: 0.2951\n",
            "Epoch 7/30, Train Loss: 0.0675, Val Loss: 0.1962\n",
            "Epoch 8/30, Train Loss: 0.0674, Val Loss: 0.1691\n",
            "Epoch 9/30, Train Loss: 0.0661, Val Loss: 0.1586\n",
            "Epoch 10/30, Train Loss: 0.0641, Val Loss: 0.1504\n",
            "Epoch 11/30, Train Loss: 0.0620, Val Loss: 0.1423\n",
            "Epoch 12/30, Train Loss: 0.0599, Val Loss: 0.1342\n",
            "Epoch 13/30, Train Loss: 0.0579, Val Loss: 0.1263\n",
            "Epoch 14/30, Train Loss: 0.0558, Val Loss: 0.1185\n",
            "Epoch 15/30, Train Loss: 0.0537, Val Loss: 0.1107\n",
            "Epoch 16/30, Train Loss: 0.0517, Val Loss: 0.1030\n",
            "Epoch 17/30, Train Loss: 0.0496, Val Loss: 0.0953\n",
            "Epoch 18/30, Train Loss: 0.0475, Val Loss: 0.0875\n",
            "Epoch 19/30, Train Loss: 0.0454, Val Loss: 0.0798\n",
            "Epoch 20/30, Train Loss: 0.0432, Val Loss: 0.0721\n",
            "Epoch 21/30, Train Loss: 0.0411, Val Loss: 0.0644\n",
            "Epoch 22/30, Train Loss: 0.0389, Val Loss: 0.0567\n",
            "Epoch 23/30, Train Loss: 0.0366, Val Loss: 0.0491\n",
            "Epoch 24/30, Train Loss: 0.0344, Val Loss: 0.0417\n",
            "Epoch 25/30, Train Loss: 0.0322, Val Loss: 0.0346\n",
            "Epoch 26/30, Train Loss: 0.0300, Val Loss: 0.0279\n",
            "Epoch 27/30, Train Loss: 0.0278, Val Loss: 0.0219\n",
            "Epoch 28/30, Train Loss: 0.0258, Val Loss: 0.0166\n",
            "Epoch 29/30, Train Loss: 0.0239, Val Loss: 0.0123\n"
          ]
        },
        {
          "output_type": "stream",
          "name": "stderr",
          "text": [
            "[I 2024-12-06 21:55:57,136] Trial 7 finished with value: 0.009008010034449399 and parameters: {'hidden_dim': 46, 'lr': 0.00018123645402437673, 'weight_decay': 2.013806928436135e-06, 'asymmetric_ratio': 3.9781873745176717}. Best is trial 0 with value: 0.0006294366794463713.\n"
          ]
        },
        {
          "output_type": "stream",
          "name": "stdout",
          "text": [
            "Epoch 30/30, Train Loss: 0.0221, Val Loss: 0.0090\n",
            "Epoch 1/30, Train Loss: 0.0566, Val Loss: 0.0375\n",
            "Epoch 2/30, Train Loss: 0.1181, Val Loss: 0.0514\n",
            "Epoch 3/30, Train Loss: 0.0417, Val Loss: 0.0170\n",
            "Epoch 4/30, Train Loss: 0.0225, Val Loss: 0.0064\n",
            "Epoch 5/30, Train Loss: 0.0077, Val Loss: 0.0028\n",
            "Epoch 6/30, Train Loss: 0.0110, Val Loss: 0.0104\n",
            "Epoch 7/30, Train Loss: 0.0060, Val Loss: 0.0047\n",
            "Epoch 8/30, Train Loss: 0.0080, Val Loss: 0.0032\n",
            "Epoch 9/30, Train Loss: 0.0122, Val Loss: 0.0070\n",
            "Epoch 10/30, Train Loss: 0.0182, Val Loss: 0.0057\n",
            "Epoch 11/30, Train Loss: 0.0026, Val Loss: 0.0027\n",
            "Epoch 12/30, Train Loss: 0.0016, Val Loss: 0.0011\n",
            "Epoch 13/30, Train Loss: 0.0013, Val Loss: 0.0007\n",
            "Epoch 14/30, Train Loss: 0.0011, Val Loss: 0.0006\n",
            "Epoch 15/30, Train Loss: 0.0010, Val Loss: 0.0006\n",
            "Epoch 16/30, Train Loss: 0.0009, Val Loss: 0.0006\n",
            "Epoch 17/30, Train Loss: 0.0009, Val Loss: 0.0006\n",
            "Epoch 18/30, Train Loss: 0.0009, Val Loss: 0.0006\n",
            "Epoch 19/30, Train Loss: 0.0008, Val Loss: 0.0006\n",
            "Epoch 20/30, Train Loss: 0.0008, Val Loss: 0.0006\n",
            "Epoch 21/30, Train Loss: 0.0008, Val Loss: 0.0006\n",
            "Epoch 22/30, Train Loss: 0.0008, Val Loss: 0.0006\n",
            "Epoch 23/30, Train Loss: 0.0008, Val Loss: 0.0006\n",
            "Epoch 24/30, Train Loss: 0.0008, Val Loss: 0.0006\n",
            "Epoch 25/30, Train Loss: 0.0008, Val Loss: 0.0006\n",
            "Epoch 26/30, Train Loss: 0.0008, Val Loss: 0.0006\n",
            "Epoch 27/30, Train Loss: 0.0008, Val Loss: 0.0006\n",
            "Epoch 28/30, Train Loss: 0.0008, Val Loss: 0.0006\n",
            "Epoch 29/30, Train Loss: 0.0008, Val Loss: 0.0006\n"
          ]
        },
        {
          "output_type": "stream",
          "name": "stderr",
          "text": [
            "[I 2024-12-06 21:56:13,175] Trial 8 finished with value: 0.0005517291738215135 and parameters: {'hidden_dim': 56, 'lr': 0.0022721196778817125, 'weight_decay': 1.2509144184701879e-05, 'asymmetric_ratio': 3.351690332646901}. Best is trial 8 with value: 0.0005517291738215135.\n"
          ]
        },
        {
          "output_type": "stream",
          "name": "stdout",
          "text": [
            "Epoch 30/30, Train Loss: 0.0008, Val Loss: 0.0006\n",
            "Epoch 1/30, Train Loss: 0.0739, Val Loss: 0.0352\n",
            "Epoch 2/30, Train Loss: 0.0868, Val Loss: 0.0352\n",
            "Epoch 3/30, Train Loss: 0.0506, Val Loss: 0.0165\n",
            "Epoch 4/30, Train Loss: 0.0250, Val Loss: 0.0058\n",
            "Epoch 5/30, Train Loss: 0.0099, Val Loss: 0.0009\n",
            "Epoch 6/30, Train Loss: 0.0047, Val Loss: 0.0014\n",
            "Epoch 7/30, Train Loss: 0.0091, Val Loss: 0.0118\n",
            "Epoch 8/30, Train Loss: 0.0061, Val Loss: 0.0033\n",
            "Epoch 9/30, Train Loss: 0.0076, Val Loss: 0.0081\n",
            "Epoch 10/30, Train Loss: 0.0096, Val Loss: 0.0016\n",
            "Epoch 11/30, Train Loss: 0.0026, Val Loss: 0.0012\n",
            "Epoch 12/30, Train Loss: 0.0019, Val Loss: 0.0008\n",
            "Epoch 13/30, Train Loss: 0.0015, Val Loss: 0.0007\n",
            "Epoch 14/30, Train Loss: 0.0013, Val Loss: 0.0008\n",
            "Epoch 15/30, Train Loss: 0.0011, Val Loss: 0.0009\n",
            "Epoch 16/30, Train Loss: 0.0011, Val Loss: 0.0009\n",
            "Epoch 17/30, Train Loss: 0.0010, Val Loss: 0.0010\n",
            "Epoch 18/30, Train Loss: 0.0010, Val Loss: 0.0010\n",
            "Epoch 19/30, Train Loss: 0.0010, Val Loss: 0.0010\n",
            "Epoch 20/30, Train Loss: 0.0010, Val Loss: 0.0010\n",
            "Epoch 21/30, Train Loss: 0.0010, Val Loss: 0.0010\n",
            "Epoch 22/30, Train Loss: 0.0010, Val Loss: 0.0010\n",
            "Epoch 23/30, Train Loss: 0.0010, Val Loss: 0.0010\n",
            "Epoch 24/30, Train Loss: 0.0010, Val Loss: 0.0010\n",
            "Epoch 25/30, Train Loss: 0.0010, Val Loss: 0.0010\n",
            "Epoch 26/30, Train Loss: 0.0010, Val Loss: 0.0010\n",
            "Epoch 27/30, Train Loss: 0.0010, Val Loss: 0.0010\n",
            "Epoch 28/30, Train Loss: 0.0010, Val Loss: 0.0010\n",
            "Epoch 29/30, Train Loss: 0.0010, Val Loss: 0.0010\n"
          ]
        },
        {
          "output_type": "stream",
          "name": "stderr",
          "text": [
            "[I 2024-12-06 21:56:28,724] Trial 9 finished with value: 0.0007165251627156977 and parameters: {'hidden_dim': 29, 'lr': 0.002742701274309945, 'weight_decay': 0.0008984182547513508, 'asymmetric_ratio': 3.1076777237289464}. Best is trial 8 with value: 0.0005517291738215135.\n"
          ]
        },
        {
          "output_type": "stream",
          "name": "stdout",
          "text": [
            "Epoch 30/30, Train Loss: 0.0010, Val Loss: 0.0010\n",
            "Epoch 1/30, Train Loss: 0.3694, Val Loss: 0.4187\n",
            "Epoch 2/30, Train Loss: 0.0682, Val Loss: 0.1156\n",
            "Epoch 3/30, Train Loss: 0.0650, Val Loss: 0.1142\n",
            "Epoch 4/30, Train Loss: 0.0560, Val Loss: 0.1031\n",
            "Epoch 5/30, Train Loss: 0.0493, Val Loss: 0.0823\n",
            "Epoch 6/30, Train Loss: 0.0428, Val Loss: 0.0673\n",
            "Epoch 7/30, Train Loss: 0.0361, Val Loss: 0.0521\n",
            "Epoch 8/30, Train Loss: 0.0290, Val Loss: 0.0367\n",
            "Epoch 9/30, Train Loss: 0.0212, Val Loss: 0.0198\n",
            "Epoch 10/30, Train Loss: 0.0122, Val Loss: 0.0044\n",
            "Epoch 11/30, Train Loss: 0.0055, Val Loss: 0.0031\n",
            "Epoch 12/30, Train Loss: 0.0046, Val Loss: 0.0034\n",
            "Epoch 13/30, Train Loss: 0.0039, Val Loss: 0.0032\n",
            "Epoch 14/30, Train Loss: 0.0040, Val Loss: 0.0026\n",
            "Epoch 15/30, Train Loss: 0.0028, Val Loss: 0.0016\n",
            "Epoch 16/30, Train Loss: 0.0033, Val Loss: 0.0025\n",
            "Epoch 17/30, Train Loss: 0.0032, Val Loss: 0.0017\n",
            "Epoch 18/30, Train Loss: 0.0027, Val Loss: 0.0012\n",
            "Epoch 19/30, Train Loss: 0.0029, Val Loss: 0.0021\n",
            "Epoch 20/30, Train Loss: 0.0028, Val Loss: 0.0015\n",
            "Epoch 21/30, Train Loss: 0.0024, Val Loss: 0.0011\n",
            "Epoch 22/30, Train Loss: 0.0022, Val Loss: 0.0016\n",
            "Epoch 23/30, Train Loss: 0.0021, Val Loss: 0.0011\n",
            "Epoch 24/30, Train Loss: 0.0019, Val Loss: 0.0011\n",
            "Epoch 25/30, Train Loss: 0.0019, Val Loss: 0.0011\n",
            "Epoch 26/30, Train Loss: 0.0019, Val Loss: 0.0011\n",
            "Epoch 27/30, Train Loss: 0.0019, Val Loss: 0.0011\n",
            "Epoch 28/30, Train Loss: 0.0018, Val Loss: 0.0010\n",
            "Epoch 29/30, Train Loss: 0.0018, Val Loss: 0.0010\n"
          ]
        },
        {
          "output_type": "stream",
          "name": "stderr",
          "text": [
            "[I 2024-12-06 21:56:49,301] Trial 10 finished with value: 0.0010246451092825737 and parameters: {'hidden_dim': 98, 'lr': 0.00042262202511183654, 'weight_decay': 2.359806336071529e-05, 'asymmetric_ratio': 4.976495255575976}. Best is trial 8 with value: 0.0005517291738215135.\n"
          ]
        },
        {
          "output_type": "stream",
          "name": "stdout",
          "text": [
            "Epoch 30/30, Train Loss: 0.0018, Val Loss: 0.0010\n",
            "Epoch 1/30, Train Loss: 0.0318, Val Loss: 0.0710\n",
            "Epoch 2/30, Train Loss: 0.0679, Val Loss: 0.0124\n",
            "Epoch 3/30, Train Loss: 0.0377, Val Loss: 0.0114\n",
            "Epoch 4/30, Train Loss: 0.0229, Val Loss: 0.0089\n",
            "Epoch 5/30, Train Loss: 0.0149, Val Loss: 0.0083\n",
            "Epoch 6/30, Train Loss: 0.0083, Val Loss: 0.0081\n",
            "Epoch 7/30, Train Loss: 0.0045, Val Loss: 0.0015\n",
            "Epoch 8/30, Train Loss: 0.0052, Val Loss: 0.0058\n",
            "Epoch 9/30, Train Loss: 0.0029, Val Loss: 0.0005\n",
            "Epoch 10/30, Train Loss: 0.0061, Val Loss: 0.0061\n",
            "Epoch 11/30, Train Loss: 0.0032, Val Loss: 0.0009\n",
            "Epoch 12/30, Train Loss: 0.0065, Val Loss: 0.0047\n",
            "Epoch 13/30, Train Loss: 0.0031, Val Loss: 0.0010\n",
            "Epoch 14/30, Train Loss: 0.0075, Val Loss: 0.0050\n",
            "Epoch 15/30, Train Loss: 0.0009, Val Loss: 0.0036\n",
            "Epoch 16/30, Train Loss: 0.0007, Val Loss: 0.0023\n",
            "Epoch 17/30, Train Loss: 0.0007, Val Loss: 0.0019\n",
            "Epoch 18/30, Train Loss: 0.0007, Val Loss: 0.0019\n",
            "Epoch 19/30, Train Loss: 0.0007, Val Loss: 0.0019\n",
            "Epoch 20/30, Train Loss: 0.0007, Val Loss: 0.0019\n",
            "Epoch 21/30, Train Loss: 0.0007, Val Loss: 0.0018\n",
            "Epoch 22/30, Train Loss: 0.0007, Val Loss: 0.0018\n",
            "Epoch 23/30, Train Loss: 0.0007, Val Loss: 0.0018\n",
            "Epoch 24/30, Train Loss: 0.0007, Val Loss: 0.0018\n",
            "Epoch 25/30, Train Loss: 0.0007, Val Loss: 0.0018\n",
            "Epoch 26/30, Train Loss: 0.0007, Val Loss: 0.0018\n",
            "Epoch 27/30, Train Loss: 0.0007, Val Loss: 0.0018\n",
            "Epoch 28/30, Train Loss: 0.0007, Val Loss: 0.0018\n",
            "Epoch 29/30, Train Loss: 0.0007, Val Loss: 0.0018\n"
          ]
        },
        {
          "output_type": "stream",
          "name": "stderr",
          "text": [
            "[I 2024-12-06 21:57:06,447] Trial 11 finished with value: 0.0004603840643540025 and parameters: {'hidden_dim': 71, 'lr': 0.0025037272703764407, 'weight_decay': 1.0470422583975145e-06, 'asymmetric_ratio': 2.117668153847807}. Best is trial 11 with value: 0.0004603840643540025.\n"
          ]
        },
        {
          "output_type": "stream",
          "name": "stdout",
          "text": [
            "Epoch 30/30, Train Loss: 0.0007, Val Loss: 0.0018\n",
            "Epoch 1/30, Train Loss: 0.0415, Val Loss: 0.0449\n",
            "Epoch 2/30, Train Loss: 0.0833, Val Loss: 0.0251\n",
            "Epoch 3/30, Train Loss: 0.0389, Val Loss: 0.0122\n",
            "Epoch 4/30, Train Loss: 0.0201, Val Loss: 0.0032\n",
            "Epoch 5/30, Train Loss: 0.0050, Val Loss: 0.0016\n",
            "Epoch 6/30, Train Loss: 0.0072, Val Loss: 0.0009\n",
            "Epoch 7/30, Train Loss: 0.0046, Val Loss: 0.0020\n",
            "Epoch 8/30, Train Loss: 0.0013, Val Loss: 0.0008\n",
            "Epoch 9/30, Train Loss: 0.0017, Val Loss: 0.0015\n",
            "Epoch 10/30, Train Loss: 0.0011, Val Loss: 0.0007\n",
            "Epoch 11/30, Train Loss: 0.0020, Val Loss: 0.0018\n",
            "Epoch 12/30, Train Loss: 0.0021, Val Loss: 0.0011\n",
            "Epoch 13/30, Train Loss: 0.0063, Val Loss: 0.0038\n",
            "Epoch 14/30, Train Loss: 0.0066, Val Loss: 0.0013\n",
            "Epoch 15/30, Train Loss: 0.0165, Val Loss: 0.0122\n",
            "Epoch 16/30, Train Loss: 0.0020, Val Loss: 0.0017\n",
            "Epoch 17/30, Train Loss: 0.0012, Val Loss: 0.0007\n",
            "Epoch 18/30, Train Loss: 0.0009, Val Loss: 0.0006\n",
            "Epoch 19/30, Train Loss: 0.0007, Val Loss: 0.0006\n",
            "Epoch 20/30, Train Loss: 0.0007, Val Loss: 0.0006\n",
            "Epoch 21/30, Train Loss: 0.0007, Val Loss: 0.0007\n",
            "Epoch 22/30, Train Loss: 0.0007, Val Loss: 0.0007\n",
            "Epoch 23/30, Train Loss: 0.0007, Val Loss: 0.0007\n",
            "Epoch 24/30, Train Loss: 0.0007, Val Loss: 0.0007\n",
            "Epoch 25/30, Train Loss: 0.0007, Val Loss: 0.0006\n",
            "Epoch 26/30, Train Loss: 0.0007, Val Loss: 0.0006\n",
            "Epoch 27/30, Train Loss: 0.0007, Val Loss: 0.0006\n",
            "Epoch 28/30, Train Loss: 0.0007, Val Loss: 0.0006\n",
            "Epoch 29/30, Train Loss: 0.0007, Val Loss: 0.0006\n"
          ]
        },
        {
          "output_type": "stream",
          "name": "stderr",
          "text": [
            "[I 2024-12-06 21:57:24,695] Trial 12 finished with value: 0.0005965195050521288 and parameters: {'hidden_dim': 73, 'lr': 0.001794455956713668, 'weight_decay': 8.079710981885226e-06, 'asymmetric_ratio': 2.2679935774575175}. Best is trial 11 with value: 0.0004603840643540025.\n"
          ]
        },
        {
          "output_type": "stream",
          "name": "stdout",
          "text": [
            "Epoch 30/30, Train Loss: 0.0007, Val Loss: 0.0006\n",
            "Epoch 1/30, Train Loss: 0.0372, Val Loss: 0.0695\n",
            "Epoch 2/30, Train Loss: 0.0947, Val Loss: 0.0191\n",
            "Epoch 3/30, Train Loss: 0.0420, Val Loss: 0.0098\n",
            "Epoch 4/30, Train Loss: 0.0239, Val Loss: 0.0019\n",
            "Epoch 5/30, Train Loss: 0.0112, Val Loss: 0.0054\n",
            "Epoch 6/30, Train Loss: 0.0049, Val Loss: 0.0011\n",
            "Epoch 7/30, Train Loss: 0.0089, Val Loss: 0.0104\n",
            "Epoch 8/30, Train Loss: 0.0027, Val Loss: 0.0007\n",
            "Epoch 9/30, Train Loss: 0.0014, Val Loss: 0.0013\n",
            "Epoch 10/30, Train Loss: 0.0010, Val Loss: 0.0006\n",
            "Epoch 11/30, Train Loss: 0.0010, Val Loss: 0.0011\n",
            "Epoch 12/30, Train Loss: 0.0013, Val Loss: 0.0011\n",
            "Epoch 13/30, Train Loss: 0.0022, Val Loss: 0.0010\n",
            "Epoch 14/30, Train Loss: 0.0036, Val Loss: 0.0010\n",
            "Epoch 15/30, Train Loss: 0.0064, Val Loss: 0.0054\n",
            "Epoch 16/30, Train Loss: 0.0023, Val Loss: 0.0024\n",
            "Epoch 17/30, Train Loss: 0.0014, Val Loss: 0.0016\n",
            "Epoch 18/30, Train Loss: 0.0010, Val Loss: 0.0012\n",
            "Epoch 19/30, Train Loss: 0.0008, Val Loss: 0.0012\n",
            "Epoch 20/30, Train Loss: 0.0008, Val Loss: 0.0011\n",
            "Epoch 21/30, Train Loss: 0.0008, Val Loss: 0.0011\n",
            "Epoch 22/30, Train Loss: 0.0008, Val Loss: 0.0011\n",
            "Epoch 23/30, Train Loss: 0.0008, Val Loss: 0.0011\n",
            "Epoch 24/30, Train Loss: 0.0008, Val Loss: 0.0011\n",
            "Epoch 25/30, Train Loss: 0.0008, Val Loss: 0.0011\n",
            "Epoch 26/30, Train Loss: 0.0008, Val Loss: 0.0011\n",
            "Epoch 27/30, Train Loss: 0.0008, Val Loss: 0.0011\n",
            "Epoch 28/30, Train Loss: 0.0008, Val Loss: 0.0011\n",
            "Epoch 29/30, Train Loss: 0.0008, Val Loss: 0.0011\n"
          ]
        },
        {
          "output_type": "stream",
          "name": "stderr",
          "text": [
            "[I 2024-12-06 21:57:43,404] Trial 13 finished with value: 0.0005838753604621161 and parameters: {'hidden_dim': 84, 'lr': 0.0015120355727872336, 'weight_decay': 1.2018081898806371e-06, 'asymmetric_ratio': 2.1043405815902845}. Best is trial 11 with value: 0.0004603840643540025.\n"
          ]
        },
        {
          "output_type": "stream",
          "name": "stdout",
          "text": [
            "Epoch 30/30, Train Loss: 0.0008, Val Loss: 0.0011\n",
            "Epoch 1/30, Train Loss: 0.0242, Val Loss: 0.0155\n",
            "Epoch 2/30, Train Loss: 0.0276, Val Loss: 0.0207\n",
            "Epoch 3/30, Train Loss: 0.0287, Val Loss: 0.0162\n",
            "Epoch 4/30, Train Loss: 0.0219, Val Loss: 0.0096\n",
            "Epoch 5/30, Train Loss: 0.0081, Val Loss: 0.0050\n",
            "Epoch 6/30, Train Loss: 0.0118, Val Loss: 0.0067\n",
            "Epoch 7/30, Train Loss: 0.0061, Val Loss: 0.0034\n",
            "Epoch 8/30, Train Loss: 0.0074, Val Loss: 0.0067\n",
            "Epoch 9/30, Train Loss: 0.0123, Val Loss: 0.0102\n",
            "Epoch 10/30, Train Loss: 0.0027, Val Loss: 0.0012\n",
            "Epoch 11/30, Train Loss: 0.0048, Val Loss: 0.0046\n",
            "Epoch 12/30, Train Loss: 0.0014, Val Loss: 0.0018\n",
            "Epoch 13/30, Train Loss: 0.0043, Val Loss: 0.0067\n",
            "Epoch 14/30, Train Loss: 0.0059, Val Loss: 0.0056\n",
            "Epoch 15/30, Train Loss: 0.0130, Val Loss: 0.0203\n",
            "Epoch 16/30, Train Loss: 0.0038, Val Loss: 0.0061\n",
            "Epoch 17/30, Train Loss: 0.0019, Val Loss: 0.0031\n",
            "Epoch 18/30, Train Loss: 0.0010, Val Loss: 0.0015\n",
            "Epoch 19/30, Train Loss: 0.0007, Val Loss: 0.0014\n",
            "Epoch 20/30, Train Loss: 0.0007, Val Loss: 0.0014\n",
            "Epoch 21/30, Train Loss: 0.0007, Val Loss: 0.0014\n",
            "Epoch 22/30, Train Loss: 0.0006, Val Loss: 0.0013\n",
            "Epoch 23/30, Train Loss: 0.0006, Val Loss: 0.0013\n",
            "Epoch 24/30, Train Loss: 0.0006, Val Loss: 0.0013\n",
            "Epoch 25/30, Train Loss: 0.0006, Val Loss: 0.0013\n",
            "Epoch 26/30, Train Loss: 0.0006, Val Loss: 0.0013\n",
            "Epoch 27/30, Train Loss: 0.0006, Val Loss: 0.0013\n",
            "Epoch 28/30, Train Loss: 0.0006, Val Loss: 0.0013\n",
            "Epoch 29/30, Train Loss: 0.0006, Val Loss: 0.0013\n"
          ]
        },
        {
          "output_type": "stream",
          "name": "stderr",
          "text": [
            "[I 2024-12-06 21:57:57,235] Trial 14 finished with value: 0.001221893027832266 and parameters: {'hidden_dim': 36, 'lr': 0.00921554925308695, 'weight_decay': 6.439412508710814e-06, 'asymmetric_ratio': 1.1231310336224842}. Best is trial 11 with value: 0.0004603840643540025.\n"
          ]
        },
        {
          "output_type": "stream",
          "name": "stdout",
          "text": [
            "Epoch 30/30, Train Loss: 0.0006, Val Loss: 0.0013\n",
            "Epoch 1/30, Train Loss: 0.3155, Val Loss: 0.4866\n",
            "Epoch 2/30, Train Loss: 0.0519, Val Loss: 0.0906\n",
            "Epoch 3/30, Train Loss: 0.0556, Val Loss: 0.0637\n",
            "Epoch 4/30, Train Loss: 0.0467, Val Loss: 0.0511\n",
            "Epoch 5/30, Train Loss: 0.0383, Val Loss: 0.0351\n",
            "Epoch 6/30, Train Loss: 0.0310, Val Loss: 0.0224\n",
            "Epoch 7/30, Train Loss: 0.0247, Val Loss: 0.0132\n",
            "Epoch 8/30, Train Loss: 0.0187, Val Loss: 0.0044\n",
            "Epoch 9/30, Train Loss: 0.0110, Val Loss: 0.0070\n",
            "Epoch 10/30, Train Loss: 0.0052, Val Loss: 0.0022\n",
            "Epoch 11/30, Train Loss: 0.0038, Val Loss: 0.0024\n",
            "Epoch 12/30, Train Loss: 0.0046, Val Loss: 0.0034\n",
            "Epoch 13/30, Train Loss: 0.0036, Val Loss: 0.0020\n",
            "Epoch 14/30, Train Loss: 0.0039, Val Loss: 0.0022\n",
            "Epoch 15/30, Train Loss: 0.0050, Val Loss: 0.0053\n",
            "Epoch 16/30, Train Loss: 0.0037, Val Loss: 0.0032\n",
            "Epoch 17/30, Train Loss: 0.0018, Val Loss: 0.0008\n",
            "Epoch 18/30, Train Loss: 0.0017, Val Loss: 0.0018\n",
            "Epoch 19/30, Train Loss: 0.0016, Val Loss: 0.0016\n",
            "Epoch 20/30, Train Loss: 0.0014, Val Loss: 0.0011\n",
            "Epoch 21/30, Train Loss: 0.0014, Val Loss: 0.0012\n",
            "Epoch 22/30, Train Loss: 0.0014, Val Loss: 0.0010\n",
            "Epoch 23/30, Train Loss: 0.0012, Val Loss: 0.0009\n",
            "Epoch 24/30, Train Loss: 0.0012, Val Loss: 0.0009\n",
            "Epoch 25/30, Train Loss: 0.0012, Val Loss: 0.0009\n",
            "Epoch 26/30, Train Loss: 0.0012, Val Loss: 0.0009\n",
            "Epoch 27/30, Train Loss: 0.0012, Val Loss: 0.0009\n",
            "Epoch 28/30, Train Loss: 0.0012, Val Loss: 0.0009\n",
            "Epoch 29/30, Train Loss: 0.0012, Val Loss: 0.0009\n"
          ]
        },
        {
          "output_type": "stream",
          "name": "stderr",
          "text": [
            "[I 2024-12-06 21:58:15,844] Trial 15 finished with value: 0.0008429525914834812 and parameters: {'hidden_dim': 79, 'lr': 0.0005876728016602136, 'weight_decay': 2.2279477949107376e-05, 'asymmetric_ratio': 2.643132284715621}. Best is trial 11 with value: 0.0004603840643540025.\n"
          ]
        },
        {
          "output_type": "stream",
          "name": "stdout",
          "text": [
            "Epoch 30/30, Train Loss: 0.0012, Val Loss: 0.0009\n",
            "Epoch 1/30, Train Loss: 0.0450, Val Loss: 0.0568\n",
            "Epoch 2/30, Train Loss: 0.0623, Val Loss: 0.0170\n",
            "Epoch 3/30, Train Loss: 0.0272, Val Loss: 0.0057\n",
            "Epoch 4/30, Train Loss: 0.0146, Val Loss: 0.0010\n",
            "Epoch 5/30, Train Loss: 0.0072, Val Loss: 0.0055\n",
            "Epoch 6/30, Train Loss: 0.0047, Val Loss: 0.0012\n",
            "Epoch 7/30, Train Loss: 0.0062, Val Loss: 0.0042\n",
            "Epoch 8/30, Train Loss: 0.0038, Val Loss: 0.0009\n",
            "Epoch 9/30, Train Loss: 0.0132, Val Loss: 0.0305\n",
            "Epoch 10/30, Train Loss: 0.0044, Val Loss: 0.0066\n",
            "Epoch 11/30, Train Loss: 0.0023, Val Loss: 0.0019\n",
            "Epoch 12/30, Train Loss: 0.0023, Val Loss: 0.0030\n",
            "Epoch 13/30, Train Loss: 0.0025, Val Loss: 0.0005\n",
            "Epoch 14/30, Train Loss: 0.0010, Val Loss: 0.0004\n",
            "Epoch 15/30, Train Loss: 0.0008, Val Loss: 0.0004\n",
            "Epoch 16/30, Train Loss: 0.0007, Val Loss: 0.0004\n",
            "Epoch 17/30, Train Loss: 0.0007, Val Loss: 0.0005\n",
            "Epoch 18/30, Train Loss: 0.0007, Val Loss: 0.0005\n",
            "Epoch 19/30, Train Loss: 0.0006, Val Loss: 0.0005\n",
            "Epoch 20/30, Train Loss: 0.0006, Val Loss: 0.0005\n",
            "Epoch 21/30, Train Loss: 0.0006, Val Loss: 0.0005\n",
            "Epoch 22/30, Train Loss: 0.0006, Val Loss: 0.0005\n",
            "Epoch 23/30, Train Loss: 0.0006, Val Loss: 0.0005\n",
            "Epoch 24/30, Train Loss: 0.0006, Val Loss: 0.0005\n",
            "Epoch 25/30, Train Loss: 0.0006, Val Loss: 0.0005\n",
            "Epoch 26/30, Train Loss: 0.0006, Val Loss: 0.0005\n",
            "Epoch 27/30, Train Loss: 0.0006, Val Loss: 0.0005\n",
            "Epoch 28/30, Train Loss: 0.0006, Val Loss: 0.0005\n",
            "Epoch 29/30, Train Loss: 0.0006, Val Loss: 0.0005\n"
          ]
        },
        {
          "output_type": "stream",
          "name": "stderr",
          "text": [
            "[I 2024-12-06 21:58:32,458] Trial 16 finished with value: 0.00041065867662837263 and parameters: {'hidden_dim': 58, 'lr': 0.0017961755089480238, 'weight_decay': 1.0581509895168706e-06, 'asymmetric_ratio': 1.64677635058512}. Best is trial 16 with value: 0.00041065867662837263.\n"
          ]
        },
        {
          "output_type": "stream",
          "name": "stdout",
          "text": [
            "Epoch 30/30, Train Loss: 0.0006, Val Loss: 0.0005\n",
            "Epoch 1/30, Train Loss: 0.1742, Val Loss: 0.3555\n",
            "Epoch 2/30, Train Loss: 0.0352, Val Loss: 0.0332\n",
            "Epoch 3/30, Train Loss: 0.0442, Val Loss: 0.0391\n",
            "Epoch 4/30, Train Loss: 0.0349, Val Loss: 0.0273\n",
            "Epoch 5/30, Train Loss: 0.0292, Val Loss: 0.0166\n",
            "Epoch 6/30, Train Loss: 0.0246, Val Loss: 0.0100\n",
            "Epoch 7/30, Train Loss: 0.0206, Val Loss: 0.0064\n",
            "Epoch 8/30, Train Loss: 0.0174, Val Loss: 0.0043\n",
            "Epoch 9/30, Train Loss: 0.0146, Val Loss: 0.0024\n",
            "Epoch 10/30, Train Loss: 0.0118, Val Loss: 0.0015\n",
            "Epoch 11/30, Train Loss: 0.0084, Val Loss: 0.0044\n",
            "Epoch 12/30, Train Loss: 0.0048, Val Loss: 0.0048\n",
            "Epoch 13/30, Train Loss: 0.0036, Val Loss: 0.0042\n",
            "Epoch 14/30, Train Loss: 0.0025, Val Loss: 0.0026\n",
            "Epoch 15/30, Train Loss: 0.0018, Val Loss: 0.0012\n",
            "Epoch 16/30, Train Loss: 0.0014, Val Loss: 0.0008\n",
            "Epoch 17/30, Train Loss: 0.0013, Val Loss: 0.0008\n",
            "Epoch 18/30, Train Loss: 0.0013, Val Loss: 0.0009\n",
            "Epoch 19/30, Train Loss: 0.0012, Val Loss: 0.0009\n",
            "Epoch 20/30, Train Loss: 0.0012, Val Loss: 0.0009\n",
            "Epoch 21/30, Train Loss: 0.0012, Val Loss: 0.0009\n",
            "Epoch 22/30, Train Loss: 0.0012, Val Loss: 0.0009\n",
            "Epoch 23/30, Train Loss: 0.0012, Val Loss: 0.0009\n",
            "Epoch 24/30, Train Loss: 0.0012, Val Loss: 0.0009\n",
            "Epoch 25/30, Train Loss: 0.0012, Val Loss: 0.0009\n",
            "Epoch 26/30, Train Loss: 0.0012, Val Loss: 0.0009\n",
            "Epoch 27/30, Train Loss: 0.0012, Val Loss: 0.0009\n",
            "Epoch 28/30, Train Loss: 0.0012, Val Loss: 0.0009\n",
            "Epoch 29/30, Train Loss: 0.0012, Val Loss: 0.0009\n"
          ]
        },
        {
          "output_type": "stream",
          "name": "stderr",
          "text": [
            "[I 2024-12-06 21:58:52,539] Trial 17 finished with value: 0.0008207406281144358 and parameters: {'hidden_dim': 99, 'lr': 0.00033011182878107644, 'weight_decay': 1.2089257843158274e-06, 'asymmetric_ratio': 1.6382943288005924}. Best is trial 16 with value: 0.00041065867662837263.\n"
          ]
        },
        {
          "output_type": "stream",
          "name": "stdout",
          "text": [
            "Epoch 30/30, Train Loss: 0.0012, Val Loss: 0.0009\n",
            "Epoch 1/30, Train Loss: 0.0535, Val Loss: 0.0526\n",
            "Epoch 2/30, Train Loss: 0.0720, Val Loss: 0.0069\n",
            "Epoch 3/30, Train Loss: 0.0439, Val Loss: 0.0065\n",
            "Epoch 4/30, Train Loss: 0.0223, Val Loss: 0.0016\n",
            "Epoch 5/30, Train Loss: 0.0132, Val Loss: 0.0023\n",
            "Epoch 6/30, Train Loss: 0.0100, Val Loss: 0.0081\n",
            "Epoch 7/30, Train Loss: 0.0066, Val Loss: 0.0081\n",
            "Epoch 8/30, Train Loss: 0.0021, Val Loss: 0.0010\n",
            "Epoch 9/30, Train Loss: 0.0011, Val Loss: 0.0013\n",
            "Epoch 10/30, Train Loss: 0.0016, Val Loss: 0.0016\n",
            "Epoch 11/30, Train Loss: 0.0021, Val Loss: 0.0027\n",
            "Epoch 12/30, Train Loss: 0.0016, Val Loss: 0.0014\n",
            "Epoch 13/30, Train Loss: 0.0019, Val Loss: 0.0007\n",
            "Epoch 14/30, Train Loss: 0.0010, Val Loss: 0.0006\n",
            "Epoch 15/30, Train Loss: 0.0008, Val Loss: 0.0006\n",
            "Epoch 16/30, Train Loss: 0.0008, Val Loss: 0.0006\n",
            "Epoch 17/30, Train Loss: 0.0007, Val Loss: 0.0007\n",
            "Epoch 18/30, Train Loss: 0.0007, Val Loss: 0.0007\n",
            "Epoch 19/30, Train Loss: 0.0007, Val Loss: 0.0007\n",
            "Epoch 20/30, Train Loss: 0.0007, Val Loss: 0.0007\n",
            "Epoch 21/30, Train Loss: 0.0007, Val Loss: 0.0007\n",
            "Epoch 22/30, Train Loss: 0.0007, Val Loss: 0.0007\n",
            "Epoch 23/30, Train Loss: 0.0007, Val Loss: 0.0007\n",
            "Epoch 24/30, Train Loss: 0.0007, Val Loss: 0.0007\n",
            "Epoch 25/30, Train Loss: 0.0007, Val Loss: 0.0007\n",
            "Epoch 26/30, Train Loss: 0.0007, Val Loss: 0.0007\n",
            "Epoch 27/30, Train Loss: 0.0007, Val Loss: 0.0007\n",
            "Epoch 28/30, Train Loss: 0.0007, Val Loss: 0.0007\n",
            "Epoch 29/30, Train Loss: 0.0007, Val Loss: 0.0007\n"
          ]
        },
        {
          "output_type": "stream",
          "name": "stderr",
          "text": [
            "[I 2024-12-06 21:59:08,581] Trial 18 finished with value: 0.0005790543582406826 and parameters: {'hidden_dim': 66, 'lr': 0.0012941413856039688, 'weight_decay': 3.914674062973964e-06, 'asymmetric_ratio': 1.7453544253014424}. Best is trial 16 with value: 0.00041065867662837263.\n"
          ]
        },
        {
          "output_type": "stream",
          "name": "stdout",
          "text": [
            "Epoch 30/30, Train Loss: 0.0007, Val Loss: 0.0007\n",
            "Epoch 1/30, Train Loss: 0.0195, Val Loss: 0.0161\n",
            "Epoch 2/30, Train Loss: 0.0330, Val Loss: 0.0165\n",
            "Epoch 3/30, Train Loss: 0.0263, Val Loss: 0.0211\n",
            "Epoch 4/30, Train Loss: 0.0196, Val Loss: 0.0207\n",
            "Epoch 5/30, Train Loss: 0.0204, Val Loss: 0.0192\n",
            "Epoch 6/30, Train Loss: 0.0274, Val Loss: 0.0034\n",
            "Epoch 7/30, Train Loss: 0.0121, Val Loss: 0.0004\n",
            "Epoch 8/30, Train Loss: 0.0062, Val Loss: 0.0010\n",
            "Epoch 9/30, Train Loss: 0.0040, Val Loss: 0.0009\n",
            "Epoch 10/30, Train Loss: 0.0025, Val Loss: 0.0006\n",
            "Epoch 11/30, Train Loss: 0.0014, Val Loss: 0.0004\n",
            "Epoch 12/30, Train Loss: 0.0008, Val Loss: 0.0004\n",
            "Epoch 13/30, Train Loss: 0.0006, Val Loss: 0.0004\n",
            "Epoch 14/30, Train Loss: 0.0006, Val Loss: 0.0005\n",
            "Epoch 15/30, Train Loss: 0.0005, Val Loss: 0.0005\n",
            "Epoch 16/30, Train Loss: 0.0005, Val Loss: 0.0005\n",
            "Epoch 17/30, Train Loss: 0.0005, Val Loss: 0.0005\n",
            "Epoch 18/30, Train Loss: 0.0005, Val Loss: 0.0004\n",
            "Epoch 19/30, Train Loss: 0.0005, Val Loss: 0.0004\n",
            "Epoch 20/30, Train Loss: 0.0005, Val Loss: 0.0004\n",
            "Epoch 21/30, Train Loss: 0.0005, Val Loss: 0.0004\n",
            "Epoch 22/30, Train Loss: 0.0005, Val Loss: 0.0004\n",
            "Epoch 23/30, Train Loss: 0.0005, Val Loss: 0.0004\n",
            "Epoch 24/30, Train Loss: 0.0005, Val Loss: 0.0004\n",
            "Epoch 25/30, Train Loss: 0.0004, Val Loss: 0.0004\n",
            "Epoch 26/30, Train Loss: 0.0004, Val Loss: 0.0004\n",
            "Epoch 27/30, Train Loss: 0.0004, Val Loss: 0.0004\n",
            "Epoch 28/30, Train Loss: 0.0004, Val Loss: 0.0004\n",
            "Epoch 29/30, Train Loss: 0.0004, Val Loss: 0.0004\n"
          ]
        },
        {
          "output_type": "stream",
          "name": "stderr",
          "text": [
            "[I 2024-12-06 21:59:27,157] Trial 19 finished with value: 0.00040668420297151897 and parameters: {'hidden_dim': 74, 'lr': 0.00860936492293291, 'weight_decay': 4.269801142720023e-06, 'asymmetric_ratio': 1.011966627616196}. Best is trial 19 with value: 0.00040668420297151897.\n"
          ]
        },
        {
          "output_type": "stream",
          "name": "stdout",
          "text": [
            "Epoch 30/30, Train Loss: 0.0004, Val Loss: 0.0004\n",
            "Best hyperparameters: {'hidden_dim': 74, 'lr': 0.00860936492293291, 'weight_decay': 4.269801142720023e-06, 'asymmetric_ratio': 1.011966627616196}\n"
          ]
        }
      ]
    },
    {
      "cell_type": "code",
      "source": [
        "# ---------------------------------------\n",
        "# 9. Retrain Final Model with Best Hyperparams\n",
        "# ---------------------------------------\n",
        "best_params = study.best_params\n",
        "model = GRUModel(input_dim=len(features), hidden_dim=best_params['hidden_dim'], output_dim=len(features)).to(device)\n",
        "criterion = AsymmetricLoss(ratio=best_params['asymmetric_ratio'])\n",
        "optimizer = torch.optim.Adam(model.parameters(), lr=best_params['lr'], weight_decay=best_params['weight_decay'])\n",
        "scheduler = torch.optim.lr_scheduler.ReduceLROnPlateau(optimizer, 'min', factor=0.1, patience=3)\n",
        "\n",
        "best_state, _, train_losses, val_losses = train_and_validate(model, criterion, optimizer, scheduler, train_loader, val_loader, epochs=30)\n",
        "model.load_state_dict(best_state)\n",
        "\n",
        "# Plot training vs validation loss to check for overfitting\n",
        "plt.figure(figsize=(10,6))\n",
        "plt.plot(train_losses, label='Train Loss')\n",
        "plt.plot(val_losses, label='Val Loss')\n",
        "plt.title('Training and Validation Loss Over Epochs (GRU)')\n",
        "plt.xlabel('Epoch')\n",
        "plt.ylabel('Loss')\n",
        "plt.legend()\n",
        "plt.show()"
      ],
      "metadata": {
        "colab": {
          "base_uri": "https://localhost:8080/",
          "height": 1000
        },
        "id": "KNQF9cij5Q7n",
        "outputId": "9ff75393-38e9-45d7-c1fe-a10efad8e5d6"
      },
      "execution_count": null,
      "outputs": [
        {
          "output_type": "stream",
          "name": "stdout",
          "text": [
            "Epoch 1/30, Train Loss: 0.0162, Val Loss: 0.0174\n",
            "Epoch 2/30, Train Loss: 0.0330, Val Loss: 0.0136\n",
            "Epoch 3/30, Train Loss: 0.0279, Val Loss: 0.0158\n",
            "Epoch 4/30, Train Loss: 0.0163, Val Loss: 0.0168\n",
            "Epoch 5/30, Train Loss: 0.0294, Val Loss: 0.0290\n",
            "Epoch 6/30, Train Loss: 0.0286, Val Loss: 0.0164\n",
            "Epoch 7/30, Train Loss: 0.0290, Val Loss: 0.0029\n",
            "Epoch 8/30, Train Loss: 0.0140, Val Loss: 0.0022\n",
            "Epoch 9/30, Train Loss: 0.0083, Val Loss: 0.0020\n",
            "Epoch 10/30, Train Loss: 0.0064, Val Loss: 0.0013\n",
            "Epoch 11/30, Train Loss: 0.0048, Val Loss: 0.0010\n",
            "Epoch 12/30, Train Loss: 0.0036, Val Loss: 0.0009\n",
            "Epoch 13/30, Train Loss: 0.0026, Val Loss: 0.0008\n",
            "Epoch 14/30, Train Loss: 0.0018, Val Loss: 0.0008\n",
            "Epoch 15/30, Train Loss: 0.0013, Val Loss: 0.0007\n",
            "Epoch 16/30, Train Loss: 0.0010, Val Loss: 0.0006\n",
            "Epoch 17/30, Train Loss: 0.0007, Val Loss: 0.0006\n",
            "Epoch 18/30, Train Loss: 0.0006, Val Loss: 0.0005\n",
            "Epoch 19/30, Train Loss: 0.0005, Val Loss: 0.0005\n",
            "Epoch 20/30, Train Loss: 0.0005, Val Loss: 0.0005\n",
            "Epoch 21/30, Train Loss: 0.0005, Val Loss: 0.0005\n",
            "Epoch 22/30, Train Loss: 0.0005, Val Loss: 0.0005\n",
            "Epoch 23/30, Train Loss: 0.0005, Val Loss: 0.0004\n",
            "Epoch 24/30, Train Loss: 0.0005, Val Loss: 0.0004\n",
            "Epoch 25/30, Train Loss: 0.0005, Val Loss: 0.0004\n",
            "Epoch 26/30, Train Loss: 0.0005, Val Loss: 0.0004\n",
            "Epoch 27/30, Train Loss: 0.0005, Val Loss: 0.0004\n",
            "Epoch 28/30, Train Loss: 0.0005, Val Loss: 0.0004\n",
            "Epoch 29/30, Train Loss: 0.0005, Val Loss: 0.0003\n",
            "Epoch 30/30, Train Loss: 0.0005, Val Loss: 0.0003\n"
          ]
        },
        {
          "output_type": "display_data",
          "data": {
            "text/plain": [
              "<Figure size 1000x600 with 1 Axes>"
            ],
            "image/png": "[encoded data removed]"
          },
          "metadata": {}
        }
      ]
    },
    {
      "cell_type": "code",
      "source": [
        "# ---------------------------------------\n",
        "# 10. Evaluate on Test Set\n",
        "# ---------------------------------------\n",
        "# Take the last N days of training plus test data to ensure proper alignment\n",
        "test_input = np.concatenate((training_set[-N:], test_set), axis=0)\n",
        "test_input_scaled = scaler.transform(test_input)\n",
        "\n",
        "X_test = []\n",
        "for i in range(N, len(test_input_scaled)):\n",
        "    X_test.append(test_input_scaled[i-N:i, :])\n",
        "X_test = np.array(X_test)\n",
        "X_test_torch = torch.tensor(X_test, dtype=torch.float32).to(device)\n",
        "\n",
        "model.eval()\n",
        "with torch.no_grad():\n",
        "    predicted_scaled = model(X_test_torch).cpu().numpy()\n",
        "\n",
        "predicted_stock_price = scaler.inverse_transform(predicted_scaled.reshape(-1, len(features)))\n",
        "real_prices = test_data[features].values\n",
        "\n",
        "print(\"Predicted (first 5):\\n\", predicted_stock_price[:5])\n",
        "print(\"Actual (first 5):\\n\", real_prices[:5])\n",
        "\n",
        "# Compute Evaluation Metrics\n",
        "mse = mean_squared_error(real_prices[:len(predicted_stock_price), :], predicted_stock_price)\n",
        "rmse = np.sqrt(mse)\n",
        "mae = mean_absolute_error(real_prices[:len(predicted_stock_price), :], predicted_stock_price)\n",
        "print(f\"Test MSE: {mse:.4f}, RMSE: {rmse:.4f}, MAE: {mae:.4f}\")\n",
        "\n",
        "# Focus on 'Open' price for visualization\n",
        "real_open_price = real_prices[:len(predicted_stock_price), 0]\n",
        "predicted_open_price = predicted_stock_price[:, 0]\n",
        "\n",
        "# Plot predicted vs real prices\n",
        "plt.figure(figsize=(10,6))\n",
        "plt.plot(real_open_price, color='red', label='Real Google Stock Open Price')\n",
        "plt.plot(predicted_open_price, color='blue', label='Predicted Google Stock Open Price')\n",
        "plt.title('Google Stock Price Prediction (GRU)')\n",
        "plt.xlabel('Time Steps')\n",
        "plt.ylabel('Stock Price')\n",
        "plt.legend()\n",
        "plt.show()\n"
      ],
      "metadata": {
        "colab": {
          "base_uri": "https://localhost:8080/",
          "height": 785
        },
        "id": "frhXB34y5VjT",
        "outputId": "eb9f6210-3edb-47a9-bfbe-b31a6408d686"
      },
      "execution_count": null,
      "outputs": [
        {
          "output_type": "stream",
          "name": "stdout",
          "text": [
            "Predicted (first 5):\n",
            " [[783.4737  790.8761  774.7567  780.8692 ]\n",
            " [784.52124 792.51495 774.9361  789.44086]\n",
            " [788.4158  796.90894 778.09564 794.1977 ]\n",
            " [790.6281  799.27344 780.8405  798.96484]\n",
            " [798.1458  807.1276  787.33624 810.36884]]\n",
            "Actual (first 5):\n",
            " [[778.81 789.63 775.8  786.14]\n",
            " [788.36 791.34 783.16 786.9 ]\n",
            " [786.08 794.48 785.02 794.02]\n",
            " [795.26 807.9  792.2  806.15]\n",
            " [806.4  809.97 802.83 806.65]]\n",
            "Test MSE: 97.7681, RMSE: 9.8878, MAE: 7.5204\n"
          ]
        },
        {
          "output_type": "display_data",
          "data": {
            "text/plain": [
              "<Figure size 1000x600 with 1 Axes>"
            ],
            "image/png": "[encoded data removed]"
          },
          "metadata": {}
        }
      ]
    },
    {
      "cell_type": "code",
      "execution_count": null,
      "metadata": {
        "colab": {
          "base_uri": "https://localhost:8080/",
          "height": 1000
        },
        "id": "HQCI-DPkWb6n",
        "outputId": "b217efce-d718-42ac-c513-1abfc4c7f162"
      },
      "outputs": [
        {
          "output_type": "display_data",
          "data": {
            "text/plain": [
              "<Figure size 1000x600 with 1 Axes>"
            ],
            "image/png": "[encoded data removed]"
          },
          "metadata": {}
        },
        {
          "output_type": "display_data",
          "data": {
            "text/plain": [
              "<Figure size 1000x600 with 1 Axes>"
            ],
            "image/png": "[encoded data removed]"
          },
          "metadata": {}
        }
      ],
      "source": [
        "# ---------------------------------------\n",
        "# 11. Residual Analysis (Check for Systematic Bias)\n",
        "# ---------------------------------------\n",
        "residuals = real_open_price - predicted_open_price\n",
        "\n",
        "# Plot residuals over time\n",
        "plt.figure(figsize=(10,6))\n",
        "plt.plot(residuals, label='Residuals (Real - Predicted)')\n",
        "plt.title('Residuals Over Time')\n",
        "plt.xlabel('Time Steps')\n",
        "plt.ylabel('Residual')\n",
        "plt.axhline(y=0, color='r', linestyle='--')\n",
        "plt.legend()\n",
        "plt.show()\n",
        "\n",
        "# Distribution of residuals\n",
        "plt.figure(figsize=(10,6))\n",
        "sns.histplot(residuals, kde=True)\n",
        "plt.title('Distribution of Residuals')\n",
        "plt.xlabel('Residual')\n",
        "plt.ylabel('Frequency')\n",
        "plt.show()\n",
        "\n"
      ]
    }
  ]
}