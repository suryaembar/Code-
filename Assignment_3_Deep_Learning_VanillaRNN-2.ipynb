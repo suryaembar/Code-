{
  "nbformat": 4,
  "nbformat_minor": 0,
  "metadata": {
    "colab": {
      "provenance": []
    },
    "kernelspec": {
      "name": "python3",
      "display_name": "Python 3"
    },
    "language_info": {
      "name": "python"
    }
  },
  "cells": [
    {
      "cell_type": "markdown",
      "source": [
        "Library"
      ],
      "metadata": {
        "id": "ypaXDombnF7h"
      }
    },
    {
      "cell_type": "code",
      "source": [
        "!pip install optuna"
      ],
      "metadata": {
        "colab": {
          "base_uri": "https://localhost:8080/"
        },
        "id": "upe0cvP5nMaS",
        "outputId": "3519780e-0691-47cf-a3c3-26b0f18ecfd7"
      },
      "execution_count": null,
      "outputs": [
        {
          "output_type": "stream",
          "name": "stdout",
          "text": [
            "Requirement already satisfied: optuna in /usr/local/lib/python3.10/dist-packages (4.1.0)\n",
            "Requirement already satisfied: alembic>=1.5.0 in /usr/local/lib/python3.10/dist-packages (from optuna) (1.14.0)\n",
            "Requirement already satisfied: colorlog in /usr/local/lib/python3.10/dist-packages (from optuna) (6.9.0)\n",
            "Requirement already satisfied: numpy in /usr/local/lib/python3.10/dist-packages (from optuna) (1.26.4)\n",
            "Requirement already satisfied: packaging>=20.0 in /usr/local/lib/python3.10/dist-packages (from optuna) (24.2)\n",
            "Requirement already satisfied: sqlalchemy>=1.4.2 in /usr/local/lib/python3.10/dist-packages (from optuna) (2.0.36)\n",
            "Requirement already satisfied: tqdm in /usr/local/lib/python3.10/dist-packages (from optuna) (4.66.6)\n",
            "Requirement already satisfied: PyYAML in /usr/local/lib/python3.10/dist-packages (from optuna) (6.0.2)\n",
            "Requirement already satisfied: Mako in /usr/local/lib/python3.10/dist-packages (from alembic>=1.5.0->optuna) (1.3.7)\n",
            "Requirement already satisfied: typing-extensions>=4 in /usr/local/lib/python3.10/dist-packages (from alembic>=1.5.0->optuna) (4.12.2)\n",
            "Requirement already satisfied: greenlet!=0.4.17 in /usr/local/lib/python3.10/dist-packages (from sqlalchemy>=1.4.2->optuna) (3.1.1)\n",
            "Requirement already satisfied: MarkupSafe>=0.9.2 in /usr/local/lib/python3.10/dist-packages (from Mako->alembic>=1.5.0->optuna) (3.0.2)\n"
          ]
        }
      ]
    },
    {
      "cell_type": "code",
      "source": [
        "import pandas as pd\n",
        "import numpy as np\n",
        "import torch\n",
        "from torch import nn\n",
        "from torch.utils.data import Dataset, DataLoader\n",
        "from sklearn.preprocessing import MinMaxScaler\n",
        "import matplotlib.pyplot as plt\n",
        "import seaborn as sns\n",
        "import optuna\n",
        "from sklearn.metrics import mean_squared_error, mean_absolute_error\n",
        "\n",
        "device = torch.device(\"cuda\" if torch.cuda.is_available() else \"cpu\")\n"
      ],
      "metadata": {
        "id": "4G-t0fYi4KUP"
      },
      "execution_count": null,
      "outputs": []
    },
    {
      "cell_type": "code",
      "source": [
        "# ---------------------------------------\n",
        "# 1. Data Loading and Inspection\n",
        "# ---------------------------------------\n",
        "train_data = pd.read_csv('/content/Google_Stock_Price_Train.csv')\n",
        "test_data = pd.read_csv('/content/Google_Stock_Price_Test.csv')\n",
        "\n",
        "print(\"Training Data Sample:\\n\", train_data.head())\n",
        "print(\"Test Data Sample:\\n\", test_data.head())\n",
        "print(\"Missing values in training data:\\n\", train_data.isnull().sum())"
      ],
      "metadata": {
        "colab": {
          "base_uri": "https://localhost:8080/"
        },
        "id": "8rFOlD9U4MaE",
        "outputId": "d54f5a43-14b8-4b73-8bc1-e3512f6109cb"
      },
      "execution_count": null,
      "outputs": [
        {
          "output_type": "stream",
          "name": "stdout",
          "text": [
            "Training Data Sample:\n",
            "        Date    Open    High     Low   Close      Volume\n",
            "0  1/3/2012  325.25  332.83  324.97  663.59   7,380,500\n",
            "1  1/4/2012  331.27  333.87  329.08  666.45   5,749,400\n",
            "2  1/5/2012  329.83  330.75  326.89  657.21   6,590,300\n",
            "3  1/6/2012  328.34  328.77  323.68  648.24   5,405,900\n",
            "4  1/9/2012  322.04  322.29  309.46  620.76  11,688,800\n",
            "Test Data Sample:\n",
            "        Date    Open    High     Low   Close     Volume\n",
            "0  1/3/2017  778.81  789.63  775.80  786.14  1,657,300\n",
            "1  1/4/2017  788.36  791.34  783.16  786.90  1,073,000\n",
            "2  1/5/2017  786.08  794.48  785.02  794.02  1,335,200\n",
            "3  1/6/2017  795.26  807.90  792.20  806.15  1,640,200\n",
            "4  1/9/2017  806.40  809.97  802.83  806.65  1,272,400\n",
            "Missing values in training data:\n",
            " Date      0\n",
            "Open      0\n",
            "High      0\n",
            "Low       0\n",
            "Close     0\n",
            "Volume    0\n",
            "dtype: int64\n"
          ]
        }
      ]
    },
    {
      "cell_type": "code",
      "source": [
        "# ---------------------------------------\n",
        "# 2. Data Cleaning and Preprocessing\n",
        "# ---------------------------------------\n",
        "features = ['Open', 'High', 'Low', 'Close']\n",
        "\n",
        "for feature in features:\n",
        "    if train_data[feature].dtype == 'object':\n",
        "        train_data[feature] = train_data[feature].str.replace(',', '', regex=True).astype(float)\n",
        "    if test_data[feature].dtype == 'object':\n",
        "        test_data[feature] = test_data[feature].str.replace(',', '', regex=True).astype(float)\n",
        "\n",
        "training_set = train_data[features].values\n",
        "test_set = test_data[features].values\n",
        "\n",
        "scaler = MinMaxScaler(feature_range=(0, 1))\n",
        "training_set_scaled = scaler.fit_transform(training_set)"
      ],
      "metadata": {
        "id": "RB7AEpGy4Mtq"
      },
      "execution_count": null,
      "outputs": []
    },
    {
      "cell_type": "code",
      "source": [
        "# ---------------------------------------\n",
        "# 3. Fixed-length Sequence Creation (Sliding Window)\n",
        "# ---------------------------------------\n",
        "N = 30  # Past N days used as input\n",
        "M = 1   # Predict next M days\n",
        "\n",
        "X, y = [], []\n",
        "for i in range(N, len(training_set_scaled) - M + 1):\n",
        "    X.append(training_set_scaled[i-N:i, :])\n",
        "    y.append(training_set_scaled[i:i+M, :])\n",
        "\n",
        "X, y = np.array(X), np.array(y)\n",
        "\n",
        "split = int(len(X) * 0.8)\n",
        "X_train, X_val = X[:split], X[split:]\n",
        "y_train, y_val = y[:split], y[split:]\n"
      ],
      "metadata": {
        "id": "WdE-Kua24Mph"
      },
      "execution_count": null,
      "outputs": []
    },
    {
      "cell_type": "code",
      "source": [
        "# ---------------------------------------\n",
        "# 4. Dataset and DataLoader\n",
        "# ---------------------------------------\n",
        "class StockDataset(Dataset):\n",
        "    def __init__(self, X, y):\n",
        "        self.X = torch.tensor(X, dtype=torch.float32)\n",
        "        self.y = torch.tensor(y, dtype=torch.float32)\n",
        "\n",
        "    def __len__(self):\n",
        "        return len(self.X)\n",
        "\n",
        "    def __getitem__(self, idx):\n",
        "        return self.X[idx], self.y[idx]\n",
        "\n",
        "train_dataset = StockDataset(X_train, y_train)\n",
        "val_dataset = StockDataset(X_val, y_val)\n",
        "\n",
        "train_loader = DataLoader(train_dataset, batch_size=32, shuffle=False)\n",
        "val_loader = DataLoader(val_dataset, batch_size=32, shuffle=False)"
      ],
      "metadata": {
        "id": "khSWjbBi4SIB"
      },
      "execution_count": null,
      "outputs": []
    },
    {
      "cell_type": "code",
      "source": [
        "# ---------------------------------------\n",
        "# 5. Vanilla RNN Model\n",
        "# ---------------------------------------\n",
        "class VanillaRNN(nn.Module):\n",
        "    def __init__(self, input_dim, hidden_dim, output_dim, num_layers=1):\n",
        "        super(VanillaRNN, self).__init__()\n",
        "        self.rnn = nn.RNN(input_dim, hidden_dim, num_layers=num_layers, batch_first=True)\n",
        "        self.fc = nn.Linear(hidden_dim, output_dim)\n",
        "\n",
        "    def forward(self, x):\n",
        "        out, _ = self.rnn(x)\n",
        "        out = out[:, -1, :]\n",
        "        out = self.fc(out)\n",
        "        return out\n"
      ],
      "metadata": {
        "id": "6y9n3CTV4VLn"
      },
      "execution_count": null,
      "outputs": []
    },
    {
      "cell_type": "code",
      "source": [
        "# ---------------------------------------\n",
        "# 6. Custom Asymmetric Loss Function\n",
        "#    This loss penalizes underestimation more than overestimation.\n",
        "# ---------------------------------------\n",
        "class AsymmetricLoss(nn.Module):\n",
        "    def __init__(self, ratio=2.0):\n",
        "        super(AsymmetricLoss, self).__init__()\n",
        "        self.ratio = ratio\n",
        "\n",
        "    def forward(self, pred, target):\n",
        "        diff = target - pred\n",
        "        loss = torch.mean(torch.where(diff > 0, self.ratio * diff**2, diff**2))\n",
        "        return loss"
      ],
      "metadata": {
        "id": "OfjA8eLX4XKq"
      },
      "execution_count": null,
      "outputs": []
    },
    {
      "cell_type": "code",
      "source": [
        "# ---------------------------------------\n",
        "# 7. Training Function with Metric Logging\n",
        "#    We'll store train/val losses for plotting later.\n",
        "# ---------------------------------------\n",
        "def train_and_validate(model, criterion, optimizer, scheduler, train_loader, val_loader, epochs=30):\n",
        "    train_losses = []\n",
        "    val_losses = []\n",
        "    best_val_loss = float('inf')\n",
        "    best_state = None\n",
        "\n",
        "    for epoch in range(epochs):\n",
        "        # Training\n",
        "        model.train()\n",
        "        running_train_loss = 0.0\n",
        "        for X_batch, y_batch in train_loader:\n",
        "            X_batch, y_batch = X_batch.to(device), y_batch.to(device)\n",
        "            optimizer.zero_grad()\n",
        "            outputs = model(X_batch)\n",
        "            loss = criterion(outputs, y_batch.view(outputs.shape))\n",
        "            loss.backward()\n",
        "            optimizer.step()\n",
        "            running_train_loss += loss.item()\n",
        "\n",
        "        train_loss = running_train_loss / len(train_loader)\n",
        "        train_losses.append(train_loss)\n",
        "\n",
        "        # Validation\n",
        "        model.eval()\n",
        "        running_val_loss = 0.0\n",
        "        with torch.no_grad():\n",
        "            for X_batch, y_batch in val_loader:\n",
        "                X_batch, y_batch = X_batch.to(device), y_batch.to(device)\n",
        "                outputs = model(X_batch)\n",
        "                loss = criterion(outputs, y_batch.view(outputs.shape))\n",
        "                running_val_loss += loss.item()\n",
        "\n",
        "        val_loss = running_val_loss / len(val_loader)\n",
        "        val_losses.append(val_loss)\n",
        "\n",
        "        scheduler.step(val_loss)\n",
        "\n",
        "        if val_loss < best_val_loss:\n",
        "            best_val_loss = val_loss\n",
        "            best_state = model.state_dict()\n",
        "\n",
        "        print(f\"Epoch {epoch+1}/{epochs}, Train Loss: {train_loss:.4f}, Val Loss: {val_loss:.4f}\")\n",
        "\n",
        "    return best_state, best_val_loss, train_losses, val_losses"
      ],
      "metadata": {
        "id": "axZCxvhn4Yw_"
      },
      "execution_count": null,
      "outputs": []
    },
    {
      "cell_type": "code",
      "source": [
        "# ---------------------------------------\n",
        "# 8. Hyperparameter Tuning with Optuna\n",
        "# ---------------------------------------\n",
        "def objective(trial):\n",
        "    hidden_dim = trial.suggest_int('hidden_dim', 20, 100)\n",
        "    lr = trial.suggest_float('lr', 1e-4, 1e-2, log=True)\n",
        "    weight_decay = trial.suggest_float('weight_decay', 1e-6, 1e-3, log=True)\n",
        "    ratio = trial.suggest_float('asymmetric_ratio', 1.0, 5.0)\n",
        "\n",
        "    model = VanillaRNN(input_dim=len(features), hidden_dim=hidden_dim, output_dim=len(features)).to(device)\n",
        "    criterion = AsymmetricLoss(ratio=ratio)\n",
        "    optimizer = torch.optim.Adam(model.parameters(), lr=lr, weight_decay=weight_decay)\n",
        "    scheduler = torch.optim.lr_scheduler.ReduceLROnPlateau(optimizer, 'min', factor=0.1, patience=3)\n",
        "\n",
        "    # For the sake of tuning speed, use fewer epochs\n",
        "    best_state, best_val_loss, _, _ = train_and_validate(model, criterion, optimizer, scheduler, train_loader, val_loader, epochs=30)\n",
        "    return best_val_loss\n",
        "\n",
        "study = optuna.create_study(direction='minimize')\n",
        "study.optimize(objective, n_trials=20)\n",
        "print(\"Best hyperparameters:\", study.best_params)"
      ],
      "metadata": {
        "colab": {
          "base_uri": "https://localhost:8080/"
        },
        "id": "hi3kQGZ74Y_K",
        "outputId": "8dd3e35f-a6c1-4415-b369-cb34ea6be924"
      },
      "execution_count": null,
      "outputs": [
        {
          "output_type": "stream",
          "name": "stderr",
          "text": [
            "[I 2024-12-06 21:56:08,605] A new study created in memory with name: no-name-2984aaa3-ceda-4d02-86cb-f044568352c5\n"
          ]
        },
        {
          "output_type": "stream",
          "name": "stdout",
          "text": [
            "Epoch 1/30, Train Loss: 0.9395, Val Loss: 2.3349\n",
            "Epoch 2/30, Train Loss: 0.5904, Val Loss: 1.5306\n",
            "Epoch 3/30, Train Loss: 0.2280, Val Loss: 0.5530\n",
            "Epoch 4/30, Train Loss: 0.0927, Val Loss: 0.2769\n",
            "Epoch 5/30, Train Loss: 0.0966, Val Loss: 0.2719\n",
            "Epoch 6/30, Train Loss: 0.0900, Val Loss: 0.2524\n",
            "Epoch 7/30, Train Loss: 0.0849, Val Loss: 0.2349\n",
            "Epoch 8/30, Train Loss: 0.0794, Val Loss: 0.2155\n",
            "Epoch 9/30, Train Loss: 0.0740, Val Loss: 0.1956\n",
            "Epoch 10/30, Train Loss: 0.0685, Val Loss: 0.1754\n",
            "Epoch 11/30, Train Loss: 0.0631, Val Loss: 0.1553\n",
            "Epoch 12/30, Train Loss: 0.0577, Val Loss: 0.1355\n",
            "Epoch 13/30, Train Loss: 0.0525, Val Loss: 0.1163\n",
            "Epoch 14/30, Train Loss: 0.0476, Val Loss: 0.0981\n",
            "Epoch 15/30, Train Loss: 0.0430, Val Loss: 0.0814\n",
            "Epoch 16/30, Train Loss: 0.0388, Val Loss: 0.0668\n",
            "Epoch 17/30, Train Loss: 0.0354, Val Loss: 0.0558\n",
            "Epoch 18/30, Train Loss: 0.0326, Val Loss: 0.0483\n",
            "Epoch 19/30, Train Loss: 0.0297, Val Loss: 0.0409\n",
            "Epoch 20/30, Train Loss: 0.0270, Val Loss: 0.0344\n",
            "Epoch 21/30, Train Loss: 0.0241, Val Loss: 0.0287\n",
            "Epoch 22/30, Train Loss: 0.0213, Val Loss: 0.0241\n",
            "Epoch 23/30, Train Loss: 0.0185, Val Loss: 0.0212\n",
            "Epoch 24/30, Train Loss: 0.0159, Val Loss: 0.0193\n",
            "Epoch 25/30, Train Loss: 0.0134, Val Loss: 0.0178\n",
            "Epoch 26/30, Train Loss: 0.0111, Val Loss: 0.0161\n",
            "Epoch 27/30, Train Loss: 0.0090, Val Loss: 0.0144\n",
            "Epoch 28/30, Train Loss: 0.0071, Val Loss: 0.0128\n",
            "Epoch 29/30, Train Loss: 0.0057, Val Loss: 0.0116\n"
          ]
        },
        {
          "output_type": "stream",
          "name": "stderr",
          "text": [
            "[I 2024-12-06 21:56:20,224] Trial 0 finished with value: 0.01052901556249708 and parameters: {'hidden_dim': 76, 'lr': 0.00012924869008607318, 'weight_decay': 1.9293300019011397e-05, 'asymmetric_ratio': 4.938901017604606}. Best is trial 0 with value: 0.01052901556249708.\n"
          ]
        },
        {
          "output_type": "stream",
          "name": "stdout",
          "text": [
            "Epoch 30/30, Train Loss: 0.0047, Val Loss: 0.0105\n",
            "Epoch 1/30, Train Loss: 0.0861, Val Loss: 0.1534\n",
            "Epoch 2/30, Train Loss: 0.0951, Val Loss: 0.0847\n",
            "Epoch 3/30, Train Loss: 0.0642, Val Loss: 0.0499\n",
            "Epoch 4/30, Train Loss: 0.0471, Val Loss: 0.0286\n",
            "Epoch 5/30, Train Loss: 0.0299, Val Loss: 0.0157\n",
            "Epoch 6/30, Train Loss: 0.0232, Val Loss: 0.0072\n",
            "Epoch 7/30, Train Loss: 0.0174, Val Loss: 0.0031\n",
            "Epoch 8/30, Train Loss: 0.0167, Val Loss: 0.0092\n",
            "Epoch 9/30, Train Loss: 0.0164, Val Loss: 0.0014\n",
            "Epoch 10/30, Train Loss: 0.0151, Val Loss: 0.0238\n",
            "Epoch 11/30, Train Loss: 0.0064, Val Loss: 0.0018\n",
            "Epoch 12/30, Train Loss: 0.0036, Val Loss: 0.0009\n",
            "Epoch 13/30, Train Loss: 0.0038, Val Loss: 0.0061\n",
            "Epoch 14/30, Train Loss: 0.0033, Val Loss: 0.0050\n",
            "Epoch 15/30, Train Loss: 0.0040, Val Loss: 0.0055\n",
            "Epoch 16/30, Train Loss: 0.0061, Val Loss: 0.0117\n",
            "Epoch 17/30, Train Loss: 0.0048, Val Loss: 0.0011\n",
            "Epoch 18/30, Train Loss: 0.0014, Val Loss: 0.0010\n",
            "Epoch 19/30, Train Loss: 0.0012, Val Loss: 0.0013\n",
            "Epoch 20/30, Train Loss: 0.0011, Val Loss: 0.0015\n",
            "Epoch 21/30, Train Loss: 0.0010, Val Loss: 0.0015\n",
            "Epoch 22/30, Train Loss: 0.0010, Val Loss: 0.0015\n",
            "Epoch 23/30, Train Loss: 0.0010, Val Loss: 0.0015\n",
            "Epoch 24/30, Train Loss: 0.0010, Val Loss: 0.0015\n",
            "Epoch 25/30, Train Loss: 0.0010, Val Loss: 0.0015\n",
            "Epoch 26/30, Train Loss: 0.0010, Val Loss: 0.0015\n",
            "Epoch 27/30, Train Loss: 0.0010, Val Loss: 0.0015\n",
            "Epoch 28/30, Train Loss: 0.0010, Val Loss: 0.0015\n"
          ]
        },
        {
          "output_type": "stream",
          "name": "stderr",
          "text": [
            "[I 2024-12-06 21:56:30,349] Trial 1 finished with value: 0.0008819270624371711 and parameters: {'hidden_dim': 51, 'lr': 0.0009761084715351154, 'weight_decay': 2.0727013250110027e-05, 'asymmetric_ratio': 2.7666356784287505}. Best is trial 1 with value: 0.0008819270624371711.\n"
          ]
        },
        {
          "output_type": "stream",
          "name": "stdout",
          "text": [
            "Epoch 29/30, Train Loss: 0.0010, Val Loss: 0.0015\n",
            "Epoch 30/30, Train Loss: 0.0010, Val Loss: 0.0015\n",
            "Epoch 1/30, Train Loss: 0.0331, Val Loss: 0.0532\n",
            "Epoch 2/30, Train Loss: 0.2710, Val Loss: 0.0499\n",
            "Epoch 3/30, Train Loss: 0.1034, Val Loss: 0.0278\n",
            "Epoch 4/30, Train Loss: 0.1133, Val Loss: 0.0111\n",
            "Epoch 5/30, Train Loss: 0.0519, Val Loss: 0.0416\n",
            "Epoch 6/30, Train Loss: 0.0662, Val Loss: 0.0052\n",
            "Epoch 7/30, Train Loss: 0.0636, Val Loss: 0.0100\n",
            "Epoch 8/30, Train Loss: 0.0339, Val Loss: 0.0207\n",
            "Epoch 9/30, Train Loss: 0.0170, Val Loss: 0.0057\n",
            "Epoch 10/30, Train Loss: 0.0122, Val Loss: 0.0082\n",
            "Epoch 11/30, Train Loss: 0.0103, Val Loss: 0.0048\n",
            "Epoch 12/30, Train Loss: 0.0045, Val Loss: 0.0049\n",
            "Epoch 13/30, Train Loss: 0.0030, Val Loss: 0.0049\n",
            "Epoch 14/30, Train Loss: 0.0022, Val Loss: 0.0036\n",
            "Epoch 15/30, Train Loss: 0.0018, Val Loss: 0.0029\n",
            "Epoch 16/30, Train Loss: 0.0015, Val Loss: 0.0023\n",
            "Epoch 17/30, Train Loss: 0.0013, Val Loss: 0.0018\n",
            "Epoch 18/30, Train Loss: 0.0011, Val Loss: 0.0014\n",
            "Epoch 19/30, Train Loss: 0.0010, Val Loss: 0.0012\n",
            "Epoch 20/30, Train Loss: 0.0009, Val Loss: 0.0010\n",
            "Epoch 21/30, Train Loss: 0.0009, Val Loss: 0.0009\n",
            "Epoch 22/30, Train Loss: 0.0009, Val Loss: 0.0008\n",
            "Epoch 23/30, Train Loss: 0.0008, Val Loss: 0.0007\n",
            "Epoch 24/30, Train Loss: 0.0008, Val Loss: 0.0007\n",
            "Epoch 25/30, Train Loss: 0.0008, Val Loss: 0.0006\n",
            "Epoch 26/30, Train Loss: 0.0008, Val Loss: 0.0006\n",
            "Epoch 27/30, Train Loss: 0.0008, Val Loss: 0.0006\n",
            "Epoch 28/30, Train Loss: 0.0008, Val Loss: 0.0006\n",
            "Epoch 29/30, Train Loss: 0.0008, Val Loss: 0.0006\n"
          ]
        },
        {
          "output_type": "stream",
          "name": "stderr",
          "text": [
            "[I 2024-12-06 21:56:36,962] Trial 2 finished with value: 0.0005871900903002825 and parameters: {'hidden_dim': 80, 'lr': 0.0059537961929750985, 'weight_decay': 7.980312644042782e-06, 'asymmetric_ratio': 4.396507621404423}. Best is trial 2 with value: 0.0005871900903002825.\n"
          ]
        },
        {
          "output_type": "stream",
          "name": "stdout",
          "text": [
            "Epoch 30/30, Train Loss: 0.0008, Val Loss: 0.0006\n",
            "Epoch 1/30, Train Loss: 0.0367, Val Loss: 0.0350\n",
            "Epoch 2/30, Train Loss: 0.0641, Val Loss: 0.0261\n",
            "Epoch 3/30, Train Loss: 0.0599, Val Loss: 0.0212\n",
            "Epoch 4/30, Train Loss: 0.0450, Val Loss: 0.0046\n",
            "Epoch 5/30, Train Loss: 0.0412, Val Loss: 0.0048\n",
            "Epoch 6/30, Train Loss: 0.0433, Val Loss: 0.0105\n",
            "Epoch 7/30, Train Loss: 0.0235, Val Loss: 0.0067\n",
            "Epoch 8/30, Train Loss: 0.0177, Val Loss: 0.0098\n",
            "Epoch 9/30, Train Loss: 0.0101, Val Loss: 0.0036\n",
            "Epoch 10/30, Train Loss: 0.0035, Val Loss: 0.0035\n",
            "Epoch 11/30, Train Loss: 0.0021, Val Loss: 0.0038\n",
            "Epoch 12/30, Train Loss: 0.0016, Val Loss: 0.0032\n",
            "Epoch 13/30, Train Loss: 0.0013, Val Loss: 0.0026\n",
            "Epoch 14/30, Train Loss: 0.0012, Val Loss: 0.0022\n",
            "Epoch 15/30, Train Loss: 0.0011, Val Loss: 0.0019\n",
            "Epoch 16/30, Train Loss: 0.0010, Val Loss: 0.0016\n",
            "Epoch 17/30, Train Loss: 0.0009, Val Loss: 0.0015\n",
            "Epoch 18/30, Train Loss: 0.0009, Val Loss: 0.0013\n",
            "Epoch 19/30, Train Loss: 0.0008, Val Loss: 0.0012\n",
            "Epoch 20/30, Train Loss: 0.0008, Val Loss: 0.0012\n",
            "Epoch 21/30, Train Loss: 0.0008, Val Loss: 0.0011\n",
            "Epoch 22/30, Train Loss: 0.0008, Val Loss: 0.0011\n",
            "Epoch 23/30, Train Loss: 0.0008, Val Loss: 0.0010\n",
            "Epoch 24/30, Train Loss: 0.0008, Val Loss: 0.0010\n",
            "Epoch 25/30, Train Loss: 0.0008, Val Loss: 0.0010\n",
            "Epoch 26/30, Train Loss: 0.0008, Val Loss: 0.0010\n",
            "Epoch 27/30, Train Loss: 0.0008, Val Loss: 0.0009\n",
            "Epoch 28/30, Train Loss: 0.0008, Val Loss: 0.0009\n",
            "Epoch 29/30, Train Loss: 0.0008, Val Loss: 0.0009\n"
          ]
        },
        {
          "output_type": "stream",
          "name": "stderr",
          "text": [
            "[I 2024-12-06 21:56:42,573] Trial 3 finished with value: 0.0009206918657582719 and parameters: {'hidden_dim': 78, 'lr': 0.002271669704973335, 'weight_decay': 1.2799835787118121e-06, 'asymmetric_ratio': 2.395542577232243}. Best is trial 2 with value: 0.0005871900903002825.\n"
          ]
        },
        {
          "output_type": "stream",
          "name": "stdout",
          "text": [
            "Epoch 30/30, Train Loss: 0.0008, Val Loss: 0.0009\n",
            "Epoch 1/30, Train Loss: 0.0378, Val Loss: 0.0051\n",
            "Epoch 2/30, Train Loss: 0.0686, Val Loss: 0.0438\n",
            "Epoch 3/30, Train Loss: 0.0871, Val Loss: 0.0127\n",
            "Epoch 4/30, Train Loss: 0.0510, Val Loss: 0.0141\n",
            "Epoch 5/30, Train Loss: 0.0617, Val Loss: 0.0168\n",
            "Epoch 6/30, Train Loss: 0.0382, Val Loss: 0.0163\n",
            "Epoch 7/30, Train Loss: 0.0253, Val Loss: 0.0217\n",
            "Epoch 8/30, Train Loss: 0.0217, Val Loss: 0.0216\n",
            "Epoch 9/30, Train Loss: 0.0194, Val Loss: 0.0202\n",
            "Epoch 10/30, Train Loss: 0.0166, Val Loss: 0.0199\n",
            "Epoch 11/30, Train Loss: 0.0164, Val Loss: 0.0197\n",
            "Epoch 12/30, Train Loss: 0.0161, Val Loss: 0.0194\n",
            "Epoch 13/30, Train Loss: 0.0159, Val Loss: 0.0191\n",
            "Epoch 14/30, Train Loss: 0.0156, Val Loss: 0.0191\n",
            "Epoch 15/30, Train Loss: 0.0156, Val Loss: 0.0191\n",
            "Epoch 16/30, Train Loss: 0.0156, Val Loss: 0.0190\n",
            "Epoch 17/30, Train Loss: 0.0156, Val Loss: 0.0190\n",
            "Epoch 18/30, Train Loss: 0.0155, Val Loss: 0.0190\n",
            "Epoch 19/30, Train Loss: 0.0155, Val Loss: 0.0190\n",
            "Epoch 20/30, Train Loss: 0.0155, Val Loss: 0.0190\n",
            "Epoch 21/30, Train Loss: 0.0155, Val Loss: 0.0190\n",
            "Epoch 22/30, Train Loss: 0.0155, Val Loss: 0.0190\n",
            "Epoch 23/30, Train Loss: 0.0155, Val Loss: 0.0190\n",
            "Epoch 24/30, Train Loss: 0.0155, Val Loss: 0.0190\n",
            "Epoch 25/30, Train Loss: 0.0155, Val Loss: 0.0190\n",
            "Epoch 26/30, Train Loss: 0.0155, Val Loss: 0.0190\n",
            "Epoch 27/30, Train Loss: 0.0155, Val Loss: 0.0190\n",
            "Epoch 28/30, Train Loss: 0.0155, Val Loss: 0.0190\n",
            "Epoch 29/30, Train Loss: 0.0155, Val Loss: 0.0190\n"
          ]
        },
        {
          "output_type": "stream",
          "name": "stderr",
          "text": [
            "[I 2024-12-06 21:56:48,129] Trial 4 finished with value: 0.005077613503090106 and parameters: {'hidden_dim': 23, 'lr': 0.009792389221187001, 'weight_decay': 3.585115644781039e-05, 'asymmetric_ratio': 4.857886216914608}. Best is trial 2 with value: 0.0005871900903002825.\n"
          ]
        },
        {
          "output_type": "stream",
          "name": "stdout",
          "text": [
            "Epoch 30/30, Train Loss: 0.0155, Val Loss: 0.0190\n",
            "Epoch 1/30, Train Loss: 0.0738, Val Loss: 0.1918\n",
            "Epoch 2/30, Train Loss: 0.1315, Val Loss: 0.0985\n",
            "Epoch 3/30, Train Loss: 0.0840, Val Loss: 0.0504\n",
            "Epoch 4/30, Train Loss: 0.0581, Val Loss: 0.0264\n",
            "Epoch 5/30, Train Loss: 0.0403, Val Loss: 0.0112\n",
            "Epoch 6/30, Train Loss: 0.0245, Val Loss: 0.0016\n",
            "Epoch 7/30, Train Loss: 0.0251, Val Loss: 0.0054\n",
            "Epoch 8/30, Train Loss: 0.0269, Val Loss: 0.0080\n",
            "Epoch 9/30, Train Loss: 0.0108, Val Loss: 0.0034\n",
            "Epoch 10/30, Train Loss: 0.0038, Val Loss: 0.0015\n",
            "Epoch 11/30, Train Loss: 0.0099, Val Loss: 0.0119\n",
            "Epoch 12/30, Train Loss: 0.0125, Val Loss: 0.0053\n",
            "Epoch 13/30, Train Loss: 0.0090, Val Loss: 0.0091\n",
            "Epoch 14/30, Train Loss: 0.0201, Val Loss: 0.0336\n",
            "Epoch 15/30, Train Loss: 0.0062, Val Loss: 0.0188\n",
            "Epoch 16/30, Train Loss: 0.0044, Val Loss: 0.0101\n",
            "Epoch 17/30, Train Loss: 0.0038, Val Loss: 0.0070\n",
            "Epoch 18/30, Train Loss: 0.0033, Val Loss: 0.0053\n",
            "Epoch 19/30, Train Loss: 0.0029, Val Loss: 0.0052\n",
            "Epoch 20/30, Train Loss: 0.0029, Val Loss: 0.0051\n",
            "Epoch 21/30, Train Loss: 0.0028, Val Loss: 0.0050\n",
            "Epoch 22/30, Train Loss: 0.0028, Val Loss: 0.0049\n",
            "Epoch 23/30, Train Loss: 0.0027, Val Loss: 0.0049\n",
            "Epoch 24/30, Train Loss: 0.0027, Val Loss: 0.0049\n",
            "Epoch 25/30, Train Loss: 0.0027, Val Loss: 0.0048\n",
            "Epoch 26/30, Train Loss: 0.0027, Val Loss: 0.0048\n",
            "Epoch 27/30, Train Loss: 0.0027, Val Loss: 0.0048\n",
            "Epoch 28/30, Train Loss: 0.0027, Val Loss: 0.0048\n",
            "Epoch 29/30, Train Loss: 0.0027, Val Loss: 0.0048\n"
          ]
        },
        {
          "output_type": "stream",
          "name": "stderr",
          "text": [
            "[I 2024-12-06 21:56:54,027] Trial 5 finished with value: 0.0014900019887136295 and parameters: {'hidden_dim': 89, 'lr': 0.0006876933860979493, 'weight_decay': 0.0007143111944517515, 'asymmetric_ratio': 3.3556150892902825}. Best is trial 2 with value: 0.0005871900903002825.\n"
          ]
        },
        {
          "output_type": "stream",
          "name": "stdout",
          "text": [
            "Epoch 30/30, Train Loss: 0.0027, Val Loss: 0.0048\n",
            "Epoch 1/30, Train Loss: 0.0465, Val Loss: 0.0573\n",
            "Epoch 2/30, Train Loss: 0.0876, Val Loss: 0.0162\n",
            "Epoch 3/30, Train Loss: 0.0780, Val Loss: 0.0014\n",
            "Epoch 4/30, Train Loss: 0.0734, Val Loss: 0.0374\n",
            "Epoch 5/30, Train Loss: 0.0422, Val Loss: 0.0068\n",
            "Epoch 6/30, Train Loss: 0.0376, Val Loss: 0.0120\n",
            "Epoch 7/30, Train Loss: 0.0394, Val Loss: 0.0124\n",
            "Epoch 8/30, Train Loss: 0.0138, Val Loss: 0.0058\n",
            "Epoch 9/30, Train Loss: 0.0088, Val Loss: 0.0028\n",
            "Epoch 10/30, Train Loss: 0.0067, Val Loss: 0.0025\n",
            "Epoch 11/30, Train Loss: 0.0053, Val Loss: 0.0021\n",
            "Epoch 12/30, Train Loss: 0.0041, Val Loss: 0.0021\n",
            "Epoch 13/30, Train Loss: 0.0040, Val Loss: 0.0021\n",
            "Epoch 14/30, Train Loss: 0.0039, Val Loss: 0.0021\n",
            "Epoch 15/30, Train Loss: 0.0038, Val Loss: 0.0021\n",
            "Epoch 16/30, Train Loss: 0.0037, Val Loss: 0.0021\n",
            "Epoch 17/30, Train Loss: 0.0037, Val Loss: 0.0021\n",
            "Epoch 18/30, Train Loss: 0.0037, Val Loss: 0.0021\n",
            "Epoch 19/30, Train Loss: 0.0037, Val Loss: 0.0021\n",
            "Epoch 20/30, Train Loss: 0.0037, Val Loss: 0.0021\n",
            "Epoch 21/30, Train Loss: 0.0037, Val Loss: 0.0021\n",
            "Epoch 22/30, Train Loss: 0.0037, Val Loss: 0.0021\n",
            "Epoch 23/30, Train Loss: 0.0037, Val Loss: 0.0021\n",
            "Epoch 24/30, Train Loss: 0.0037, Val Loss: 0.0021\n",
            "Epoch 25/30, Train Loss: 0.0037, Val Loss: 0.0021\n",
            "Epoch 26/30, Train Loss: 0.0037, Val Loss: 0.0021\n",
            "Epoch 27/30, Train Loss: 0.0037, Val Loss: 0.0021\n",
            "Epoch 28/30, Train Loss: 0.0037, Val Loss: 0.0021\n",
            "Epoch 29/30, Train Loss: 0.0037, Val Loss: 0.0021\n"
          ]
        },
        {
          "output_type": "stream",
          "name": "stderr",
          "text": [
            "[I 2024-12-06 21:56:59,470] Trial 6 finished with value: 0.0013937854455434717 and parameters: {'hidden_dim': 38, 'lr': 0.004085731032479867, 'weight_decay': 4.532131808062675e-06, 'asymmetric_ratio': 4.227314318299821}. Best is trial 2 with value: 0.0005871900903002825.\n"
          ]
        },
        {
          "output_type": "stream",
          "name": "stdout",
          "text": [
            "Epoch 30/30, Train Loss: 0.0037, Val Loss: 0.0021\n",
            "Epoch 1/30, Train Loss: 0.0277, Val Loss: 0.0485\n",
            "Epoch 2/30, Train Loss: 0.0521, Val Loss: 0.0225\n",
            "Epoch 3/30, Train Loss: 0.1448, Val Loss: 0.0356\n",
            "Epoch 4/30, Train Loss: 0.5103, Val Loss: 1.7128\n",
            "Epoch 5/30, Train Loss: 0.1977, Val Loss: 0.1010\n",
            "Epoch 6/30, Train Loss: 0.2035, Val Loss: 0.0267\n",
            "Epoch 7/30, Train Loss: 0.1956, Val Loss: 0.1171\n",
            "Epoch 8/30, Train Loss: 0.1552, Val Loss: 0.1396\n",
            "Epoch 9/30, Train Loss: 0.1375, Val Loss: 0.1147\n",
            "Epoch 10/30, Train Loss: 0.1329, Val Loss: 0.0990\n",
            "Epoch 11/30, Train Loss: 0.1001, Val Loss: 0.1456\n",
            "Epoch 12/30, Train Loss: 0.0871, Val Loss: 0.1999\n",
            "Epoch 13/30, Train Loss: 0.0804, Val Loss: 0.2234\n",
            "Epoch 14/30, Train Loss: 0.0781, Val Loss: 0.2289\n",
            "Epoch 15/30, Train Loss: 0.0740, Val Loss: 0.2293\n",
            "Epoch 16/30, Train Loss: 0.0739, Val Loss: 0.2299\n",
            "Epoch 17/30, Train Loss: 0.0739, Val Loss: 0.2305\n",
            "Epoch 18/30, Train Loss: 0.0738, Val Loss: 0.2310\n",
            "Epoch 19/30, Train Loss: 0.0734, Val Loss: 0.2311\n",
            "Epoch 20/30, Train Loss: 0.0734, Val Loss: 0.2311\n",
            "Epoch 21/30, Train Loss: 0.0734, Val Loss: 0.2312\n",
            "Epoch 22/30, Train Loss: 0.0734, Val Loss: 0.2312\n",
            "Epoch 23/30, Train Loss: 0.0733, Val Loss: 0.2312\n",
            "Epoch 24/30, Train Loss: 0.0733, Val Loss: 0.2313\n",
            "Epoch 25/30, Train Loss: 0.0733, Val Loss: 0.2313\n",
            "Epoch 26/30, Train Loss: 0.0733, Val Loss: 0.2313\n",
            "Epoch 27/30, Train Loss: 0.0733, Val Loss: 0.2313\n",
            "Epoch 28/30, Train Loss: 0.0733, Val Loss: 0.2313\n"
          ]
        },
        {
          "output_type": "stream",
          "name": "stderr",
          "text": [
            "[I 2024-12-06 21:57:05,545] Trial 7 finished with value: 0.02248993027023971 and parameters: {'hidden_dim': 83, 'lr': 0.008792684240068863, 'weight_decay': 8.514125515525972e-06, 'asymmetric_ratio': 2.5561861227405185}. Best is trial 2 with value: 0.0005871900903002825.\n"
          ]
        },
        {
          "output_type": "stream",
          "name": "stdout",
          "text": [
            "Epoch 29/30, Train Loss: 0.0733, Val Loss: 0.2313\n",
            "Epoch 30/30, Train Loss: 0.0733, Val Loss: 0.2313\n",
            "Epoch 1/30, Train Loss: 0.0493, Val Loss: 0.0419\n",
            "Epoch 2/30, Train Loss: 0.1191, Val Loss: 0.0088\n",
            "Epoch 3/30, Train Loss: 0.1020, Val Loss: 0.0147\n",
            "Epoch 4/30, Train Loss: 0.0617, Val Loss: 0.0157\n",
            "Epoch 5/30, Train Loss: 0.0437, Val Loss: 0.0278\n",
            "Epoch 6/30, Train Loss: 0.0398, Val Loss: 0.0218\n",
            "Epoch 7/30, Train Loss: 0.0169, Val Loss: 0.0169\n",
            "Epoch 8/30, Train Loss: 0.0121, Val Loss: 0.0116\n",
            "Epoch 9/30, Train Loss: 0.0102, Val Loss: 0.0080\n",
            "Epoch 10/30, Train Loss: 0.0086, Val Loss: 0.0062\n",
            "Epoch 11/30, Train Loss: 0.0068, Val Loss: 0.0046\n",
            "Epoch 12/30, Train Loss: 0.0051, Val Loss: 0.0031\n",
            "Epoch 13/30, Train Loss: 0.0036, Val Loss: 0.0019\n",
            "Epoch 14/30, Train Loss: 0.0024, Val Loss: 0.0012\n",
            "Epoch 15/30, Train Loss: 0.0017, Val Loss: 0.0010\n",
            "Epoch 16/30, Train Loss: 0.0013, Val Loss: 0.0012\n",
            "Epoch 17/30, Train Loss: 0.0012, Val Loss: 0.0012\n",
            "Epoch 18/30, Train Loss: 0.0011, Val Loss: 0.0012\n",
            "Epoch 19/30, Train Loss: 0.0010, Val Loss: 0.0011\n",
            "Epoch 20/30, Train Loss: 0.0009, Val Loss: 0.0011\n",
            "Epoch 21/30, Train Loss: 0.0009, Val Loss: 0.0011\n",
            "Epoch 22/30, Train Loss: 0.0009, Val Loss: 0.0011\n",
            "Epoch 23/30, Train Loss: 0.0009, Val Loss: 0.0011\n",
            "Epoch 24/30, Train Loss: 0.0009, Val Loss: 0.0011\n",
            "Epoch 25/30, Train Loss: 0.0009, Val Loss: 0.0010\n",
            "Epoch 26/30, Train Loss: 0.0009, Val Loss: 0.0010\n",
            "Epoch 27/30, Train Loss: 0.0009, Val Loss: 0.0010\n",
            "Epoch 28/30, Train Loss: 0.0009, Val Loss: 0.0010\n",
            "Epoch 29/30, Train Loss: 0.0009, Val Loss: 0.0010\n"
          ]
        },
        {
          "output_type": "stream",
          "name": "stderr",
          "text": [
            "[I 2024-12-06 21:57:15,065] Trial 8 finished with value: 0.0009830861708906014 and parameters: {'hidden_dim': 92, 'lr': 0.0020595981023488292, 'weight_decay': 0.00047154136606007485, 'asymmetric_ratio': 4.478863682940213}. Best is trial 2 with value: 0.0005871900903002825.\n"
          ]
        },
        {
          "output_type": "stream",
          "name": "stdout",
          "text": [
            "Epoch 30/30, Train Loss: 0.0009, Val Loss: 0.0010\n",
            "Epoch 1/30, Train Loss: 0.0298, Val Loss: 0.0280\n",
            "Epoch 2/30, Train Loss: 0.2470, Val Loss: 0.0927\n",
            "Epoch 3/30, Train Loss: 0.1992, Val Loss: 0.0376\n",
            "Epoch 4/30, Train Loss: 0.2390, Val Loss: 0.0356\n",
            "Epoch 5/30, Train Loss: 0.1349, Val Loss: 0.0480\n",
            "Epoch 6/30, Train Loss: 0.1674, Val Loss: 0.0896\n",
            "Epoch 7/30, Train Loss: 0.1300, Val Loss: 0.0638\n",
            "Epoch 8/30, Train Loss: 0.0997, Val Loss: 0.0745\n",
            "Epoch 9/30, Train Loss: 0.0976, Val Loss: 0.0919\n",
            "Epoch 10/30, Train Loss: 0.0514, Val Loss: 0.0971\n",
            "Epoch 11/30, Train Loss: 0.0493, Val Loss: 0.1094\n",
            "Epoch 12/30, Train Loss: 0.0477, Val Loss: 0.1110\n",
            "Epoch 13/30, Train Loss: 0.0470, Val Loss: 0.1111\n",
            "Epoch 14/30, Train Loss: 0.0444, Val Loss: 0.1111\n",
            "Epoch 15/30, Train Loss: 0.0444, Val Loss: 0.1112\n",
            "Epoch 16/30, Train Loss: 0.0443, Val Loss: 0.1113\n",
            "Epoch 17/30, Train Loss: 0.0443, Val Loss: 0.1113\n",
            "Epoch 18/30, Train Loss: 0.0440, Val Loss: 0.1113\n",
            "Epoch 19/30, Train Loss: 0.0440, Val Loss: 0.1113\n",
            "Epoch 20/30, Train Loss: 0.0440, Val Loss: 0.1113\n",
            "Epoch 21/30, Train Loss: 0.0440, Val Loss: 0.1113\n",
            "Epoch 22/30, Train Loss: 0.0440, Val Loss: 0.1113\n",
            "Epoch 23/30, Train Loss: 0.0440, Val Loss: 0.1113\n",
            "Epoch 24/30, Train Loss: 0.0440, Val Loss: 0.1113\n",
            "Epoch 25/30, Train Loss: 0.0440, Val Loss: 0.1113\n",
            "Epoch 26/30, Train Loss: 0.0440, Val Loss: 0.1113\n",
            "Epoch 27/30, Train Loss: 0.0440, Val Loss: 0.1113\n",
            "Epoch 28/30, Train Loss: 0.0440, Val Loss: 0.1113\n"
          ]
        },
        {
          "output_type": "stream",
          "name": "stderr",
          "text": [
            "[I 2024-12-06 21:57:22,666] Trial 9 finished with value: 0.027960188686847687 and parameters: {'hidden_dim': 67, 'lr': 0.007086953996360458, 'weight_decay': 3.9705386465595196e-05, 'asymmetric_ratio': 4.903836168719955}. Best is trial 2 with value: 0.0005871900903002825.\n"
          ]
        },
        {
          "output_type": "stream",
          "name": "stdout",
          "text": [
            "Epoch 29/30, Train Loss: 0.0440, Val Loss: 0.1113\n",
            "Epoch 30/30, Train Loss: 0.0440, Val Loss: 0.1113\n",
            "Epoch 1/30, Train Loss: 0.2565, Val Loss: 0.4749\n",
            "Epoch 2/30, Train Loss: 0.0568, Val Loss: 0.0905\n",
            "Epoch 3/30, Train Loss: 0.0516, Val Loss: 0.0864\n",
            "Epoch 4/30, Train Loss: 0.0433, Val Loss: 0.0747\n",
            "Epoch 5/30, Train Loss: 0.0384, Val Loss: 0.0623\n",
            "Epoch 6/30, Train Loss: 0.0340, Val Loss: 0.0511\n",
            "Epoch 7/30, Train Loss: 0.0296, Val Loss: 0.0406\n",
            "Epoch 8/30, Train Loss: 0.0255, Val Loss: 0.0314\n",
            "Epoch 9/30, Train Loss: 0.0218, Val Loss: 0.0242\n",
            "Epoch 10/30, Train Loss: 0.0189, Val Loss: 0.0192\n",
            "Epoch 11/30, Train Loss: 0.0169, Val Loss: 0.0166\n",
            "Epoch 12/30, Train Loss: 0.0146, Val Loss: 0.0145\n",
            "Epoch 13/30, Train Loss: 0.0117, Val Loss: 0.0132\n",
            "Epoch 14/30, Train Loss: 0.0086, Val Loss: 0.0136\n",
            "Epoch 15/30, Train Loss: 0.0061, Val Loss: 0.0127\n",
            "Epoch 16/30, Train Loss: 0.0038, Val Loss: 0.0095\n",
            "Epoch 17/30, Train Loss: 0.0027, Val Loss: 0.0076\n",
            "Epoch 18/30, Train Loss: 0.0029, Val Loss: 0.0094\n",
            "Epoch 19/30, Train Loss: 0.0030, Val Loss: 0.0099\n",
            "Epoch 20/30, Train Loss: 0.0023, Val Loss: 0.0075\n",
            "Epoch 21/30, Train Loss: 0.0021, Val Loss: 0.0068\n",
            "Epoch 22/30, Train Loss: 0.0024, Val Loss: 0.0078\n",
            "Epoch 23/30, Train Loss: 0.0022, Val Loss: 0.0073\n",
            "Epoch 24/30, Train Loss: 0.0019, Val Loss: 0.0060\n",
            "Epoch 25/30, Train Loss: 0.0019, Val Loss: 0.0059\n",
            "Epoch 26/30, Train Loss: 0.0021, Val Loss: 0.0064\n",
            "Epoch 27/30, Train Loss: 0.0020, Val Loss: 0.0060\n",
            "Epoch 28/30, Train Loss: 0.0018, Val Loss: 0.0052\n",
            "Epoch 29/30, Train Loss: 0.0018, Val Loss: 0.0051\n"
          ]
        },
        {
          "output_type": "stream",
          "name": "stderr",
          "text": [
            "[I 2024-12-06 21:57:28,848] Trial 10 finished with value: 0.005123207607539371 and parameters: {'hidden_dim': 59, 'lr': 0.00024806852289884217, 'weight_decay': 0.00011054810750835488, 'asymmetric_ratio': 1.3243605235309506}. Best is trial 2 with value: 0.0005871900903002825.\n"
          ]
        },
        {
          "output_type": "stream",
          "name": "stdout",
          "text": [
            "Epoch 30/30, Train Loss: 0.0019, Val Loss: 0.0054\n",
            "Epoch 1/30, Train Loss: 0.0781, Val Loss: 0.1517\n",
            "Epoch 2/30, Train Loss: 0.1214, Val Loss: 0.0705\n",
            "Epoch 3/30, Train Loss: 0.0877, Val Loss: 0.0803\n",
            "Epoch 4/30, Train Loss: 0.0597, Val Loss: 0.0618\n",
            "Epoch 5/30, Train Loss: 0.0437, Val Loss: 0.0356\n",
            "Epoch 6/30, Train Loss: 0.0310, Val Loss: 0.0187\n",
            "Epoch 7/30, Train Loss: 0.0245, Val Loss: 0.0117\n",
            "Epoch 8/30, Train Loss: 0.0196, Val Loss: 0.0051\n",
            "Epoch 9/30, Train Loss: 0.0120, Val Loss: 0.0114\n",
            "Epoch 10/30, Train Loss: 0.0078, Val Loss: 0.0051\n",
            "Epoch 11/30, Train Loss: 0.0066, Val Loss: 0.0090\n",
            "Epoch 12/30, Train Loss: 0.0050, Val Loss: 0.0058\n",
            "Epoch 13/30, Train Loss: 0.0101, Val Loss: 0.0192\n",
            "Epoch 14/30, Train Loss: 0.0043, Val Loss: 0.0033\n",
            "Epoch 15/30, Train Loss: 0.0044, Val Loss: 0.0080\n",
            "Epoch 16/30, Train Loss: 0.0023, Val Loss: 0.0037\n",
            "Epoch 17/30, Train Loss: 0.0020, Val Loss: 0.0030\n",
            "Epoch 18/30, Train Loss: 0.0024, Val Loss: 0.0034\n",
            "Epoch 19/30, Train Loss: 0.0029, Val Loss: 0.0047\n",
            "Epoch 20/30, Train Loss: 0.0029, Val Loss: 0.0048\n",
            "Epoch 21/30, Train Loss: 0.0024, Val Loss: 0.0038\n",
            "Epoch 22/30, Train Loss: 0.0018, Val Loss: 0.0009\n",
            "Epoch 23/30, Train Loss: 0.0011, Val Loss: 0.0010\n",
            "Epoch 24/30, Train Loss: 0.0011, Val Loss: 0.0011\n",
            "Epoch 25/30, Train Loss: 0.0010, Val Loss: 0.0012\n",
            "Epoch 26/30, Train Loss: 0.0010, Val Loss: 0.0012\n",
            "Epoch 27/30, Train Loss: 0.0010, Val Loss: 0.0012\n",
            "Epoch 28/30, Train Loss: 0.0010, Val Loss: 0.0012\n",
            "Epoch 29/30, Train Loss: 0.0010, Val Loss: 0.0012\n"
          ]
        },
        {
          "output_type": "stream",
          "name": "stderr",
          "text": [
            "[I 2024-12-06 21:57:33,900] Trial 11 finished with value: 0.0009399081864103209 and parameters: {'hidden_dim': 53, 'lr': 0.0007912827076407155, 'weight_decay': 2.8553821005248674e-06, 'asymmetric_ratio': 3.457453908111611}. Best is trial 2 with value: 0.0005871900903002825.\n"
          ]
        },
        {
          "output_type": "stream",
          "name": "stdout",
          "text": [
            "Epoch 30/30, Train Loss: 0.0010, Val Loss: 0.0012\n",
            "Epoch 1/30, Train Loss: 0.1605, Val Loss: 0.1985\n",
            "Epoch 2/30, Train Loss: 0.0675, Val Loss: 0.1166\n",
            "Epoch 3/30, Train Loss: 0.0581, Val Loss: 0.1039\n",
            "Epoch 4/30, Train Loss: 0.0502, Val Loss: 0.0835\n",
            "Epoch 5/30, Train Loss: 0.0436, Val Loss: 0.0652\n",
            "Epoch 6/30, Train Loss: 0.0374, Val Loss: 0.0494\n",
            "Epoch 7/30, Train Loss: 0.0318, Val Loss: 0.0365\n",
            "Epoch 8/30, Train Loss: 0.0272, Val Loss: 0.0272\n",
            "Epoch 9/30, Train Loss: 0.0247, Val Loss: 0.0223\n",
            "Epoch 10/30, Train Loss: 0.0235, Val Loss: 0.0205\n",
            "Epoch 11/30, Train Loss: 0.0217, Val Loss: 0.0185\n",
            "Epoch 12/30, Train Loss: 0.0195, Val Loss: 0.0159\n",
            "Epoch 13/30, Train Loss: 0.0171, Val Loss: 0.0129\n",
            "Epoch 14/30, Train Loss: 0.0149, Val Loss: 0.0109\n",
            "Epoch 15/30, Train Loss: 0.0129, Val Loss: 0.0108\n",
            "Epoch 16/30, Train Loss: 0.0112, Val Loss: 0.0118\n",
            "Epoch 17/30, Train Loss: 0.0094, Val Loss: 0.0128\n",
            "Epoch 18/30, Train Loss: 0.0075, Val Loss: 0.0126\n",
            "Epoch 19/30, Train Loss: 0.0056, Val Loss: 0.0109\n",
            "Epoch 20/30, Train Loss: 0.0034, Val Loss: 0.0093\n",
            "Epoch 21/30, Train Loss: 0.0032, Val Loss: 0.0079\n",
            "Epoch 22/30, Train Loss: 0.0031, Val Loss: 0.0073\n",
            "Epoch 23/30, Train Loss: 0.0029, Val Loss: 0.0068\n",
            "Epoch 24/30, Train Loss: 0.0028, Val Loss: 0.0065\n",
            "Epoch 25/30, Train Loss: 0.0027, Val Loss: 0.0062\n",
            "Epoch 26/30, Train Loss: 0.0026, Val Loss: 0.0060\n",
            "Epoch 27/30, Train Loss: 0.0025, Val Loss: 0.0057\n",
            "Epoch 28/30, Train Loss: 0.0024, Val Loss: 0.0055\n",
            "Epoch 29/30, Train Loss: 0.0023, Val Loss: 0.0054\n"
          ]
        },
        {
          "output_type": "stream",
          "name": "stderr",
          "text": [
            "[I 2024-12-06 21:57:39,561] Trial 12 finished with value: 0.005183592555113137 and parameters: {'hidden_dim': 46, 'lr': 0.0003629819957460374, 'weight_decay': 1.3864613864949056e-05, 'asymmetric_ratio': 1.7483022510302049}. Best is trial 2 with value: 0.0005871900903002825.\n"
          ]
        },
        {
          "output_type": "stream",
          "name": "stdout",
          "text": [
            "Epoch 30/30, Train Loss: 0.0023, Val Loss: 0.0052\n",
            "Epoch 1/30, Train Loss: 0.0588, Val Loss: 0.1211\n",
            "Epoch 2/30, Train Loss: 0.1126, Val Loss: 0.0244\n",
            "Epoch 3/30, Train Loss: 0.0718, Val Loss: 0.0172\n",
            "Epoch 4/30, Train Loss: 0.0478, Val Loss: 0.0122\n",
            "Epoch 5/30, Train Loss: 0.0336, Val Loss: 0.0062\n",
            "Epoch 6/30, Train Loss: 0.0222, Val Loss: 0.0074\n",
            "Epoch 7/30, Train Loss: 0.0096, Val Loss: 0.0026\n",
            "Epoch 8/30, Train Loss: 0.0039, Val Loss: 0.0035\n",
            "Epoch 9/30, Train Loss: 0.0057, Val Loss: 0.0033\n",
            "Epoch 10/30, Train Loss: 0.0072, Val Loss: 0.0057\n",
            "Epoch 11/30, Train Loss: 0.0121, Val Loss: 0.0023\n",
            "Epoch 12/30, Train Loss: 0.0051, Val Loss: 0.0031\n",
            "Epoch 13/30, Train Loss: 0.0138, Val Loss: 0.0128\n",
            "Epoch 14/30, Train Loss: 0.0095, Val Loss: 0.0008\n",
            "Epoch 15/30, Train Loss: 0.0184, Val Loss: 0.0312\n",
            "Epoch 16/30, Train Loss: 0.0042, Val Loss: 0.0012\n",
            "Epoch 17/30, Train Loss: 0.0062, Val Loss: 0.0132\n",
            "Epoch 18/30, Train Loss: 0.0020, Val Loss: 0.0027\n",
            "Epoch 19/30, Train Loss: 0.0011, Val Loss: 0.0008\n",
            "Epoch 20/30, Train Loss: 0.0007, Val Loss: 0.0007\n",
            "Epoch 21/30, Train Loss: 0.0007, Val Loss: 0.0007\n",
            "Epoch 22/30, Train Loss: 0.0007, Val Loss: 0.0007\n",
            "Epoch 23/30, Train Loss: 0.0007, Val Loss: 0.0007\n",
            "Epoch 24/30, Train Loss: 0.0007, Val Loss: 0.0007\n",
            "Epoch 25/30, Train Loss: 0.0007, Val Loss: 0.0007\n",
            "Epoch 26/30, Train Loss: 0.0007, Val Loss: 0.0007\n",
            "Epoch 27/30, Train Loss: 0.0007, Val Loss: 0.0007\n",
            "Epoch 28/30, Train Loss: 0.0007, Val Loss: 0.0007\n"
          ]
        },
        {
          "output_type": "stream",
          "name": "stderr",
          "text": [
            "[I 2024-12-06 21:57:45,219] Trial 13 finished with value: 0.0006543904855789151 and parameters: {'hidden_dim': 68, 'lr': 0.0015162515799592372, 'weight_decay': 0.0001338225568579929, 'asymmetric_ratio': 2.912816292259867}. Best is trial 2 with value: 0.0005871900903002825.\n"
          ]
        },
        {
          "output_type": "stream",
          "name": "stdout",
          "text": [
            "Epoch 29/30, Train Loss: 0.0007, Val Loss: 0.0007\n",
            "Epoch 30/30, Train Loss: 0.0007, Val Loss: 0.0007\n",
            "Epoch 1/30, Train Loss: 0.0381, Val Loss: 0.0272\n",
            "Epoch 2/30, Train Loss: 0.0967, Val Loss: 0.0253\n",
            "Epoch 3/30, Train Loss: 0.0872, Val Loss: 0.0238\n",
            "Epoch 4/30, Train Loss: 0.0604, Val Loss: 0.0252\n",
            "Epoch 5/30, Train Loss: 0.0476, Val Loss: 0.0171\n",
            "Epoch 6/30, Train Loss: 0.0333, Val Loss: 0.0107\n",
            "Epoch 7/30, Train Loss: 0.0127, Val Loss: 0.0033\n",
            "Epoch 8/30, Train Loss: 0.0085, Val Loss: 0.0007\n",
            "Epoch 9/30, Train Loss: 0.0045, Val Loss: 0.0029\n",
            "Epoch 10/30, Train Loss: 0.0048, Val Loss: 0.0019\n",
            "Epoch 11/30, Train Loss: 0.0033, Val Loss: 0.0013\n",
            "Epoch 12/30, Train Loss: 0.0025, Val Loss: 0.0005\n",
            "Epoch 13/30, Train Loss: 0.0017, Val Loss: 0.0015\n",
            "Epoch 14/30, Train Loss: 0.0022, Val Loss: 0.0005\n",
            "Epoch 15/30, Train Loss: 0.0020, Val Loss: 0.0008\n",
            "Epoch 16/30, Train Loss: 0.0031, Val Loss: 0.0006\n",
            "Epoch 17/30, Train Loss: 0.0089, Val Loss: 0.0026\n",
            "Epoch 18/30, Train Loss: 0.0014, Val Loss: 0.0007\n",
            "Epoch 19/30, Train Loss: 0.0008, Val Loss: 0.0008\n",
            "Epoch 20/30, Train Loss: 0.0008, Val Loss: 0.0006\n",
            "Epoch 21/30, Train Loss: 0.0007, Val Loss: 0.0006\n",
            "Epoch 22/30, Train Loss: 0.0007, Val Loss: 0.0006\n",
            "Epoch 23/30, Train Loss: 0.0007, Val Loss: 0.0006\n",
            "Epoch 24/30, Train Loss: 0.0007, Val Loss: 0.0006\n",
            "Epoch 25/30, Train Loss: 0.0007, Val Loss: 0.0006\n",
            "Epoch 26/30, Train Loss: 0.0007, Val Loss: 0.0006\n",
            "Epoch 27/30, Train Loss: 0.0007, Val Loss: 0.0006\n",
            "Epoch 28/30, Train Loss: 0.0007, Val Loss: 0.0006\n",
            "Epoch 29/30, Train Loss: 0.0007, Val Loss: 0.0006\n"
          ]
        },
        {
          "output_type": "stream",
          "name": "stderr",
          "text": [
            "[I 2024-12-06 21:57:50,616] Trial 14 finished with value: 0.00048661744949640706 and parameters: {'hidden_dim': 68, 'lr': 0.001968634317525887, 'weight_decay': 0.00015298675166748637, 'asymmetric_ratio': 3.820256430283795}. Best is trial 14 with value: 0.00048661744949640706.\n"
          ]
        },
        {
          "output_type": "stream",
          "name": "stdout",
          "text": [
            "Epoch 30/30, Train Loss: 0.0007, Val Loss: 0.0006\n",
            "Epoch 1/30, Train Loss: 0.0333, Val Loss: 0.0787\n",
            "Epoch 2/30, Train Loss: 0.0733, Val Loss: 0.0074\n",
            "Epoch 3/30, Train Loss: 0.0588, Val Loss: 0.1080\n",
            "Epoch 4/30, Train Loss: 0.0710, Val Loss: 0.0138\n",
            "Epoch 5/30, Train Loss: 0.3513, Val Loss: 0.2805\n",
            "Epoch 6/30, Train Loss: 0.3667, Val Loss: 0.2065\n",
            "Epoch 7/30, Train Loss: 0.2106, Val Loss: 0.1585\n",
            "Epoch 8/30, Train Loss: 0.1000, Val Loss: 0.1481\n",
            "Epoch 9/30, Train Loss: 0.0773, Val Loss: 0.1035\n",
            "Epoch 10/30, Train Loss: 0.0765, Val Loss: 0.0962\n",
            "Epoch 11/30, Train Loss: 0.0517, Val Loss: 0.1009\n",
            "Epoch 12/30, Train Loss: 0.0497, Val Loss: 0.1097\n",
            "Epoch 13/30, Train Loss: 0.0482, Val Loss: 0.1131\n",
            "Epoch 14/30, Train Loss: 0.0474, Val Loss: 0.1129\n",
            "Epoch 15/30, Train Loss: 0.0454, Val Loss: 0.1128\n",
            "Epoch 16/30, Train Loss: 0.0454, Val Loss: 0.1128\n",
            "Epoch 17/30, Train Loss: 0.0453, Val Loss: 0.1128\n",
            "Epoch 18/30, Train Loss: 0.0452, Val Loss: 0.1127\n",
            "Epoch 19/30, Train Loss: 0.0450, Val Loss: 0.1127\n",
            "Epoch 20/30, Train Loss: 0.0450, Val Loss: 0.1127\n",
            "Epoch 21/30, Train Loss: 0.0450, Val Loss: 0.1127\n",
            "Epoch 22/30, Train Loss: 0.0450, Val Loss: 0.1127\n",
            "Epoch 23/30, Train Loss: 0.0450, Val Loss: 0.1127\n",
            "Epoch 24/30, Train Loss: 0.0450, Val Loss: 0.1127\n",
            "Epoch 25/30, Train Loss: 0.0450, Val Loss: 0.1127\n",
            "Epoch 26/30, Train Loss: 0.0450, Val Loss: 0.1127\n",
            "Epoch 27/30, Train Loss: 0.0450, Val Loss: 0.1127\n",
            "Epoch 28/30, Train Loss: 0.0450, Val Loss: 0.1127\n",
            "Epoch 29/30, Train Loss: 0.0450, Val Loss: 0.1127\n",
            "Epoch 30/30, Train Loss: 0.0450, Val Loss: 0.1127\n"
          ]
        },
        {
          "output_type": "stream",
          "name": "stderr",
          "text": [
            "[I 2024-12-06 21:57:57,814] Trial 15 finished with value: 0.007435339852236211 and parameters: {'hidden_dim': 97, 'lr': 0.00392738572636692, 'weight_decay': 0.00013198111330573048, 'asymmetric_ratio': 3.9057158334640607}. Best is trial 14 with value: 0.00048661744949640706.\n"
          ]
        },
        {
          "output_type": "stream",
          "name": "stdout",
          "text": [
            "Epoch 1/30, Train Loss: 0.0303, Val Loss: 0.0127\n",
            "Epoch 2/30, Train Loss: 0.0566, Val Loss: 0.0198\n",
            "Epoch 3/30, Train Loss: 0.0507, Val Loss: 0.0195\n",
            "Epoch 4/30, Train Loss: 0.0641, Val Loss: 0.0291\n",
            "Epoch 5/30, Train Loss: 0.0396, Val Loss: 0.0031\n",
            "Epoch 6/30, Train Loss: 0.0368, Val Loss: 0.0018\n",
            "Epoch 7/30, Train Loss: 0.0202, Val Loss: 0.0031\n",
            "Epoch 8/30, Train Loss: 0.0073, Val Loss: 0.0043\n",
            "Epoch 9/30, Train Loss: 0.0013, Val Loss: 0.0014\n",
            "Epoch 10/30, Train Loss: 0.0010, Val Loss: 0.0005\n",
            "Epoch 11/30, Train Loss: 0.0011, Val Loss: 0.0006\n",
            "Epoch 12/30, Train Loss: 0.0031, Val Loss: 0.0005\n",
            "Epoch 13/30, Train Loss: 0.0052, Val Loss: 0.0015\n",
            "Epoch 14/30, Train Loss: 0.0145, Val Loss: 0.0007\n",
            "Epoch 15/30, Train Loss: 0.0081, Val Loss: 0.0025\n",
            "Epoch 16/30, Train Loss: 0.0175, Val Loss: 0.0152\n",
            "Epoch 17/30, Train Loss: 0.0095, Val Loss: 0.0139\n",
            "Epoch 18/30, Train Loss: 0.0076, Val Loss: 0.0115\n",
            "Epoch 19/30, Train Loss: 0.0060, Val Loss: 0.0091\n",
            "Epoch 20/30, Train Loss: 0.0047, Val Loss: 0.0071\n",
            "Epoch 21/30, Train Loss: 0.0036, Val Loss: 0.0069\n",
            "Epoch 22/30, Train Loss: 0.0035, Val Loss: 0.0067\n",
            "Epoch 23/30, Train Loss: 0.0034, Val Loss: 0.0065\n",
            "Epoch 24/30, Train Loss: 0.0033, Val Loss: 0.0064\n",
            "Epoch 25/30, Train Loss: 0.0032, Val Loss: 0.0064\n",
            "Epoch 26/30, Train Loss: 0.0032, Val Loss: 0.0063\n",
            "Epoch 27/30, Train Loss: 0.0032, Val Loss: 0.0063\n",
            "Epoch 28/30, Train Loss: 0.0032, Val Loss: 0.0063\n",
            "Epoch 29/30, Train Loss: 0.0032, Val Loss: 0.0063\n"
          ]
        },
        {
          "output_type": "stream",
          "name": "stderr",
          "text": [
            "[I 2024-12-06 21:58:03,659] Trial 16 finished with value: 0.0004526719931163825 and parameters: {'hidden_dim': 69, 'lr': 0.0035722376226243555, 'weight_decay': 0.00032878504286879755, 'asymmetric_ratio': 3.8589016152325635}. Best is trial 16 with value: 0.0004526719931163825.\n"
          ]
        },
        {
          "output_type": "stream",
          "name": "stdout",
          "text": [
            "Epoch 30/30, Train Loss: 0.0032, Val Loss: 0.0063\n",
            "Epoch 1/30, Train Loss: 0.0338, Val Loss: 0.0334\n",
            "Epoch 2/30, Train Loss: 0.1000, Val Loss: 0.0592\n",
            "Epoch 3/30, Train Loss: 0.0631, Val Loss: 0.0184\n",
            "Epoch 4/30, Train Loss: 0.0539, Val Loss: 0.0158\n",
            "Epoch 5/30, Train Loss: 0.0466, Val Loss: 0.0091\n",
            "Epoch 6/30, Train Loss: 0.0482, Val Loss: 0.0071\n",
            "Epoch 7/30, Train Loss: 0.0507, Val Loss: 0.0069\n",
            "Epoch 8/30, Train Loss: 0.0313, Val Loss: 0.0136\n",
            "Epoch 9/30, Train Loss: 0.0174, Val Loss: 0.0154\n",
            "Epoch 10/30, Train Loss: 0.0066, Val Loss: 0.0008\n",
            "Epoch 11/30, Train Loss: 0.0120, Val Loss: 0.0118\n",
            "Epoch 12/30, Train Loss: 0.0091, Val Loss: 0.0067\n",
            "Epoch 13/30, Train Loss: 0.0074, Val Loss: 0.0064\n",
            "Epoch 14/30, Train Loss: 0.0047, Val Loss: 0.0066\n",
            "Epoch 15/30, Train Loss: 0.0022, Val Loss: 0.0007\n",
            "Epoch 16/30, Train Loss: 0.0008, Val Loss: 0.0004\n",
            "Epoch 17/30, Train Loss: 0.0008, Val Loss: 0.0005\n",
            "Epoch 18/30, Train Loss: 0.0007, Val Loss: 0.0005\n",
            "Epoch 19/30, Train Loss: 0.0007, Val Loss: 0.0005\n",
            "Epoch 20/30, Train Loss: 0.0007, Val Loss: 0.0005\n",
            "Epoch 21/30, Train Loss: 0.0007, Val Loss: 0.0005\n",
            "Epoch 22/30, Train Loss: 0.0007, Val Loss: 0.0005\n",
            "Epoch 23/30, Train Loss: 0.0007, Val Loss: 0.0005\n",
            "Epoch 24/30, Train Loss: 0.0007, Val Loss: 0.0005\n",
            "Epoch 25/30, Train Loss: 0.0007, Val Loss: 0.0005\n",
            "Epoch 26/30, Train Loss: 0.0007, Val Loss: 0.0005\n",
            "Epoch 27/30, Train Loss: 0.0007, Val Loss: 0.0005\n",
            "Epoch 28/30, Train Loss: 0.0007, Val Loss: 0.0005\n"
          ]
        },
        {
          "output_type": "stream",
          "name": "stderr",
          "text": [
            "[I 2024-12-06 21:58:10,802] Trial 17 finished with value: 0.0004443106699909549 and parameters: {'hidden_dim': 69, 'lr': 0.0032487095995693102, 'weight_decay': 0.00029784631580398024, 'asymmetric_ratio': 3.7781358686765016}. Best is trial 17 with value: 0.0004443106699909549.\n"
          ]
        },
        {
          "output_type": "stream",
          "name": "stdout",
          "text": [
            "Epoch 29/30, Train Loss: 0.0007, Val Loss: 0.0005\n",
            "Epoch 30/30, Train Loss: 0.0007, Val Loss: 0.0005\n",
            "Epoch 1/30, Train Loss: 0.0533, Val Loss: 0.1020\n",
            "Epoch 2/30, Train Loss: 0.1021, Val Loss: 0.0589\n",
            "Epoch 3/30, Train Loss: 0.0802, Val Loss: 0.0207\n",
            "Epoch 4/30, Train Loss: 0.0585, Val Loss: 0.0191\n",
            "Epoch 5/30, Train Loss: 0.0427, Val Loss: 0.0123\n",
            "Epoch 6/30, Train Loss: 0.0398, Val Loss: 0.0088\n",
            "Epoch 7/30, Train Loss: 0.0282, Val Loss: 0.0130\n",
            "Epoch 8/30, Train Loss: 0.0107, Val Loss: 0.0059\n",
            "Epoch 9/30, Train Loss: 0.0044, Val Loss: 0.0032\n",
            "Epoch 10/30, Train Loss: 0.0061, Val Loss: 0.0019\n",
            "Epoch 11/30, Train Loss: 0.0059, Val Loss: 0.0028\n",
            "Epoch 12/30, Train Loss: 0.0123, Val Loss: 0.0101\n",
            "Epoch 13/30, Train Loss: 0.0070, Val Loss: 0.0009\n",
            "Epoch 14/30, Train Loss: 0.0209, Val Loss: 0.0268\n",
            "Epoch 15/30, Train Loss: 0.0095, Val Loss: 0.0033\n",
            "Epoch 16/30, Train Loss: 0.0045, Val Loss: 0.0066\n",
            "Epoch 17/30, Train Loss: 0.0026, Val Loss: 0.0034\n",
            "Epoch 18/30, Train Loss: 0.0019, Val Loss: 0.0008\n",
            "Epoch 19/30, Train Loss: 0.0009, Val Loss: 0.0005\n",
            "Epoch 20/30, Train Loss: 0.0008, Val Loss: 0.0005\n",
            "Epoch 21/30, Train Loss: 0.0008, Val Loss: 0.0005\n",
            "Epoch 22/30, Train Loss: 0.0007, Val Loss: 0.0005\n",
            "Epoch 23/30, Train Loss: 0.0007, Val Loss: 0.0005\n",
            "Epoch 24/30, Train Loss: 0.0007, Val Loss: 0.0005\n",
            "Epoch 25/30, Train Loss: 0.0007, Val Loss: 0.0005\n",
            "Epoch 26/30, Train Loss: 0.0007, Val Loss: 0.0005\n",
            "Epoch 27/30, Train Loss: 0.0007, Val Loss: 0.0005\n",
            "Epoch 28/30, Train Loss: 0.0007, Val Loss: 0.0005\n"
          ]
        },
        {
          "output_type": "stream",
          "name": "stderr",
          "text": [
            "[I 2024-12-06 21:58:15,566] Trial 18 finished with value: 0.000483566460388829 and parameters: {'hidden_dim': 39, 'lr': 0.003537104508917782, 'weight_decay': 0.00031480226112664313, 'asymmetric_ratio': 3.40816834299565}. Best is trial 17 with value: 0.0004443106699909549.\n"
          ]
        },
        {
          "output_type": "stream",
          "name": "stdout",
          "text": [
            "Epoch 29/30, Train Loss: 0.0007, Val Loss: 0.0005\n",
            "Epoch 30/30, Train Loss: 0.0007, Val Loss: 0.0005\n",
            "Epoch 1/30, Train Loss: 0.0382, Val Loss: 0.0740\n",
            "Epoch 2/30, Train Loss: 0.0925, Val Loss: 0.0094\n",
            "Epoch 3/30, Train Loss: 0.0941, Val Loss: 0.0245\n",
            "Epoch 4/30, Train Loss: 0.0608, Val Loss: 0.0351\n",
            "Epoch 5/30, Train Loss: 0.0423, Val Loss: 0.0190\n",
            "Epoch 6/30, Train Loss: 0.0323, Val Loss: 0.0132\n",
            "Epoch 7/30, Train Loss: 0.0160, Val Loss: 0.0029\n",
            "Epoch 8/30, Train Loss: 0.0085, Val Loss: 0.0039\n",
            "Epoch 9/30, Train Loss: 0.0061, Val Loss: 0.0028\n",
            "Epoch 10/30, Train Loss: 0.0047, Val Loss: 0.0016\n",
            "Epoch 11/30, Train Loss: 0.0036, Val Loss: 0.0011\n",
            "Epoch 12/30, Train Loss: 0.0028, Val Loss: 0.0009\n",
            "Epoch 13/30, Train Loss: 0.0023, Val Loss: 0.0009\n",
            "Epoch 14/30, Train Loss: 0.0018, Val Loss: 0.0009\n",
            "Epoch 15/30, Train Loss: 0.0015, Val Loss: 0.0010\n",
            "Epoch 16/30, Train Loss: 0.0012, Val Loss: 0.0010\n",
            "Epoch 17/30, Train Loss: 0.0010, Val Loss: 0.0009\n",
            "Epoch 18/30, Train Loss: 0.0009, Val Loss: 0.0009\n",
            "Epoch 19/30, Train Loss: 0.0009, Val Loss: 0.0009\n",
            "Epoch 20/30, Train Loss: 0.0009, Val Loss: 0.0009\n",
            "Epoch 21/30, Train Loss: 0.0009, Val Loss: 0.0009\n",
            "Epoch 22/30, Train Loss: 0.0009, Val Loss: 0.0009\n",
            "Epoch 23/30, Train Loss: 0.0009, Val Loss: 0.0009\n",
            "Epoch 24/30, Train Loss: 0.0009, Val Loss: 0.0008\n",
            "Epoch 25/30, Train Loss: 0.0008, Val Loss: 0.0008\n",
            "Epoch 26/30, Train Loss: 0.0008, Val Loss: 0.0008\n",
            "Epoch 27/30, Train Loss: 0.0008, Val Loss: 0.0008\n",
            "Epoch 28/30, Train Loss: 0.0008, Val Loss: 0.0008\n"
          ]
        },
        {
          "output_type": "stream",
          "name": "stderr",
          "text": [
            "[I 2024-12-06 21:58:21,851] Trial 19 finished with value: 0.0008024295930226799 and parameters: {'hidden_dim': 61, 'lr': 0.003007750806883105, 'weight_decay': 0.0002754095436954964, 'asymmetric_ratio': 3.9133643652476264}. Best is trial 17 with value: 0.0004443106699909549.\n"
          ]
        },
        {
          "output_type": "stream",
          "name": "stdout",
          "text": [
            "Epoch 29/30, Train Loss: 0.0008, Val Loss: 0.0008\n",
            "Epoch 30/30, Train Loss: 0.0008, Val Loss: 0.0008\n",
            "Best hyperparameters: {'hidden_dim': 69, 'lr': 0.0032487095995693102, 'weight_decay': 0.00029784631580398024, 'asymmetric_ratio': 3.7781358686765016}\n"
          ]
        }
      ]
    },
    {
      "cell_type": "code",
      "source": [
        "# ---------------------------------------\n",
        "# 9. Retrain Final Model with Best Hyperparams\n",
        "# ---------------------------------------\n",
        "best_params = study.best_params\n",
        "model = VanillaRNN(input_dim=len(features), hidden_dim=best_params['hidden_dim'], output_dim=len(features)).to(device)\n",
        "criterion = AsymmetricLoss(ratio=best_params['asymmetric_ratio'])\n",
        "optimizer = torch.optim.Adam(model.parameters(), lr=best_params['lr'], weight_decay=best_params['weight_decay'])\n",
        "scheduler = torch.optim.lr_scheduler.ReduceLROnPlateau(optimizer, 'min', factor=0.1, patience=3)\n",
        "\n",
        "best_state, _, train_losses, val_losses = train_and_validate(model, criterion, optimizer, scheduler, train_loader, val_loader, epochs=30)\n",
        "model.load_state_dict(best_state)\n",
        "\n",
        "# Plot training vs validation loss to check for overfitting\n",
        "plt.figure(figsize=(10,6))\n",
        "plt.plot(train_losses, label='Train Loss')\n",
        "plt.plot(val_losses, label='Val Loss')\n",
        "plt.title('Training and Validation Loss Over Epochs')\n",
        "plt.xlabel('Epoch')\n",
        "plt.ylabel('Loss')\n",
        "plt.legend()\n",
        "plt.show()\n"
      ],
      "metadata": {
        "colab": {
          "base_uri": "https://localhost:8080/",
          "height": 1000
        },
        "id": "gTd7RlWD4e3O",
        "outputId": "6d923742-57e7-4d83-b83b-40097a2a7741"
      },
      "execution_count": null,
      "outputs": [
        {
          "output_type": "stream",
          "name": "stdout",
          "text": [
            "Epoch 1/30, Train Loss: 0.0314, Val Loss: 0.0189\n",
            "Epoch 2/30, Train Loss: 0.0624, Val Loss: 0.0337\n",
            "Epoch 3/30, Train Loss: 0.0498, Val Loss: 0.0122\n",
            "Epoch 4/30, Train Loss: 0.1086, Val Loss: 0.0166\n",
            "Epoch 5/30, Train Loss: 0.0645, Val Loss: 0.0215\n",
            "Epoch 6/30, Train Loss: 0.0435, Val Loss: 0.0221\n",
            "Epoch 7/30, Train Loss: 0.0215, Val Loss: 0.0086\n",
            "Epoch 8/30, Train Loss: 0.0057, Val Loss: 0.0020\n",
            "Epoch 9/30, Train Loss: 0.0027, Val Loss: 0.0006\n",
            "Epoch 10/30, Train Loss: 0.0048, Val Loss: 0.0034\n",
            "Epoch 11/30, Train Loss: 0.0046, Val Loss: 0.0014\n",
            "Epoch 12/30, Train Loss: 0.0097, Val Loss: 0.0052\n",
            "Epoch 13/30, Train Loss: 0.0093, Val Loss: 0.0033\n",
            "Epoch 14/30, Train Loss: 0.0140, Val Loss: 0.0087\n",
            "Epoch 15/30, Train Loss: 0.0018, Val Loss: 0.0024\n",
            "Epoch 16/30, Train Loss: 0.0009, Val Loss: 0.0009\n",
            "Epoch 17/30, Train Loss: 0.0008, Val Loss: 0.0006\n",
            "Epoch 18/30, Train Loss: 0.0007, Val Loss: 0.0006\n",
            "Epoch 19/30, Train Loss: 0.0007, Val Loss: 0.0006\n",
            "Epoch 20/30, Train Loss: 0.0007, Val Loss: 0.0006\n",
            "Epoch 21/30, Train Loss: 0.0007, Val Loss: 0.0006\n",
            "Epoch 22/30, Train Loss: 0.0007, Val Loss: 0.0006\n",
            "Epoch 23/30, Train Loss: 0.0007, Val Loss: 0.0005\n",
            "Epoch 24/30, Train Loss: 0.0007, Val Loss: 0.0005\n",
            "Epoch 25/30, Train Loss: 0.0007, Val Loss: 0.0005\n",
            "Epoch 26/30, Train Loss: 0.0007, Val Loss: 0.0005\n",
            "Epoch 27/30, Train Loss: 0.0007, Val Loss: 0.0005\n",
            "Epoch 28/30, Train Loss: 0.0007, Val Loss: 0.0005\n",
            "Epoch 29/30, Train Loss: 0.0007, Val Loss: 0.0005\n",
            "Epoch 30/30, Train Loss: 0.0007, Val Loss: 0.0005\n"
          ]
        },
        {
          "output_type": "display_data",
          "data": {
            "text/plain": [
              "<Figure size 1000x600 with 1 Axes>"
            ],
            "image/png": "[encoded data removed]"
          },
          "metadata": {}
        }
      ]
    },
    {
      "cell_type": "code",
      "source": [
        "# ---------------------------------------\n",
        "# 10. Evaluate on Test Set\n",
        "# ---------------------------------------\n",
        "# Prepare test data\n",
        "total_data = np.concatenate((training_set, test_set), axis=0)\n",
        "inputs = total_data[len(total_data)-len(test_set)-N:]\n",
        "inputs_scaled = scaler.transform(inputs)\n",
        "\n",
        "X_test = []\n",
        "for i in range(N, len(inputs_scaled)):\n",
        "    X_test.append(inputs_scaled[i-N:i, :])\n",
        "X_test = np.array(X_test)\n",
        "X_test_torch = torch.tensor(X_test, dtype=torch.float32).to(device)\n",
        "\n",
        "model.eval()\n",
        "with torch.no_grad():\n",
        "    predicted_stock_price = model(X_test_torch).cpu().numpy()\n",
        "\n",
        "predicted_stock_price = scaler.inverse_transform(predicted_stock_price.reshape(-1, len(features)))\n",
        "real_prices = test_data[features].values\n",
        "\n",
        "# Compute Evaluation Metrics\n",
        "mse = mean_squared_error(real_prices[:len(predicted_stock_price), :], predicted_stock_price)\n",
        "rmse = np.sqrt(mse)\n",
        "mae = mean_absolute_error(real_prices[:len(predicted_stock_price), :], predicted_stock_price)\n",
        "print(f\"Test MSE: {mse:.4f}, RMSE: {rmse:.4f}, MAE: {mae:.4f}\")\n",
        "\n",
        "# Focus on 'Open' price for visualization\n",
        "real_open_price = real_prices[:len(predicted_stock_price), 0]\n",
        "predicted_open_price = predicted_stock_price[:, 0]\n",
        "\n",
        "# Plot predicted vs real prices\n",
        "plt.figure(figsize=(10,6))\n",
        "plt.plot(real_open_price, color='red', label='Real Google Stock Open Price')\n",
        "plt.plot(predicted_open_price, color='blue', label='Predicted Google Stock Open Price')\n",
        "plt.title('Google Stock Price Prediction (Vanilla RNN)')\n",
        "plt.xlabel('Time Steps')\n",
        "plt.ylabel('Stock Price')\n",
        "plt.legend()\n",
        "plt.show()"
      ],
      "metadata": {
        "colab": {
          "base_uri": "https://localhost:8080/",
          "height": 581
        },
        "id": "EdfxLr3f4iFN",
        "outputId": "815df533-02e2-4fa3-8200-10f32cd5cd81"
      },
      "execution_count": null,
      "outputs": [
        {
          "output_type": "stream",
          "name": "stdout",
          "text": [
            "Test MSE: 86.5652, RMSE: 9.3040, MAE: 6.9719\n"
          ]
        },
        {
          "output_type": "display_data",
          "data": {
            "text/plain": [
              "<Figure size 1000x600 with 1 Axes>"
            ],
            "image/png": "[encoded data removed]"
          },
          "metadata": {}
        }
      ]
    },
    {
      "cell_type": "code",
      "source": [
        "\n",
        "# ---------------------------------------\n",
        "# 11. Residual Analysis (Check for Systematic Bias)\n",
        "# ---------------------------------------\n",
        "residuals = real_open_price - predicted_open_price\n",
        "\n",
        "# Plot residuals over time\n",
        "plt.figure(figsize=(10,6))\n",
        "plt.plot(residuals, label='Residuals (Real - Predicted)')\n",
        "plt.title('Residuals Over Time')\n",
        "plt.xlabel('Time Steps')\n",
        "plt.ylabel('Residual')\n",
        "plt.axhline(y=0, color='r', linestyle='--')\n",
        "plt.legend()\n",
        "plt.show()\n",
        "\n",
        "# Distribution of residuals\n",
        "plt.figure(figsize=(10,6))\n",
        "sns.histplot(residuals, kde=True)\n",
        "plt.title('Distribution of Residuals')\n",
        "plt.xlabel('Residual')\n",
        "plt.ylabel('Frequency')\n",
        "plt.show()\n",
        "\n",
        "\n"
      ],
      "metadata": {
        "colab": {
          "base_uri": "https://localhost:8080/",
          "height": 1000
        },
        "id": "2qqiIexRNxBz",
        "outputId": "18bd03f0-682d-44dc-f503-ad5411465bd4"
      },
      "execution_count": null,
      "outputs": [
        {
          "output_type": "display_data",
          "data": {
            "text/plain": [
              "<Figure size 1000x600 with 1 Axes>"
            ],
            "image/png": "[encoded data removed]"
          },
          "metadata": {}
        },
        {
          "output_type": "display_data",
          "data": {
            "text/plain": [
              "<Figure size 1000x600 with 1 Axes>"
            ],
            "image/png": "[encoded data removed]"
          },
          "metadata": {}
        }
      ]
    }
  ]
}